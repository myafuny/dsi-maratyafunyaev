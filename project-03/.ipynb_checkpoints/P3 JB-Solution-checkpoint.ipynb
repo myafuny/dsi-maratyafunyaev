{
 "cells": [
  {
   "cell_type": "markdown",
   "metadata": {},
   "source": [
    "# Getting started\n",
    "\n",
    "Once you've chosen your scenario from the README, download the data from [the Iowa website](https://data.iowa.gov/Economy/Iowa-Liquor-Sales/m3tr-qhgy) in csv format. Start by loading the data with pandas. You may need to parse the date columns appropriately."
   ]
  },
  {
   "cell_type": "markdown",
   "metadata": {},
   "source": [
    "## Scenario and Problem Statement"
   ]
  },
  {
   "cell_type": "code",
   "execution_count": 105,
   "metadata": {
    "collapsed": true
   },
   "outputs": [],
   "source": [
    "#Write a high quality problem statement\n",
    "#Describe the goals of your study and criteria for success\n",
    "\n",
    "# Goal for Scenario #1: Your task is as follows:\n",
    "\n",
    "#     Calculate the yearly liquor sales for each score using the provided data. \n",
    "#     You can add up the transactions for each year, and store sales in 2015 specifically will be used later as your target variable.\n",
    "#     Use the data from 2015 to make a linear model using as many variables as you find useful to predict the yearly sales of each store.\n",
    "#     You must use the sales from Jan to March per store as one of your variables.\n",
    "#     Use your model for 2015 to estimate total sales for each store in 2016, extrapolating from the sales so far for Jan-March of 2016.\n",
    "#     Report your findings, including any projected increase or decrease in total sales (over the entire state) for the tax committee of the Iowa legislature.\n",
    "#     Use cross-validation to check how your model predicts to held out data compared to the model metrics on the full dataset.\n",
    "#     Challenging Bonus: We did not cover the topics of regularization for linear regression this week, but those feeling bold can try to use and understand regularizing linear regressions. This will require self-guided research/reading and scikit-learn functions that we have not gone over in class! Use cross-validation to tune the regularization parameter that maximizes R^2 on your holdout sets for the Ridge regression and the Lasso Regression. Do the regularized models perform better than the non-regularized model? Which regularized model performs better? What is the Ridge regression doing? What is the Lasso doing.\n",
    "\n"
   ]
  },
  {
   "cell_type": "markdown",
   "metadata": {},
   "source": [
    "Problem Statement. Scenario #1\n",
    "\n",
    "My goal for this scenario is to build a linear model to predict the annual sales of Alcohol in every store by looking at the sales numbers in the first three months. My final goal is to predict the sales for every store in 2016.\n",
    "\n",
    "I would consider the model to be successful if..."
   ]
  },
  {
   "cell_type": "code",
   "execution_count": null,
   "metadata": {
    "collapsed": true
   },
   "outputs": [],
   "source": []
  },
  {
   "cell_type": "code",
   "execution_count": null,
   "metadata": {
    "collapsed": true
   },
   "outputs": [],
   "source": []
  },
  {
   "cell_type": "code",
   "execution_count": 106,
   "metadata": {
    "collapsed": true
   },
   "outputs": [],
   "source": [
    "import numpy as np\n",
    "import matplotlib as mpl\n",
    "import matplotlib.pyplot as plt\n",
    "import seaborn as sns\n",
    "\n",
    "from datetime import datetime\n",
    "\n",
    "%matplotlib inline"
   ]
  },
  {
   "cell_type": "code",
   "execution_count": 107,
   "metadata": {
    "collapsed": false
   },
   "outputs": [
    {
     "data": {
      "text/html": [
       "<div>\n",
       "<table border=\"1\" class=\"dataframe\">\n",
       "  <thead>\n",
       "    <tr style=\"text-align: right;\">\n",
       "      <th></th>\n",
       "      <th>Date</th>\n",
       "      <th>Store Number</th>\n",
       "      <th>City</th>\n",
       "      <th>Zip Code</th>\n",
       "      <th>County Number</th>\n",
       "      <th>County</th>\n",
       "      <th>Category</th>\n",
       "      <th>Category Name</th>\n",
       "      <th>Vendor Number</th>\n",
       "      <th>Item Number</th>\n",
       "      <th>Item Description</th>\n",
       "      <th>Bottle Volume (ml)</th>\n",
       "      <th>State Bottle Cost</th>\n",
       "      <th>State Bottle Retail</th>\n",
       "      <th>Bottles Sold</th>\n",
       "      <th>Sale (Dollars)</th>\n",
       "      <th>Volume Sold (Liters)</th>\n",
       "      <th>Volume Sold (Gallons)</th>\n",
       "    </tr>\n",
       "  </thead>\n",
       "  <tbody>\n",
       "    <tr>\n",
       "      <th>0</th>\n",
       "      <td>03/31/2016</td>\n",
       "      <td>5029</td>\n",
       "      <td>DAVENPORT</td>\n",
       "      <td>52806</td>\n",
       "      <td>82.0</td>\n",
       "      <td>Scott</td>\n",
       "      <td>1022100.0</td>\n",
       "      <td>TEQUILA</td>\n",
       "      <td>370</td>\n",
       "      <td>87152</td>\n",
       "      <td>Avion Silver</td>\n",
       "      <td>375</td>\n",
       "      <td>$9.99</td>\n",
       "      <td>$14.99</td>\n",
       "      <td>12</td>\n",
       "      <td>$179.88</td>\n",
       "      <td>4.5</td>\n",
       "      <td>1.19</td>\n",
       "    </tr>\n",
       "    <tr>\n",
       "      <th>1</th>\n",
       "      <td>03/31/2016</td>\n",
       "      <td>5029</td>\n",
       "      <td>DAVENPORT</td>\n",
       "      <td>52806</td>\n",
       "      <td>82.0</td>\n",
       "      <td>Scott</td>\n",
       "      <td>1022100.0</td>\n",
       "      <td>TEQUILA</td>\n",
       "      <td>395</td>\n",
       "      <td>89197</td>\n",
       "      <td>Jose Cuervo Especial Reposado Tequila</td>\n",
       "      <td>1000</td>\n",
       "      <td>$12.50</td>\n",
       "      <td>$18.75</td>\n",
       "      <td>2</td>\n",
       "      <td>$37.50</td>\n",
       "      <td>2.0</td>\n",
       "      <td>0.53</td>\n",
       "    </tr>\n",
       "    <tr>\n",
       "      <th>2</th>\n",
       "      <td>03/31/2016</td>\n",
       "      <td>4959</td>\n",
       "      <td>CEDAR FALLS</td>\n",
       "      <td>50613</td>\n",
       "      <td>7.0</td>\n",
       "      <td>Black Hawk</td>\n",
       "      <td>1071100.0</td>\n",
       "      <td>AMERICAN COCKTAILS</td>\n",
       "      <td>380</td>\n",
       "      <td>63959</td>\n",
       "      <td>Uv Blue Raspberry Lemonade Pet</td>\n",
       "      <td>1750</td>\n",
       "      <td>$5.97</td>\n",
       "      <td>$8.96</td>\n",
       "      <td>6</td>\n",
       "      <td>$53.76</td>\n",
       "      <td>10.5</td>\n",
       "      <td>2.77</td>\n",
       "    </tr>\n",
       "    <tr>\n",
       "      <th>3</th>\n",
       "      <td>03/31/2016</td>\n",
       "      <td>2190</td>\n",
       "      <td>DES MOINES</td>\n",
       "      <td>50314</td>\n",
       "      <td>77.0</td>\n",
       "      <td>Polk</td>\n",
       "      <td>1031200.0</td>\n",
       "      <td>VODKA FLAVORED</td>\n",
       "      <td>205</td>\n",
       "      <td>40597</td>\n",
       "      <td>New Amsterdam Red Berry</td>\n",
       "      <td>200</td>\n",
       "      <td>$2.24</td>\n",
       "      <td>$3.36</td>\n",
       "      <td>48</td>\n",
       "      <td>$161.28</td>\n",
       "      <td>9.6</td>\n",
       "      <td>2.54</td>\n",
       "    </tr>\n",
       "    <tr>\n",
       "      <th>4</th>\n",
       "      <td>03/31/2016</td>\n",
       "      <td>5240</td>\n",
       "      <td>WEST BRANCH</td>\n",
       "      <td>52358</td>\n",
       "      <td>NaN</td>\n",
       "      <td>NaN</td>\n",
       "      <td>1081200.0</td>\n",
       "      <td>CREAM LIQUEURS</td>\n",
       "      <td>305</td>\n",
       "      <td>73055</td>\n",
       "      <td>Rumchata</td>\n",
       "      <td>750</td>\n",
       "      <td>$12.50</td>\n",
       "      <td>$18.75</td>\n",
       "      <td>6</td>\n",
       "      <td>$112.50</td>\n",
       "      <td>4.5</td>\n",
       "      <td>1.19</td>\n",
       "    </tr>\n",
       "  </tbody>\n",
       "</table>\n",
       "</div>"
      ],
      "text/plain": [
       "         Date  Store Number         City Zip Code  County Number      County  \\\n",
       "0  03/31/2016          5029    DAVENPORT    52806           82.0       Scott   \n",
       "1  03/31/2016          5029    DAVENPORT    52806           82.0       Scott   \n",
       "2  03/31/2016          4959  CEDAR FALLS    50613            7.0  Black Hawk   \n",
       "3  03/31/2016          2190   DES MOINES    50314           77.0        Polk   \n",
       "4  03/31/2016          5240  WEST BRANCH    52358            NaN         NaN   \n",
       "\n",
       "    Category       Category Name  Vendor Number  Item Number  \\\n",
       "0  1022100.0             TEQUILA            370        87152   \n",
       "1  1022100.0             TEQUILA            395        89197   \n",
       "2  1071100.0  AMERICAN COCKTAILS            380        63959   \n",
       "3  1031200.0      VODKA FLAVORED            205        40597   \n",
       "4  1081200.0      CREAM LIQUEURS            305        73055   \n",
       "\n",
       "                        Item Description  Bottle Volume (ml)  \\\n",
       "0                           Avion Silver                 375   \n",
       "1  Jose Cuervo Especial Reposado Tequila                1000   \n",
       "2         Uv Blue Raspberry Lemonade Pet                1750   \n",
       "3                New Amsterdam Red Berry                 200   \n",
       "4                               Rumchata                 750   \n",
       "\n",
       "  State Bottle Cost State Bottle Retail  Bottles Sold Sale (Dollars)  \\\n",
       "0             $9.99              $14.99            12        $179.88   \n",
       "1            $12.50              $18.75             2         $37.50   \n",
       "2             $5.97               $8.96             6         $53.76   \n",
       "3             $2.24               $3.36            48        $161.28   \n",
       "4            $12.50              $18.75             6        $112.50   \n",
       "\n",
       "   Volume Sold (Liters)  Volume Sold (Gallons)  \n",
       "0                   4.5                   1.19  \n",
       "1                   2.0                   0.53  \n",
       "2                  10.5                   2.77  \n",
       "3                   9.6                   2.54  \n",
       "4                   4.5                   1.19  "
      ]
     },
     "execution_count": 107,
     "metadata": {},
     "output_type": "execute_result"
    }
   ],
   "source": [
    "import pandas as pd\n",
    "\n",
    "## Load the data into a DataFrame\n",
    "df = pd.read_csv(\"Assets/Iowa_Liquor_Sales_reduced.csv\")\n",
    "df.head()"
   ]
  },
  {
   "cell_type": "code",
   "execution_count": 108,
   "metadata": {
    "collapsed": false
   },
   "outputs": [
    {
     "data": {
      "text/plain": [
       "Date                      object\n",
       "Store Number               int64\n",
       "City                      object\n",
       "Zip Code                  object\n",
       "County Number            float64\n",
       "County                    object\n",
       "Category                 float64\n",
       "Category Name             object\n",
       "Vendor Number              int64\n",
       "Item Number                int64\n",
       "Item Description          object\n",
       "Bottle Volume (ml)         int64\n",
       "State Bottle Cost         object\n",
       "State Bottle Retail       object\n",
       "Bottles Sold               int64\n",
       "Sale (Dollars)            object\n",
       "Volume Sold (Liters)     float64\n",
       "Volume Sold (Gallons)    float64\n",
       "dtype: object"
      ]
     },
     "execution_count": 108,
     "metadata": {},
     "output_type": "execute_result"
    }
   ],
   "source": [
    "df.dtypes"
   ]
  },
  {
   "cell_type": "code",
   "execution_count": 109,
   "metadata": {
    "collapsed": false
   },
   "outputs": [
    {
     "data": {
      "text/plain": [
       "pandas.tslib.Timestamp"
      ]
     },
     "execution_count": 109,
     "metadata": {},
     "output_type": "execute_result"
    }
   ],
   "source": [
    "# Changing the format of the Date column\n",
    "from datetime import datetime\n",
    "df[\"Date\"] = df[\"Date\"].apply(lambda x: datetime.strptime(x, '%m/%d/%Y'))\n",
    "type(df[\"Date\"][0])"
   ]
  },
  {
   "cell_type": "code",
   "execution_count": 110,
   "metadata": {
    "collapsed": false
   },
   "outputs": [
    {
     "data": {
      "text/html": [
       "<div>\n",
       "<table border=\"1\" class=\"dataframe\">\n",
       "  <thead>\n",
       "    <tr style=\"text-align: right;\">\n",
       "      <th></th>\n",
       "      <th>Date</th>\n",
       "      <th>Store Number</th>\n",
       "      <th>City</th>\n",
       "      <th>Zip Code</th>\n",
       "      <th>County Number</th>\n",
       "      <th>County</th>\n",
       "      <th>Category</th>\n",
       "      <th>Category Name</th>\n",
       "      <th>Vendor Number</th>\n",
       "      <th>Item Number</th>\n",
       "      <th>Item Description</th>\n",
       "      <th>Bottle Volume (ml)</th>\n",
       "      <th>State Bottle Cost</th>\n",
       "      <th>State Bottle Retail</th>\n",
       "      <th>Bottles Sold</th>\n",
       "      <th>Sale (Dollars)</th>\n",
       "      <th>Volume Sold (Liters)</th>\n",
       "      <th>Volume Sold (Gallons)</th>\n",
       "      <th>year</th>\n",
       "    </tr>\n",
       "  </thead>\n",
       "  <tbody>\n",
       "    <tr>\n",
       "      <th>0</th>\n",
       "      <td>2016-03-31</td>\n",
       "      <td>5029</td>\n",
       "      <td>DAVENPORT</td>\n",
       "      <td>52806</td>\n",
       "      <td>82.0</td>\n",
       "      <td>Scott</td>\n",
       "      <td>1022100.0</td>\n",
       "      <td>TEQUILA</td>\n",
       "      <td>370</td>\n",
       "      <td>87152</td>\n",
       "      <td>Avion Silver</td>\n",
       "      <td>375</td>\n",
       "      <td>$9.99</td>\n",
       "      <td>$14.99</td>\n",
       "      <td>12</td>\n",
       "      <td>$179.88</td>\n",
       "      <td>4.5</td>\n",
       "      <td>1.19</td>\n",
       "      <td>2016</td>\n",
       "    </tr>\n",
       "    <tr>\n",
       "      <th>1</th>\n",
       "      <td>2016-03-31</td>\n",
       "      <td>5029</td>\n",
       "      <td>DAVENPORT</td>\n",
       "      <td>52806</td>\n",
       "      <td>82.0</td>\n",
       "      <td>Scott</td>\n",
       "      <td>1022100.0</td>\n",
       "      <td>TEQUILA</td>\n",
       "      <td>395</td>\n",
       "      <td>89197</td>\n",
       "      <td>Jose Cuervo Especial Reposado Tequila</td>\n",
       "      <td>1000</td>\n",
       "      <td>$12.50</td>\n",
       "      <td>$18.75</td>\n",
       "      <td>2</td>\n",
       "      <td>$37.50</td>\n",
       "      <td>2.0</td>\n",
       "      <td>0.53</td>\n",
       "      <td>2016</td>\n",
       "    </tr>\n",
       "    <tr>\n",
       "      <th>2</th>\n",
       "      <td>2016-03-31</td>\n",
       "      <td>4959</td>\n",
       "      <td>CEDAR FALLS</td>\n",
       "      <td>50613</td>\n",
       "      <td>7.0</td>\n",
       "      <td>Black Hawk</td>\n",
       "      <td>1071100.0</td>\n",
       "      <td>AMERICAN COCKTAILS</td>\n",
       "      <td>380</td>\n",
       "      <td>63959</td>\n",
       "      <td>Uv Blue Raspberry Lemonade Pet</td>\n",
       "      <td>1750</td>\n",
       "      <td>$5.97</td>\n",
       "      <td>$8.96</td>\n",
       "      <td>6</td>\n",
       "      <td>$53.76</td>\n",
       "      <td>10.5</td>\n",
       "      <td>2.77</td>\n",
       "      <td>2016</td>\n",
       "    </tr>\n",
       "    <tr>\n",
       "      <th>3</th>\n",
       "      <td>2016-03-31</td>\n",
       "      <td>2190</td>\n",
       "      <td>DES MOINES</td>\n",
       "      <td>50314</td>\n",
       "      <td>77.0</td>\n",
       "      <td>Polk</td>\n",
       "      <td>1031200.0</td>\n",
       "      <td>VODKA FLAVORED</td>\n",
       "      <td>205</td>\n",
       "      <td>40597</td>\n",
       "      <td>New Amsterdam Red Berry</td>\n",
       "      <td>200</td>\n",
       "      <td>$2.24</td>\n",
       "      <td>$3.36</td>\n",
       "      <td>48</td>\n",
       "      <td>$161.28</td>\n",
       "      <td>9.6</td>\n",
       "      <td>2.54</td>\n",
       "      <td>2016</td>\n",
       "    </tr>\n",
       "    <tr>\n",
       "      <th>4</th>\n",
       "      <td>2016-03-31</td>\n",
       "      <td>5240</td>\n",
       "      <td>WEST BRANCH</td>\n",
       "      <td>52358</td>\n",
       "      <td>NaN</td>\n",
       "      <td>NaN</td>\n",
       "      <td>1081200.0</td>\n",
       "      <td>CREAM LIQUEURS</td>\n",
       "      <td>305</td>\n",
       "      <td>73055</td>\n",
       "      <td>Rumchata</td>\n",
       "      <td>750</td>\n",
       "      <td>$12.50</td>\n",
       "      <td>$18.75</td>\n",
       "      <td>6</td>\n",
       "      <td>$112.50</td>\n",
       "      <td>4.5</td>\n",
       "      <td>1.19</td>\n",
       "      <td>2016</td>\n",
       "    </tr>\n",
       "  </tbody>\n",
       "</table>\n",
       "</div>"
      ],
      "text/plain": [
       "        Date  Store Number         City Zip Code  County Number      County  \\\n",
       "0 2016-03-31          5029    DAVENPORT    52806           82.0       Scott   \n",
       "1 2016-03-31          5029    DAVENPORT    52806           82.0       Scott   \n",
       "2 2016-03-31          4959  CEDAR FALLS    50613            7.0  Black Hawk   \n",
       "3 2016-03-31          2190   DES MOINES    50314           77.0        Polk   \n",
       "4 2016-03-31          5240  WEST BRANCH    52358            NaN         NaN   \n",
       "\n",
       "    Category       Category Name  Vendor Number  Item Number  \\\n",
       "0  1022100.0             TEQUILA            370        87152   \n",
       "1  1022100.0             TEQUILA            395        89197   \n",
       "2  1071100.0  AMERICAN COCKTAILS            380        63959   \n",
       "3  1031200.0      VODKA FLAVORED            205        40597   \n",
       "4  1081200.0      CREAM LIQUEURS            305        73055   \n",
       "\n",
       "                        Item Description  Bottle Volume (ml)  \\\n",
       "0                           Avion Silver                 375   \n",
       "1  Jose Cuervo Especial Reposado Tequila                1000   \n",
       "2         Uv Blue Raspberry Lemonade Pet                1750   \n",
       "3                New Amsterdam Red Berry                 200   \n",
       "4                               Rumchata                 750   \n",
       "\n",
       "  State Bottle Cost State Bottle Retail  Bottles Sold Sale (Dollars)  \\\n",
       "0             $9.99              $14.99            12        $179.88   \n",
       "1            $12.50              $18.75             2         $37.50   \n",
       "2             $5.97               $8.96             6         $53.76   \n",
       "3             $2.24               $3.36            48        $161.28   \n",
       "4            $12.50              $18.75             6        $112.50   \n",
       "\n",
       "   Volume Sold (Liters)  Volume Sold (Gallons)  year  \n",
       "0                   4.5                   1.19  2016  \n",
       "1                   2.0                   0.53  2016  \n",
       "2                  10.5                   2.77  2016  \n",
       "3                   9.6                   2.54  2016  \n",
       "4                   4.5                   1.19  2016  "
      ]
     },
     "execution_count": 110,
     "metadata": {},
     "output_type": "execute_result"
    }
   ],
   "source": [
    "# Create a new column with the year because I do not know how to quickly slice the dataframe by year\n",
    "df[\"year\"] = df[\"Date\"].apply(lambda x: x.year)\n",
    "df.head()"
   ]
  },
  {
   "cell_type": "code",
   "execution_count": 111,
   "metadata": {
    "collapsed": false
   },
   "outputs": [
    {
     "name": "stdout",
     "output_type": "stream",
     "text": [
      "Type of Sales column:  <type 'str'>\n",
      "Type of State Bottle Cost column:  <type 'str'>\n",
      "Type of State Bottle Retail column:  <type 'str'>\n"
     ]
    }
   ],
   "source": [
    "# Three columns with money values have a '$' symbol\n",
    "df[\"Sale (Dollars)\"] = df[\"Sale (Dollars)\"].apply(lambda x: str.lstrip(x,'$'))\n",
    "df[\"State Bottle Cost\"] = df[\"State Bottle Cost\"].apply(lambda x: str.lstrip(x,'$'))\n",
    "df[\"State Bottle Retail\"] = df[\"State Bottle Retail\"].apply(lambda x: str.lstrip(x,'$'))\n",
    "\n",
    "print \"Type of Sales column: \",type(df[\"Sale (Dollars)\"][0])\n",
    "print \"Type of State Bottle Cost column: \",type(df[\"Sale (Dollars)\"][0])\n",
    "print \"Type of State Bottle Retail column: \",type(df[\"State Bottle Retail\"][0])"
   ]
  },
  {
   "cell_type": "code",
   "execution_count": 112,
   "metadata": {
    "collapsed": false
   },
   "outputs": [
    {
     "name": "stdout",
     "output_type": "stream",
     "text": [
      "There are:  0  Null values in Sales column\n",
      "There are:  0  Null values in State Bottle Cost column\n",
      "There are:  0  Null values in State Bottle Retail column\n"
     ]
    }
   ],
   "source": [
    "print \"There are: \",df[\"Sale (Dollars)\"].isnull().sum(),\" Null values in Sales column\"\n",
    "print \"There are: \",df[\"Sale (Dollars)\"].isnull().sum(),\" Null values in State Bottle Cost column\"\n",
    "print \"There are: \",df[\"Sale (Dollars)\"].isnull().sum(),\" Null values in State Bottle Retail column\""
   ]
  },
  {
   "cell_type": "code",
   "execution_count": 113,
   "metadata": {
    "collapsed": false
   },
   "outputs": [
    {
     "data": {
      "text/plain": [
       "Date                     datetime64[ns]\n",
       "Store Number                      int64\n",
       "City                             object\n",
       "Zip Code                         object\n",
       "County Number                   float64\n",
       "County                           object\n",
       "Category                        float64\n",
       "Category Name                    object\n",
       "Vendor Number                     int64\n",
       "Item Number                       int64\n",
       "Item Description                 object\n",
       "Bottle Volume (ml)                int64\n",
       "State Bottle Cost               float64\n",
       "State Bottle Retail             float64\n",
       "Bottles Sold                      int64\n",
       "Sale (Dollars)                  float64\n",
       "Volume Sold (Liters)            float64\n",
       "Volume Sold (Gallons)           float64\n",
       "year                              int64\n",
       "dtype: object"
      ]
     },
     "execution_count": 113,
     "metadata": {},
     "output_type": "execute_result"
    }
   ],
   "source": [
    "# Ok, we can safely proceed\n",
    "df[\"Sale (Dollars)\"] = df[\"Sale (Dollars)\"].astype(float)\n",
    "df[\"State Bottle Cost\"] = df[\"State Bottle Cost\"].astype(float)\n",
    "df[\"State Bottle Retail\"] = df[\"State Bottle Retail\"].astype(float)\n",
    "\n",
    "df.dtypes"
   ]
  },
  {
   "cell_type": "code",
   "execution_count": 130,
   "metadata": {
    "collapsed": false
   },
   "outputs": [
    {
     "ename": "ValueError",
     "evalue": "invalid literal for float(): 712-2",
     "output_type": "error",
     "traceback": [
      "\u001b[0;31m---------------------------------------------------------------------------\u001b[0m",
      "\u001b[0;31mValueError\u001b[0m                                Traceback (most recent call last)",
      "\u001b[0;32m<ipython-input-130-350ac1f75b18>\u001b[0m in \u001b[0;36m<module>\u001b[0;34m()\u001b[0m\n\u001b[1;32m      1\u001b[0m \u001b[0;31m#Let's convert zip codes so that we can use them in a pivot table later\u001b[0m\u001b[0;34m\u001b[0m\u001b[0;34m\u001b[0m\u001b[0m\n\u001b[0;32m----> 2\u001b[0;31m \u001b[0mdf\u001b[0m\u001b[0;34m[\u001b[0m\u001b[0;34m\"Zip Code\"\u001b[0m\u001b[0;34m]\u001b[0m \u001b[0;34m=\u001b[0m \u001b[0mdf\u001b[0m\u001b[0;34m[\u001b[0m\u001b[0;34m\"Zip Code\"\u001b[0m\u001b[0;34m]\u001b[0m\u001b[0;34m.\u001b[0m\u001b[0mastype\u001b[0m\u001b[0;34m(\u001b[0m\u001b[0mfloat\u001b[0m\u001b[0;34m)\u001b[0m\u001b[0;34m\u001b[0m\u001b[0m\n\u001b[0m",
      "\u001b[0;32m/Users/Marat/anaconda/lib/python2.7/site-packages/pandas/core/generic.pyc\u001b[0m in \u001b[0;36mastype\u001b[0;34m(self, dtype, copy, raise_on_error, **kwargs)\u001b[0m\n\u001b[1;32m   2948\u001b[0m \u001b[0;34m\u001b[0m\u001b[0m\n\u001b[1;32m   2949\u001b[0m         mgr = self._data.astype(dtype=dtype, copy=copy,\n\u001b[0;32m-> 2950\u001b[0;31m                                 raise_on_error=raise_on_error, **kwargs)\n\u001b[0m\u001b[1;32m   2951\u001b[0m         \u001b[0;32mreturn\u001b[0m \u001b[0mself\u001b[0m\u001b[0;34m.\u001b[0m\u001b[0m_constructor\u001b[0m\u001b[0;34m(\u001b[0m\u001b[0mmgr\u001b[0m\u001b[0;34m)\u001b[0m\u001b[0;34m.\u001b[0m\u001b[0m__finalize__\u001b[0m\u001b[0;34m(\u001b[0m\u001b[0mself\u001b[0m\u001b[0;34m)\u001b[0m\u001b[0;34m\u001b[0m\u001b[0m\n\u001b[1;32m   2952\u001b[0m \u001b[0;34m\u001b[0m\u001b[0m\n",
      "\u001b[0;32m/Users/Marat/anaconda/lib/python2.7/site-packages/pandas/core/internals.pyc\u001b[0m in \u001b[0;36mastype\u001b[0;34m(self, dtype, **kwargs)\u001b[0m\n\u001b[1;32m   2936\u001b[0m \u001b[0;34m\u001b[0m\u001b[0m\n\u001b[1;32m   2937\u001b[0m     \u001b[0;32mdef\u001b[0m \u001b[0mastype\u001b[0m\u001b[0;34m(\u001b[0m\u001b[0mself\u001b[0m\u001b[0;34m,\u001b[0m \u001b[0mdtype\u001b[0m\u001b[0;34m,\u001b[0m \u001b[0;34m**\u001b[0m\u001b[0mkwargs\u001b[0m\u001b[0;34m)\u001b[0m\u001b[0;34m:\u001b[0m\u001b[0;34m\u001b[0m\u001b[0m\n\u001b[0;32m-> 2938\u001b[0;31m         \u001b[0;32mreturn\u001b[0m \u001b[0mself\u001b[0m\u001b[0;34m.\u001b[0m\u001b[0mapply\u001b[0m\u001b[0;34m(\u001b[0m\u001b[0;34m'astype'\u001b[0m\u001b[0;34m,\u001b[0m \u001b[0mdtype\u001b[0m\u001b[0;34m=\u001b[0m\u001b[0mdtype\u001b[0m\u001b[0;34m,\u001b[0m \u001b[0;34m**\u001b[0m\u001b[0mkwargs\u001b[0m\u001b[0;34m)\u001b[0m\u001b[0;34m\u001b[0m\u001b[0m\n\u001b[0m\u001b[1;32m   2939\u001b[0m \u001b[0;34m\u001b[0m\u001b[0m\n\u001b[1;32m   2940\u001b[0m     \u001b[0;32mdef\u001b[0m \u001b[0mconvert\u001b[0m\u001b[0;34m(\u001b[0m\u001b[0mself\u001b[0m\u001b[0;34m,\u001b[0m \u001b[0;34m**\u001b[0m\u001b[0mkwargs\u001b[0m\u001b[0;34m)\u001b[0m\u001b[0;34m:\u001b[0m\u001b[0;34m\u001b[0m\u001b[0m\n",
      "\u001b[0;32m/Users/Marat/anaconda/lib/python2.7/site-packages/pandas/core/internals.pyc\u001b[0m in \u001b[0;36mapply\u001b[0;34m(self, f, axes, filter, do_integrity_check, consolidate, raw, **kwargs)\u001b[0m\n\u001b[1;32m   2888\u001b[0m \u001b[0;34m\u001b[0m\u001b[0m\n\u001b[1;32m   2889\u001b[0m             \u001b[0mkwargs\u001b[0m\u001b[0;34m[\u001b[0m\u001b[0;34m'mgr'\u001b[0m\u001b[0;34m]\u001b[0m \u001b[0;34m=\u001b[0m \u001b[0mself\u001b[0m\u001b[0;34m\u001b[0m\u001b[0m\n\u001b[0;32m-> 2890\u001b[0;31m             \u001b[0mapplied\u001b[0m \u001b[0;34m=\u001b[0m \u001b[0mgetattr\u001b[0m\u001b[0;34m(\u001b[0m\u001b[0mb\u001b[0m\u001b[0;34m,\u001b[0m \u001b[0mf\u001b[0m\u001b[0;34m)\u001b[0m\u001b[0;34m(\u001b[0m\u001b[0;34m**\u001b[0m\u001b[0mkwargs\u001b[0m\u001b[0;34m)\u001b[0m\u001b[0;34m\u001b[0m\u001b[0m\n\u001b[0m\u001b[1;32m   2891\u001b[0m             \u001b[0mresult_blocks\u001b[0m \u001b[0;34m=\u001b[0m \u001b[0m_extend_blocks\u001b[0m\u001b[0;34m(\u001b[0m\u001b[0mapplied\u001b[0m\u001b[0;34m,\u001b[0m \u001b[0mresult_blocks\u001b[0m\u001b[0;34m)\u001b[0m\u001b[0;34m\u001b[0m\u001b[0m\n\u001b[1;32m   2892\u001b[0m \u001b[0;34m\u001b[0m\u001b[0m\n",
      "\u001b[0;32m/Users/Marat/anaconda/lib/python2.7/site-packages/pandas/core/internals.pyc\u001b[0m in \u001b[0;36mastype\u001b[0;34m(self, dtype, copy, raise_on_error, values, **kwargs)\u001b[0m\n\u001b[1;32m    432\u001b[0m                **kwargs):\n\u001b[1;32m    433\u001b[0m         return self._astype(dtype, copy=copy, raise_on_error=raise_on_error,\n\u001b[0;32m--> 434\u001b[0;31m                             values=values, **kwargs)\n\u001b[0m\u001b[1;32m    435\u001b[0m \u001b[0;34m\u001b[0m\u001b[0m\n\u001b[1;32m    436\u001b[0m     def _astype(self, dtype, copy=False, raise_on_error=True, values=None,\n",
      "\u001b[0;32m/Users/Marat/anaconda/lib/python2.7/site-packages/pandas/core/internals.pyc\u001b[0m in \u001b[0;36m_astype\u001b[0;34m(self, dtype, copy, raise_on_error, values, klass, mgr, **kwargs)\u001b[0m\n\u001b[1;32m    475\u001b[0m \u001b[0;34m\u001b[0m\u001b[0m\n\u001b[1;32m    476\u001b[0m                 \u001b[0;31m# _astype_nansafe works fine with 1-d only\u001b[0m\u001b[0;34m\u001b[0m\u001b[0;34m\u001b[0m\u001b[0m\n\u001b[0;32m--> 477\u001b[0;31m                 \u001b[0mvalues\u001b[0m \u001b[0;34m=\u001b[0m \u001b[0mcom\u001b[0m\u001b[0;34m.\u001b[0m\u001b[0m_astype_nansafe\u001b[0m\u001b[0;34m(\u001b[0m\u001b[0mvalues\u001b[0m\u001b[0;34m.\u001b[0m\u001b[0mravel\u001b[0m\u001b[0;34m(\u001b[0m\u001b[0;34m)\u001b[0m\u001b[0;34m,\u001b[0m \u001b[0mdtype\u001b[0m\u001b[0;34m,\u001b[0m \u001b[0mcopy\u001b[0m\u001b[0;34m=\u001b[0m\u001b[0mTrue\u001b[0m\u001b[0;34m)\u001b[0m\u001b[0;34m\u001b[0m\u001b[0m\n\u001b[0m\u001b[1;32m    478\u001b[0m                 \u001b[0mvalues\u001b[0m \u001b[0;34m=\u001b[0m \u001b[0mvalues\u001b[0m\u001b[0;34m.\u001b[0m\u001b[0mreshape\u001b[0m\u001b[0;34m(\u001b[0m\u001b[0mself\u001b[0m\u001b[0;34m.\u001b[0m\u001b[0mshape\u001b[0m\u001b[0;34m)\u001b[0m\u001b[0;34m\u001b[0m\u001b[0m\n\u001b[1;32m    479\u001b[0m \u001b[0;34m\u001b[0m\u001b[0m\n",
      "\u001b[0;32m/Users/Marat/anaconda/lib/python2.7/site-packages/pandas/core/common.pyc\u001b[0m in \u001b[0;36m_astype_nansafe\u001b[0;34m(arr, dtype, copy)\u001b[0m\n\u001b[1;32m   1918\u001b[0m \u001b[0;34m\u001b[0m\u001b[0m\n\u001b[1;32m   1919\u001b[0m     \u001b[0;32mif\u001b[0m \u001b[0mcopy\u001b[0m\u001b[0;34m:\u001b[0m\u001b[0;34m\u001b[0m\u001b[0m\n\u001b[0;32m-> 1920\u001b[0;31m         \u001b[0;32mreturn\u001b[0m \u001b[0marr\u001b[0m\u001b[0;34m.\u001b[0m\u001b[0mastype\u001b[0m\u001b[0;34m(\u001b[0m\u001b[0mdtype\u001b[0m\u001b[0;34m)\u001b[0m\u001b[0;34m\u001b[0m\u001b[0m\n\u001b[0m\u001b[1;32m   1921\u001b[0m     \u001b[0;32mreturn\u001b[0m \u001b[0marr\u001b[0m\u001b[0;34m.\u001b[0m\u001b[0mview\u001b[0m\u001b[0;34m(\u001b[0m\u001b[0mdtype\u001b[0m\u001b[0;34m)\u001b[0m\u001b[0;34m\u001b[0m\u001b[0m\n\u001b[1;32m   1922\u001b[0m \u001b[0;34m\u001b[0m\u001b[0m\n",
      "\u001b[0;31mValueError\u001b[0m: invalid literal for float(): 712-2"
     ]
    }
   ],
   "source": [
    "#Let's convert zip codes so that we can use them in a pivot table later\n",
    "df[\"Zip Code\"] = df[\"Zip Code\"].astype(float)"
   ]
  },
  {
   "cell_type": "code",
   "execution_count": 114,
   "metadata": {
    "collapsed": false
   },
   "outputs": [
    {
     "data": {
      "text/html": [
       "<div>\n",
       "<table border=\"1\" class=\"dataframe\">\n",
       "  <thead>\n",
       "    <tr style=\"text-align: right;\">\n",
       "      <th></th>\n",
       "      <th>Store Number</th>\n",
       "      <th>County Number</th>\n",
       "      <th>Category</th>\n",
       "      <th>Vendor Number</th>\n",
       "      <th>Item Number</th>\n",
       "      <th>Bottle Volume (ml)</th>\n",
       "      <th>State Bottle Cost</th>\n",
       "      <th>State Bottle Retail</th>\n",
       "      <th>Bottles Sold</th>\n",
       "      <th>Sale (Dollars)</th>\n",
       "      <th>Volume Sold (Liters)</th>\n",
       "      <th>Volume Sold (Gallons)</th>\n",
       "      <th>year</th>\n",
       "    </tr>\n",
       "  </thead>\n",
       "  <tbody>\n",
       "    <tr>\n",
       "      <th>Store Number</th>\n",
       "      <td>1.000000</td>\n",
       "      <td>0.006428</td>\n",
       "      <td>-0.011890</td>\n",
       "      <td>-0.004009</td>\n",
       "      <td>-0.025724</td>\n",
       "      <td>-0.057311</td>\n",
       "      <td>-0.037101</td>\n",
       "      <td>-0.037164</td>\n",
       "      <td>0.014656</td>\n",
       "      <td>-0.018042</td>\n",
       "      <td>-0.017166</td>\n",
       "      <td>-0.017155</td>\n",
       "      <td>0.022679</td>\n",
       "    </tr>\n",
       "    <tr>\n",
       "      <th>County Number</th>\n",
       "      <td>0.006428</td>\n",
       "      <td>1.000000</td>\n",
       "      <td>-0.007005</td>\n",
       "      <td>0.000799</td>\n",
       "      <td>0.009171</td>\n",
       "      <td>-0.026037</td>\n",
       "      <td>0.006268</td>\n",
       "      <td>0.006235</td>\n",
       "      <td>0.017886</td>\n",
       "      <td>0.016652</td>\n",
       "      <td>0.007545</td>\n",
       "      <td>0.007555</td>\n",
       "      <td>0.004823</td>\n",
       "    </tr>\n",
       "    <tr>\n",
       "      <th>Category</th>\n",
       "      <td>-0.011890</td>\n",
       "      <td>-0.007005</td>\n",
       "      <td>1.000000</td>\n",
       "      <td>0.093939</td>\n",
       "      <td>0.111992</td>\n",
       "      <td>-0.006541</td>\n",
       "      <td>-0.007640</td>\n",
       "      <td>-0.007724</td>\n",
       "      <td>0.001862</td>\n",
       "      <td>0.006617</td>\n",
       "      <td>-0.004900</td>\n",
       "      <td>-0.004892</td>\n",
       "      <td>-0.017418</td>\n",
       "    </tr>\n",
       "    <tr>\n",
       "      <th>Vendor Number</th>\n",
       "      <td>-0.004009</td>\n",
       "      <td>0.000799</td>\n",
       "      <td>0.093939</td>\n",
       "      <td>1.000000</td>\n",
       "      <td>0.134106</td>\n",
       "      <td>0.024174</td>\n",
       "      <td>0.001371</td>\n",
       "      <td>0.001179</td>\n",
       "      <td>-0.000784</td>\n",
       "      <td>-0.010784</td>\n",
       "      <td>-0.006085</td>\n",
       "      <td>-0.006081</td>\n",
       "      <td>0.006535</td>\n",
       "    </tr>\n",
       "    <tr>\n",
       "      <th>Item Number</th>\n",
       "      <td>-0.025724</td>\n",
       "      <td>0.009171</td>\n",
       "      <td>0.111992</td>\n",
       "      <td>0.134106</td>\n",
       "      <td>1.000000</td>\n",
       "      <td>-0.042872</td>\n",
       "      <td>0.080360</td>\n",
       "      <td>0.080230</td>\n",
       "      <td>-0.001215</td>\n",
       "      <td>0.011160</td>\n",
       "      <td>-0.007188</td>\n",
       "      <td>-0.007178</td>\n",
       "      <td>0.002106</td>\n",
       "    </tr>\n",
       "    <tr>\n",
       "      <th>Bottle Volume (ml)</th>\n",
       "      <td>-0.057311</td>\n",
       "      <td>-0.026037</td>\n",
       "      <td>-0.006541</td>\n",
       "      <td>0.024174</td>\n",
       "      <td>-0.042872</td>\n",
       "      <td>1.000000</td>\n",
       "      <td>0.343526</td>\n",
       "      <td>0.343950</td>\n",
       "      <td>-0.013334</td>\n",
       "      <td>0.080751</td>\n",
       "      <td>0.144235</td>\n",
       "      <td>0.144081</td>\n",
       "      <td>-0.002254</td>\n",
       "    </tr>\n",
       "    <tr>\n",
       "      <th>State Bottle Cost</th>\n",
       "      <td>-0.037101</td>\n",
       "      <td>0.006268</td>\n",
       "      <td>-0.007640</td>\n",
       "      <td>0.001371</td>\n",
       "      <td>0.080360</td>\n",
       "      <td>0.343526</td>\n",
       "      <td>1.000000</td>\n",
       "      <td>0.999991</td>\n",
       "      <td>-0.030318</td>\n",
       "      <td>0.106190</td>\n",
       "      <td>0.008450</td>\n",
       "      <td>0.008436</td>\n",
       "      <td>-0.000038</td>\n",
       "    </tr>\n",
       "    <tr>\n",
       "      <th>State Bottle Retail</th>\n",
       "      <td>-0.037164</td>\n",
       "      <td>0.006235</td>\n",
       "      <td>-0.007724</td>\n",
       "      <td>0.001179</td>\n",
       "      <td>0.080230</td>\n",
       "      <td>0.343950</td>\n",
       "      <td>0.999991</td>\n",
       "      <td>1.000000</td>\n",
       "      <td>-0.030261</td>\n",
       "      <td>0.106257</td>\n",
       "      <td>0.008641</td>\n",
       "      <td>0.008627</td>\n",
       "      <td>-0.000207</td>\n",
       "    </tr>\n",
       "    <tr>\n",
       "      <th>Bottles Sold</th>\n",
       "      <td>0.014656</td>\n",
       "      <td>0.017886</td>\n",
       "      <td>0.001862</td>\n",
       "      <td>-0.000784</td>\n",
       "      <td>-0.001215</td>\n",
       "      <td>-0.013334</td>\n",
       "      <td>-0.030318</td>\n",
       "      <td>-0.030261</td>\n",
       "      <td>1.000000</td>\n",
       "      <td>0.836082</td>\n",
       "      <td>0.890409</td>\n",
       "      <td>0.890440</td>\n",
       "      <td>-0.003205</td>\n",
       "    </tr>\n",
       "    <tr>\n",
       "      <th>Sale (Dollars)</th>\n",
       "      <td>-0.018042</td>\n",
       "      <td>0.016652</td>\n",
       "      <td>0.006617</td>\n",
       "      <td>-0.010784</td>\n",
       "      <td>0.011160</td>\n",
       "      <td>0.080751</td>\n",
       "      <td>0.106190</td>\n",
       "      <td>0.106257</td>\n",
       "      <td>0.836082</td>\n",
       "      <td>1.000000</td>\n",
       "      <td>0.840192</td>\n",
       "      <td>0.840204</td>\n",
       "      <td>-0.005306</td>\n",
       "    </tr>\n",
       "    <tr>\n",
       "      <th>Volume Sold (Liters)</th>\n",
       "      <td>-0.017166</td>\n",
       "      <td>0.007545</td>\n",
       "      <td>-0.004900</td>\n",
       "      <td>-0.006085</td>\n",
       "      <td>-0.007188</td>\n",
       "      <td>0.144235</td>\n",
       "      <td>0.008450</td>\n",
       "      <td>0.008641</td>\n",
       "      <td>0.890409</td>\n",
       "      <td>0.840192</td>\n",
       "      <td>1.000000</td>\n",
       "      <td>1.000000</td>\n",
       "      <td>-0.004259</td>\n",
       "    </tr>\n",
       "    <tr>\n",
       "      <th>Volume Sold (Gallons)</th>\n",
       "      <td>-0.017155</td>\n",
       "      <td>0.007555</td>\n",
       "      <td>-0.004892</td>\n",
       "      <td>-0.006081</td>\n",
       "      <td>-0.007178</td>\n",
       "      <td>0.144081</td>\n",
       "      <td>0.008436</td>\n",
       "      <td>0.008627</td>\n",
       "      <td>0.890440</td>\n",
       "      <td>0.840204</td>\n",
       "      <td>1.000000</td>\n",
       "      <td>1.000000</td>\n",
       "      <td>-0.004259</td>\n",
       "    </tr>\n",
       "    <tr>\n",
       "      <th>year</th>\n",
       "      <td>0.022679</td>\n",
       "      <td>0.004823</td>\n",
       "      <td>-0.017418</td>\n",
       "      <td>0.006535</td>\n",
       "      <td>0.002106</td>\n",
       "      <td>-0.002254</td>\n",
       "      <td>-0.000038</td>\n",
       "      <td>-0.000207</td>\n",
       "      <td>-0.003205</td>\n",
       "      <td>-0.005306</td>\n",
       "      <td>-0.004259</td>\n",
       "      <td>-0.004259</td>\n",
       "      <td>1.000000</td>\n",
       "    </tr>\n",
       "  </tbody>\n",
       "</table>\n",
       "</div>"
      ],
      "text/plain": [
       "                       Store Number  County Number  Category  Vendor Number  \\\n",
       "Store Number               1.000000       0.006428 -0.011890      -0.004009   \n",
       "County Number              0.006428       1.000000 -0.007005       0.000799   \n",
       "Category                  -0.011890      -0.007005  1.000000       0.093939   \n",
       "Vendor Number             -0.004009       0.000799  0.093939       1.000000   \n",
       "Item Number               -0.025724       0.009171  0.111992       0.134106   \n",
       "Bottle Volume (ml)        -0.057311      -0.026037 -0.006541       0.024174   \n",
       "State Bottle Cost         -0.037101       0.006268 -0.007640       0.001371   \n",
       "State Bottle Retail       -0.037164       0.006235 -0.007724       0.001179   \n",
       "Bottles Sold               0.014656       0.017886  0.001862      -0.000784   \n",
       "Sale (Dollars)            -0.018042       0.016652  0.006617      -0.010784   \n",
       "Volume Sold (Liters)      -0.017166       0.007545 -0.004900      -0.006085   \n",
       "Volume Sold (Gallons)     -0.017155       0.007555 -0.004892      -0.006081   \n",
       "year                       0.022679       0.004823 -0.017418       0.006535   \n",
       "\n",
       "                       Item Number  Bottle Volume (ml)  State Bottle Cost  \\\n",
       "Store Number             -0.025724           -0.057311          -0.037101   \n",
       "County Number             0.009171           -0.026037           0.006268   \n",
       "Category                  0.111992           -0.006541          -0.007640   \n",
       "Vendor Number             0.134106            0.024174           0.001371   \n",
       "Item Number               1.000000           -0.042872           0.080360   \n",
       "Bottle Volume (ml)       -0.042872            1.000000           0.343526   \n",
       "State Bottle Cost         0.080360            0.343526           1.000000   \n",
       "State Bottle Retail       0.080230            0.343950           0.999991   \n",
       "Bottles Sold             -0.001215           -0.013334          -0.030318   \n",
       "Sale (Dollars)            0.011160            0.080751           0.106190   \n",
       "Volume Sold (Liters)     -0.007188            0.144235           0.008450   \n",
       "Volume Sold (Gallons)    -0.007178            0.144081           0.008436   \n",
       "year                      0.002106           -0.002254          -0.000038   \n",
       "\n",
       "                       State Bottle Retail  Bottles Sold  Sale (Dollars)  \\\n",
       "Store Number                     -0.037164      0.014656       -0.018042   \n",
       "County Number                     0.006235      0.017886        0.016652   \n",
       "Category                         -0.007724      0.001862        0.006617   \n",
       "Vendor Number                     0.001179     -0.000784       -0.010784   \n",
       "Item Number                       0.080230     -0.001215        0.011160   \n",
       "Bottle Volume (ml)                0.343950     -0.013334        0.080751   \n",
       "State Bottle Cost                 0.999991     -0.030318        0.106190   \n",
       "State Bottle Retail               1.000000     -0.030261        0.106257   \n",
       "Bottles Sold                     -0.030261      1.000000        0.836082   \n",
       "Sale (Dollars)                    0.106257      0.836082        1.000000   \n",
       "Volume Sold (Liters)              0.008641      0.890409        0.840192   \n",
       "Volume Sold (Gallons)             0.008627      0.890440        0.840204   \n",
       "year                             -0.000207     -0.003205       -0.005306   \n",
       "\n",
       "                       Volume Sold (Liters)  Volume Sold (Gallons)      year  \n",
       "Store Number                      -0.017166              -0.017155  0.022679  \n",
       "County Number                      0.007545               0.007555  0.004823  \n",
       "Category                          -0.004900              -0.004892 -0.017418  \n",
       "Vendor Number                     -0.006085              -0.006081  0.006535  \n",
       "Item Number                       -0.007188              -0.007178  0.002106  \n",
       "Bottle Volume (ml)                 0.144235               0.144081 -0.002254  \n",
       "State Bottle Cost                  0.008450               0.008436 -0.000038  \n",
       "State Bottle Retail                0.008641               0.008627 -0.000207  \n",
       "Bottles Sold                       0.890409               0.890440 -0.003205  \n",
       "Sale (Dollars)                     0.840192               0.840204 -0.005306  \n",
       "Volume Sold (Liters)               1.000000               1.000000 -0.004259  \n",
       "Volume Sold (Gallons)              1.000000               1.000000 -0.004259  \n",
       "year                              -0.004259              -0.004259  1.000000  "
      ]
     },
     "execution_count": 114,
     "metadata": {},
     "output_type": "execute_result"
    }
   ],
   "source": [
    "df.corr()"
   ]
  },
  {
   "cell_type": "markdown",
   "metadata": {},
   "source": [
    "We can see that the \"Sale (Dollars)\" is positively correlated to \"Bottles sold\", and Volume sold (Liters and Gallons), which is something we would expect. The discrepancy probably arises in the difference in the quality/type (individual bottle price) of Alcohol purchased."
   ]
  },
  {
   "cell_type": "code",
   "execution_count": 115,
   "metadata": {
    "collapsed": false
   },
   "outputs": [
    {
     "data": {
      "text/html": [
       "<div>\n",
       "<table border=\"1\" class=\"dataframe\">\n",
       "  <thead>\n",
       "    <tr style=\"text-align: right;\">\n",
       "      <th></th>\n",
       "      <th>Store Number</th>\n",
       "      <th>County Number</th>\n",
       "      <th>Category</th>\n",
       "      <th>Vendor Number</th>\n",
       "      <th>Item Number</th>\n",
       "      <th>Bottle Volume (ml)</th>\n",
       "      <th>State Bottle Cost</th>\n",
       "      <th>State Bottle Retail</th>\n",
       "      <th>Bottles Sold</th>\n",
       "      <th>Sale (Dollars)</th>\n",
       "      <th>Volume Sold (Liters)</th>\n",
       "      <th>Volume Sold (Gallons)</th>\n",
       "      <th>year</th>\n",
       "    </tr>\n",
       "  </thead>\n",
       "  <tbody>\n",
       "    <tr>\n",
       "      <th>count</th>\n",
       "      <td>2.709552e+06</td>\n",
       "      <td>2.698639e+06</td>\n",
       "      <td>2.708773e+06</td>\n",
       "      <td>2.709552e+06</td>\n",
       "      <td>2.709552e+06</td>\n",
       "      <td>2.709552e+06</td>\n",
       "      <td>2.709552e+06</td>\n",
       "      <td>2.709552e+06</td>\n",
       "      <td>2.709552e+06</td>\n",
       "      <td>2.709552e+06</td>\n",
       "      <td>2.709552e+06</td>\n",
       "      <td>2.709552e+06</td>\n",
       "      <td>2.709552e+06</td>\n",
       "    </tr>\n",
       "    <tr>\n",
       "      <th>mean</th>\n",
       "      <td>3.589071e+03</td>\n",
       "      <td>5.726086e+01</td>\n",
       "      <td>1.043826e+06</td>\n",
       "      <td>2.563901e+02</td>\n",
       "      <td>4.601624e+04</td>\n",
       "      <td>9.242111e+02</td>\n",
       "      <td>9.816209e+00</td>\n",
       "      <td>1.474012e+01</td>\n",
       "      <td>9.838390e+00</td>\n",
       "      <td>1.291191e+02</td>\n",
       "      <td>8.921504e+00</td>\n",
       "      <td>2.357017e+00</td>\n",
       "      <td>2.015194e+03</td>\n",
       "    </tr>\n",
       "    <tr>\n",
       "      <th>std</th>\n",
       "      <td>9.491083e+02</td>\n",
       "      <td>2.732565e+01</td>\n",
       "      <td>5.003493e+04</td>\n",
       "      <td>1.408757e+02</td>\n",
       "      <td>5.311268e+04</td>\n",
       "      <td>5.464858e+02</td>\n",
       "      <td>1.490656e+01</td>\n",
       "      <td>2.235953e+01</td>\n",
       "      <td>2.349863e+01</td>\n",
       "      <td>3.994615e+02</td>\n",
       "      <td>2.824435e+01</td>\n",
       "      <td>7.461356e+00</td>\n",
       "      <td>3.952620e-01</td>\n",
       "    </tr>\n",
       "    <tr>\n",
       "      <th>min</th>\n",
       "      <td>2.106000e+03</td>\n",
       "      <td>1.000000e+00</td>\n",
       "      <td>1.011100e+06</td>\n",
       "      <td>1.000000e+01</td>\n",
       "      <td>1.460000e+02</td>\n",
       "      <td>0.000000e+00</td>\n",
       "      <td>8.900000e-01</td>\n",
       "      <td>1.340000e+00</td>\n",
       "      <td>1.000000e+00</td>\n",
       "      <td>1.340000e+00</td>\n",
       "      <td>0.000000e+00</td>\n",
       "      <td>0.000000e+00</td>\n",
       "      <td>2.015000e+03</td>\n",
       "    </tr>\n",
       "    <tr>\n",
       "      <th>25%</th>\n",
       "      <td>2.604000e+03</td>\n",
       "      <td>NaN</td>\n",
       "      <td>NaN</td>\n",
       "      <td>1.150000e+02</td>\n",
       "      <td>2.682800e+04</td>\n",
       "      <td>7.500000e+02</td>\n",
       "      <td>5.510000e+00</td>\n",
       "      <td>8.270000e+00</td>\n",
       "      <td>2.000000e+00</td>\n",
       "      <td>3.048000e+01</td>\n",
       "      <td>1.500000e+00</td>\n",
       "      <td>4.000000e-01</td>\n",
       "      <td>2.015000e+03</td>\n",
       "    </tr>\n",
       "    <tr>\n",
       "      <th>50%</th>\n",
       "      <td>3.721000e+03</td>\n",
       "      <td>NaN</td>\n",
       "      <td>NaN</td>\n",
       "      <td>2.600000e+02</td>\n",
       "      <td>3.817600e+04</td>\n",
       "      <td>7.500000e+02</td>\n",
       "      <td>8.070000e+00</td>\n",
       "      <td>1.230000e+01</td>\n",
       "      <td>6.000000e+00</td>\n",
       "      <td>7.056000e+01</td>\n",
       "      <td>5.250000e+00</td>\n",
       "      <td>1.390000e+00</td>\n",
       "      <td>2.015000e+03</td>\n",
       "    </tr>\n",
       "    <tr>\n",
       "      <th>75%</th>\n",
       "      <td>4.382000e+03</td>\n",
       "      <td>NaN</td>\n",
       "      <td>NaN</td>\n",
       "      <td>3.800000e+02</td>\n",
       "      <td>6.460100e+04</td>\n",
       "      <td>1.000000e+03</td>\n",
       "      <td>1.196000e+01</td>\n",
       "      <td>1.794000e+01</td>\n",
       "      <td>1.200000e+01</td>\n",
       "      <td>1.350000e+02</td>\n",
       "      <td>1.050000e+01</td>\n",
       "      <td>2.770000e+00</td>\n",
       "      <td>2.015000e+03</td>\n",
       "    </tr>\n",
       "    <tr>\n",
       "      <th>max</th>\n",
       "      <td>9.023000e+03</td>\n",
       "      <td>9.900000e+01</td>\n",
       "      <td>1.701100e+06</td>\n",
       "      <td>9.780000e+02</td>\n",
       "      <td>9.992750e+05</td>\n",
       "      <td>2.250000e+05</td>\n",
       "      <td>6.468000e+03</td>\n",
       "      <td>9.702000e+03</td>\n",
       "      <td>3.960000e+03</td>\n",
       "      <td>1.063260e+05</td>\n",
       "      <td>3.960000e+03</td>\n",
       "      <td>1.046120e+03</td>\n",
       "      <td>2.016000e+03</td>\n",
       "    </tr>\n",
       "  </tbody>\n",
       "</table>\n",
       "</div>"
      ],
      "text/plain": [
       "       Store Number  County Number      Category  Vendor Number   Item Number  \\\n",
       "count  2.709552e+06   2.698639e+06  2.708773e+06   2.709552e+06  2.709552e+06   \n",
       "mean   3.589071e+03   5.726086e+01  1.043826e+06   2.563901e+02  4.601624e+04   \n",
       "std    9.491083e+02   2.732565e+01  5.003493e+04   1.408757e+02  5.311268e+04   \n",
       "min    2.106000e+03   1.000000e+00  1.011100e+06   1.000000e+01  1.460000e+02   \n",
       "25%    2.604000e+03            NaN           NaN   1.150000e+02  2.682800e+04   \n",
       "50%    3.721000e+03            NaN           NaN   2.600000e+02  3.817600e+04   \n",
       "75%    4.382000e+03            NaN           NaN   3.800000e+02  6.460100e+04   \n",
       "max    9.023000e+03   9.900000e+01  1.701100e+06   9.780000e+02  9.992750e+05   \n",
       "\n",
       "       Bottle Volume (ml)  State Bottle Cost  State Bottle Retail  \\\n",
       "count        2.709552e+06       2.709552e+06         2.709552e+06   \n",
       "mean         9.242111e+02       9.816209e+00         1.474012e+01   \n",
       "std          5.464858e+02       1.490656e+01         2.235953e+01   \n",
       "min          0.000000e+00       8.900000e-01         1.340000e+00   \n",
       "25%          7.500000e+02       5.510000e+00         8.270000e+00   \n",
       "50%          7.500000e+02       8.070000e+00         1.230000e+01   \n",
       "75%          1.000000e+03       1.196000e+01         1.794000e+01   \n",
       "max          2.250000e+05       6.468000e+03         9.702000e+03   \n",
       "\n",
       "       Bottles Sold  Sale (Dollars)  Volume Sold (Liters)  \\\n",
       "count  2.709552e+06    2.709552e+06          2.709552e+06   \n",
       "mean   9.838390e+00    1.291191e+02          8.921504e+00   \n",
       "std    2.349863e+01    3.994615e+02          2.824435e+01   \n",
       "min    1.000000e+00    1.340000e+00          0.000000e+00   \n",
       "25%    2.000000e+00    3.048000e+01          1.500000e+00   \n",
       "50%    6.000000e+00    7.056000e+01          5.250000e+00   \n",
       "75%    1.200000e+01    1.350000e+02          1.050000e+01   \n",
       "max    3.960000e+03    1.063260e+05          3.960000e+03   \n",
       "\n",
       "       Volume Sold (Gallons)          year  \n",
       "count           2.709552e+06  2.709552e+06  \n",
       "mean            2.357017e+00  2.015194e+03  \n",
       "std             7.461356e+00  3.952620e-01  \n",
       "min             0.000000e+00  2.015000e+03  \n",
       "25%             4.000000e-01  2.015000e+03  \n",
       "50%             1.390000e+00  2.015000e+03  \n",
       "75%             2.770000e+00  2.015000e+03  \n",
       "max             1.046120e+03  2.016000e+03  "
      ]
     },
     "execution_count": 115,
     "metadata": {},
     "output_type": "execute_result"
    }
   ],
   "source": [
    "df.describe()"
   ]
  },
  {
   "cell_type": "markdown",
   "metadata": {},
   "source": [
    "Things to note:\n",
    "\n",
    "1. \"Volume\" columns have a minimum value of zero in some cases, but \"Sale\" column does not. What kind of transaction for alcohol involved money but no volume? Was that not alcohol at all?\n",
    "\n",
    "2. Only two values for the Year: 2015 and 2016\n",
    "\n",
    "3. Minimum sale of $1.34\n",
    "\n",
    "4. Bottles were sold in the amounts from 1 to 3960 per transaction"
   ]
  },
  {
   "cell_type": "code",
   "execution_count": 116,
   "metadata": {
    "collapsed": false
   },
   "outputs": [
    {
     "name": "stdout",
     "output_type": "stream",
     "text": [
      "              Date  Store Number       City Zip Code  County Number County  \\\n",
      "815951  2015-11-18          2614  DAVENPORT    52807           82.0  Scott   \n",
      "2007100 2015-05-06          2614  DAVENPORT    52807           82.0  Scott   \n",
      "\n",
      "          Category   Category Name  Vendor Number  Item Number  \\\n",
      "815951   1031200.0  VODKA FLAVORED            259       941063   \n",
      "2007100  1031200.0  VODKA FLAVORED            259       941063   \n",
      "\n",
      "                           Item Description  Bottle Volume (ml)  \\\n",
      "815951   Burnett's Pink Lemonade Vodka Mini                   0   \n",
      "2007100  Burnett's Pink Lemonade Vodka Mini                   0   \n",
      "\n",
      "         State Bottle Cost  State Bottle Retail  Bottles Sold  Sale (Dollars)  \\\n",
      "815951                4.25                 6.38            12           76.56   \n",
      "2007100               4.25                 6.38            12           76.56   \n",
      "\n",
      "         Volume Sold (Liters)  Volume Sold (Gallons)  year  \n",
      "815951                    0.0                    0.0  2015  \n",
      "2007100                   0.0                    0.0  2015  \n",
      "              Date  Store Number       City Zip Code  County Number County  \\\n",
      "815951  2015-11-18          2614  DAVENPORT    52807           82.0  Scott   \n",
      "2007100 2015-05-06          2614  DAVENPORT    52807           82.0  Scott   \n",
      "\n",
      "          Category   Category Name  Vendor Number  Item Number  \\\n",
      "815951   1031200.0  VODKA FLAVORED            259       941063   \n",
      "2007100  1031200.0  VODKA FLAVORED            259       941063   \n",
      "\n",
      "                           Item Description  Bottle Volume (ml)  \\\n",
      "815951   Burnett's Pink Lemonade Vodka Mini                   0   \n",
      "2007100  Burnett's Pink Lemonade Vodka Mini                   0   \n",
      "\n",
      "         State Bottle Cost  State Bottle Retail  Bottles Sold  Sale (Dollars)  \\\n",
      "815951                4.25                 6.38            12           76.56   \n",
      "2007100               4.25                 6.38            12           76.56   \n",
      "\n",
      "         Volume Sold (Liters)  Volume Sold (Gallons)  year  \n",
      "815951                    0.0                    0.0  2015  \n",
      "2007100                   0.0                    0.0  2015  \n",
      "              Date  Store Number       City Zip Code  County Number County  \\\n",
      "815951  2015-11-18          2614  DAVENPORT    52807           82.0  Scott   \n",
      "2007100 2015-05-06          2614  DAVENPORT    52807           82.0  Scott   \n",
      "\n",
      "          Category   Category Name  Vendor Number  Item Number  \\\n",
      "815951   1031200.0  VODKA FLAVORED            259       941063   \n",
      "2007100  1031200.0  VODKA FLAVORED            259       941063   \n",
      "\n",
      "                           Item Description  Bottle Volume (ml)  \\\n",
      "815951   Burnett's Pink Lemonade Vodka Mini                   0   \n",
      "2007100  Burnett's Pink Lemonade Vodka Mini                   0   \n",
      "\n",
      "         State Bottle Cost  State Bottle Retail  Bottles Sold  Sale (Dollars)  \\\n",
      "815951                4.25                 6.38            12           76.56   \n",
      "2007100               4.25                 6.38            12           76.56   \n",
      "\n",
      "         Volume Sold (Liters)  Volume Sold (Gallons)  year  \n",
      "815951                    0.0                    0.0  2015  \n",
      "2007100                   0.0                    0.0  2015  \n"
     ]
    }
   ],
   "source": [
    "# Look at all the rows where Volume values were zero\n",
    "print df[df[\"Bottle Volume (ml)\"]==0]\n",
    "print df[df[\"Volume Sold (Liters)\"]==0]\n",
    "print df[df[\"Volume Sold (Gallons)\"]==0]"
   ]
  },
  {
   "cell_type": "markdown",
   "metadata": {},
   "source": [
    "All the zero values in 'Volume' columns come from just two identical transactions: both had the customer purchase 12 mini bottles of \"Burnett's Pink Lemonade Vodka\".\n",
    "\n",
    "Both transactions totaled $153.12, or $76.56 each; both took place at the same store in Davenport\n",
    "\n",
    "Bottle volume was probably considered to be too small of an entry, which skews our data just a bit, maybe by a liter or two in total"
   ]
  },
  {
   "cell_type": "markdown",
   "metadata": {},
   "source": [
    "## Explore the data\n",
    "\n",
    "Perform EDA and Viz, such as histograms of transaction totals, bottles sold, etc."
   ]
  },
  {
   "cell_type": "code",
   "execution_count": 117,
   "metadata": {
    "collapsed": false
   },
   "outputs": [
    {
     "data": {
      "text/plain": [
       "<matplotlib.axes._subplots.AxesSubplot at 0x1ae0ebf50>"
      ]
     },
     "execution_count": 117,
     "metadata": {},
     "output_type": "execute_result"
    },
    {
     "data": {
      "image/png": "[encoded data removed]",
      "text/plain": [
       "<matplotlib.figure.Figure at 0x140fc7f90>"
      ]
     },
     "metadata": {},
     "output_type": "display_data"
    }
   ],
   "source": [
    "sns.distplot(df[\"Sale (Dollars)\"], bins = 20)"
   ]
  },
  {
   "cell_type": "markdown",
   "metadata": {},
   "source": [
    "There are probably some significant outliers that skew our histogram\n",
    "\n",
    "Looking back at df.describe() one can see that 75% of the values have transaction amounts below $135, while some transaction values go as high as 106 thousand dollars"
   ]
  },
  {
   "cell_type": "code",
   "execution_count": 118,
   "metadata": {
    "collapsed": false
   },
   "outputs": [
    {
     "data": {
      "text/plain": [
       "<matplotlib.axes._subplots.AxesSubplot at 0x1a3e77210>"
      ]
     },
     "execution_count": 118,
     "metadata": {},
     "output_type": "execute_result"
    },
    {
     "data": {
      "image/png": "[encoded data removed]",
      "text/plain": [
       "<matplotlib.figure.Figure at 0x140aeabd0>"
      ]
     },
     "metadata": {},
     "output_type": "display_data"
    }
   ],
   "source": [
    "# Build a histogram of transactions below $1000/transaction threshold\n",
    "sns.distplot(df[df[\"Sale (Dollars)\"]<1000][\"Sale (Dollars)\"], bins = 20)"
   ]
  },
  {
   "cell_type": "markdown",
   "metadata": {},
   "source": [
    "The distribution exhibits a significant positive skew"
   ]
  },
  {
   "cell_type": "code",
   "execution_count": 119,
   "metadata": {
    "collapsed": false
   },
   "outputs": [
    {
     "data": {
      "text/plain": [
       "<matplotlib.axes._subplots.AxesSubplot at 0x1adcdf6d0>"
      ]
     },
     "execution_count": 119,
     "metadata": {},
     "output_type": "execute_result"
    },
    {
     "data": {
      "image/png": "[encoded data removed]",
      "text/plain": [
       "<matplotlib.figure.Figure at 0x1a272e290>"
      ]
     },
     "metadata": {},
     "output_type": "display_data"
    }
   ],
   "source": [
    "# Would it be informative to look at the distribution of transactions below $135 (75% of data)\n",
    "sns.distplot(df[df[\"Sale (Dollars)\"]<135][\"Sale (Dollars)\"], bins = 20)"
   ]
  },
  {
   "cell_type": "markdown",
   "metadata": {},
   "source": [
    "The distribution of transactions below 135 dollar value has a strong mode at a value of just below '20'. The majority of the transactions seem to occur around the value of '20'\n",
    "\n",
    "There is a significant spike in the number of transactions when the value of a transaction approaches $65"
   ]
  },
  {
   "cell_type": "code",
   "execution_count": null,
   "metadata": {
    "collapsed": true
   },
   "outputs": [],
   "source": []
  },
  {
   "cell_type": "code",
   "execution_count": null,
   "metadata": {
    "collapsed": true
   },
   "outputs": [],
   "source": []
  },
  {
   "cell_type": "markdown",
   "metadata": {},
   "source": [
    "## Record your findings\n",
    "\n",
    "Be sure to write out anything observations from your exploratory analysis."
   ]
  },
  {
   "cell_type": "markdown",
   "metadata": {},
   "source": [
    "## Mine the data\n",
    "Now you are ready to compute the variables you will use for your regression from the data. For example, you may want to\n",
    "compute total sales per store from Jan to March of 2015, mean price per bottle, etc. Refer to the readme for more ideas appropriate to your scenario.\n",
    "\n",
    "Pandas is your friend for this task. Take a look at the operations [here](http://pandas.pydata.org/pandas-docs/stable/groupby.html) for ideas on how to make the best use of pandas and feel free to search for blog and Stack Overflow posts to help you group data by certain variables and compute sums, means, etc. You may find it useful to create a new data frame to house this summary data."
   ]
  },
  {
   "cell_type": "markdown",
   "metadata": {},
   "source": [
    "## Refine the data\n",
    "Look for any statistical relationships, correlations, or other relevant properties of the dataset."
   ]
  },
  {
   "cell_type": "code",
   "execution_count": null,
   "metadata": {
    "collapsed": true
   },
   "outputs": [],
   "source": []
  },
  {
   "cell_type": "markdown",
   "metadata": {},
   "source": [
    "## Build your models\n",
    "\n",
    "Using scikit-learn or statsmodels, build the necessary models for your scenario. Evaluate model fit."
   ]
  },
  {
   "cell_type": "code",
   "execution_count": 207,
   "metadata": {
    "collapsed": true
   },
   "outputs": [],
   "source": [
    "from sklearn import linear_model"
   ]
  },
  {
   "cell_type": "markdown",
   "metadata": {},
   "source": []
  },
  {
   "cell_type": "code",
   "execution_count": 122,
   "metadata": {
    "collapsed": true
   },
   "outputs": [],
   "source": [
    "#Let's build a model\n",
    "#First we have to define our independent variable, X which will consist of our categorical variable, zip code and the value of sales until April\n",
    "\n",
    "#assign a new dataframe\n",
    "df_2015 = df[df[\"year\"]==2015].copy()"
   ]
  },
  {
   "cell_type": "code",
   "execution_count": 166,
   "metadata": {
    "collapsed": false
   },
   "outputs": [
    {
     "data": {
      "text/html": [
       "<div>\n",
       "<table border=\"1\" class=\"dataframe\">\n",
       "  <thead>\n",
       "    <tr style=\"text-align: right;\">\n",
       "      <th></th>\n",
       "      <th>Sale (Dollars)</th>\n",
       "    </tr>\n",
       "    <tr>\n",
       "      <th>Store Number</th>\n",
       "      <th></th>\n",
       "    </tr>\n",
       "  </thead>\n",
       "  <tbody>\n",
       "    <tr>\n",
       "      <th>2106</th>\n",
       "      <td>337166.53</td>\n",
       "    </tr>\n",
       "    <tr>\n",
       "      <th>2113</th>\n",
       "      <td>22351.86</td>\n",
       "    </tr>\n",
       "    <tr>\n",
       "      <th>2130</th>\n",
       "      <td>277764.46</td>\n",
       "    </tr>\n",
       "    <tr>\n",
       "      <th>2152</th>\n",
       "      <td>16805.11</td>\n",
       "    </tr>\n",
       "    <tr>\n",
       "      <th>2178</th>\n",
       "      <td>54411.42</td>\n",
       "    </tr>\n",
       "  </tbody>\n",
       "</table>\n",
       "</div>"
      ],
      "text/plain": [
       "              Sale (Dollars)\n",
       "Store Number                \n",
       "2106               337166.53\n",
       "2113                22351.86\n",
       "2130               277764.46\n",
       "2152                16805.11\n",
       "2178                54411.42"
      ]
     },
     "execution_count": 166,
     "metadata": {},
     "output_type": "execute_result"
    }
   ],
   "source": [
    "#Introduce the cutoff period\n",
    "t_date = pd.Timestamp('2015-04-01')\n",
    "\n",
    "df_store_grouped1 = df_2015[df_2015[\"Date\"]<t_date].groupby(\"Store Number\")\n",
    "\n",
    "df_stores1 = df_store_grouped1.aggregate({\"Sale (Dollars)\":np.sum})\n",
    "df_stores1.head()"
   ]
  },
  {
   "cell_type": "code",
   "execution_count": 165,
   "metadata": {
    "collapsed": false
   },
   "outputs": [
    {
     "data": {
      "text/html": [
       "<div>\n",
       "<table border=\"1\" class=\"dataframe\">\n",
       "  <thead>\n",
       "    <tr style=\"text-align: right;\">\n",
       "      <th></th>\n",
       "      <th>County Number</th>\n",
       "      <th>Sale (Dollars)</th>\n",
       "    </tr>\n",
       "    <tr>\n",
       "      <th>Store Number</th>\n",
       "      <th></th>\n",
       "      <th></th>\n",
       "    </tr>\n",
       "  </thead>\n",
       "  <tbody>\n",
       "    <tr>\n",
       "      <th>2106</th>\n",
       "      <td>7.0</td>\n",
       "      <td>1434369.85</td>\n",
       "    </tr>\n",
       "    <tr>\n",
       "      <th>2113</th>\n",
       "      <td>94.0</td>\n",
       "      <td>85763.42</td>\n",
       "    </tr>\n",
       "    <tr>\n",
       "      <th>2130</th>\n",
       "      <td>7.0</td>\n",
       "      <td>1108184.99</td>\n",
       "    </tr>\n",
       "    <tr>\n",
       "      <th>2152</th>\n",
       "      <td>17.0</td>\n",
       "      <td>72080.36</td>\n",
       "    </tr>\n",
       "    <tr>\n",
       "      <th>2178</th>\n",
       "      <td>3.0</td>\n",
       "      <td>277987.96</td>\n",
       "    </tr>\n",
       "  </tbody>\n",
       "</table>\n",
       "</div>"
      ],
      "text/plain": [
       "              County Number  Sale (Dollars)\n",
       "Store Number                               \n",
       "2106                    7.0      1434369.85\n",
       "2113                   94.0        85763.42\n",
       "2130                    7.0      1108184.99\n",
       "2152                   17.0        72080.36\n",
       "2178                    3.0       277987.96"
      ]
     },
     "execution_count": 165,
     "metadata": {},
     "output_type": "execute_result"
    }
   ],
   "source": [
    "df_store_grouped = df_2015.groupby(\"Store Number\")\n",
    "df_stores = df_store_grouped.aggregate({\"Sale (Dollars)\":np.sum, \"County Number\":np.median })\n",
    "df_stores.head()"
   ]
  },
  {
   "cell_type": "code",
   "execution_count": 169,
   "metadata": {
    "collapsed": false
   },
   "outputs": [
    {
     "data": {
      "text/html": [
       "<div>\n",
       "<table border=\"1\" class=\"dataframe\">\n",
       "  <thead>\n",
       "    <tr style=\"text-align: right;\">\n",
       "      <th></th>\n",
       "      <th>County Number</th>\n",
       "      <th>Sale (Dollars)_x</th>\n",
       "      <th>Sale (Dollars)_y</th>\n",
       "    </tr>\n",
       "    <tr>\n",
       "      <th>Store Number</th>\n",
       "      <th></th>\n",
       "      <th></th>\n",
       "      <th></th>\n",
       "    </tr>\n",
       "  </thead>\n",
       "  <tbody>\n",
       "    <tr>\n",
       "      <th>2106</th>\n",
       "      <td>7.0</td>\n",
       "      <td>1434369.85</td>\n",
       "      <td>337166.53</td>\n",
       "    </tr>\n",
       "    <tr>\n",
       "      <th>2113</th>\n",
       "      <td>94.0</td>\n",
       "      <td>85763.42</td>\n",
       "      <td>22351.86</td>\n",
       "    </tr>\n",
       "    <tr>\n",
       "      <th>2130</th>\n",
       "      <td>7.0</td>\n",
       "      <td>1108184.99</td>\n",
       "      <td>277764.46</td>\n",
       "    </tr>\n",
       "    <tr>\n",
       "      <th>2152</th>\n",
       "      <td>17.0</td>\n",
       "      <td>72080.36</td>\n",
       "      <td>16805.11</td>\n",
       "    </tr>\n",
       "    <tr>\n",
       "      <th>2178</th>\n",
       "      <td>3.0</td>\n",
       "      <td>277987.96</td>\n",
       "      <td>54411.42</td>\n",
       "    </tr>\n",
       "  </tbody>\n",
       "</table>\n",
       "</div>"
      ],
      "text/plain": [
       "              County Number  Sale (Dollars)_x  Sale (Dollars)_y\n",
       "Store Number                                                   \n",
       "2106                    7.0        1434369.85         337166.53\n",
       "2113                   94.0          85763.42          22351.86\n",
       "2130                    7.0        1108184.99         277764.46\n",
       "2152                   17.0          72080.36          16805.11\n",
       "2178                    3.0         277987.96          54411.42"
      ]
     },
     "execution_count": 169,
     "metadata": {},
     "output_type": "execute_result"
    }
   ],
   "source": [
    "#Merge the values into one dataframe\n",
    "\n",
    "df2 = pd.merge(df_stores,df_stores1, how=\"outer\", left_index = True, right_index = True)\n",
    "df2.head()"
   ]
  },
  {
   "cell_type": "code",
   "execution_count": 172,
   "metadata": {
    "collapsed": false
   },
   "outputs": [
    {
     "data": {
      "text/html": [
       "<div>\n",
       "<table border=\"1\" class=\"dataframe\">\n",
       "  <thead>\n",
       "    <tr style=\"text-align: right;\">\n",
       "      <th></th>\n",
       "      <th>County</th>\n",
       "      <th>Sales Total</th>\n",
       "      <th>Sales 1q</th>\n",
       "    </tr>\n",
       "    <tr>\n",
       "      <th>Store Number</th>\n",
       "      <th></th>\n",
       "      <th></th>\n",
       "      <th></th>\n",
       "    </tr>\n",
       "  </thead>\n",
       "  <tbody>\n",
       "    <tr>\n",
       "      <th>2106</th>\n",
       "      <td>7.0</td>\n",
       "      <td>1434369.85</td>\n",
       "      <td>337166.53</td>\n",
       "    </tr>\n",
       "    <tr>\n",
       "      <th>2113</th>\n",
       "      <td>94.0</td>\n",
       "      <td>85763.42</td>\n",
       "      <td>22351.86</td>\n",
       "    </tr>\n",
       "    <tr>\n",
       "      <th>2130</th>\n",
       "      <td>7.0</td>\n",
       "      <td>1108184.99</td>\n",
       "      <td>277764.46</td>\n",
       "    </tr>\n",
       "    <tr>\n",
       "      <th>2152</th>\n",
       "      <td>17.0</td>\n",
       "      <td>72080.36</td>\n",
       "      <td>16805.11</td>\n",
       "    </tr>\n",
       "    <tr>\n",
       "      <th>2178</th>\n",
       "      <td>3.0</td>\n",
       "      <td>277987.96</td>\n",
       "      <td>54411.42</td>\n",
       "    </tr>\n",
       "  </tbody>\n",
       "</table>\n",
       "</div>"
      ],
      "text/plain": [
       "              County  Sales Total   Sales 1q\n",
       "Store Number                                \n",
       "2106             7.0   1434369.85  337166.53\n",
       "2113            94.0     85763.42   22351.86\n",
       "2130             7.0   1108184.99  277764.46\n",
       "2152            17.0     72080.36   16805.11\n",
       "2178             3.0    277987.96   54411.42"
      ]
     },
     "execution_count": 172,
     "metadata": {},
     "output_type": "execute_result"
    }
   ],
   "source": [
    "df2.columns = [[\"County\", \"Sales Total\", \"Sales 1q\"]]\n",
    "df2.head()"
   ]
  },
  {
   "cell_type": "code",
   "execution_count": 173,
   "metadata": {
    "collapsed": false
   },
   "outputs": [
    {
     "data": {
      "text/html": [
       "<div>\n",
       "<table border=\"1\" class=\"dataframe\">\n",
       "  <thead>\n",
       "    <tr style=\"text-align: right;\">\n",
       "      <th></th>\n",
       "      <th>1.0</th>\n",
       "      <th>2.0</th>\n",
       "      <th>3.0</th>\n",
       "      <th>4.0</th>\n",
       "      <th>5.0</th>\n",
       "      <th>6.0</th>\n",
       "      <th>7.0</th>\n",
       "      <th>8.0</th>\n",
       "      <th>9.0</th>\n",
       "      <th>10.0</th>\n",
       "      <th>...</th>\n",
       "      <th>90.0</th>\n",
       "      <th>91.0</th>\n",
       "      <th>92.0</th>\n",
       "      <th>93.0</th>\n",
       "      <th>94.0</th>\n",
       "      <th>95.0</th>\n",
       "      <th>96.0</th>\n",
       "      <th>97.0</th>\n",
       "      <th>98.0</th>\n",
       "      <th>99.0</th>\n",
       "    </tr>\n",
       "    <tr>\n",
       "      <th>Store Number</th>\n",
       "      <th></th>\n",
       "      <th></th>\n",
       "      <th></th>\n",
       "      <th></th>\n",
       "      <th></th>\n",
       "      <th></th>\n",
       "      <th></th>\n",
       "      <th></th>\n",
       "      <th></th>\n",
       "      <th></th>\n",
       "      <th></th>\n",
       "      <th></th>\n",
       "      <th></th>\n",
       "      <th></th>\n",
       "      <th></th>\n",
       "      <th></th>\n",
       "      <th></th>\n",
       "      <th></th>\n",
       "      <th></th>\n",
       "      <th></th>\n",
       "      <th></th>\n",
       "    </tr>\n",
       "  </thead>\n",
       "  <tbody>\n",
       "    <tr>\n",
       "      <th>2106</th>\n",
       "      <td>0.0</td>\n",
       "      <td>0.0</td>\n",
       "      <td>0.0</td>\n",
       "      <td>0.0</td>\n",
       "      <td>0.0</td>\n",
       "      <td>0.0</td>\n",
       "      <td>1.0</td>\n",
       "      <td>0.0</td>\n",
       "      <td>0.0</td>\n",
       "      <td>0.0</td>\n",
       "      <td>...</td>\n",
       "      <td>0.0</td>\n",
       "      <td>0.0</td>\n",
       "      <td>0.0</td>\n",
       "      <td>0.0</td>\n",
       "      <td>0.0</td>\n",
       "      <td>0.0</td>\n",
       "      <td>0.0</td>\n",
       "      <td>0.0</td>\n",
       "      <td>0.0</td>\n",
       "      <td>0.0</td>\n",
       "    </tr>\n",
       "    <tr>\n",
       "      <th>2113</th>\n",
       "      <td>0.0</td>\n",
       "      <td>0.0</td>\n",
       "      <td>0.0</td>\n",
       "      <td>0.0</td>\n",
       "      <td>0.0</td>\n",
       "      <td>0.0</td>\n",
       "      <td>0.0</td>\n",
       "      <td>0.0</td>\n",
       "      <td>0.0</td>\n",
       "      <td>0.0</td>\n",
       "      <td>...</td>\n",
       "      <td>0.0</td>\n",
       "      <td>0.0</td>\n",
       "      <td>0.0</td>\n",
       "      <td>0.0</td>\n",
       "      <td>1.0</td>\n",
       "      <td>0.0</td>\n",
       "      <td>0.0</td>\n",
       "      <td>0.0</td>\n",
       "      <td>0.0</td>\n",
       "      <td>0.0</td>\n",
       "    </tr>\n",
       "    <tr>\n",
       "      <th>2130</th>\n",
       "      <td>0.0</td>\n",
       "      <td>0.0</td>\n",
       "      <td>0.0</td>\n",
       "      <td>0.0</td>\n",
       "      <td>0.0</td>\n",
       "      <td>0.0</td>\n",
       "      <td>1.0</td>\n",
       "      <td>0.0</td>\n",
       "      <td>0.0</td>\n",
       "      <td>0.0</td>\n",
       "      <td>...</td>\n",
       "      <td>0.0</td>\n",
       "      <td>0.0</td>\n",
       "      <td>0.0</td>\n",
       "      <td>0.0</td>\n",
       "      <td>0.0</td>\n",
       "      <td>0.0</td>\n",
       "      <td>0.0</td>\n",
       "      <td>0.0</td>\n",
       "      <td>0.0</td>\n",
       "      <td>0.0</td>\n",
       "    </tr>\n",
       "    <tr>\n",
       "      <th>2152</th>\n",
       "      <td>0.0</td>\n",
       "      <td>0.0</td>\n",
       "      <td>0.0</td>\n",
       "      <td>0.0</td>\n",
       "      <td>0.0</td>\n",
       "      <td>0.0</td>\n",
       "      <td>0.0</td>\n",
       "      <td>0.0</td>\n",
       "      <td>0.0</td>\n",
       "      <td>0.0</td>\n",
       "      <td>...</td>\n",
       "      <td>0.0</td>\n",
       "      <td>0.0</td>\n",
       "      <td>0.0</td>\n",
       "      <td>0.0</td>\n",
       "      <td>0.0</td>\n",
       "      <td>0.0</td>\n",
       "      <td>0.0</td>\n",
       "      <td>0.0</td>\n",
       "      <td>0.0</td>\n",
       "      <td>0.0</td>\n",
       "    </tr>\n",
       "    <tr>\n",
       "      <th>2178</th>\n",
       "      <td>0.0</td>\n",
       "      <td>0.0</td>\n",
       "      <td>1.0</td>\n",
       "      <td>0.0</td>\n",
       "      <td>0.0</td>\n",
       "      <td>0.0</td>\n",
       "      <td>0.0</td>\n",
       "      <td>0.0</td>\n",
       "      <td>0.0</td>\n",
       "      <td>0.0</td>\n",
       "      <td>...</td>\n",
       "      <td>0.0</td>\n",
       "      <td>0.0</td>\n",
       "      <td>0.0</td>\n",
       "      <td>0.0</td>\n",
       "      <td>0.0</td>\n",
       "      <td>0.0</td>\n",
       "      <td>0.0</td>\n",
       "      <td>0.0</td>\n",
       "      <td>0.0</td>\n",
       "      <td>0.0</td>\n",
       "    </tr>\n",
       "  </tbody>\n",
       "</table>\n",
       "<p>5 rows × 99 columns</p>\n",
       "</div>"
      ],
      "text/plain": [
       "              1.0   2.0   3.0   4.0   5.0   6.0   7.0   8.0   9.0   10.0  \\\n",
       "Store Number                                                               \n",
       "2106           0.0   0.0   0.0   0.0   0.0   0.0   1.0   0.0   0.0   0.0   \n",
       "2113           0.0   0.0   0.0   0.0   0.0   0.0   0.0   0.0   0.0   0.0   \n",
       "2130           0.0   0.0   0.0   0.0   0.0   0.0   1.0   0.0   0.0   0.0   \n",
       "2152           0.0   0.0   0.0   0.0   0.0   0.0   0.0   0.0   0.0   0.0   \n",
       "2178           0.0   0.0   1.0   0.0   0.0   0.0   0.0   0.0   0.0   0.0   \n",
       "\n",
       "              ...   90.0  91.0  92.0  93.0  94.0  95.0  96.0  97.0  98.0  99.0  \n",
       "Store Number  ...                                                               \n",
       "2106          ...    0.0   0.0   0.0   0.0   0.0   0.0   0.0   0.0   0.0   0.0  \n",
       "2113          ...    0.0   0.0   0.0   0.0   1.0   0.0   0.0   0.0   0.0   0.0  \n",
       "2130          ...    0.0   0.0   0.0   0.0   0.0   0.0   0.0   0.0   0.0   0.0  \n",
       "2152          ...    0.0   0.0   0.0   0.0   0.0   0.0   0.0   0.0   0.0   0.0  \n",
       "2178          ...    0.0   0.0   0.0   0.0   0.0   0.0   0.0   0.0   0.0   0.0  \n",
       "\n",
       "[5 rows x 99 columns]"
      ]
     },
     "execution_count": 173,
     "metadata": {},
     "output_type": "execute_result"
    }
   ],
   "source": [
    "# Convert categorical County values to dummies\n",
    "county_dummies = pd.get_dummies(df2['County'])\n",
    "county_dummies.head()"
   ]
  },
  {
   "cell_type": "code",
   "execution_count": 204,
   "metadata": {
    "collapsed": false
   },
   "outputs": [
    {
     "data": {
      "text/html": [
       "<div>\n",
       "<table border=\"1\" class=\"dataframe\">\n",
       "  <thead>\n",
       "    <tr style=\"text-align: right;\">\n",
       "      <th></th>\n",
       "      <th>Sales 1q</th>\n",
       "      <th>1.0</th>\n",
       "      <th>2.0</th>\n",
       "      <th>3.0</th>\n",
       "      <th>4.0</th>\n",
       "      <th>5.0</th>\n",
       "      <th>6.0</th>\n",
       "      <th>7.0</th>\n",
       "      <th>8.0</th>\n",
       "      <th>9.0</th>\n",
       "      <th>...</th>\n",
       "      <th>90.0</th>\n",
       "      <th>91.0</th>\n",
       "      <th>92.0</th>\n",
       "      <th>93.0</th>\n",
       "      <th>94.0</th>\n",
       "      <th>95.0</th>\n",
       "      <th>96.0</th>\n",
       "      <th>97.0</th>\n",
       "      <th>98.0</th>\n",
       "      <th>99.0</th>\n",
       "    </tr>\n",
       "    <tr>\n",
       "      <th>Store Number</th>\n",
       "      <th></th>\n",
       "      <th></th>\n",
       "      <th></th>\n",
       "      <th></th>\n",
       "      <th></th>\n",
       "      <th></th>\n",
       "      <th></th>\n",
       "      <th></th>\n",
       "      <th></th>\n",
       "      <th></th>\n",
       "      <th></th>\n",
       "      <th></th>\n",
       "      <th></th>\n",
       "      <th></th>\n",
       "      <th></th>\n",
       "      <th></th>\n",
       "      <th></th>\n",
       "      <th></th>\n",
       "      <th></th>\n",
       "      <th></th>\n",
       "      <th></th>\n",
       "    </tr>\n",
       "  </thead>\n",
       "  <tbody>\n",
       "    <tr>\n",
       "      <th>2106</th>\n",
       "      <td>337166.53</td>\n",
       "      <td>0.0</td>\n",
       "      <td>0.0</td>\n",
       "      <td>0.0</td>\n",
       "      <td>0.0</td>\n",
       "      <td>0.0</td>\n",
       "      <td>0.0</td>\n",
       "      <td>1.0</td>\n",
       "      <td>0.0</td>\n",
       "      <td>0.0</td>\n",
       "      <td>...</td>\n",
       "      <td>0.0</td>\n",
       "      <td>0.0</td>\n",
       "      <td>0.0</td>\n",
       "      <td>0.0</td>\n",
       "      <td>0.0</td>\n",
       "      <td>0.0</td>\n",
       "      <td>0.0</td>\n",
       "      <td>0.0</td>\n",
       "      <td>0.0</td>\n",
       "      <td>0.0</td>\n",
       "    </tr>\n",
       "    <tr>\n",
       "      <th>2113</th>\n",
       "      <td>22351.86</td>\n",
       "      <td>0.0</td>\n",
       "      <td>0.0</td>\n",
       "      <td>0.0</td>\n",
       "      <td>0.0</td>\n",
       "      <td>0.0</td>\n",
       "      <td>0.0</td>\n",
       "      <td>0.0</td>\n",
       "      <td>0.0</td>\n",
       "      <td>0.0</td>\n",
       "      <td>...</td>\n",
       "      <td>0.0</td>\n",
       "      <td>0.0</td>\n",
       "      <td>0.0</td>\n",
       "      <td>0.0</td>\n",
       "      <td>1.0</td>\n",
       "      <td>0.0</td>\n",
       "      <td>0.0</td>\n",
       "      <td>0.0</td>\n",
       "      <td>0.0</td>\n",
       "      <td>0.0</td>\n",
       "    </tr>\n",
       "    <tr>\n",
       "      <th>2130</th>\n",
       "      <td>277764.46</td>\n",
       "      <td>0.0</td>\n",
       "      <td>0.0</td>\n",
       "      <td>0.0</td>\n",
       "      <td>0.0</td>\n",
       "      <td>0.0</td>\n",
       "      <td>0.0</td>\n",
       "      <td>1.0</td>\n",
       "      <td>0.0</td>\n",
       "      <td>0.0</td>\n",
       "      <td>...</td>\n",
       "      <td>0.0</td>\n",
       "      <td>0.0</td>\n",
       "      <td>0.0</td>\n",
       "      <td>0.0</td>\n",
       "      <td>0.0</td>\n",
       "      <td>0.0</td>\n",
       "      <td>0.0</td>\n",
       "      <td>0.0</td>\n",
       "      <td>0.0</td>\n",
       "      <td>0.0</td>\n",
       "    </tr>\n",
       "    <tr>\n",
       "      <th>2152</th>\n",
       "      <td>16805.11</td>\n",
       "      <td>0.0</td>\n",
       "      <td>0.0</td>\n",
       "      <td>0.0</td>\n",
       "      <td>0.0</td>\n",
       "      <td>0.0</td>\n",
       "      <td>0.0</td>\n",
       "      <td>0.0</td>\n",
       "      <td>0.0</td>\n",
       "      <td>0.0</td>\n",
       "      <td>...</td>\n",
       "      <td>0.0</td>\n",
       "      <td>0.0</td>\n",
       "      <td>0.0</td>\n",
       "      <td>0.0</td>\n",
       "      <td>0.0</td>\n",
       "      <td>0.0</td>\n",
       "      <td>0.0</td>\n",
       "      <td>0.0</td>\n",
       "      <td>0.0</td>\n",
       "      <td>0.0</td>\n",
       "    </tr>\n",
       "    <tr>\n",
       "      <th>2178</th>\n",
       "      <td>54411.42</td>\n",
       "      <td>0.0</td>\n",
       "      <td>0.0</td>\n",
       "      <td>1.0</td>\n",
       "      <td>0.0</td>\n",
       "      <td>0.0</td>\n",
       "      <td>0.0</td>\n",
       "      <td>0.0</td>\n",
       "      <td>0.0</td>\n",
       "      <td>0.0</td>\n",
       "      <td>...</td>\n",
       "      <td>0.0</td>\n",
       "      <td>0.0</td>\n",
       "      <td>0.0</td>\n",
       "      <td>0.0</td>\n",
       "      <td>0.0</td>\n",
       "      <td>0.0</td>\n",
       "      <td>0.0</td>\n",
       "      <td>0.0</td>\n",
       "      <td>0.0</td>\n",
       "      <td>0.0</td>\n",
       "    </tr>\n",
       "  </tbody>\n",
       "</table>\n",
       "<p>5 rows × 100 columns</p>\n",
       "</div>"
      ],
      "text/plain": [
       "               Sales 1q  1.0  2.0  3.0  4.0  5.0  6.0  7.0  8.0  9.0  ...   \\\n",
       "Store Number                                                          ...    \n",
       "2106          337166.53  0.0  0.0  0.0  0.0  0.0  0.0  1.0  0.0  0.0  ...    \n",
       "2113           22351.86  0.0  0.0  0.0  0.0  0.0  0.0  0.0  0.0  0.0  ...    \n",
       "2130          277764.46  0.0  0.0  0.0  0.0  0.0  0.0  1.0  0.0  0.0  ...    \n",
       "2152           16805.11  0.0  0.0  0.0  0.0  0.0  0.0  0.0  0.0  0.0  ...    \n",
       "2178           54411.42  0.0  0.0  1.0  0.0  0.0  0.0  0.0  0.0  0.0  ...    \n",
       "\n",
       "              90.0  91.0  92.0  93.0  94.0  95.0  96.0  97.0  98.0  99.0  \n",
       "Store Number                                                              \n",
       "2106           0.0   0.0   0.0   0.0   0.0   0.0   0.0   0.0   0.0   0.0  \n",
       "2113           0.0   0.0   0.0   0.0   1.0   0.0   0.0   0.0   0.0   0.0  \n",
       "2130           0.0   0.0   0.0   0.0   0.0   0.0   0.0   0.0   0.0   0.0  \n",
       "2152           0.0   0.0   0.0   0.0   0.0   0.0   0.0   0.0   0.0   0.0  \n",
       "2178           0.0   0.0   0.0   0.0   0.0   0.0   0.0   0.0   0.0   0.0  \n",
       "\n",
       "[5 rows x 100 columns]"
      ]
     },
     "execution_count": 204,
     "metadata": {},
     "output_type": "execute_result"
    }
   ],
   "source": [
    "# Define X\n",
    "X = pd.merge(pd.DataFrame(df2[\"Sales 1q\"]),county_dummies, left_index=True, right_index=True)\n",
    "X.head()"
   ]
  },
  {
   "cell_type": "code",
   "execution_count": 205,
   "metadata": {
    "collapsed": false
   },
   "outputs": [
    {
     "data": {
      "text/plain": [
       "pandas.core.frame.DataFrame"
      ]
     },
     "execution_count": 205,
     "metadata": {},
     "output_type": "execute_result"
    }
   ],
   "source": [
    "type(X)"
   ]
  },
  {
   "cell_type": "code",
   "execution_count": 179,
   "metadata": {
    "collapsed": false
   },
   "outputs": [
    {
     "data": {
      "text/plain": [
       "Store Number\n",
       "2106    1434369.85\n",
       "2113      85763.42\n",
       "2130    1108184.99\n",
       "2152      72080.36\n",
       "2178     277987.96\n",
       "2190    1228571.74\n",
       "2191    1275911.76\n",
       "2200     223914.99\n",
       "2205     231651.87\n",
       "2228     188879.70\n",
       "Name: Sales Total, dtype: float64"
      ]
     },
     "execution_count": 179,
     "metadata": {},
     "output_type": "execute_result"
    }
   ],
   "source": [
    "# Define y\n",
    "y = df2[\"Sales Total\"]"
   ]
  },
  {
   "cell_type": "code",
   "execution_count": 208,
   "metadata": {
    "collapsed": false
   },
   "outputs": [
    {
     "ename": "ValueError",
     "evalue": "On entry to DLASCL parameter number 4 had an illegal value",
     "output_type": "error",
     "traceback": [
      "\u001b[0;31m---------------------------------------------------------------------------\u001b[0m",
      "\u001b[0;31mValueError\u001b[0m                                Traceback (most recent call last)",
      "\u001b[0;32m<ipython-input-208-c9a6aa6b1f63>\u001b[0m in \u001b[0;36m<module>\u001b[0;34m()\u001b[0m\n\u001b[1;32m      4\u001b[0m \u001b[0mX\u001b[0m\u001b[0;34m[\u001b[0m\u001b[0;34m\"c\"\u001b[0m\u001b[0;34m]\u001b[0m \u001b[0;34m=\u001b[0m \u001b[0;36m1.0\u001b[0m\u001b[0;34m\u001b[0m\u001b[0m\n\u001b[1;32m      5\u001b[0m \u001b[0;34m\u001b[0m\u001b[0m\n\u001b[0;32m----> 6\u001b[0;31m \u001b[0mmodel\u001b[0m \u001b[0;34m=\u001b[0m \u001b[0msm\u001b[0m\u001b[0;34m.\u001b[0m\u001b[0mOLS\u001b[0m\u001b[0;34m(\u001b[0m\u001b[0my\u001b[0m\u001b[0;34m,\u001b[0m \u001b[0mX\u001b[0m\u001b[0;34m)\u001b[0m\u001b[0;34m.\u001b[0m\u001b[0mfit\u001b[0m\u001b[0;34m(\u001b[0m\u001b[0;34m)\u001b[0m\u001b[0;34m\u001b[0m\u001b[0m\n\u001b[0m\u001b[1;32m      7\u001b[0m \u001b[0mpredictions\u001b[0m \u001b[0;34m=\u001b[0m \u001b[0mmodel\u001b[0m\u001b[0;34m.\u001b[0m\u001b[0mpredict\u001b[0m\u001b[0;34m(\u001b[0m\u001b[0mX\u001b[0m\u001b[0;34m)\u001b[0m\u001b[0;34m\u001b[0m\u001b[0m\n\u001b[1;32m      8\u001b[0m \u001b[0;34m\u001b[0m\u001b[0m\n",
      "\u001b[0;32m/Users/Marat/anaconda/lib/python2.7/site-packages/statsmodels/regression/linear_model.pyc\u001b[0m in \u001b[0;36mfit\u001b[0;34m(self, method, cov_type, cov_kwds, use_t, **kwargs)\u001b[0m\n\u001b[1;32m    172\u001b[0m                 (not hasattr(self, 'rank'))):\n\u001b[1;32m    173\u001b[0m \u001b[0;34m\u001b[0m\u001b[0m\n\u001b[0;32m--> 174\u001b[0;31m                 \u001b[0mself\u001b[0m\u001b[0;34m.\u001b[0m\u001b[0mpinv_wexog\u001b[0m\u001b[0;34m,\u001b[0m \u001b[0msingular_values\u001b[0m \u001b[0;34m=\u001b[0m \u001b[0mpinv_extended\u001b[0m\u001b[0;34m(\u001b[0m\u001b[0mself\u001b[0m\u001b[0;34m.\u001b[0m\u001b[0mwexog\u001b[0m\u001b[0;34m)\u001b[0m\u001b[0;34m\u001b[0m\u001b[0m\n\u001b[0m\u001b[1;32m    175\u001b[0m                 self.normalized_cov_params = np.dot(self.pinv_wexog,\n\u001b[1;32m    176\u001b[0m                                         np.transpose(self.pinv_wexog))\n",
      "\u001b[0;32m/Users/Marat/anaconda/lib/python2.7/site-packages/statsmodels/tools/tools.pyc\u001b[0m in \u001b[0;36mpinv_extended\u001b[0;34m(X, rcond)\u001b[0m\n\u001b[1;32m    390\u001b[0m     \u001b[0mX\u001b[0m \u001b[0;34m=\u001b[0m \u001b[0mnp\u001b[0m\u001b[0;34m.\u001b[0m\u001b[0masarray\u001b[0m\u001b[0;34m(\u001b[0m\u001b[0mX\u001b[0m\u001b[0;34m)\u001b[0m\u001b[0;34m\u001b[0m\u001b[0m\n\u001b[1;32m    391\u001b[0m     \u001b[0mX\u001b[0m \u001b[0;34m=\u001b[0m \u001b[0mX\u001b[0m\u001b[0;34m.\u001b[0m\u001b[0mconjugate\u001b[0m\u001b[0;34m(\u001b[0m\u001b[0;34m)\u001b[0m\u001b[0;34m\u001b[0m\u001b[0m\n\u001b[0;32m--> 392\u001b[0;31m     \u001b[0mu\u001b[0m\u001b[0;34m,\u001b[0m \u001b[0ms\u001b[0m\u001b[0;34m,\u001b[0m \u001b[0mvt\u001b[0m \u001b[0;34m=\u001b[0m \u001b[0mnp\u001b[0m\u001b[0;34m.\u001b[0m\u001b[0mlinalg\u001b[0m\u001b[0;34m.\u001b[0m\u001b[0msvd\u001b[0m\u001b[0;34m(\u001b[0m\u001b[0mX\u001b[0m\u001b[0;34m,\u001b[0m \u001b[0;36m0\u001b[0m\u001b[0;34m)\u001b[0m\u001b[0;34m\u001b[0m\u001b[0m\n\u001b[0m\u001b[1;32m    393\u001b[0m     \u001b[0ms_orig\u001b[0m \u001b[0;34m=\u001b[0m \u001b[0mnp\u001b[0m\u001b[0;34m.\u001b[0m\u001b[0mcopy\u001b[0m\u001b[0;34m(\u001b[0m\u001b[0ms\u001b[0m\u001b[0;34m)\u001b[0m\u001b[0;34m\u001b[0m\u001b[0m\n\u001b[1;32m    394\u001b[0m     \u001b[0mm\u001b[0m \u001b[0;34m=\u001b[0m \u001b[0mu\u001b[0m\u001b[0;34m.\u001b[0m\u001b[0mshape\u001b[0m\u001b[0;34m[\u001b[0m\u001b[0;36m0\u001b[0m\u001b[0;34m]\u001b[0m\u001b[0;34m\u001b[0m\u001b[0m\n",
      "\u001b[0;32m/Users/Marat/anaconda/lib/python2.7/site-packages/numpy/linalg/linalg.pyc\u001b[0m in \u001b[0;36msvd\u001b[0;34m(a, full_matrices, compute_uv)\u001b[0m\n\u001b[1;32m   1357\u001b[0m \u001b[0;34m\u001b[0m\u001b[0m\n\u001b[1;32m   1358\u001b[0m         \u001b[0msignature\u001b[0m \u001b[0;34m=\u001b[0m \u001b[0;34m'D->DdD'\u001b[0m \u001b[0;32mif\u001b[0m \u001b[0misComplexType\u001b[0m\u001b[0;34m(\u001b[0m\u001b[0mt\u001b[0m\u001b[0;34m)\u001b[0m \u001b[0;32melse\u001b[0m \u001b[0;34m'd->ddd'\u001b[0m\u001b[0;34m\u001b[0m\u001b[0m\n\u001b[0;32m-> 1359\u001b[0;31m         \u001b[0mu\u001b[0m\u001b[0;34m,\u001b[0m \u001b[0ms\u001b[0m\u001b[0;34m,\u001b[0m \u001b[0mvt\u001b[0m \u001b[0;34m=\u001b[0m \u001b[0mgufunc\u001b[0m\u001b[0;34m(\u001b[0m\u001b[0ma\u001b[0m\u001b[0;34m,\u001b[0m \u001b[0msignature\u001b[0m\u001b[0;34m=\u001b[0m\u001b[0msignature\u001b[0m\u001b[0;34m,\u001b[0m \u001b[0mextobj\u001b[0m\u001b[0;34m=\u001b[0m\u001b[0mextobj\u001b[0m\u001b[0;34m)\u001b[0m\u001b[0;34m\u001b[0m\u001b[0m\n\u001b[0m\u001b[1;32m   1360\u001b[0m         \u001b[0mu\u001b[0m \u001b[0;34m=\u001b[0m \u001b[0mu\u001b[0m\u001b[0;34m.\u001b[0m\u001b[0mastype\u001b[0m\u001b[0;34m(\u001b[0m\u001b[0mresult_t\u001b[0m\u001b[0;34m,\u001b[0m \u001b[0mcopy\u001b[0m\u001b[0;34m=\u001b[0m\u001b[0mFalse\u001b[0m\u001b[0;34m)\u001b[0m\u001b[0;34m\u001b[0m\u001b[0m\n\u001b[1;32m   1361\u001b[0m         \u001b[0ms\u001b[0m \u001b[0;34m=\u001b[0m \u001b[0ms\u001b[0m\u001b[0;34m.\u001b[0m\u001b[0mastype\u001b[0m\u001b[0;34m(\u001b[0m\u001b[0m_realType\u001b[0m\u001b[0;34m(\u001b[0m\u001b[0mresult_t\u001b[0m\u001b[0;34m)\u001b[0m\u001b[0;34m,\u001b[0m \u001b[0mcopy\u001b[0m\u001b[0;34m=\u001b[0m\u001b[0mFalse\u001b[0m\u001b[0;34m)\u001b[0m\u001b[0;34m\u001b[0m\u001b[0m\n",
      "\u001b[0;31mValueError\u001b[0m: On entry to DLASCL parameter number 4 had an illegal value"
     ]
    }
   ],
   "source": [
    "import statsmodels.api as sm\n",
    "\n",
    "#add a constant\n",
    "X[\"c\"] = 1.0\n",
    "\n",
    "model = sm.OLS(y, X).fit()\n",
    "predictions = model.predict(X)\n",
    "\n",
    "# Print out the statistics\n",
    "print model.summary()\n",
    "\n",
    "# Plot the model\n",
    "plt.scatter(predictions, y, s=30, c='r', marker='+', zorder=10)\n",
    "plt.xlabel(\"Predicted Values\")\n",
    "plt.ylabel(\"Actual Price\")\n",
    "plt.show()\n",
    "print \"MSE:\", model.mse_model"
   ]
  },
  {
   "cell_type": "code",
   "execution_count": null,
   "metadata": {
    "collapsed": true
   },
   "outputs": [],
   "source": []
  },
  {
   "cell_type": "code",
   "execution_count": null,
   "metadata": {
    "collapsed": true
   },
   "outputs": [],
   "source": []
  },
  {
   "cell_type": "markdown",
   "metadata": {},
   "source": [
    "## Plot your results\n",
    "\n",
    "Again make sure that you record any valuable information. For example, in the tax scenario, did you find the sales from the first three months of the year to be a good predictor of the total sales for the year? Plot the predictions versus the true values and discuss the successes and limitations of your models"
   ]
  },
  {
   "cell_type": "code",
   "execution_count": null,
   "metadata": {
    "collapsed": true
   },
   "outputs": [],
   "source": []
  },
  {
   "cell_type": "markdown",
   "metadata": {},
   "source": [
    "## Present the Results\n",
    "\n",
    "Present your conclusions and results, including a Tableau Storyboard. If you have more than one interesting model feel free to include."
   ]
  },
  {
   "cell_type": "code",
   "execution_count": null,
   "metadata": {
    "collapsed": true
   },
   "outputs": [],
   "source": []
  },
  {
   "cell_type": "code",
   "execution_count": 126,
   "metadata": {
    "collapsed": true
   },
   "outputs": [],
   "source": [
    "#blog link: "
   ]
  },
  {
   "cell_type": "markdown",
   "metadata": {},
   "source": [
    "Score | /24\n",
    "----|----\n",
    "Identify: Problem Statement and Risks | \n",
    "Acquire: Import with Pandas| \n",
    "Parse: EDA | \n",
    "Mine: Create columns/clean/format/process data| \n",
    "Refine: Determine outliers and distribution, correlation, & statistical analysis| \n",
    "Model: Create linear models; calculate probabilities, evaluate model, perform CV| \n",
    "Present: Create executive summary, present findings, summarize, tailored for your audience|\n",
    "Present: Blog |\n",
    "Bonus: perform Ridge and Lasso regularization and explain what they do | "
   ]
  },
  {
   "cell_type": "code",
   "execution_count": null,
   "metadata": {
    "collapsed": true
   },
   "outputs": [],
   "source": []
  }
 ],
 "metadata": {
  "anaconda-cloud": {},
  "kernelspec": {
   "display_name": "Python [default]",
   "language": "python",
   "name": "python2"
  },
  "language_info": {
   "codemirror_mode": {
    "name": "ipython",
    "version": 2
   },
   "file_extension": ".py",
   "mimetype": "text/x-python",
   "name": "python",
   "nbconvert_exporter": "python",
   "pygments_lexer": "ipython2",
   "version": "2.7.12"
  }
 },
 "nbformat": 4,
 "nbformat_minor": 0
}
