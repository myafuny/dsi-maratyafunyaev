{
 "cells": [
  {
   "cell_type": "markdown",
   "metadata": {},
   "source": [
    "# Getting started\n",
    "\n",
    "Once you've chosen your scenario, download the data from [the Iowa website](https://data.iowa.gov/Economy/Iowa-Liquor-Sales/m3tr-qhgy) in csv format. Start by loading the data with pandas. You may need to parse the date columns appropriately."
   ]
  },
  {
   "cell_type": "code",
   "execution_count": 1,
   "metadata": {
    "collapsed": false
   },
   "outputs": [],
   "source": [
    "import pandas as pd\n",
    "\n",
    "## Load the data into a DataFrame\n",
    "# pd.read_csv()\n",
    "\n",
    "## Transform the dates if needed, e.g.\n",
    "# df[\"Date\"] = pd.to_datetime(df[\"Date\"], format=\"%m-%d-%y\")"
   ]
  },
  {
   "cell_type": "code",
   "execution_count": 2,
   "metadata": {
    "collapsed": false
   },
   "outputs": [
    {
     "name": "stderr",
     "output_type": "stream",
     "text": [
      "/Users/Marat/anaconda/lib/python2.7/site-packages/IPython/core/interactiveshell.py:2717: DtypeWarning: Columns (3) have mixed types. Specify dtype option on import or set low_memory=False.\n",
      "  interactivity=interactivity, compiler=compiler, result=result)\n"
     ]
    },
    {
     "data": {
      "text/html": [
       "<div>\n",
       "<table border=\"1\" class=\"dataframe\">\n",
       "  <thead>\n",
       "    <tr style=\"text-align: right;\">\n",
       "      <th></th>\n",
       "      <th>Date</th>\n",
       "      <th>Store Number</th>\n",
       "      <th>City</th>\n",
       "      <th>Zip Code</th>\n",
       "      <th>County Number</th>\n",
       "      <th>County</th>\n",
       "      <th>Category</th>\n",
       "      <th>Category Name</th>\n",
       "      <th>Vendor Number</th>\n",
       "      <th>Item Number</th>\n",
       "      <th>Item Description</th>\n",
       "      <th>Bottle Volume (ml)</th>\n",
       "      <th>State Bottle Cost</th>\n",
       "      <th>State Bottle Retail</th>\n",
       "      <th>Bottles Sold</th>\n",
       "      <th>Sale (Dollars)</th>\n",
       "      <th>Volume Sold (Liters)</th>\n",
       "      <th>Volume Sold (Gallons)</th>\n",
       "    </tr>\n",
       "  </thead>\n",
       "  <tbody>\n",
       "    <tr>\n",
       "      <th>0</th>\n",
       "      <td>03/31/2016</td>\n",
       "      <td>5029</td>\n",
       "      <td>DAVENPORT</td>\n",
       "      <td>52806</td>\n",
       "      <td>82.0</td>\n",
       "      <td>Scott</td>\n",
       "      <td>1022100.0</td>\n",
       "      <td>TEQUILA</td>\n",
       "      <td>370</td>\n",
       "      <td>87152</td>\n",
       "      <td>Avion Silver</td>\n",
       "      <td>375</td>\n",
       "      <td>$9.99</td>\n",
       "      <td>$14.99</td>\n",
       "      <td>12</td>\n",
       "      <td>$179.88</td>\n",
       "      <td>4.5</td>\n",
       "      <td>1.19</td>\n",
       "    </tr>\n",
       "    <tr>\n",
       "      <th>1</th>\n",
       "      <td>03/31/2016</td>\n",
       "      <td>5029</td>\n",
       "      <td>DAVENPORT</td>\n",
       "      <td>52806</td>\n",
       "      <td>82.0</td>\n",
       "      <td>Scott</td>\n",
       "      <td>1022100.0</td>\n",
       "      <td>TEQUILA</td>\n",
       "      <td>395</td>\n",
       "      <td>89197</td>\n",
       "      <td>Jose Cuervo Especial Reposado Tequila</td>\n",
       "      <td>1000</td>\n",
       "      <td>$12.50</td>\n",
       "      <td>$18.75</td>\n",
       "      <td>2</td>\n",
       "      <td>$37.50</td>\n",
       "      <td>2.0</td>\n",
       "      <td>0.53</td>\n",
       "    </tr>\n",
       "    <tr>\n",
       "      <th>2</th>\n",
       "      <td>03/31/2016</td>\n",
       "      <td>4959</td>\n",
       "      <td>CEDAR FALLS</td>\n",
       "      <td>50613</td>\n",
       "      <td>7.0</td>\n",
       "      <td>Black Hawk</td>\n",
       "      <td>1071100.0</td>\n",
       "      <td>AMERICAN COCKTAILS</td>\n",
       "      <td>380</td>\n",
       "      <td>63959</td>\n",
       "      <td>Uv Blue Raspberry Lemonade Pet</td>\n",
       "      <td>1750</td>\n",
       "      <td>$5.97</td>\n",
       "      <td>$8.96</td>\n",
       "      <td>6</td>\n",
       "      <td>$53.76</td>\n",
       "      <td>10.5</td>\n",
       "      <td>2.77</td>\n",
       "    </tr>\n",
       "    <tr>\n",
       "      <th>3</th>\n",
       "      <td>03/31/2016</td>\n",
       "      <td>2190</td>\n",
       "      <td>DES MOINES</td>\n",
       "      <td>50314</td>\n",
       "      <td>77.0</td>\n",
       "      <td>Polk</td>\n",
       "      <td>1031200.0</td>\n",
       "      <td>VODKA FLAVORED</td>\n",
       "      <td>205</td>\n",
       "      <td>40597</td>\n",
       "      <td>New Amsterdam Red Berry</td>\n",
       "      <td>200</td>\n",
       "      <td>$2.24</td>\n",
       "      <td>$3.36</td>\n",
       "      <td>48</td>\n",
       "      <td>$161.28</td>\n",
       "      <td>9.6</td>\n",
       "      <td>2.54</td>\n",
       "    </tr>\n",
       "    <tr>\n",
       "      <th>4</th>\n",
       "      <td>03/31/2016</td>\n",
       "      <td>5240</td>\n",
       "      <td>WEST BRANCH</td>\n",
       "      <td>52358</td>\n",
       "      <td>NaN</td>\n",
       "      <td>NaN</td>\n",
       "      <td>1081200.0</td>\n",
       "      <td>CREAM LIQUEURS</td>\n",
       "      <td>305</td>\n",
       "      <td>73055</td>\n",
       "      <td>Rumchata</td>\n",
       "      <td>750</td>\n",
       "      <td>$12.50</td>\n",
       "      <td>$18.75</td>\n",
       "      <td>6</td>\n",
       "      <td>$112.50</td>\n",
       "      <td>4.5</td>\n",
       "      <td>1.19</td>\n",
       "    </tr>\n",
       "  </tbody>\n",
       "</table>\n",
       "</div>"
      ],
      "text/plain": [
       "         Date  Store Number         City Zip Code  County Number      County  \\\n",
       "0  03/31/2016          5029    DAVENPORT    52806           82.0       Scott   \n",
       "1  03/31/2016          5029    DAVENPORT    52806           82.0       Scott   \n",
       "2  03/31/2016          4959  CEDAR FALLS    50613            7.0  Black Hawk   \n",
       "3  03/31/2016          2190   DES MOINES    50314           77.0        Polk   \n",
       "4  03/31/2016          5240  WEST BRANCH    52358            NaN         NaN   \n",
       "\n",
       "    Category       Category Name  Vendor Number  Item Number  \\\n",
       "0  1022100.0             TEQUILA            370        87152   \n",
       "1  1022100.0             TEQUILA            395        89197   \n",
       "2  1071100.0  AMERICAN COCKTAILS            380        63959   \n",
       "3  1031200.0      VODKA FLAVORED            205        40597   \n",
       "4  1081200.0      CREAM LIQUEURS            305        73055   \n",
       "\n",
       "                        Item Description  Bottle Volume (ml)  \\\n",
       "0                           Avion Silver                 375   \n",
       "1  Jose Cuervo Especial Reposado Tequila                1000   \n",
       "2         Uv Blue Raspberry Lemonade Pet                1750   \n",
       "3                New Amsterdam Red Berry                 200   \n",
       "4                               Rumchata                 750   \n",
       "\n",
       "  State Bottle Cost State Bottle Retail  Bottles Sold Sale (Dollars)  \\\n",
       "0             $9.99              $14.99            12        $179.88   \n",
       "1            $12.50              $18.75             2         $37.50   \n",
       "2             $5.97               $8.96             6         $53.76   \n",
       "3             $2.24               $3.36            48        $161.28   \n",
       "4            $12.50              $18.75             6        $112.50   \n",
       "\n",
       "   Volume Sold (Liters)  Volume Sold (Gallons)  \n",
       "0                   4.5                   1.19  \n",
       "1                   2.0                   0.53  \n",
       "2                  10.5                   2.77  \n",
       "3                   9.6                   2.54  \n",
       "4                   4.5                   1.19  "
      ]
     },
     "execution_count": 2,
     "metadata": {},
     "output_type": "execute_result"
    }
   ],
   "source": [
    "df = pd.read_csv(\"../Assets/Iowa_Liquor_Sales_reduced.csv\")\n",
    "df.head()"
   ]
  },
  {
   "cell_type": "code",
   "execution_count": 4,
   "metadata": {
    "collapsed": false
   },
   "outputs": [
    {
     "data": {
      "text/html": [
       "<div>\n",
       "<table border=\"1\" class=\"dataframe\">\n",
       "  <thead>\n",
       "    <tr style=\"text-align: right;\">\n",
       "      <th></th>\n",
       "      <th>Store Number</th>\n",
       "      <th>County Number</th>\n",
       "      <th>Category</th>\n",
       "      <th>Vendor Number</th>\n",
       "      <th>Item Number</th>\n",
       "      <th>Bottle Volume (ml)</th>\n",
       "      <th>Bottles Sold</th>\n",
       "      <th>Volume Sold (Liters)</th>\n",
       "      <th>Volume Sold (Gallons)</th>\n",
       "    </tr>\n",
       "  </thead>\n",
       "  <tbody>\n",
       "    <tr>\n",
       "      <th>Store Number</th>\n",
       "      <td>1.000000</td>\n",
       "      <td>0.006428</td>\n",
       "      <td>-0.011890</td>\n",
       "      <td>-0.004009</td>\n",
       "      <td>-0.025724</td>\n",
       "      <td>-0.057311</td>\n",
       "      <td>0.014656</td>\n",
       "      <td>-0.017166</td>\n",
       "      <td>-0.017155</td>\n",
       "    </tr>\n",
       "    <tr>\n",
       "      <th>County Number</th>\n",
       "      <td>0.006428</td>\n",
       "      <td>1.000000</td>\n",
       "      <td>-0.007005</td>\n",
       "      <td>0.000799</td>\n",
       "      <td>0.009171</td>\n",
       "      <td>-0.026037</td>\n",
       "      <td>0.017886</td>\n",
       "      <td>0.007545</td>\n",
       "      <td>0.007555</td>\n",
       "    </tr>\n",
       "    <tr>\n",
       "      <th>Category</th>\n",
       "      <td>-0.011890</td>\n",
       "      <td>-0.007005</td>\n",
       "      <td>1.000000</td>\n",
       "      <td>0.093939</td>\n",
       "      <td>0.111992</td>\n",
       "      <td>-0.006541</td>\n",
       "      <td>0.001862</td>\n",
       "      <td>-0.004900</td>\n",
       "      <td>-0.004892</td>\n",
       "    </tr>\n",
       "    <tr>\n",
       "      <th>Vendor Number</th>\n",
       "      <td>-0.004009</td>\n",
       "      <td>0.000799</td>\n",
       "      <td>0.093939</td>\n",
       "      <td>1.000000</td>\n",
       "      <td>0.134106</td>\n",
       "      <td>0.024174</td>\n",
       "      <td>-0.000784</td>\n",
       "      <td>-0.006085</td>\n",
       "      <td>-0.006081</td>\n",
       "    </tr>\n",
       "    <tr>\n",
       "      <th>Item Number</th>\n",
       "      <td>-0.025724</td>\n",
       "      <td>0.009171</td>\n",
       "      <td>0.111992</td>\n",
       "      <td>0.134106</td>\n",
       "      <td>1.000000</td>\n",
       "      <td>-0.042872</td>\n",
       "      <td>-0.001215</td>\n",
       "      <td>-0.007188</td>\n",
       "      <td>-0.007178</td>\n",
       "    </tr>\n",
       "    <tr>\n",
       "      <th>Bottle Volume (ml)</th>\n",
       "      <td>-0.057311</td>\n",
       "      <td>-0.026037</td>\n",
       "      <td>-0.006541</td>\n",
       "      <td>0.024174</td>\n",
       "      <td>-0.042872</td>\n",
       "      <td>1.000000</td>\n",
       "      <td>-0.013334</td>\n",
       "      <td>0.144235</td>\n",
       "      <td>0.144081</td>\n",
       "    </tr>\n",
       "    <tr>\n",
       "      <th>Bottles Sold</th>\n",
       "      <td>0.014656</td>\n",
       "      <td>0.017886</td>\n",
       "      <td>0.001862</td>\n",
       "      <td>-0.000784</td>\n",
       "      <td>-0.001215</td>\n",
       "      <td>-0.013334</td>\n",
       "      <td>1.000000</td>\n",
       "      <td>0.890409</td>\n",
       "      <td>0.890440</td>\n",
       "    </tr>\n",
       "    <tr>\n",
       "      <th>Volume Sold (Liters)</th>\n",
       "      <td>-0.017166</td>\n",
       "      <td>0.007545</td>\n",
       "      <td>-0.004900</td>\n",
       "      <td>-0.006085</td>\n",
       "      <td>-0.007188</td>\n",
       "      <td>0.144235</td>\n",
       "      <td>0.890409</td>\n",
       "      <td>1.000000</td>\n",
       "      <td>1.000000</td>\n",
       "    </tr>\n",
       "    <tr>\n",
       "      <th>Volume Sold (Gallons)</th>\n",
       "      <td>-0.017155</td>\n",
       "      <td>0.007555</td>\n",
       "      <td>-0.004892</td>\n",
       "      <td>-0.006081</td>\n",
       "      <td>-0.007178</td>\n",
       "      <td>0.144081</td>\n",
       "      <td>0.890440</td>\n",
       "      <td>1.000000</td>\n",
       "      <td>1.000000</td>\n",
       "    </tr>\n",
       "  </tbody>\n",
       "</table>\n",
       "</div>"
      ],
      "text/plain": [
       "                       Store Number  County Number  Category  Vendor Number  \\\n",
       "Store Number               1.000000       0.006428 -0.011890      -0.004009   \n",
       "County Number              0.006428       1.000000 -0.007005       0.000799   \n",
       "Category                  -0.011890      -0.007005  1.000000       0.093939   \n",
       "Vendor Number             -0.004009       0.000799  0.093939       1.000000   \n",
       "Item Number               -0.025724       0.009171  0.111992       0.134106   \n",
       "Bottle Volume (ml)        -0.057311      -0.026037 -0.006541       0.024174   \n",
       "Bottles Sold               0.014656       0.017886  0.001862      -0.000784   \n",
       "Volume Sold (Liters)      -0.017166       0.007545 -0.004900      -0.006085   \n",
       "Volume Sold (Gallons)     -0.017155       0.007555 -0.004892      -0.006081   \n",
       "\n",
       "                       Item Number  Bottle Volume (ml)  Bottles Sold  \\\n",
       "Store Number             -0.025724           -0.057311      0.014656   \n",
       "County Number             0.009171           -0.026037      0.017886   \n",
       "Category                  0.111992           -0.006541      0.001862   \n",
       "Vendor Number             0.134106            0.024174     -0.000784   \n",
       "Item Number               1.000000           -0.042872     -0.001215   \n",
       "Bottle Volume (ml)       -0.042872            1.000000     -0.013334   \n",
       "Bottles Sold             -0.001215           -0.013334      1.000000   \n",
       "Volume Sold (Liters)     -0.007188            0.144235      0.890409   \n",
       "Volume Sold (Gallons)    -0.007178            0.144081      0.890440   \n",
       "\n",
       "                       Volume Sold (Liters)  Volume Sold (Gallons)  \n",
       "Store Number                      -0.017166              -0.017155  \n",
       "County Number                      0.007545               0.007555  \n",
       "Category                          -0.004900              -0.004892  \n",
       "Vendor Number                     -0.006085              -0.006081  \n",
       "Item Number                       -0.007188              -0.007178  \n",
       "Bottle Volume (ml)                 0.144235               0.144081  \n",
       "Bottles Sold                       0.890409               0.890440  \n",
       "Volume Sold (Liters)               1.000000               1.000000  \n",
       "Volume Sold (Gallons)              1.000000               1.000000  "
      ]
     },
     "execution_count": 4,
     "metadata": {},
     "output_type": "execute_result"
    }
   ],
   "source": [
    "df.corr()"
   ]
  },
  {
   "cell_type": "code",
   "execution_count": 3,
   "metadata": {
    "collapsed": false
   },
   "outputs": [
    {
     "name": "stderr",
     "output_type": "stream",
     "text": [
      "/Users/Marat/anaconda/lib/python2.7/site-packages/numpy/lib/function_base.py:3834: RuntimeWarning: Invalid value encountered in percentile\n",
      "  RuntimeWarning)\n"
     ]
    },
    {
     "data": {
      "text/html": [
       "<div>\n",
       "<table border=\"1\" class=\"dataframe\">\n",
       "  <thead>\n",
       "    <tr style=\"text-align: right;\">\n",
       "      <th></th>\n",
       "      <th>Store Number</th>\n",
       "      <th>County Number</th>\n",
       "      <th>Category</th>\n",
       "      <th>Vendor Number</th>\n",
       "      <th>Item Number</th>\n",
       "      <th>Bottle Volume (ml)</th>\n",
       "      <th>Bottles Sold</th>\n",
       "      <th>Volume Sold (Liters)</th>\n",
       "      <th>Volume Sold (Gallons)</th>\n",
       "    </tr>\n",
       "  </thead>\n",
       "  <tbody>\n",
       "    <tr>\n",
       "      <th>count</th>\n",
       "      <td>2.709552e+06</td>\n",
       "      <td>2.698639e+06</td>\n",
       "      <td>2.708773e+06</td>\n",
       "      <td>2.709552e+06</td>\n",
       "      <td>2.709552e+06</td>\n",
       "      <td>2.709552e+06</td>\n",
       "      <td>2.709552e+06</td>\n",
       "      <td>2.709552e+06</td>\n",
       "      <td>2.709552e+06</td>\n",
       "    </tr>\n",
       "    <tr>\n",
       "      <th>mean</th>\n",
       "      <td>3.589071e+03</td>\n",
       "      <td>5.726086e+01</td>\n",
       "      <td>1.043826e+06</td>\n",
       "      <td>2.563901e+02</td>\n",
       "      <td>4.601624e+04</td>\n",
       "      <td>9.242111e+02</td>\n",
       "      <td>9.838390e+00</td>\n",
       "      <td>8.921504e+00</td>\n",
       "      <td>2.357017e+00</td>\n",
       "    </tr>\n",
       "    <tr>\n",
       "      <th>std</th>\n",
       "      <td>9.491083e+02</td>\n",
       "      <td>2.732565e+01</td>\n",
       "      <td>5.003493e+04</td>\n",
       "      <td>1.408757e+02</td>\n",
       "      <td>5.311268e+04</td>\n",
       "      <td>5.464858e+02</td>\n",
       "      <td>2.349863e+01</td>\n",
       "      <td>2.824435e+01</td>\n",
       "      <td>7.461356e+00</td>\n",
       "    </tr>\n",
       "    <tr>\n",
       "      <th>min</th>\n",
       "      <td>2.106000e+03</td>\n",
       "      <td>1.000000e+00</td>\n",
       "      <td>1.011100e+06</td>\n",
       "      <td>1.000000e+01</td>\n",
       "      <td>1.460000e+02</td>\n",
       "      <td>0.000000e+00</td>\n",
       "      <td>1.000000e+00</td>\n",
       "      <td>0.000000e+00</td>\n",
       "      <td>0.000000e+00</td>\n",
       "    </tr>\n",
       "    <tr>\n",
       "      <th>25%</th>\n",
       "      <td>2.604000e+03</td>\n",
       "      <td>NaN</td>\n",
       "      <td>NaN</td>\n",
       "      <td>1.150000e+02</td>\n",
       "      <td>2.682800e+04</td>\n",
       "      <td>7.500000e+02</td>\n",
       "      <td>2.000000e+00</td>\n",
       "      <td>1.500000e+00</td>\n",
       "      <td>4.000000e-01</td>\n",
       "    </tr>\n",
       "    <tr>\n",
       "      <th>50%</th>\n",
       "      <td>3.721000e+03</td>\n",
       "      <td>NaN</td>\n",
       "      <td>NaN</td>\n",
       "      <td>2.600000e+02</td>\n",
       "      <td>3.817600e+04</td>\n",
       "      <td>7.500000e+02</td>\n",
       "      <td>6.000000e+00</td>\n",
       "      <td>5.250000e+00</td>\n",
       "      <td>1.390000e+00</td>\n",
       "    </tr>\n",
       "    <tr>\n",
       "      <th>75%</th>\n",
       "      <td>4.382000e+03</td>\n",
       "      <td>NaN</td>\n",
       "      <td>NaN</td>\n",
       "      <td>3.800000e+02</td>\n",
       "      <td>6.460100e+04</td>\n",
       "      <td>1.000000e+03</td>\n",
       "      <td>1.200000e+01</td>\n",
       "      <td>1.050000e+01</td>\n",
       "      <td>2.770000e+00</td>\n",
       "    </tr>\n",
       "    <tr>\n",
       "      <th>max</th>\n",
       "      <td>9.023000e+03</td>\n",
       "      <td>9.900000e+01</td>\n",
       "      <td>1.701100e+06</td>\n",
       "      <td>9.780000e+02</td>\n",
       "      <td>9.992750e+05</td>\n",
       "      <td>2.250000e+05</td>\n",
       "      <td>3.960000e+03</td>\n",
       "      <td>3.960000e+03</td>\n",
       "      <td>1.046120e+03</td>\n",
       "    </tr>\n",
       "  </tbody>\n",
       "</table>\n",
       "</div>"
      ],
      "text/plain": [
       "       Store Number  County Number      Category  Vendor Number   Item Number  \\\n",
       "count  2.709552e+06   2.698639e+06  2.708773e+06   2.709552e+06  2.709552e+06   \n",
       "mean   3.589071e+03   5.726086e+01  1.043826e+06   2.563901e+02  4.601624e+04   \n",
       "std    9.491083e+02   2.732565e+01  5.003493e+04   1.408757e+02  5.311268e+04   \n",
       "min    2.106000e+03   1.000000e+00  1.011100e+06   1.000000e+01  1.460000e+02   \n",
       "25%    2.604000e+03            NaN           NaN   1.150000e+02  2.682800e+04   \n",
       "50%    3.721000e+03            NaN           NaN   2.600000e+02  3.817600e+04   \n",
       "75%    4.382000e+03            NaN           NaN   3.800000e+02  6.460100e+04   \n",
       "max    9.023000e+03   9.900000e+01  1.701100e+06   9.780000e+02  9.992750e+05   \n",
       "\n",
       "       Bottle Volume (ml)  Bottles Sold  Volume Sold (Liters)  \\\n",
       "count        2.709552e+06  2.709552e+06          2.709552e+06   \n",
       "mean         9.242111e+02  9.838390e+00          8.921504e+00   \n",
       "std          5.464858e+02  2.349863e+01          2.824435e+01   \n",
       "min          0.000000e+00  1.000000e+00          0.000000e+00   \n",
       "25%          7.500000e+02  2.000000e+00          1.500000e+00   \n",
       "50%          7.500000e+02  6.000000e+00          5.250000e+00   \n",
       "75%          1.000000e+03  1.200000e+01          1.050000e+01   \n",
       "max          2.250000e+05  3.960000e+03          3.960000e+03   \n",
       "\n",
       "       Volume Sold (Gallons)  \n",
       "count           2.709552e+06  \n",
       "mean            2.357017e+00  \n",
       "std             7.461356e+00  \n",
       "min             0.000000e+00  \n",
       "25%             4.000000e-01  \n",
       "50%             1.390000e+00  \n",
       "75%             2.770000e+00  \n",
       "max             1.046120e+03  "
      ]
     },
     "execution_count": 3,
     "metadata": {},
     "output_type": "execute_result"
    }
   ],
   "source": [
    "df.describe()"
   ]
  },
  {
   "cell_type": "code",
   "execution_count": 9,
   "metadata": {
    "collapsed": false
   },
   "outputs": [
    {
     "data": {
      "text/plain": [
       "Index([u'Date', u'Store Number', u'City', u'Zip Code', u'County Number',\n",
       "       u'County', u'Category', u'Category Name', u'Vendor Number',\n",
       "       u'Item Number', u'Item Description', u'Bottle Volume (ml)',\n",
       "       u'State Bottle Cost', u'State Bottle Retail', u'Bottles Sold',\n",
       "       u'Sale (Dollars)', u'Volume Sold (Liters)', u'Volume Sold (Gallons)'],\n",
       "      dtype='object')"
      ]
     },
     "execution_count": 9,
     "metadata": {},
     "output_type": "execute_result"
    }
   ],
   "source": [
    "df.columns"
   ]
  },
  {
   "cell_type": "code",
   "execution_count": 21,
   "metadata": {
    "collapsed": false
   },
   "outputs": [
    {
     "data": {
      "text/plain": [
       "386"
      ]
     },
     "execution_count": 21,
     "metadata": {},
     "output_type": "execute_result"
    }
   ],
   "source": [
    "df['City'].unique().size"
   ]
  },
  {
   "cell_type": "code",
   "execution_count": 22,
   "metadata": {
    "collapsed": false
   },
   "outputs": [
    {
     "data": {
      "text/plain": [
       "771"
      ]
     },
     "execution_count": 22,
     "metadata": {},
     "output_type": "execute_result"
    }
   ],
   "source": [
    "df['Zip Code'].unique().size"
   ]
  },
  {
   "cell_type": "code",
   "execution_count": 29,
   "metadata": {
    "collapsed": false
   },
   "outputs": [
    {
     "data": {
      "text/plain": [
       "Date                      object\n",
       "Store Number               int64\n",
       "City                      object\n",
       "Zip Code                  object\n",
       "County Number            float64\n",
       "County                    object\n",
       "Category                 float64\n",
       "Category Name             object\n",
       "Vendor Number              int64\n",
       "Item Number                int64\n",
       "Item Description          object\n",
       "Bottle Volume (ml)         int64\n",
       "State Bottle Cost         object\n",
       "State Bottle Retail       object\n",
       "Bottles Sold               int64\n",
       "Sale (Dollars)            object\n",
       "Volume Sold (Liters)     float64\n",
       "Volume Sold (Gallons)    float64\n",
       "dtype: object"
      ]
     },
     "execution_count": 29,
     "metadata": {},
     "output_type": "execute_result"
    }
   ],
   "source": [
    "df.dtypes"
   ]
  },
  {
   "cell_type": "code",
   "execution_count": 31,
   "metadata": {
    "collapsed": true
   },
   "outputs": [],
   "source": [
    "from datetime import datetime"
   ]
  },
  {
   "cell_type": "code",
   "execution_count": 37,
   "metadata": {
    "collapsed": false
   },
   "outputs": [
    {
     "data": {
      "text/plain": [
       "pandas.core.series.Series"
      ]
     },
     "execution_count": 37,
     "metadata": {},
     "output_type": "execute_result"
    }
   ],
   "source": [
    "df[\"Date\"] = df[\"Date\"].apply(lambda x: datetime.strptime(x, '%m/%d/%Y'))"
   ]
  },
  {
   "cell_type": "code",
   "execution_count": 41,
   "metadata": {
    "collapsed": false
   },
   "outputs": [
    {
     "data": {
      "text/html": [
       "<div>\n",
       "<table border=\"1\" class=\"dataframe\">\n",
       "  <thead>\n",
       "    <tr style=\"text-align: right;\">\n",
       "      <th></th>\n",
       "      <th>Date</th>\n",
       "      <th>Store Number</th>\n",
       "      <th>City</th>\n",
       "      <th>Zip Code</th>\n",
       "      <th>County Number</th>\n",
       "      <th>County</th>\n",
       "      <th>Category</th>\n",
       "      <th>Category Name</th>\n",
       "      <th>Vendor Number</th>\n",
       "      <th>Item Number</th>\n",
       "      <th>Item Description</th>\n",
       "      <th>Bottle Volume (ml)</th>\n",
       "      <th>State Bottle Cost</th>\n",
       "      <th>State Bottle Retail</th>\n",
       "      <th>Bottles Sold</th>\n",
       "      <th>Sale (Dollars)</th>\n",
       "      <th>Volume Sold (Liters)</th>\n",
       "      <th>Volume Sold (Gallons)</th>\n",
       "      <th>year</th>\n",
       "    </tr>\n",
       "  </thead>\n",
       "  <tbody>\n",
       "    <tr>\n",
       "      <th>0</th>\n",
       "      <td>2016-03-31</td>\n",
       "      <td>5029</td>\n",
       "      <td>DAVENPORT</td>\n",
       "      <td>52806</td>\n",
       "      <td>82.0</td>\n",
       "      <td>Scott</td>\n",
       "      <td>1022100.0</td>\n",
       "      <td>TEQUILA</td>\n",
       "      <td>370</td>\n",
       "      <td>87152</td>\n",
       "      <td>Avion Silver</td>\n",
       "      <td>375</td>\n",
       "      <td>$9.99</td>\n",
       "      <td>$14.99</td>\n",
       "      <td>12</td>\n",
       "      <td>$179.88</td>\n",
       "      <td>4.5</td>\n",
       "      <td>1.19</td>\n",
       "      <td>2016</td>\n",
       "    </tr>\n",
       "    <tr>\n",
       "      <th>1</th>\n",
       "      <td>2016-03-31</td>\n",
       "      <td>5029</td>\n",
       "      <td>DAVENPORT</td>\n",
       "      <td>52806</td>\n",
       "      <td>82.0</td>\n",
       "      <td>Scott</td>\n",
       "      <td>1022100.0</td>\n",
       "      <td>TEQUILA</td>\n",
       "      <td>395</td>\n",
       "      <td>89197</td>\n",
       "      <td>Jose Cuervo Especial Reposado Tequila</td>\n",
       "      <td>1000</td>\n",
       "      <td>$12.50</td>\n",
       "      <td>$18.75</td>\n",
       "      <td>2</td>\n",
       "      <td>$37.50</td>\n",
       "      <td>2.0</td>\n",
       "      <td>0.53</td>\n",
       "      <td>2016</td>\n",
       "    </tr>\n",
       "    <tr>\n",
       "      <th>2</th>\n",
       "      <td>2016-03-31</td>\n",
       "      <td>4959</td>\n",
       "      <td>CEDAR FALLS</td>\n",
       "      <td>50613</td>\n",
       "      <td>7.0</td>\n",
       "      <td>Black Hawk</td>\n",
       "      <td>1071100.0</td>\n",
       "      <td>AMERICAN COCKTAILS</td>\n",
       "      <td>380</td>\n",
       "      <td>63959</td>\n",
       "      <td>Uv Blue Raspberry Lemonade Pet</td>\n",
       "      <td>1750</td>\n",
       "      <td>$5.97</td>\n",
       "      <td>$8.96</td>\n",
       "      <td>6</td>\n",
       "      <td>$53.76</td>\n",
       "      <td>10.5</td>\n",
       "      <td>2.77</td>\n",
       "      <td>2016</td>\n",
       "    </tr>\n",
       "    <tr>\n",
       "      <th>3</th>\n",
       "      <td>2016-03-31</td>\n",
       "      <td>2190</td>\n",
       "      <td>DES MOINES</td>\n",
       "      <td>50314</td>\n",
       "      <td>77.0</td>\n",
       "      <td>Polk</td>\n",
       "      <td>1031200.0</td>\n",
       "      <td>VODKA FLAVORED</td>\n",
       "      <td>205</td>\n",
       "      <td>40597</td>\n",
       "      <td>New Amsterdam Red Berry</td>\n",
       "      <td>200</td>\n",
       "      <td>$2.24</td>\n",
       "      <td>$3.36</td>\n",
       "      <td>48</td>\n",
       "      <td>$161.28</td>\n",
       "      <td>9.6</td>\n",
       "      <td>2.54</td>\n",
       "      <td>2016</td>\n",
       "    </tr>\n",
       "    <tr>\n",
       "      <th>4</th>\n",
       "      <td>2016-03-31</td>\n",
       "      <td>5240</td>\n",
       "      <td>WEST BRANCH</td>\n",
       "      <td>52358</td>\n",
       "      <td>NaN</td>\n",
       "      <td>NaN</td>\n",
       "      <td>1081200.0</td>\n",
       "      <td>CREAM LIQUEURS</td>\n",
       "      <td>305</td>\n",
       "      <td>73055</td>\n",
       "      <td>Rumchata</td>\n",
       "      <td>750</td>\n",
       "      <td>$12.50</td>\n",
       "      <td>$18.75</td>\n",
       "      <td>6</td>\n",
       "      <td>$112.50</td>\n",
       "      <td>4.5</td>\n",
       "      <td>1.19</td>\n",
       "      <td>2016</td>\n",
       "    </tr>\n",
       "  </tbody>\n",
       "</table>\n",
       "</div>"
      ],
      "text/plain": [
       "        Date  Store Number         City Zip Code  County Number      County  \\\n",
       "0 2016-03-31          5029    DAVENPORT    52806           82.0       Scott   \n",
       "1 2016-03-31          5029    DAVENPORT    52806           82.0       Scott   \n",
       "2 2016-03-31          4959  CEDAR FALLS    50613            7.0  Black Hawk   \n",
       "3 2016-03-31          2190   DES MOINES    50314           77.0        Polk   \n",
       "4 2016-03-31          5240  WEST BRANCH    52358            NaN         NaN   \n",
       "\n",
       "    Category       Category Name  Vendor Number  Item Number  \\\n",
       "0  1022100.0             TEQUILA            370        87152   \n",
       "1  1022100.0             TEQUILA            395        89197   \n",
       "2  1071100.0  AMERICAN COCKTAILS            380        63959   \n",
       "3  1031200.0      VODKA FLAVORED            205        40597   \n",
       "4  1081200.0      CREAM LIQUEURS            305        73055   \n",
       "\n",
       "                        Item Description  Bottle Volume (ml)  \\\n",
       "0                           Avion Silver                 375   \n",
       "1  Jose Cuervo Especial Reposado Tequila                1000   \n",
       "2         Uv Blue Raspberry Lemonade Pet                1750   \n",
       "3                New Amsterdam Red Berry                 200   \n",
       "4                               Rumchata                 750   \n",
       "\n",
       "  State Bottle Cost State Bottle Retail  Bottles Sold Sale (Dollars)  \\\n",
       "0             $9.99              $14.99            12        $179.88   \n",
       "1            $12.50              $18.75             2         $37.50   \n",
       "2             $5.97               $8.96             6         $53.76   \n",
       "3             $2.24               $3.36            48        $161.28   \n",
       "4            $12.50              $18.75             6        $112.50   \n",
       "\n",
       "   Volume Sold (Liters)  Volume Sold (Gallons)  year  \n",
       "0                   4.5                   1.19  2016  \n",
       "1                   2.0                   0.53  2016  \n",
       "2                  10.5                   2.77  2016  \n",
       "3                   9.6                   2.54  2016  \n",
       "4                   4.5                   1.19  2016  "
      ]
     },
     "execution_count": 41,
     "metadata": {},
     "output_type": "execute_result"
    }
   ],
   "source": [
    "df[\"year\"] = df[\"Date\"].apply(lambda x: x.year)\n",
    "df.head()"
   ]
  },
  {
   "cell_type": "code",
   "execution_count": 43,
   "metadata": {
    "collapsed": false
   },
   "outputs": [
    {
     "data": {
      "text/html": [
       "<div>\n",
       "<table border=\"1\" class=\"dataframe\">\n",
       "  <thead>\n",
       "    <tr style=\"text-align: right;\">\n",
       "      <th></th>\n",
       "      <th>Date</th>\n",
       "      <th>Store Number</th>\n",
       "      <th>City</th>\n",
       "      <th>Zip Code</th>\n",
       "      <th>County Number</th>\n",
       "      <th>County</th>\n",
       "      <th>Category</th>\n",
       "      <th>Category Name</th>\n",
       "      <th>Vendor Number</th>\n",
       "      <th>Item Number</th>\n",
       "      <th>Item Description</th>\n",
       "      <th>Bottle Volume (ml)</th>\n",
       "      <th>State Bottle Cost</th>\n",
       "      <th>State Bottle Retail</th>\n",
       "      <th>Bottles Sold</th>\n",
       "      <th>Sale (Dollars)</th>\n",
       "      <th>Volume Sold (Liters)</th>\n",
       "      <th>Volume Sold (Gallons)</th>\n",
       "      <th>year</th>\n",
       "    </tr>\n",
       "  </thead>\n",
       "  <tbody>\n",
       "    <tr>\n",
       "      <th>525069</th>\n",
       "      <td>2015-12-31</td>\n",
       "      <td>3400</td>\n",
       "      <td>DES MOINES</td>\n",
       "      <td>50317</td>\n",
       "      <td>77.0</td>\n",
       "      <td>Polk</td>\n",
       "      <td>1051140.0</td>\n",
       "      <td>PEACH BRANDIES</td>\n",
       "      <td>115</td>\n",
       "      <td>56195</td>\n",
       "      <td>Paul Masson Peach Grande Amber Brandy</td>\n",
       "      <td>375</td>\n",
       "      <td>$3.22</td>\n",
       "      <td>$4.83</td>\n",
       "      <td>24</td>\n",
       "      <td>$115.92</td>\n",
       "      <td>9.0</td>\n",
       "      <td>2.38</td>\n",
       "      <td>2015</td>\n",
       "    </tr>\n",
       "    <tr>\n",
       "      <th>525070</th>\n",
       "      <td>2015-12-31</td>\n",
       "      <td>4165</td>\n",
       "      <td>ANKENY</td>\n",
       "      <td>50023</td>\n",
       "      <td>77.0</td>\n",
       "      <td>Polk</td>\n",
       "      <td>1031080.0</td>\n",
       "      <td>VODKA 80 PROOF</td>\n",
       "      <td>380</td>\n",
       "      <td>37348</td>\n",
       "      <td>Phillips Vodka</td>\n",
       "      <td>1750</td>\n",
       "      <td>$7.60</td>\n",
       "      <td>$11.40</td>\n",
       "      <td>6</td>\n",
       "      <td>$68.40</td>\n",
       "      <td>10.5</td>\n",
       "      <td>2.77</td>\n",
       "      <td>2015</td>\n",
       "    </tr>\n",
       "    <tr>\n",
       "      <th>525071</th>\n",
       "      <td>2015-12-31</td>\n",
       "      <td>4617</td>\n",
       "      <td>DES MOINES</td>\n",
       "      <td>50317</td>\n",
       "      <td>77.0</td>\n",
       "      <td>Polk</td>\n",
       "      <td>1031080.0</td>\n",
       "      <td>VODKA 80 PROOF</td>\n",
       "      <td>380</td>\n",
       "      <td>37348</td>\n",
       "      <td>Phillips Vodka</td>\n",
       "      <td>1750</td>\n",
       "      <td>$7.60</td>\n",
       "      <td>$11.40</td>\n",
       "      <td>6</td>\n",
       "      <td>$68.40</td>\n",
       "      <td>10.5</td>\n",
       "      <td>2.77</td>\n",
       "      <td>2015</td>\n",
       "    </tr>\n",
       "    <tr>\n",
       "      <th>525072</th>\n",
       "      <td>2015-12-31</td>\n",
       "      <td>5089</td>\n",
       "      <td>MISSOURI VALLEY</td>\n",
       "      <td>51555</td>\n",
       "      <td>43.0</td>\n",
       "      <td>Harrison</td>\n",
       "      <td>1011100.0</td>\n",
       "      <td>BLENDED WHISKIES</td>\n",
       "      <td>260</td>\n",
       "      <td>27554</td>\n",
       "      <td>Seagrams Seven Crown Dark Honey</td>\n",
       "      <td>750</td>\n",
       "      <td>$7.00</td>\n",
       "      <td>$10.50</td>\n",
       "      <td>2</td>\n",
       "      <td>$21.00</td>\n",
       "      <td>1.5</td>\n",
       "      <td>0.40</td>\n",
       "      <td>2015</td>\n",
       "    </tr>\n",
       "    <tr>\n",
       "      <th>525073</th>\n",
       "      <td>2015-12-31</td>\n",
       "      <td>4695</td>\n",
       "      <td>ALTOONA</td>\n",
       "      <td>50009</td>\n",
       "      <td>77.0</td>\n",
       "      <td>Polk</td>\n",
       "      <td>1081600.0</td>\n",
       "      <td>WHISKEY LIQUEUR</td>\n",
       "      <td>421</td>\n",
       "      <td>64866</td>\n",
       "      <td>Fireball Cinnamon Whiskey</td>\n",
       "      <td>750</td>\n",
       "      <td>$8.98</td>\n",
       "      <td>$13.47</td>\n",
       "      <td>12</td>\n",
       "      <td>$161.64</td>\n",
       "      <td>9.0</td>\n",
       "      <td>2.38</td>\n",
       "      <td>2015</td>\n",
       "    </tr>\n",
       "  </tbody>\n",
       "</table>\n",
       "</div>"
      ],
      "text/plain": [
       "             Date  Store Number             City Zip Code  County Number  \\\n",
       "525069 2015-12-31          3400       DES MOINES    50317           77.0   \n",
       "525070 2015-12-31          4165           ANKENY    50023           77.0   \n",
       "525071 2015-12-31          4617       DES MOINES    50317           77.0   \n",
       "525072 2015-12-31          5089  MISSOURI VALLEY    51555           43.0   \n",
       "525073 2015-12-31          4695          ALTOONA    50009           77.0   \n",
       "\n",
       "          County   Category     Category Name  Vendor Number  Item Number  \\\n",
       "525069      Polk  1051140.0    PEACH BRANDIES            115        56195   \n",
       "525070      Polk  1031080.0    VODKA 80 PROOF            380        37348   \n",
       "525071      Polk  1031080.0    VODKA 80 PROOF            380        37348   \n",
       "525072  Harrison  1011100.0  BLENDED WHISKIES            260        27554   \n",
       "525073      Polk  1081600.0   WHISKEY LIQUEUR            421        64866   \n",
       "\n",
       "                             Item Description  Bottle Volume (ml)  \\\n",
       "525069  Paul Masson Peach Grande Amber Brandy                 375   \n",
       "525070                         Phillips Vodka                1750   \n",
       "525071                         Phillips Vodka                1750   \n",
       "525072        Seagrams Seven Crown Dark Honey                 750   \n",
       "525073              Fireball Cinnamon Whiskey                 750   \n",
       "\n",
       "       State Bottle Cost State Bottle Retail  Bottles Sold Sale (Dollars)  \\\n",
       "525069             $3.22               $4.83            24        $115.92   \n",
       "525070             $7.60              $11.40             6         $68.40   \n",
       "525071             $7.60              $11.40             6         $68.40   \n",
       "525072             $7.00              $10.50             2         $21.00   \n",
       "525073             $8.98              $13.47            12        $161.64   \n",
       "\n",
       "        Volume Sold (Liters)  Volume Sold (Gallons)  year  \n",
       "525069                   9.0                   2.38  2015  \n",
       "525070                  10.5                   2.77  2015  \n",
       "525071                  10.5                   2.77  2015  \n",
       "525072                   1.5                   0.40  2015  \n",
       "525073                   9.0                   2.38  2015  "
      ]
     },
     "execution_count": 43,
     "metadata": {},
     "output_type": "execute_result"
    }
   ],
   "source": [
    "df2015 = df[df[\"year\"] == 2015]\n",
    "df2015.head()"
   ]
  },
  {
   "cell_type": "code",
   "execution_count": 44,
   "metadata": {
    "collapsed": false
   },
   "outputs": [
    {
     "data": {
      "text/html": [
       "<div>\n",
       "<table border=\"1\" class=\"dataframe\">\n",
       "  <thead>\n",
       "    <tr style=\"text-align: right;\">\n",
       "      <th></th>\n",
       "      <th>Store Number</th>\n",
       "      <th>County Number</th>\n",
       "      <th>Category</th>\n",
       "      <th>Vendor Number</th>\n",
       "      <th>Item Number</th>\n",
       "      <th>Bottle Volume (ml)</th>\n",
       "      <th>Bottles Sold</th>\n",
       "      <th>Volume Sold (Liters)</th>\n",
       "      <th>Volume Sold (Gallons)</th>\n",
       "      <th>year</th>\n",
       "    </tr>\n",
       "  </thead>\n",
       "  <tbody>\n",
       "    <tr>\n",
       "      <th>count</th>\n",
       "      <td>2.184483e+06</td>\n",
       "      <td>2.183364e+06</td>\n",
       "      <td>2.183710e+06</td>\n",
       "      <td>2.184483e+06</td>\n",
       "      <td>2.184483e+06</td>\n",
       "      <td>2.184483e+06</td>\n",
       "      <td>2.184483e+06</td>\n",
       "      <td>2.184483e+06</td>\n",
       "      <td>2.184483e+06</td>\n",
       "      <td>2184483.0</td>\n",
       "    </tr>\n",
       "    <tr>\n",
       "      <th>mean</th>\n",
       "      <td>3.578517e+03</td>\n",
       "      <td>5.719683e+01</td>\n",
       "      <td>1.044253e+06</td>\n",
       "      <td>2.559387e+02</td>\n",
       "      <td>4.596141e+04</td>\n",
       "      <td>9.248151e+02</td>\n",
       "      <td>9.875308e+00</td>\n",
       "      <td>8.980478e+00</td>\n",
       "      <td>2.372598e+00</td>\n",
       "      <td>2015.0</td>\n",
       "    </tr>\n",
       "    <tr>\n",
       "      <th>std</th>\n",
       "      <td>9.435823e+02</td>\n",
       "      <td>2.729248e+01</td>\n",
       "      <td>5.254551e+04</td>\n",
       "      <td>1.409934e+02</td>\n",
       "      <td>5.263435e+04</td>\n",
       "      <td>5.211457e+02</td>\n",
       "      <td>2.369368e+01</td>\n",
       "      <td>2.834942e+01</td>\n",
       "      <td>7.489113e+00</td>\n",
       "      <td>0.0</td>\n",
       "    </tr>\n",
       "    <tr>\n",
       "      <th>min</th>\n",
       "      <td>2.106000e+03</td>\n",
       "      <td>1.000000e+00</td>\n",
       "      <td>1.011100e+06</td>\n",
       "      <td>1.000000e+01</td>\n",
       "      <td>1.730000e+02</td>\n",
       "      <td>0.000000e+00</td>\n",
       "      <td>1.000000e+00</td>\n",
       "      <td>0.000000e+00</td>\n",
       "      <td>0.000000e+00</td>\n",
       "      <td>2015.0</td>\n",
       "    </tr>\n",
       "    <tr>\n",
       "      <th>25%</th>\n",
       "      <td>2.603000e+03</td>\n",
       "      <td>NaN</td>\n",
       "      <td>NaN</td>\n",
       "      <td>1.150000e+02</td>\n",
       "      <td>2.682800e+04</td>\n",
       "      <td>7.500000e+02</td>\n",
       "      <td>2.000000e+00</td>\n",
       "      <td>1.500000e+00</td>\n",
       "      <td>4.000000e-01</td>\n",
       "      <td>2015.0</td>\n",
       "    </tr>\n",
       "    <tr>\n",
       "      <th>50%</th>\n",
       "      <td>3.713000e+03</td>\n",
       "      <td>NaN</td>\n",
       "      <td>NaN</td>\n",
       "      <td>2.600000e+02</td>\n",
       "      <td>3.817600e+04</td>\n",
       "      <td>7.500000e+02</td>\n",
       "      <td>6.000000e+00</td>\n",
       "      <td>5.250000e+00</td>\n",
       "      <td>1.390000e+00</td>\n",
       "      <td>2015.0</td>\n",
       "    </tr>\n",
       "    <tr>\n",
       "      <th>75%</th>\n",
       "      <td>4.357000e+03</td>\n",
       "      <td>NaN</td>\n",
       "      <td>NaN</td>\n",
       "      <td>3.800000e+02</td>\n",
       "      <td>6.460100e+04</td>\n",
       "      <td>1.000000e+03</td>\n",
       "      <td>1.200000e+01</td>\n",
       "      <td>1.050000e+01</td>\n",
       "      <td>2.770000e+00</td>\n",
       "      <td>2015.0</td>\n",
       "    </tr>\n",
       "    <tr>\n",
       "      <th>max</th>\n",
       "      <td>9.023000e+03</td>\n",
       "      <td>9.900000e+01</td>\n",
       "      <td>1.701100e+06</td>\n",
       "      <td>9.780000e+02</td>\n",
       "      <td>9.992750e+05</td>\n",
       "      <td>1.800000e+05</td>\n",
       "      <td>3.960000e+03</td>\n",
       "      <td>3.960000e+03</td>\n",
       "      <td>1.046120e+03</td>\n",
       "      <td>2015.0</td>\n",
       "    </tr>\n",
       "  </tbody>\n",
       "</table>\n",
       "</div>"
      ],
      "text/plain": [
       "       Store Number  County Number      Category  Vendor Number   Item Number  \\\n",
       "count  2.184483e+06   2.183364e+06  2.183710e+06   2.184483e+06  2.184483e+06   \n",
       "mean   3.578517e+03   5.719683e+01  1.044253e+06   2.559387e+02  4.596141e+04   \n",
       "std    9.435823e+02   2.729248e+01  5.254551e+04   1.409934e+02  5.263435e+04   \n",
       "min    2.106000e+03   1.000000e+00  1.011100e+06   1.000000e+01  1.730000e+02   \n",
       "25%    2.603000e+03            NaN           NaN   1.150000e+02  2.682800e+04   \n",
       "50%    3.713000e+03            NaN           NaN   2.600000e+02  3.817600e+04   \n",
       "75%    4.357000e+03            NaN           NaN   3.800000e+02  6.460100e+04   \n",
       "max    9.023000e+03   9.900000e+01  1.701100e+06   9.780000e+02  9.992750e+05   \n",
       "\n",
       "       Bottle Volume (ml)  Bottles Sold  Volume Sold (Liters)  \\\n",
       "count        2.184483e+06  2.184483e+06          2.184483e+06   \n",
       "mean         9.248151e+02  9.875308e+00          8.980478e+00   \n",
       "std          5.211457e+02  2.369368e+01          2.834942e+01   \n",
       "min          0.000000e+00  1.000000e+00          0.000000e+00   \n",
       "25%          7.500000e+02  2.000000e+00          1.500000e+00   \n",
       "50%          7.500000e+02  6.000000e+00          5.250000e+00   \n",
       "75%          1.000000e+03  1.200000e+01          1.050000e+01   \n",
       "max          1.800000e+05  3.960000e+03          3.960000e+03   \n",
       "\n",
       "       Volume Sold (Gallons)       year  \n",
       "count           2.184483e+06  2184483.0  \n",
       "mean            2.372598e+00     2015.0  \n",
       "std             7.489113e+00        0.0  \n",
       "min             0.000000e+00     2015.0  \n",
       "25%             4.000000e-01     2015.0  \n",
       "50%             1.390000e+00     2015.0  \n",
       "75%             2.770000e+00     2015.0  \n",
       "max             1.046120e+03     2015.0  "
      ]
     },
     "execution_count": 44,
     "metadata": {},
     "output_type": "execute_result"
    }
   ],
   "source": [
    "df2015.describe()"
   ]
  },
  {
   "cell_type": "code",
   "execution_count": 45,
   "metadata": {
    "collapsed": false
   },
   "outputs": [
    {
     "data": {
      "text/plain": [
       "1375"
      ]
     },
     "execution_count": 45,
     "metadata": {},
     "output_type": "execute_result"
    }
   ],
   "source": [
    "df2015['Store Number'].unique().size"
   ]
  },
  {
   "cell_type": "code",
   "execution_count": 46,
   "metadata": {
    "collapsed": false
   },
   "outputs": [
    {
     "data": {
      "text/plain": [
       "147"
      ]
     },
     "execution_count": 46,
     "metadata": {},
     "output_type": "execute_result"
    }
   ],
   "source": [
    "df2015['Vendor Number'].unique().size"
   ]
  },
  {
   "cell_type": "code",
   "execution_count": 47,
   "metadata": {
    "collapsed": false
   },
   "outputs": [
    {
     "data": {
      "text/plain": [
       "3595"
      ]
     },
     "execution_count": 47,
     "metadata": {},
     "output_type": "execute_result"
    }
   ],
   "source": [
    "df2015['Item Number'].unique().size"
   ]
  },
  {
   "cell_type": "code",
   "execution_count": 48,
   "metadata": {
    "collapsed": false
   },
   "outputs": [
    {
     "data": {
      "text/plain": [
       "2740"
      ]
     },
     "execution_count": 48,
     "metadata": {},
     "output_type": "execute_result"
    }
   ],
   "source": [
    "df2015['Item Description'].unique().size"
   ]
  },
  {
   "cell_type": "code",
   "execution_count": 50,
   "metadata": {
    "collapsed": false
   },
   "outputs": [
    {
     "data": {
      "text/plain": [
       "<bound method Series.value_counts of 525069     3400\n",
       "525070     4165\n",
       "525071     4617\n",
       "525072     5089\n",
       "525073     4695\n",
       "525074     4374\n",
       "525075     4725\n",
       "525076     9002\n",
       "525077     4374\n",
       "525078     4725\n",
       "525079     4165\n",
       "525080     4617\n",
       "525081     4695\n",
       "525082     4169\n",
       "525083     5089\n",
       "525084     4617\n",
       "525085     4165\n",
       "525086     4169\n",
       "525087     9002\n",
       "525088     5089\n",
       "525089     4725\n",
       "525090     5089\n",
       "525091     4617\n",
       "525092     5089\n",
       "525093     4617\n",
       "525094     4165\n",
       "525095     5089\n",
       "525096     4617\n",
       "525097     4695\n",
       "525098     4617\n",
       "           ... \n",
       "2709522    2527\n",
       "2709523    3403\n",
       "2709524    4267\n",
       "2709525    4229\n",
       "2709526    4794\n",
       "2709527    2560\n",
       "2709528    2558\n",
       "2709529    2573\n",
       "2709530    4188\n",
       "2709531    2599\n",
       "2709532    3952\n",
       "2709533    3631\n",
       "2709534    3773\n",
       "2709535    2643\n",
       "2709536    2633\n",
       "2709537    2648\n",
       "2709538    2506\n",
       "2709539    4164\n",
       "2709540    4972\n",
       "2709541    3525\n",
       "2709542    4000\n",
       "2709543    2590\n",
       "2709544    3494\n",
       "2709545    3907\n",
       "2709546    2448\n",
       "2709547    4696\n",
       "2709548    2590\n",
       "2709549    3631\n",
       "2709550    2517\n",
       "2709551    2643\n",
       "Name: Store Number, dtype: int64>"
      ]
     },
     "execution_count": 50,
     "metadata": {},
     "output_type": "execute_result"
    }
   ],
   "source": [
    "df2015['Store Number'].value_counts"
   ]
  },
  {
   "cell_type": "markdown",
   "metadata": {},
   "source": [
    "Calculate the yearly liquor sales for each score using the provided data. You can add up the transactions for each year, and store sales in 2015 specifically will be used later as your target variable."
   ]
  },
  {
   "cell_type": "code",
   "execution_count": 52,
   "metadata": {
    "collapsed": false
   },
   "outputs": [
    {
     "data": {
      "text/plain": [
       "Store Number\n",
       "2106    $182.94$998.64$162.00$323.28$37.50$94.20$261.1...\n",
       "2113    $162.00$7.92$16.50$204.12$55.50$44.98$33.06$20...\n",
       "2130    $85.56$126.00$68.40$141.78$28.98$162.00$128.04...\n",
       "2152    $20.50$10.50$67.47$9.05$34.02$64.56$20.76$5.57...\n",
       "2178    $21.00$486.00$95.04$126.24$49.50$126.00$14.16$...\n",
       "2190    $22.50$97.49$113.28$806.40$49.49$106.50$30.00$...\n",
       "2191    $44.24$10.50$49.49$32.01$170.94$40.50$619.92$7...\n",
       "2200    $10.50$31.50$162.00$85.48$74.22$15.03$22.06$18...\n",
       "2205    $30.75$20.70$31.49$186.12$11.25$55.14$60.52$99...\n",
       "2228    $8.58$9.00$21.00$14.96$20.50$20.50$23.76$94.20...\n",
       "2233    $88.48$19.50$141.78$98.98$162.00$186.12$20.50$...\n",
       "2238    $99.18$58.38$33.00$99.00$233.76$80.16$77.28$15...\n",
       "2248    $265.44$85.50$113.28$332.88$296.94$35.50$21.39...\n",
       "2285    $180.00$225.00$85.56$513.72$81.00$72.72$144.00...\n",
       "2290    $22.50$60.98$44.24$10.35$15.74$45.00$18.90$45....\n",
       "2327    $21.39$47.26$11.03$15.76$40.41$54.24$34.89$27....\n",
       "2353    $68.96$28.52$22.50$33.76$33.00$100.76$144.00$2...\n",
       "2367    $96.72$30.39$243.84$252.00$64.80$240.78$67.26$...\n",
       "2413    $108.00$47.26$81.00$332.88$20.50$162.00$94.20$...\n",
       "2445    $60.98$47.26$15.03$32.64$21.00$9.25$204.12$44....\n",
       "2448    $34.48$31.48$40.50$27.28$14.26$12.00$10.11$72....\n",
       "2459    $206.88$20.50$21.00$55.50$16.50$26.04$55.50$49...\n",
       "2460    $265.44$62.96$22.50$593.88$60.72$67.83$62.98$1...\n",
       "2465    $21.75$44.24$49.49$95.04$128.43$94.20$39.36$89...\n",
       "2475    $63.78$94.47$46.53$37.77$60.72$690.00$40.50$73...\n",
       "2478    $72.00$94.47$216.96$144.00$269.88$396.72$143.0...\n",
       "2487    $136.68$162.00$7.13$67.26$11.81$15.00$48.48$9....\n",
       "2498    $27.66$42.68$13.50$11.03$11.21$67.50$11.21$59....\n",
       "2500    $8.58$21.39$21.75$21.00$47.22$136.80$15.00$20....\n",
       "2501    $28.52$65.25$31.50$57.00$135.00$126.00$60.00$9...\n",
       "                              ...                        \n",
       "5182    $30.06$60.72$45.00$45.00$35.28$20.40$64.80$135...\n",
       "5183    $161.64$188.40$179.16$81.60$125.28$104.04$207....\n",
       "5185    $124.20$72.00$106.56$63.00$22.06$42.78$18.48$2...\n",
       "5186    $26.64$31.50$63.00$27.66$103.44$94.20$161.64$6...\n",
       "5187    $141.78$42.52$341.88$341.88$84.60$84.60$94.20$...\n",
       "5188    $60.12$94.20$69.78$188.88$21.00$242.88$64.32$1...\n",
       "5189    $206.88$302.28$188.88$106.20$225.00$67.26$100....\n",
       "5190    $53.82$47.22$94.20$64.56$62.00$271.32$60.72$67...\n",
       "5191    $144.00$66.84$182.88$180.00$81.60$148.56$60.72...\n",
       "5192    $30.06$121.44$90.00$135.00$64.56$90.00$48.42$8...\n",
       "5193    $15.75$55.32$31.50$94.20$67.83$67.83$47.22$18....\n",
       "5196    $44.96$13.66$41.40$64.32$81.45$63.78$22.50$20....\n",
       "5198    $43.50$68.96$10.50$24.00$21.00$29.98$10.68$7.5...\n",
       "5199    $5.57$11.21$11.03$89.58$14.24$9.45$9.45$19.50$...\n",
       "5201    $34.50$22.42$36.48$75.00$64.56$22.42$14.14$75....\n",
       "5203    $67.83$54.24$204.12$119.40$333.00$188.88$7.20$...\n",
       "5204    $14.70$170.94$26.94$15.00$15.00$11.64$16.00$17...\n",
       "5205    $34.48$9.75$45.00$33.06$17.24$17.24$89.58$12.0...\n",
       "5206    $31.48$94.20$119.96$20.88$60.76$129.12$75.24$5...\n",
       "5207    $21.00$22.80$12.00$12.39$45.22$10.50$39.96$19....\n",
       "5212    $161.64$40.08$62.10$135.66$40.44$103.44$36.48$...\n",
       "5213    $70.56$8.88$52.50$180.00$72.00$44.04$74.40$66....\n",
       "5215    $182.94$27.28$74.22$24.78$18.00$202.50$20.22$4...\n",
       "9001    $630.00$810.00$337.56$396.18$1200.60$622.50$13...\n",
       "9002    $2265.60$6226.08$327.36$252.36$366.24$648.00$8...\n",
       "9010    $239.28$354.96$239.28$108.00$354.96$152.16$177...\n",
       "9013    $982.08$328.68$328.68$540.00$129.24$348.48$432...\n",
       "9018                             $8100.00$7290.00$6435.00\n",
       "9022                                             $3992.10\n",
       "9023    $633.36$633.36$633.36$633.36$633.36$2216.76$31...\n",
       "Name: Sale (Dollars), dtype: object"
      ]
     },
     "execution_count": 52,
     "metadata": {},
     "output_type": "execute_result"
    }
   ],
   "source": [
    "df2015.pivot_table(values=\"Sale (Dollars)\", index=\"Store Number\", columns=None, aggfunc='sum', fill_value=None, margins=False, dropna=True, margins_name='All')"
   ]
  },
  {
   "cell_type": "code",
   "execution_count": 58,
   "metadata": {
    "collapsed": false
   },
   "outputs": [
    {
     "data": {
      "text/plain": [
       "525069    $115.92\n",
       "525070     $68.40\n",
       "525071     $68.40\n",
       "525072     $21.00\n",
       "525073    $161.64\n",
       "Name: Sale (Dollars), dtype: object"
      ]
     },
     "execution_count": 58,
     "metadata": {},
     "output_type": "execute_result"
    }
   ],
   "source": [
    "df2015[\"Sale (Dollars)\"].head()"
   ]
  },
  {
   "cell_type": "code",
   "execution_count": 59,
   "metadata": {
    "collapsed": false
   },
   "outputs": [
    {
     "name": "stderr",
     "output_type": "stream",
     "text": [
      "/Users/Marat/anaconda/lib/python2.7/site-packages/ipykernel/__main__.py:1: SettingWithCopyWarning: \n",
      "A value is trying to be set on a copy of a slice from a DataFrame.\n",
      "Try using .loc[row_indexer,col_indexer] = value instead\n",
      "\n",
      "See the caveats in the documentation: http://pandas.pydata.org/pandas-docs/stable/indexing.html#indexing-view-versus-copy\n",
      "  if __name__ == '__main__':\n"
     ]
    },
    {
     "data": {
      "text/plain": [
       "525069    115.92\n",
       "525070     68.40\n",
       "525071     68.40\n",
       "525072     21.00\n",
       "525073    161.64\n",
       "Name: Sale (Dollars), dtype: object"
      ]
     },
     "execution_count": 59,
     "metadata": {},
     "output_type": "execute_result"
    }
   ],
   "source": [
    "df2015[\"Sale (Dollars)\"] = df2015[\"Sale (Dollars)\"].apply(lambda x: str.lstrip(x,'$'))\n",
    "df2015[\"Sale (Dollars)\"].head()"
   ]
  },
  {
   "cell_type": "code",
   "execution_count": 60,
   "metadata": {
    "collapsed": false
   },
   "outputs": [
    {
     "name": "stderr",
     "output_type": "stream",
     "text": [
      "/Users/Marat/anaconda/lib/python2.7/site-packages/ipykernel/__main__.py:1: SettingWithCopyWarning: \n",
      "A value is trying to be set on a copy of a slice from a DataFrame.\n",
      "Try using .loc[row_indexer,col_indexer] = value instead\n",
      "\n",
      "See the caveats in the documentation: http://pandas.pydata.org/pandas-docs/stable/indexing.html#indexing-view-versus-copy\n",
      "  if __name__ == '__main__':\n"
     ]
    },
    {
     "data": {
      "text/plain": [
       "525069    115.92\n",
       "525070     68.40\n",
       "525071     68.40\n",
       "525072     21.00\n",
       "525073    161.64\n",
       "Name: Sale (Dollars), dtype: float64"
      ]
     },
     "execution_count": 60,
     "metadata": {},
     "output_type": "execute_result"
    }
   ],
   "source": [
    "df2015[\"Sale (Dollars)\"] = df2015[\"Sale (Dollars)\"].apply(lambda x: float(x))\n",
    "df2015[\"Sale (Dollars)\"].head()"
   ]
  },
  {
   "cell_type": "code",
   "execution_count": 61,
   "metadata": {
    "collapsed": false
   },
   "outputs": [
    {
     "data": {
      "text/plain": [
       "Store Number\n",
       "2106    1434369.85\n",
       "2113      85763.42\n",
       "2130    1108184.99\n",
       "2152      72080.36\n",
       "2178     277987.96\n",
       "2190    1228571.74\n",
       "2191    1275911.76\n",
       "2200     223914.99\n",
       "2205     231651.87\n",
       "2228     188879.70\n",
       "2233     316855.05\n",
       "2238     105128.53\n",
       "2248     659358.37\n",
       "2285     777551.65\n",
       "2290     550217.80\n",
       "2327     100596.80\n",
       "2353     486276.63\n",
       "2367      65149.11\n",
       "2413     836101.13\n",
       "2445      71682.86\n",
       "2448     203168.88\n",
       "2459      79026.65\n",
       "2460     301765.14\n",
       "2465     264728.41\n",
       "2475     121763.29\n",
       "2478     198550.40\n",
       "2487     293643.02\n",
       "2498      27453.07\n",
       "2500    1355085.92\n",
       "2501    1379036.74\n",
       "           ...    \n",
       "5182      25096.50\n",
       "5183       8169.67\n",
       "5185      12463.70\n",
       "5186       4323.40\n",
       "5187      39085.29\n",
       "5188      14610.32\n",
       "5189      13794.18\n",
       "5190       8678.36\n",
       "5191       4141.35\n",
       "5192       2774.64\n",
       "5193       2600.64\n",
       "5196       8890.73\n",
       "5198      36276.74\n",
       "5199      15195.32\n",
       "5201       2791.80\n",
       "5203       9959.70\n",
       "5204      10138.49\n",
       "5205       1656.03\n",
       "5206       6905.69\n",
       "5207      30359.21\n",
       "5212       5723.57\n",
       "5213        679.98\n",
       "5215       3169.50\n",
       "9001     191820.12\n",
       "9002     327676.62\n",
       "9010      26209.38\n",
       "9013      30957.66\n",
       "9018      21825.00\n",
       "9022       3992.10\n",
       "9023       8550.36\n",
       "Name: Sale (Dollars), dtype: float64"
      ]
     },
     "execution_count": 61,
     "metadata": {},
     "output_type": "execute_result"
    }
   ],
   "source": [
    "pivot_store_sum = df2015.pivot_table(values=\"Sale (Dollars)\", index=\"Store Number\", columns=None, aggfunc='sum', )"
   ]
  },
  {
   "cell_type": "code",
   "execution_count": null,
   "metadata": {
    "collapsed": true
   },
   "outputs": [],
   "source": []
  },
  {
   "cell_type": "markdown",
   "metadata": {},
   "source": [
    "# Explore the data\n",
    "\n",
    "Perform some exploratory statistical analysis and make some plots, such as histograms of transaction totals, bottles sold, etc."
   ]
  },
  {
   "cell_type": "code",
   "execution_count": 4,
   "metadata": {
    "collapsed": true
   },
   "outputs": [],
   "source": [
    "import seaborn as sns\n",
    "import matplotlib.pyplot as plt"
   ]
  },
  {
   "cell_type": "markdown",
   "metadata": {},
   "source": [
    "## Record your findings\n",
    "\n",
    "Be sure to write out anything observations from your exploratory analysis."
   ]
  },
  {
   "cell_type": "markdown",
   "metadata": {},
   "source": [
    "# Mine the data\n",
    "Now you are ready to compute the variables you will use for your regression from the data. For example, you may want to\n",
    "compute total sales per store from Jan to March of 2015, mean price per bottle, etc. Refer to the readme for more ideas appropriate to your scenario.\n",
    "\n",
    "Pandas is your friend for this task. Take a look at the operations [here](http://pandas.pydata.org/pandas-docs/stable/groupby.html) for ideas on how to make the best use of pandas and feel free to search for blog and Stack Overflow posts to help you group data by certain variables and compute sums, means, etc. You may find it useful to create a new data frame to house this summary data."
   ]
  },
  {
   "cell_type": "markdown",
   "metadata": {},
   "source": [
    "# Refine the data\n",
    "Look for any statistical relationships, correlations, or other relevant properties of the dataset."
   ]
  },
  {
   "cell_type": "code",
   "execution_count": null,
   "metadata": {
    "collapsed": true
   },
   "outputs": [],
   "source": []
  },
  {
   "cell_type": "markdown",
   "metadata": {},
   "source": [
    "# Build your models\n",
    "\n",
    "Using scikit-learn or statsmodels, build the necessary models for your scenario. Evaluate model fit."
   ]
  },
  {
   "cell_type": "code",
   "execution_count": 6,
   "metadata": {
    "collapsed": true
   },
   "outputs": [],
   "source": [
    "from sklearn import linear_model\n"
   ]
  },
  {
   "cell_type": "markdown",
   "metadata": {},
   "source": [
    "## Plot your results\n",
    "\n",
    "Again make sure that you record any valuable information. For example, in the tax scenario, did you find the sales from the first three months of the year to be a good predictor of the total sales for the year? Plot the predictions versus the true values and discuss the successes and limitations of your models"
   ]
  },
  {
   "cell_type": "code",
   "execution_count": null,
   "metadata": {
    "collapsed": true
   },
   "outputs": [],
   "source": []
  },
  {
   "cell_type": "markdown",
   "metadata": {},
   "source": [
    "# Present the Results\n",
    "\n",
    "Present your conclusions and results. If you have more than one interesting model feel free to include more than one along with a discussion. Use your work in this notebook to prepare your write-up."
   ]
  },
  {
   "cell_type": "code",
   "execution_count": null,
   "metadata": {
    "collapsed": true
   },
   "outputs": [],
   "source": []
  }
 ],
 "metadata": {
  "anaconda-cloud": {},
  "kernelspec": {
   "display_name": "Python [default]",
   "language": "python",
   "name": "python2"
  },
  "language_info": {
   "codemirror_mode": {
    "name": "ipython",
    "version": 2
   },
   "file_extension": ".py",
   "mimetype": "text/x-python",
   "name": "python",
   "nbconvert_exporter": "python",
   "pygments_lexer": "ipython2",
   "version": "2.7.12"
  }
 },
 "nbformat": 4,
 "nbformat_minor": 0
}
