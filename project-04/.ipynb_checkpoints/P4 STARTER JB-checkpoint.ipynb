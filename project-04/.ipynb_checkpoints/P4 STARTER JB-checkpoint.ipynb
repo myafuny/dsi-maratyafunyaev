{
 "cells": [
  {
   "cell_type": "markdown",
   "metadata": {
    "focus": false,
    "id": "cc166dbc-d723-4076-8dd8-a290d911dc9b"
   },
   "source": [
    "# Project 4: Web Scraping Indeed.com & Predicting Salaries"
   ]
  },
  {
   "cell_type": "markdown",
   "metadata": {
    "focus": false,
    "id": "59b0deac-55d6-4908-8dee-ce68611486f0"
   },
   "source": [
    "In Project 4, we practice two major skills: collecting data via  web scraping and building a binary predictor with Logistic Regression.\n",
    "\n",
    "We will collect salary information on data science jobs in a variety of markets. Using location, title, and job summary, we'll predict the salary of the job. For job posting sites, this is extraordinarily useful. While most listings DO NOT come with salary information (as you will see in this exercise), extrapolating expected salary can help guide negotiations.\n",
    "\n",
    "Normally, we can use regression for this task; however, we will convert this problem into classification and use Logistic Regression.\n",
    "\n",
    "- Q: Why would we want this to be a classification problem?\n",
    "- A: While more precision may be better, there is a fair amount of natural variance in job salaries - predicting a range be may be useful.\n",
    "\n",
    "Section one focuses on scraping Indeed.com; then we use listings with salary information to build a model and predict additional salaries."
   ]
  },
  {
   "cell_type": "markdown",
   "metadata": {
    "focus": false,
    "id": "1321e3c4-2105-428e-9b1b-6d958453ef1d"
   },
   "source": [
    "### Scraping job listings from Indeed.com"
   ]
  },
  {
   "cell_type": "markdown",
   "metadata": {
    "focus": false,
    "id": "9d959074-bf26-4000-b0da-11273e253776"
   },
   "source": [
    "Scrape job listings from Indeed.com using BeautifulSoup. Luckily, Indeed.com is a simple text page where we can easily find relevant entries. First, look at the source of an Indeed.com page: (http://www.indeed.com/jobs?q=data+scientist+%2420%2C000&l=New+York&start=10\")\n",
    "\n",
    "Notice, each job listing is underneath a `div` tag with a class name of `result`. We can use BeautifulSoup to extract."
   ]
  },
  {
   "cell_type": "markdown",
   "metadata": {
    "focus": false,
    "id": "d9f7b5d1-b227-4bda-a87b-1606b62fb60b"
   },
   "source": [
    "#### Setup a request (using `requests`) to the URL below. Use BeautifulSoup to parse the page and extract all results (HINT: Look for div tags with class name result)\n",
    "\n",
    "The URL here has many query parameters\n",
    "\n",
    "- `q` for the job search\n",
    "- This is followed by \"+20,000\" to return results with salaries (or expected salaries >$20,000)\n",
    "- `l` for a location \n",
    "- `start` for what result number to start on"
   ]
  },
  {
   "cell_type": "code",
   "execution_count": 49,
   "metadata": {
    "collapsed": false,
    "focus": false,
    "id": "911505d6-159f-4146-967d-a8482fe27e3d"
   },
   "outputs": [],
   "source": [
    "URL = 'http://www.indeed.com/jobs?q=data+scientist+$20,000&l=New+York&start=10'"
   ]
  },
  {
   "cell_type": "code",
   "execution_count": 227,
   "metadata": {
    "collapsed": true
   },
   "outputs": [],
   "source": [
    "import numpy as np\n",
    "import pandas as pd\n",
    "import math"
   ]
  },
  {
   "cell_type": "code",
   "execution_count": 51,
   "metadata": {
    "collapsed": true,
    "focus": false,
    "id": "78446809-fa02-48df-b60f-cbeda175a498"
   },
   "outputs": [],
   "source": [
    "import requests\n",
    "import bs4\n",
    "from bs4 import BeautifulSoup"
   ]
  },
  {
   "cell_type": "code",
   "execution_count": 110,
   "metadata": {
    "collapsed": true
   },
   "outputs": [],
   "source": [
    "# Extend the visibility in Jupyter notebook\n",
    "pd.set_option('display.max_rows', 500)\n",
    "pd.set_option('display.max_columns', 500)"
   ]
  },
  {
   "cell_type": "code",
   "execution_count": 52,
   "metadata": {
    "collapsed": false,
    "focus": false,
    "id": "c8846f3e-42a5-4714-9784-fb5d6a28524b"
   },
   "outputs": [],
   "source": [
    "# read site in soup\n",
    "r = requests.get(URL)\n",
    "soup = BeautifulSoup(r.content, \"lxml\")\n",
    "\n",
    "# Append to the full set of results\n",
    "results = soup.findAll('div', { \"class\" : \"result\" })\n"
   ]
  },
  {
   "cell_type": "code",
   "execution_count": null,
   "metadata": {
    "collapsed": false
   },
   "outputs": [],
   "source": []
  },
  {
   "cell_type": "markdown",
   "metadata": {
    "focus": false,
    "id": "963bb376-7746-43ce-98ec-ea4162f7ead6"
   },
   "source": [
    "Let's look at one result more closely. A single `result` looks like\n",
    "\n",
    "```\n",
    "<div class=\" row result\" data-jk=\"2480d203f7e97210\" data-tn-component=\"organicJob\" id=\"p_2480d203f7e97210\" itemscope=\"\" itemtype=\"http://schema.org/JobPosting\">\n",
    "<h2 class=\"jobtitle\" id=\"jl_2480d203f7e97210\">\n",
    "<a class=\"turnstileLink\" data-tn-element=\"jobTitle\" onmousedown=\"return rclk(this,jobmap[0],1);\" rel=\"nofollow\" target=\"_blank\" title=\"AVP/Quantitative Analyst\">AVP/Quantitative Analyst</a>\n",
    "</h2>\n",
    "<span class=\"company\" itemprop=\"hiringOrganization\" itemtype=\"http://schema.org/Organization\">\n",
    "<span itemprop=\"name\">\n",
    "<a href=\"/cmp/Alliancebernstein?from=SERP&amp;campaignid=serp-linkcompanyname&amp;fromjk=2480d203f7e97210&amp;jcid=b374f2a780e04789\" target=\"_blank\">\n",
    "    AllianceBernstein</a></span>\n",
    "</span>\n",
    "<tr>\n",
    "<td class=\"snip\">\n",
    "<nobr>$117,500 - $127,500 a year</nobr>\n",
    "<div>\n",
    "<span class=\"summary\" itemprop=\"description\">\n",
    "C onduct quantitative and statistical research as well as portfolio management for various investment portfolios. Collaborate with Quantitative Analysts and</span>\n",
    "</div>\n",
    "</div>\n",
    "</td>\n",
    "</tr>\n",
    "</table>\n",
    "</div>\n",
    "```\n",
    "\n",
    "While this has some of the more verbose elements removed, we can see that there is some structure to the above:\n",
    "- The salary is available in a `nobr` element inside of a `td` element with `class='snip`.\n",
    "- The title of a job is in a link with class set to `jobtitle` and a `data-tn-element=\"jobTitle`.  \n",
    "- The location is set in a `span` with `class='location'`. \n",
    "- The company is set in a `span` with `class='company'`. "
   ]
  },
  {
   "cell_type": "markdown",
   "metadata": {
    "focus": false,
    "id": "27b6ffb9-b42f-4298-b07a-10e3bab030cd"
   },
   "source": [
    "### Write 4 functions to extract each item: location, company, job, and salary.\n",
    "\n",
    "example: \n",
    "```python\n",
    "def extract_location_from_result(result):\n",
    "    return result.find ...\n",
    "```\n",
    "\n",
    "- Make sure these functions are robust and can handle cases where the data/field may not be available\n",
    "- Test the functions on the results above"
   ]
  },
  {
   "cell_type": "code",
   "execution_count": 53,
   "metadata": {
    "collapsed": true,
    "focus": false,
    "id": "f4b0755f-42e1-438f-89fc-131a60b781cd"
   },
   "outputs": [],
   "source": [
    "# get text\n",
    "def extract_text(el):\n",
    "    if el:\n",
    "        return el.text.strip()\n",
    "    else:\n",
    "        return ''\n",
    "        \n",
    "# company\n",
    "def get_company_from_result(result):\n",
    "    return extract_text(result.find('span', {'class' : 'company'}))\n",
    "\n",
    "# location\n",
    "def get_location_from_result(result):\n",
    "    return extract_text(result.find('span', {'class' : 'location'}))\n",
    "\n",
    "# summary\n",
    "def get_summary_from_result(result):\n",
    "    return extract_text(result.find('span', {'class' : 'summary'}))\n",
    "\n",
    "# title\n",
    "def get_title_from_result(result):\n",
    "    return extract_text(result.find('a', {'data-tn-element' : 'jobTitle'}))\n",
    "\n",
    "# get salary if exists\n",
    "def get_salary_from_result(result):\n",
    "    salary_table = result.find('td', {'class' : 'snip'})\n",
    "    if salary_table:\n",
    "        snip = salary_table.find('nobr')\n",
    "        if snip:\n",
    "            return snip.text.strip()   \n",
    "    return None"
   ]
  },
  {
   "cell_type": "code",
   "execution_count": null,
   "metadata": {
    "collapsed": false
   },
   "outputs": [],
   "source": []
  },
  {
   "cell_type": "markdown",
   "metadata": {
    "focus": false,
    "id": "dc1d32a3-b13c-4919-8723-ce50dbc7660f"
   },
   "source": [
    "Now, to scale up our scraping, we need to accumulate more results. We can do this by examining the URL above.\n",
    "\n",
    "- \"http://www.indeed.com/jobs?q=data+scientist+%2420%2C000&l=New+York&start=10\"\n",
    "\n",
    "There are two query parameters here we can alter to collect more results: the `l=New+York` and the `start=10`. The first controls the location of the results (so we can try different city). The second controls where in the results to start and gives 10 results (so we can keep incrementing this by 10 to move further within the list)."
   ]
  },
  {
   "cell_type": "markdown",
   "metadata": {
    "focus": false,
    "id": "27584c3f-f552-40a2-842a-0681b1fd6265"
   },
   "source": [
    "#### Complete the following code to collect results from multiple cities and start points. \n",
    "- Enter your city below to add it to the search\n",
    "- Remember to convert your salary to U.S. Dollars to match the other cities if the currency is different"
   ]
  },
  {
   "cell_type": "code",
   "execution_count": 127,
   "metadata": {
    "collapsed": false,
    "focus": false,
    "id": "b02e2931-4d5a-4e1e-9504-c6ccaaf84bed"
   },
   "outputs": [],
   "source": [
    "# create template URL and max number of results (pages) to pull\n",
    "url_template = \"http://www.indeed.com/jobs?q=data+scientist+%2420%2C000&l={}&start={}\"\n",
    "\n",
    "cities = ['Atlanta','San+Jose','San+Francisco','Los+Angeles','Seattle','New+York','Dallas','Chicago','Boston','silicon+valley']\n",
    "\n",
    "\n",
    "# for loop to pull data with bs4\n",
    "for city in cities:\n",
    "    for start in range(0,2000,10):\n",
    "        r = requests.get(url_template.format(city, start))\n",
    "        # Grab the results from the request (as above)\n",
    "        soup = BeautifulSoup(r.content, \"lxml\")\n",
    "        # Append to the full set of results\n",
    "        results += soup.findAll('div', { \"class\" : \"result\" })"
   ]
  },
  {
   "cell_type": "markdown",
   "metadata": {
    "focus": false,
    "id": "10eb5902-4727-4947-a167-2531aa12a427"
   },
   "source": [
    "#### Use the functions you wrote above to parse out the 4 fields - location, title, company and salary. Create a dataframe from the results with those 4 columns."
   ]
  },
  {
   "cell_type": "code",
   "execution_count": 128,
   "metadata": {
    "collapsed": false
   },
   "outputs": [
    {
     "data": {
      "text/html": [
       "<div>\n",
       "<table border=\"1\" class=\"dataframe\">\n",
       "  <thead>\n",
       "    <tr style=\"text-align: right;\">\n",
       "      <th></th>\n",
       "      <th>Company</th>\n",
       "      <th>Location</th>\n",
       "      <th>Salary</th>\n",
       "      <th>Summary</th>\n",
       "      <th>Title</th>\n",
       "    </tr>\n",
       "  </thead>\n",
       "  <tbody>\n",
       "    <tr>\n",
       "      <th>0</th>\n",
       "      <td>Aetna</td>\n",
       "      <td>New York, NY 10017</td>\n",
       "      <td>None</td>\n",
       "      <td>We are currently looking for an exceptional Se...</td>\n",
       "      <td>Senior Data Scientist Manager</td>\n",
       "    </tr>\n",
       "    <tr>\n",
       "      <th>1</th>\n",
       "      <td>Indeed</td>\n",
       "      <td>New York, NY 10036</td>\n",
       "      <td>None</td>\n",
       "      <td>Work closely with stakeholders on the data dem...</td>\n",
       "      <td>Data Engineer</td>\n",
       "    </tr>\n",
       "    <tr>\n",
       "      <th>2</th>\n",
       "      <td>WorkFusion</td>\n",
       "      <td>New York, NY</td>\n",
       "      <td>None</td>\n",
       "      <td>We are looking for a data scientist to join ou...</td>\n",
       "      <td>Deep Learning Data Scientist</td>\n",
       "    </tr>\n",
       "    <tr>\n",
       "      <th>3</th>\n",
       "      <td>PulsePoint</td>\n",
       "      <td>New York, NY</td>\n",
       "      <td>None</td>\n",
       "      <td>3+ Years as a Data Scientist, preferable in th...</td>\n",
       "      <td>Sr. Data Scientist</td>\n",
       "    </tr>\n",
       "    <tr>\n",
       "      <th>4</th>\n",
       "      <td>AIG</td>\n",
       "      <td>New York, NY</td>\n",
       "      <td>None</td>\n",
       "      <td>AIG is seeking world-class dynamic Data Scient...</td>\n",
       "      <td>Senior Investments Data Scientist</td>\n",
       "    </tr>\n",
       "  </tbody>\n",
       "</table>\n",
       "</div>"
      ],
      "text/plain": [
       "      Company            Location Salary  \\\n",
       "0       Aetna  New York, NY 10017   None   \n",
       "1      Indeed  New York, NY 10036   None   \n",
       "2  WorkFusion        New York, NY   None   \n",
       "3  PulsePoint        New York, NY   None   \n",
       "4         AIG        New York, NY   None   \n",
       "\n",
       "                                             Summary  \\\n",
       "0  We are currently looking for an exceptional Se...   \n",
       "1  Work closely with stakeholders on the data dem...   \n",
       "2  We are looking for a data scientist to join ou...   \n",
       "3  3+ Years as a Data Scientist, preferable in th...   \n",
       "4  AIG is seeking world-class dynamic Data Scient...   \n",
       "\n",
       "                               Title  \n",
       "0      Senior Data Scientist Manager  \n",
       "1                      Data Engineer  \n",
       "2       Deep Learning Data Scientist  \n",
       "3                 Sr. Data Scientist  \n",
       "4  Senior Investments Data Scientist  "
      ]
     },
     "execution_count": 128,
     "metadata": {},
     "output_type": "execute_result"
    }
   ],
   "source": [
    "df = pd.DataFrame()\n",
    "\n",
    "for result in results:\n",
    "    company_ = get_company_from_result(result)\n",
    "    location_ = get_location_from_result(result)\n",
    "    summary_ = get_summary_from_result(result)\n",
    "    title_ = get_title_from_result(result)\n",
    "    salary_ = get_salary_from_result(result)\n",
    "    \n",
    "    df= df.append({\"Company\":company_,\"Location\":location_,\"Summary\":summary_,\"Title\":title_,\"Salary\":salary_},ignore_index=True)\n",
    "    \n",
    "df.head()"
   ]
  },
  {
   "cell_type": "markdown",
   "metadata": {
    "focus": false,
    "id": "faac26dc-392a-4f90-a397-144a070702cb"
   },
   "source": [
    "Lastly, we need to clean up salary data. \n",
    "\n",
    "1. Only a small number of the scraped results have salary information - only these will be used for modeling.\n",
    "1. Some of the salaries are not yearly but hourly or weekly, these will not be useful to us for now\n",
    "1. Some of the entries may be duplicated\n",
    "1. The salaries are given as text and usually with ranges.\n",
    "\n",
    "#### Find the entries with annual salary entries, by filtering the entries without salaries or salaries that are not yearly (filter those that refer to hour or week). Also, remove duplicate entries"
   ]
  },
  {
   "cell_type": "code",
   "execution_count": 129,
   "metadata": {
    "collapsed": false
   },
   "outputs": [
    {
     "name": "stdout",
     "output_type": "stream",
     "text": [
      "(78792, 5)\n"
     ]
    }
   ],
   "source": [
    "print df.shape"
   ]
  },
  {
   "cell_type": "code",
   "execution_count": 130,
   "metadata": {
    "collapsed": false
   },
   "outputs": [
    {
     "data": {
      "text/plain": [
       "(7224, 5)"
      ]
     },
     "execution_count": 130,
     "metadata": {},
     "output_type": "execute_result"
    }
   ],
   "source": [
    "df.drop_duplicates(inplace=True)\n",
    "df.shape"
   ]
  },
  {
   "cell_type": "code",
   "execution_count": 132,
   "metadata": {
    "collapsed": false
   },
   "outputs": [
    {
     "name": "stdout",
     "output_type": "stream",
     "text": [
      "The number of null values in the Salary column is:  6771  out of  7224\n"
     ]
    }
   ],
   "source": [
    "print \"The number of null values in the Salary column is: \",df[\"Salary\"].isnull().sum(),\" out of \",df.shape[0]"
   ]
  },
  {
   "cell_type": "code",
   "execution_count": 133,
   "metadata": {
    "collapsed": false
   },
   "outputs": [
    {
     "data": {
      "text/html": [
       "<div>\n",
       "<table border=\"1\" class=\"dataframe\">\n",
       "  <thead>\n",
       "    <tr style=\"text-align: right;\">\n",
       "      <th></th>\n",
       "      <th>Company</th>\n",
       "      <th>Location</th>\n",
       "      <th>Salary</th>\n",
       "      <th>Summary</th>\n",
       "      <th>Title</th>\n",
       "    </tr>\n",
       "  </thead>\n",
       "  <tbody>\n",
       "    <tr>\n",
       "      <th>0</th>\n",
       "      <td>Aetna</td>\n",
       "      <td>New York, NY 10017</td>\n",
       "      <td>None</td>\n",
       "      <td>We are currently looking for an exceptional Se...</td>\n",
       "      <td>Senior Data Scientist Manager</td>\n",
       "    </tr>\n",
       "    <tr>\n",
       "      <th>1</th>\n",
       "      <td>Indeed</td>\n",
       "      <td>New York, NY 10036</td>\n",
       "      <td>None</td>\n",
       "      <td>Work closely with stakeholders on the data dem...</td>\n",
       "      <td>Data Engineer</td>\n",
       "    </tr>\n",
       "    <tr>\n",
       "      <th>2</th>\n",
       "      <td>WorkFusion</td>\n",
       "      <td>New York, NY</td>\n",
       "      <td>None</td>\n",
       "      <td>We are looking for a data scientist to join ou...</td>\n",
       "      <td>Deep Learning Data Scientist</td>\n",
       "    </tr>\n",
       "    <tr>\n",
       "      <th>3</th>\n",
       "      <td>PulsePoint</td>\n",
       "      <td>New York, NY</td>\n",
       "      <td>None</td>\n",
       "      <td>3+ Years as a Data Scientist, preferable in th...</td>\n",
       "      <td>Sr. Data Scientist</td>\n",
       "    </tr>\n",
       "    <tr>\n",
       "      <th>4</th>\n",
       "      <td>AIG</td>\n",
       "      <td>New York, NY</td>\n",
       "      <td>None</td>\n",
       "      <td>AIG is seeking world-class dynamic Data Scient...</td>\n",
       "      <td>Senior Investments Data Scientist</td>\n",
       "    </tr>\n",
       "  </tbody>\n",
       "</table>\n",
       "</div>"
      ],
      "text/plain": [
       "      Company            Location Salary  \\\n",
       "0       Aetna  New York, NY 10017   None   \n",
       "1      Indeed  New York, NY 10036   None   \n",
       "2  WorkFusion        New York, NY   None   \n",
       "3  PulsePoint        New York, NY   None   \n",
       "4         AIG        New York, NY   None   \n",
       "\n",
       "                                             Summary  \\\n",
       "0  We are currently looking for an exceptional Se...   \n",
       "1  Work closely with stakeholders on the data dem...   \n",
       "2  We are looking for a data scientist to join ou...   \n",
       "3  3+ Years as a Data Scientist, preferable in th...   \n",
       "4  AIG is seeking world-class dynamic Data Scient...   \n",
       "\n",
       "                               Title  \n",
       "0      Senior Data Scientist Manager  \n",
       "1                      Data Engineer  \n",
       "2       Deep Learning Data Scientist  \n",
       "3                 Sr. Data Scientist  \n",
       "4  Senior Investments Data Scientist  "
      ]
     },
     "execution_count": 133,
     "metadata": {},
     "output_type": "execute_result"
    }
   ],
   "source": [
    "df_no_salary = df[df[\"Salary\"].isnull()].copy()\n",
    "df_no_salary.head()"
   ]
  },
  {
   "cell_type": "code",
   "execution_count": 134,
   "metadata": {
    "collapsed": true
   },
   "outputs": [],
   "source": [
    "df.dropna(inplace=True)"
   ]
  },
  {
   "cell_type": "code",
   "execution_count": 135,
   "metadata": {
    "collapsed": false
   },
   "outputs": [
    {
     "data": {
      "text/plain": [
       "(453, 5)"
      ]
     },
     "execution_count": 135,
     "metadata": {},
     "output_type": "execute_result"
    }
   ],
   "source": [
    "df.shape"
   ]
  },
  {
   "cell_type": "code",
   "execution_count": 136,
   "metadata": {
    "collapsed": false,
    "scrolled": true
   },
   "outputs": [
    {
     "data": {
      "text/plain": [
       "$120,000 a year               10\n",
       "$180,000 a year                8\n",
       "$150,000 - $180,000 a year     8\n",
       "$140,000 a year                7\n",
       "$200,000 a year                7\n",
       "$100,000 a year                7\n",
       "$150,000 - $200,000 a year     6\n",
       "$120,000 - $150,000 a year     6\n",
       "$150,000 - $170,000 a year     6\n",
       "$160,000 a year                6\n",
       "$59,708 - $72,246 a year       6\n",
       "$110,000 a year                5\n",
       "$68,239 - $85,644 a year       5\n",
       "$140,000 - $160,000 a year     5\n",
       "$130,000 a year                5\n",
       "$50,000 a year                 5\n",
       "$70,286 - $88,213 a year       5\n",
       "$100,000 - $120,000 a year     5\n",
       "$150,000 a year                5\n",
       "$170,000 a year                4\n",
       "$30 an hour                    4\n",
       "$140,000 - $180,000 a year     4\n",
       "$120,000 - $160,000 a year     4\n",
       "$88,305 - $114,802 a year      3\n",
       "$75,000 - $90,000 a year       3\n",
       "$80,000 - $120,000 a year      3\n",
       "$4,495 - $6,433 a month        3\n",
       "$3,077 - $4,113 a month        3\n",
       "$90,000 - $140,000 a year      3\n",
       "$110,000 - $140,000 a year     3\n",
       "$120,000 - $180,000 a year     3\n",
       "$80,000 - $130,000 a year      3\n",
       "$15 - $20 an hour              3\n",
       "$20 - $25 an hour              3\n",
       "$60 an hour                    3\n",
       "$80,000 a year                 3\n",
       "$20 an hour                    3\n",
       "$75,000 - $100,000 a year      3\n",
       "$70,000 - $90,000 a year       3\n",
       "$80,000 - $100,000 a year      3\n",
       "$130,000 - $160,000 a year     3\n",
       "$2,623 - $3,644 a month        3\n",
       "$100,000 - $160,000 a year     2\n",
       "$4,319 - $6,183 a month        2\n",
       "$140,000 - $170,000 a year     2\n",
       "$5,168 - $7,393 a month        2\n",
       "$36,339 - $48,794 a year       2\n",
       "$120,000 - $130,000 a year     2\n",
       "$50,000 - $65,000 a year       2\n",
       "$120,000 - $140,000 a year     2\n",
       "$48.39 an hour                 2\n",
       "$75,000 - $95,000 a year       2\n",
       "$170,000 - $200,000 a year     2\n",
       "$75,000 - $120,000 a year      2\n",
       "$60,000 - $70,000 a year       2\n",
       "$73,107 - $95,884 a year       2\n",
       "$55,000 a year                 2\n",
       "$180,000 - $230,000 a year     2\n",
       "$50,000 - $60,000 a year       2\n",
       "$90,000 - $120,000 a year      2\n",
       "$200,000 - $230,000 a year     2\n",
       "$80,000 - $110,000 a year      2\n",
       "$135,000 - $165,000 a year     2\n",
       "$200,000 - $300,000 a year     2\n",
       "$84,336 - $110,616 a year      2\n",
       "$80,000 - $160,000 a year      2\n",
       "$125,000 - $175,000 a year     2\n",
       "$67 an hour                    2\n",
       "$110,000 - $180,000 a year     2\n",
       "$125,000 a year                2\n",
       "$100,000 - $125,000 a year     2\n",
       "$3,564 - $4,792 a month        2\n",
       "$85,000 a year                 2\n",
       "$100,000 - $150,000 a year     2\n",
       "$6,249 - $10,857 a month       2\n",
       "$130,000 - $150,000 a year     2\n",
       "$90 an hour                    2\n",
       "$78,630 - $103,332 a year      2\n",
       "$90,000 - $110,000 a year      2\n",
       "$175,000 a year                2\n",
       "$150,000 - $205,000 a year     2\n",
       "$185,000 a year                2\n",
       "$2,417 - $3,192 a month        2\n",
       "$60,000 a year                 2\n",
       "$110,000 - $130,000 a year     2\n",
       "$70,000 - $105,000 a year      2\n",
       "$90,000 - $100,000 a year      2\n",
       "$85 an hour                    2\n",
       "$45,000 a year                 2\n",
       "$60 - $70 an hour              2\n",
       "$98,202 - $125,346 a year      2\n",
       "$110,000 - $170,000 a year     2\n",
       "$150,000 - $190,000 a year     2\n",
       "$93,000 - $135,000 a year      1\n",
       "$25,000 a year                 1\n",
       "$60,000 - $65,000 a year       1\n",
       "$90,000 a year                 1\n",
       "$25.25 - $36.00 an hour        1\n",
       "$85,500 a year                 1\n",
       "$65,232 - $92,625 a year       1\n",
       "$140,000 - $200,000 a year     1\n",
       "$18 an hour                    1\n",
       "$2,805 - $3,727 a month        1\n",
       "$83,887 - $113,725 a year      1\n",
       "$11,000 a month                1\n",
       "$35 - $65 an hour              1\n",
       "$38.47 - $48.28 an hour        1\n",
       "$48,060 - $63,036 a year       1\n",
       "$788 a week                    1\n",
       "$150,000 - $250,000 a year     1\n",
       "$180,000 - $200,000 a year     1\n",
       "$6,322 a month                 1\n",
       "$80,000 - $250,000 a year      1\n",
       "$55,017 - $78,763 a year       1\n",
       "$25.77 - $39.22 an hour        1\n",
       "$73,286 - $86,231 a year       1\n",
       "$27.61 an hour                 1\n",
       "$9.75 - $14.15 an hour         1\n",
       "$41,057 - $61,669 a year       1\n",
       "$66,700 a year                 1\n",
       "$74,260 - $96,538 a year       1\n",
       "$165,000 - $195,000 a year     1\n",
       "$110,000 - $275,000 a year     1\n",
       "$51,706 a year                 1\n",
       "$199,000 a year                1\n",
       "$65,433 - $91,588 a year       1\n",
       "$70,000 - $85,000 a year       1\n",
       "$890 a day                     1\n",
       "$85,000 - $110,000 a year      1\n",
       "$45,000 - $50,000 a year       1\n",
       "$180,000 - $220,000 a year     1\n",
       "$2,553 - $3,258 a month        1\n",
       "$190,000 a year                1\n",
       "$75,000 - $85,000 a year       1\n",
       "$55 - $57 an hour              1\n",
       "$165,000 a year                1\n",
       "$23 an hour                    1\n",
       "$190,000 - $200,000 a year     1\n",
       "$70,286 a year                 1\n",
       "$46,000 - $50,000 a year       1\n",
       "$65 an hour                    1\n",
       "$160 an hour                   1\n",
       "$52.48 an hour                 1\n",
       "$15 an hour                    1\n",
       "$4,585 - $6,877 a month        1\n",
       "$55 an hour                    1\n",
       "$100,000 - $110,000 a year     1\n",
       "$4,208 - $5,522 a month        1\n",
       "$57 an hour                    1\n",
       "$80,000 - $200,000 a year      1\n",
       "$47,860 - $67,712 a year       1\n",
       "$135,000 - $180,000 a year     1\n",
       "$14 - $20 an hour              1\n",
       "$125,000 - $200,000 a year     1\n",
       "$23.32 an hour                 1\n",
       "$20.78 an hour                 1\n",
       "$63,817 - $74,000 a year       1\n",
       "$68,239 a year                 1\n",
       "$125 an hour                   1\n",
       "$65,000 - $75,000 a year       1\n",
       "$12 an hour                    1\n",
       "$108,900 - $161,000 a year     1\n",
       "$145,000 - $175,000 a year     1\n",
       "$68,239 - $78,475 a year       1\n",
       "$3,175 - $4,540 a month        1\n",
       "$90,000 - $130,000 a year      1\n",
       "$35,000 a year                 1\n",
       "$1,250 a week                  1\n",
       "$60,189 - $83,440 a year       1\n",
       "$75 - $85 a day                1\n",
       "$78,630 - $90,000 a year       1\n",
       "$40,000 a year                 1\n",
       "$62 - $93 an hour              1\n",
       "$60,000 - $75,000 a year       1\n",
       "$175,000 - $300,000 a year     1\n",
       "$150 an hour                   1\n",
       "$34,142 a year                 1\n",
       "$75,000 - $110,000 a year      1\n",
       "$132,000 - $150,000 a year     1\n",
       "$84,302 - $109,592 a year      1\n",
       "$95,000 - $105,000 a year      1\n",
       "$76.57 an hour                 1\n",
       "$140,000 - $165,000 a year     1\n",
       "$4,313 - $5,657 a month        1\n",
       "$60 - $75 an hour              1\n",
       "$40,000 - $80,000 a year       1\n",
       "$5,988 - $6,322 a month        1\n",
       "$70,000 - $145,000 a year      1\n",
       "$150,000 - $175,000 a year     1\n",
       "$62,575 - $78,219 a year       1\n",
       "$175,000 - $215,000 a year     1\n",
       "$12 - $15 an hour              1\n",
       "$98,800 - $126,700 a year      1\n",
       "$88,305 - $146,570 a year      1\n",
       "$65,000 - $80,000 a year       1\n",
       "$53,051 - $105,000 a year      1\n",
       "$109,900 - $126,100 a year     1\n",
       "$170,000 - $190,000 a year     1\n",
       "$42 an hour                    1\n",
       "$76,804 - $100,726 a year      1\n",
       "$95,000 a year                 1\n",
       "$88,000 a year                 1\n",
       "$24,000 a year                 1\n",
       "$2,420 - $2,667 a month        1\n",
       "$42.73 - $51.94 an hour        1\n",
       "$11.25 an hour                 1\n",
       "$135,000 - $200,000 a year     1\n",
       "$13 an hour                    1\n",
       "$75,000 - $140,000 a year      1\n",
       "$100,000 - $200,000 a year     1\n",
       "$120 a day                     1\n",
       "$25 - $35 an hour              1\n",
       "$68,239 - $80,000 a year       1\n",
       "$45,000 - $55,000 a year       1\n",
       "$103,000 a year                1\n",
       "$45 - $55 an hour              1\n",
       "$1,088 a week                  1\n",
       "$36,381 - $48,462 a year       1\n",
       "$25 an hour                    1\n",
       "$50 - $70 an hour              1\n",
       "$130,000 - $170,000 a year     1\n",
       "$26 an hour                    1\n",
       "$110,000 - $120,000 a year     1\n",
       "$200,000 - $250,000 a year     1\n",
       "$130,000 - $165,000 a year     1\n",
       "$46.20 - $56.15 an hour        1\n",
       "$100,000 - $130,000 a year     1\n",
       "$76,340 - $100,322 a year      1\n",
       "$50 - $65 an hour              1\n",
       "$28 an hour                    1\n",
       "$150,000 - $165,000 a year     1\n",
       "$3,007 - $4,008 a month        1\n",
       "$5,000 a month                 1\n",
       "$37,680 - $49,308 a year       1\n",
       "$54,792 - $77,430 a year       1\n",
       "$886 a week                    1\n",
       "$104,674 - $151,358 a year     1\n",
       "$93,257 - $137,114 a year      1\n",
       "$40,480 a year                 1\n",
       "$25.52 - $34.65 an hour        1\n",
       "$56,000 a year                 1\n",
       "$65 - $80 an hour              1\n",
       "$145,000 a year                1\n",
       "$22 an hour                    1\n",
       "$105,000 - $120,000 a year     1\n",
       "$90,598 - $118,819 a year      1\n",
       "$35,000 - $50,000 a year       1\n",
       "$69,900 a year                 1\n",
       "$43 an hour                    1\n",
       "$13 - $18 an hour              1\n",
       "$5,177 - $7,762 a month        1\n",
       "$90,000 - $180,000 a year      1\n",
       "$160,000 - $180,000 a year     1\n",
       "$50 an hour                    1\n",
       "Name: Salary, dtype: int64"
      ]
     },
     "execution_count": 136,
     "metadata": {},
     "output_type": "execute_result"
    }
   ],
   "source": [
    "df[\"Salary\"].value_counts()"
   ]
  },
  {
   "cell_type": "code",
   "execution_count": 137,
   "metadata": {
    "collapsed": true
   },
   "outputs": [],
   "source": [
    "df2 = df.copy()"
   ]
  },
  {
   "cell_type": "code",
   "execution_count": 138,
   "metadata": {
    "collapsed": false,
    "focus": false,
    "id": "58ff72c5-eef2-4a86-93ac-22f84ed9b752"
   },
   "outputs": [
    {
     "name": "stdout",
     "output_type": "stream",
     "text": [
      "0\n"
     ]
    }
   ],
   "source": [
    "# Filter out salary entries referring to week, hour or month\n",
    "df = df[~(df.Salary.astype('str').str.contains('hour'))]\n",
    "df = df[~(df.Salary.astype('str').str.contains('day'))]\n",
    "df = df[~(df.Salary.astype('str').str.contains('month'))]\n",
    "df = df[~(df.Salary.astype('str').str.contains('week'))]\n",
    "print df[\"Salary\"].isnull().sum()"
   ]
  },
  {
   "cell_type": "code",
   "execution_count": 139,
   "metadata": {
    "collapsed": false,
    "scrolled": true
   },
   "outputs": [
    {
     "data": {
      "text/plain": [
       "$120,000 a year               10\n",
       "$180,000 a year                8\n",
       "$150,000 - $180,000 a year     8\n",
       "$200,000 a year                7\n",
       "$100,000 a year                7\n",
       "$140,000 a year                7\n",
       "$120,000 - $150,000 a year     6\n",
       "$160,000 a year                6\n",
       "$150,000 - $200,000 a year     6\n",
       "$150,000 - $170,000 a year     6\n",
       "$59,708 - $72,246 a year       6\n",
       "$70,286 - $88,213 a year       5\n",
       "$130,000 a year                5\n",
       "$68,239 - $85,644 a year       5\n",
       "$50,000 a year                 5\n",
       "$110,000 a year                5\n",
       "$100,000 - $120,000 a year     5\n",
       "$150,000 a year                5\n",
       "$140,000 - $160,000 a year     5\n",
       "$140,000 - $180,000 a year     4\n",
       "$120,000 - $160,000 a year     4\n",
       "$170,000 a year                4\n",
       "$75,000 - $90,000 a year       3\n",
       "$110,000 - $140,000 a year     3\n",
       "$88,305 - $114,802 a year      3\n",
       "$75,000 - $100,000 a year      3\n",
       "$80,000 a year                 3\n",
       "$80,000 - $120,000 a year      3\n",
       "$70,000 - $90,000 a year       3\n",
       "$90,000 - $140,000 a year      3\n",
       "$80,000 - $130,000 a year      3\n",
       "$120,000 - $180,000 a year     3\n",
       "$130,000 - $160,000 a year     3\n",
       "$80,000 - $100,000 a year      3\n",
       "$170,000 - $200,000 a year     2\n",
       "$80,000 - $160,000 a year      2\n",
       "$60,000 a year                 2\n",
       "$125,000 - $175,000 a year     2\n",
       "$110,000 - $130,000 a year     2\n",
       "$150,000 - $190,000 a year     2\n",
       "$84,336 - $110,616 a year      2\n",
       "$78,630 - $103,332 a year      2\n",
       "$90,000 - $110,000 a year      2\n",
       "$70,000 - $105,000 a year      2\n",
       "$200,000 - $300,000 a year     2\n",
       "$90,000 - $100,000 a year      2\n",
       "$110,000 - $170,000 a year     2\n",
       "$80,000 - $110,000 a year      2\n",
       "$150,000 - $205,000 a year     2\n",
       "$98,202 - $125,346 a year      2\n",
       "$100,000 - $150,000 a year     2\n",
       "$100,000 - $160,000 a year     2\n",
       "$135,000 - $165,000 a year     2\n",
       "$85,000 a year                 2\n",
       "$75,000 - $95,000 a year       2\n",
       "$55,000 a year                 2\n",
       "$60,000 - $70,000 a year       2\n",
       "$175,000 a year                2\n",
       "$110,000 - $180,000 a year     2\n",
       "$50,000 - $65,000 a year       2\n",
       "$120,000 - $130,000 a year     2\n",
       "$200,000 - $230,000 a year     2\n",
       "$50,000 - $60,000 a year       2\n",
       "$125,000 a year                2\n",
       "$185,000 a year                2\n",
       "$90,000 - $120,000 a year      2\n",
       "$130,000 - $150,000 a year     2\n",
       "$140,000 - $170,000 a year     2\n",
       "$36,339 - $48,794 a year       2\n",
       "$45,000 a year                 2\n",
       "$100,000 - $125,000 a year     2\n",
       "$73,107 - $95,884 a year       2\n",
       "$120,000 - $140,000 a year     2\n",
       "$180,000 - $230,000 a year     2\n",
       "$75,000 - $120,000 a year      2\n",
       "$190,000 a year                1\n",
       "$63,817 - $74,000 a year       1\n",
       "$98,800 - $126,700 a year      1\n",
       "$125,000 - $200,000 a year     1\n",
       "$100,000 - $130,000 a year     1\n",
       "$76,804 - $100,726 a year      1\n",
       "$200,000 - $250,000 a year     1\n",
       "$90,598 - $118,819 a year      1\n",
       "$69,900 a year                 1\n",
       "$135,000 - $180,000 a year     1\n",
       "$100,000 - $110,000 a year     1\n",
       "$60,000 - $75,000 a year       1\n",
       "$175,000 - $300,000 a year     1\n",
       "$51,706 a year                 1\n",
       "$40,480 a year                 1\n",
       "$45,000 - $50,000 a year       1\n",
       "$80,000 - $200,000 a year      1\n",
       "$35,000 - $50,000 a year       1\n",
       "$90,000 - $130,000 a year      1\n",
       "$110,000 - $120,000 a year     1\n",
       "$180,000 - $220,000 a year     1\n",
       "$170,000 - $190,000 a year     1\n",
       "$70,000 - $145,000 a year      1\n",
       "$103,000 a year                1\n",
       "$199,000 a year                1\n",
       "$74,260 - $96,538 a year       1\n",
       "$93,000 - $135,000 a year      1\n",
       "$47,860 - $67,712 a year       1\n",
       "$100,000 - $200,000 a year     1\n",
       "$150,000 - $165,000 a year     1\n",
       "$68,239 a year                 1\n",
       "$150,000 - $250,000 a year     1\n",
       "$40,000 - $80,000 a year       1\n",
       "$66,700 a year                 1\n",
       "$60,189 - $83,440 a year       1\n",
       "$62,575 - $78,219 a year       1\n",
       "$41,057 - $61,669 a year       1\n",
       "$80,000 - $250,000 a year      1\n",
       "$175,000 - $215,000 a year     1\n",
       "$130,000 - $170,000 a year     1\n",
       "$160,000 - $180,000 a year     1\n",
       "$90,000 - $180,000 a year      1\n",
       "$93,257 - $137,114 a year      1\n",
       "$109,900 - $126,100 a year     1\n",
       "$88,305 - $146,570 a year      1\n",
       "$75,000 - $85,000 a year       1\n",
       "$48,060 - $63,036 a year       1\n",
       "$150,000 - $175,000 a year     1\n",
       "$165,000 - $195,000 a year     1\n",
       "$35,000 a year                 1\n",
       "$25,000 a year                 1\n",
       "$53,051 - $105,000 a year      1\n",
       "$65,000 - $75,000 a year       1\n",
       "$104,674 - $151,358 a year     1\n",
       "$85,000 - $110,000 a year      1\n",
       "$85,500 a year                 1\n",
       "$78,630 - $90,000 a year       1\n",
       "$140,000 - $165,000 a year     1\n",
       "$55,017 - $78,763 a year       1\n",
       "$130,000 - $165,000 a year     1\n",
       "$70,000 - $85,000 a year       1\n",
       "$40,000 a year                 1\n",
       "$36,381 - $48,462 a year       1\n",
       "$73,286 - $86,231 a year       1\n",
       "$83,887 - $113,725 a year      1\n",
       "$140,000 - $200,000 a year     1\n",
       "$65,232 - $92,625 a year       1\n",
       "$90,000 a year                 1\n",
       "$60,000 - $65,000 a year       1\n",
       "$180,000 - $200,000 a year     1\n",
       "$108,900 - $161,000 a year     1\n",
       "$68,239 - $78,475 a year       1\n",
       "$56,000 a year                 1\n",
       "$75,000 - $140,000 a year      1\n",
       "$132,000 - $150,000 a year     1\n",
       "$145,000 - $175,000 a year     1\n",
       "$145,000 a year                1\n",
       "$165,000 a year                1\n",
       "$190,000 - $200,000 a year     1\n",
       "$46,000 - $50,000 a year       1\n",
       "$45,000 - $55,000 a year       1\n",
       "$65,000 - $80,000 a year       1\n",
       "$110,000 - $275,000 a year     1\n",
       "$65,433 - $91,588 a year       1\n",
       "$37,680 - $49,308 a year       1\n",
       "$135,000 - $200,000 a year     1\n",
       "$34,142 a year                 1\n",
       "$70,286 a year                 1\n",
       "$88,000 a year                 1\n",
       "$24,000 a year                 1\n",
       "$54,792 - $77,430 a year       1\n",
       "$95,000 - $105,000 a year      1\n",
       "$95,000 a year                 1\n",
       "$76,340 - $100,322 a year      1\n",
       "$84,302 - $109,592 a year      1\n",
       "$105,000 - $120,000 a year     1\n",
       "$75,000 - $110,000 a year      1\n",
       "$68,239 - $80,000 a year       1\n",
       "Name: Salary, dtype: int64"
      ]
     },
     "execution_count": 139,
     "metadata": {},
     "output_type": "execute_result"
    }
   ],
   "source": [
    "df[\"Salary\"].value_counts()"
   ]
  },
  {
   "cell_type": "code",
   "execution_count": 141,
   "metadata": {
    "collapsed": false
   },
   "outputs": [
    {
     "data": {
      "text/plain": [
       "(345, 5)"
      ]
     },
     "execution_count": 141,
     "metadata": {},
     "output_type": "execute_result"
    }
   ],
   "source": [
    "df.shape"
   ]
  },
  {
   "cell_type": "markdown",
   "metadata": {
    "focus": false,
    "id": "e1f58de9-78a7-49c1-b1ff-145a8f983790"
   },
   "source": [
    "#### Write a function that takes a salary string and converts it to a number, averaging a salary range if necessary"
   ]
  },
  {
   "cell_type": "code",
   "execution_count": null,
   "metadata": {
    "collapsed": true
   },
   "outputs": [],
   "source": []
  },
  {
   "cell_type": "code",
   "execution_count": 142,
   "metadata": {
    "collapsed": true,
    "focus": false,
    "id": "f2eaea83-8f84-48d3-af17-037538d06601"
   },
   "outputs": [],
   "source": [
    "import re\n",
    "import numpy as np\n",
    "def extract_salary_average(salary_string):\n",
    "    regex = r'\\$([0-9]+,[0-9]+)'\n",
    "    matches = re.findall(regex, salary_string)\n",
    "    return np.mean([float(salary.replace(',', '')) for salary in matches ])"
   ]
  },
  {
   "cell_type": "code",
   "execution_count": 143,
   "metadata": {
    "collapsed": false,
    "focus": false,
    "id": "2d46d846-8aeb-49c3-86ac-768c4fc81552"
   },
   "outputs": [
    {
     "data": {
      "text/html": [
       "<div>\n",
       "<table border=\"1\" class=\"dataframe\">\n",
       "  <thead>\n",
       "    <tr style=\"text-align: right;\">\n",
       "      <th></th>\n",
       "      <th>Company</th>\n",
       "      <th>Location</th>\n",
       "      <th>Salary</th>\n",
       "      <th>Summary</th>\n",
       "      <th>Title</th>\n",
       "      <th>Salary_avg</th>\n",
       "    </tr>\n",
       "  </thead>\n",
       "  <tbody>\n",
       "    <tr>\n",
       "      <th>7</th>\n",
       "      <td>Oliver James Associates</td>\n",
       "      <td>New York, NY</td>\n",
       "      <td>$165,000 a year</td>\n",
       "      <td>3+ years of exposure working with Predictive m...</td>\n",
       "      <td>Program Manager - Data Science - New York City...</td>\n",
       "      <td>165000.0</td>\n",
       "    </tr>\n",
       "    <tr>\n",
       "      <th>22</th>\n",
       "      <td>Centers for Disease Control and Prevention</td>\n",
       "      <td>Atlanta, GA</td>\n",
       "      <td>$88,305 - $114,802 a year</td>\n",
       "      <td>As a Behavioral Scientist you will:. Collects,...</td>\n",
       "      <td>Behavioral Scientist</td>\n",
       "      <td>101553.5</td>\n",
       "    </tr>\n",
       "    <tr>\n",
       "      <th>24</th>\n",
       "      <td>Centers for Disease Control and Prevention</td>\n",
       "      <td>Atlanta, GA</td>\n",
       "      <td>$88,305 - $114,802 a year</td>\n",
       "      <td>Applying principles, theories and methodology ...</td>\n",
       "      <td>Statistician (Health)</td>\n",
       "      <td>101553.5</td>\n",
       "    </tr>\n",
       "    <tr>\n",
       "      <th>37</th>\n",
       "      <td>Emory University</td>\n",
       "      <td>Atlanta, GA</td>\n",
       "      <td>$85,500 a year</td>\n",
       "      <td>Staff Scientists will have leadership responsi...</td>\n",
       "      <td>Staff Scientist (Goldsmith Lab)</td>\n",
       "      <td>85500.0</td>\n",
       "    </tr>\n",
       "    <tr>\n",
       "      <th>83</th>\n",
       "      <td>Stackfolio</td>\n",
       "      <td>Atlanta, GA 30308 (Old Fourth Ward area)</td>\n",
       "      <td>$80,000 a year</td>\n",
       "      <td>We are looking for a bright and experienced da...</td>\n",
       "      <td>Lead Data Scientist</td>\n",
       "      <td>80000.0</td>\n",
       "    </tr>\n",
       "  </tbody>\n",
       "</table>\n",
       "</div>"
      ],
      "text/plain": [
       "                                       Company  \\\n",
       "7                      Oliver James Associates   \n",
       "22  Centers for Disease Control and Prevention   \n",
       "24  Centers for Disease Control and Prevention   \n",
       "37                            Emory University   \n",
       "83                                  Stackfolio   \n",
       "\n",
       "                                    Location                     Salary  \\\n",
       "7                               New York, NY            $165,000 a year   \n",
       "22                               Atlanta, GA  $88,305 - $114,802 a year   \n",
       "24                               Atlanta, GA  $88,305 - $114,802 a year   \n",
       "37                               Atlanta, GA             $85,500 a year   \n",
       "83  Atlanta, GA 30308 (Old Fourth Ward area)             $80,000 a year   \n",
       "\n",
       "                                              Summary  \\\n",
       "7   3+ years of exposure working with Predictive m...   \n",
       "22  As a Behavioral Scientist you will:. Collects,...   \n",
       "24  Applying principles, theories and methodology ...   \n",
       "37  Staff Scientists will have leadership responsi...   \n",
       "83  We are looking for a bright and experienced da...   \n",
       "\n",
       "                                                Title  Salary_avg  \n",
       "7   Program Manager - Data Science - New York City...    165000.0  \n",
       "22                               Behavioral Scientist    101553.5  \n",
       "24                              Statistician (Health)    101553.5  \n",
       "37                    Staff Scientist (Goldsmith Lab)     85500.0  \n",
       "83                                Lead Data Scientist     80000.0  "
      ]
     },
     "execution_count": 143,
     "metadata": {},
     "output_type": "execute_result"
    }
   ],
   "source": [
    "# use '.map' to transform salary to new feature\n",
    "df['Salary_avg'] = map(extract_salary_average,df[\"Salary\"])\n",
    "df.head()"
   ]
  },
  {
   "cell_type": "code",
   "execution_count": 144,
   "metadata": {
    "collapsed": false,
    "scrolled": true
   },
   "outputs": [
    {
     "data": {
      "text/plain": [
       "7                                          [New York,  NY]\n",
       "22                                          [Atlanta,  GA]\n",
       "24                                          [Atlanta,  GA]\n",
       "37                                          [Atlanta,  GA]\n",
       "83             [Atlanta,  GA 30308 (Old Fourth Ward area)]\n",
       "85                                          [Atlanta,  GA]\n",
       "141                                         [Atlanta,  GA]\n",
       "159                                         [Atlanta,  GA]\n",
       "169                                         [Atlanta,  GA]\n",
       "217                                         [Atlanta,  GA]\n",
       "306                                         [Atlanta,  GA]\n",
       "311                                   [Atlanta,  GA 30341]\n",
       "319                                         [Atlanta,  GA]\n",
       "1509                                       [San Jose,  CA]\n",
       "1529                                       [Campbell,  CA]\n",
       "1557                                      [Palo Alto,  CA]\n",
       "1565                                      [Palo Alto,  CA]\n",
       "1569                                       [Campbell,  CA]\n",
       "1572                                    [Santa Clara,  CA]\n",
       "1603                                      [Palo Alto,  CA]\n",
       "1632                 [San Jose,  CA 95113 (Downtown area)]\n",
       "1664                 [San Jose,  CA 95113 (Downtown area)]\n",
       "1679                 [San Jose,  CA 95113 (Downtown area)]\n",
       "1685                                       [San Jose,  CA]\n",
       "1693                                     [Menlo Park,  CA]\n",
       "1707                                      [Palo Alto,  CA]\n",
       "1709                 [San Jose,  CA 95113 (Downtown area)]\n",
       "1738                 [San Jose,  CA 95113 (Downtown area)]\n",
       "1760                                  [Mountain View,  CA]\n",
       "1820                                     [Menlo Park,  CA]\n",
       "1824                                    [Santa Clara,  CA]\n",
       "1826                 [San Jose,  CA 95113 (Downtown area)]\n",
       "1851                 [San Jose,  CA 95113 (Downtown area)]\n",
       "1974                                    [Santa Clara,  CA]\n",
       "1988                                   [Redwood City,  CA]\n",
       "1991                                   [Redwood City,  CA]\n",
       "2038                                      [Palo Alto,  CA]\n",
       "2134                                      [Palo Alto,  CA]\n",
       "2141                 [San Jose,  CA 95113 (Downtown area)]\n",
       "2185                 [San Jose,  CA 95113 (Downtown area)]\n",
       "2286                 [San Jose,  CA 95113 (Downtown area)]\n",
       "2316                                      [Palo Alto,  CA]\n",
       "2382                                  [Mountain View,  CA]\n",
       "2479                                    [Santa Clara,  CA]\n",
       "2480                 [San Jose,  CA 95113 (Downtown area)]\n",
       "2540                 [San Jose,  CA 95113 (Downtown area)]\n",
       "2668                                       [Milpitas,  CA]\n",
       "2795                 [San Jose,  CA 95113 (Downtown area)]\n",
       "2844                                   [Redwood City,  CA]\n",
       "2915                 [San Jose,  CA 95113 (Downtown area)]\n",
       "2949                                      [Sunnyvale,  CA]\n",
       "2997                                   [Redwood City,  CA]\n",
       "3005                                  [San Francisco,  CA]\n",
       "3022                                  [San Francisco,  CA]\n",
       "3080                                        [Oakland,  CA]\n",
       "3143                                  [San Francisco,  CA]\n",
       "3146                                  [San Francisco,  CA]\n",
       "3156                                  [San Francisco,  CA]\n",
       "3185                                  [San Francisco,  CA]\n",
       "3190                                       [Brisbane,  CA]\n",
       "3261                                  [San Francisco,  CA]\n",
       "3262                                  [San Francisco,  CA]\n",
       "3283                                  [San Francisco,  CA]\n",
       "3298                                  [San Francisco,  CA]\n",
       "3337                                   [Redwood City,  CA]\n",
       "3351                                       [Brisbane,  CA]\n",
       "3366                                  [San Francisco,  CA]\n",
       "3398                                  [San Francisco,  CA]\n",
       "3434                                  [San Francisco,  CA]\n",
       "3456                                  [San Francisco,  CA]\n",
       "3502                                  [San Francisco,  CA]\n",
       "3530                                  [San Francisco,  CA]\n",
       "3562             [San Francisco,  CA 94124 (Bayview area)]\n",
       "3685                                  [San Francisco,  CA]\n",
       "3698     [San Francisco,  CA 94105 (Financial District ...\n",
       "3822                                  [San Francisco,  CA]\n",
       "3834                                       [Berkeley,  CA]\n",
       "3848                                  [San Francisco,  CA]\n",
       "3884                                  [San Francisco,  CA]\n",
       "4010                                  [San Francisco,  CA]\n",
       "4078                                  [San Francisco,  CA]\n",
       "4100                                  [San Francisco,  CA]\n",
       "4341                                  [San Francisco,  CA]\n",
       "4371                                  [San Francisco,  CA]\n",
       "4507                                    [Los Angeles,  CA]\n",
       "4510                                    [Los Angeles,  CA]\n",
       "4523                                    [Los Angeles,  CA]\n",
       "4535                                    [Los Angeles,  CA]\n",
       "4634                                    [Los Angeles,  CA]\n",
       "4674                                    [Los Angeles,  CA]\n",
       "4686                                    [Los Angeles,  CA]\n",
       "4763                                    [Los Angeles,  CA]\n",
       "4764                                    [Los Angeles,  CA]\n",
       "4765                                    [Los Angeles,  CA]\n",
       "4767                                    [Los Angeles,  CA]\n",
       "4807                                    [Los Angeles,  CA]\n",
       "4825                                    [Los Angeles,  CA]\n",
       "4827                                    [Culver City,  CA]\n",
       "4837                          [Rowland Heights,  CA 91748]\n",
       "4844                              [Culver City,  CA 90230]\n",
       "4854                                    [Los Angeles,  CA]\n",
       "4856                                    [Los Angeles,  CA]\n",
       "4917                                    [Los Angeles,  CA]\n",
       "4944                                        [Cypress,  CA]\n",
       "4945                               [Chatsworth,  CA 91311]\n",
       "5007                                        [Burbank,  CA]\n",
       "5016                          [Rowland Heights,  CA 91748]\n",
       "5076                                    [Los Angeles,  CA]\n",
       "5108                                    [Los Angeles,  CA]\n",
       "5122                                       [Pasadena,  CA]\n",
       "6204                                        [Seattle,  WA]\n",
       "6279                                        [Seattle,  WA]\n",
       "6280                                        [Seattle,  WA]\n",
       "6306                                        [Seattle,  WA]\n",
       "6483                                        [Seattle,  WA]\n",
       "6489                                       [Bellevue,  WA]\n",
       "6508                  [Seattle,  WA 98121 (Belltown area)]\n",
       "6577                                        [Seattle,  WA]\n",
       "6582                                        [Seattle,  WA]\n",
       "6696                 [Bellevue,  WA 98004 (Downtown area)]\n",
       "6985                                       [Bellevue,  WA]\n",
       "7173                                        [Seattle,  WA]\n",
       "7238                 [Bellevue,  WA 98004 (Downtown area)]\n",
       "7509                                       [New York,  NY]\n",
       "7512                                       [New York,  NY]\n",
       "7553                                       [New York,  NY]\n",
       "7569                                       [New York,  NY]\n",
       "7583                                       [New York,  NY]\n",
       "7588                                       [New York,  NY]\n",
       "7595                                      [Manhattan,  NY]\n",
       "7610                                       [New York,  NY]\n",
       "7614                                       [New York,  NY]\n",
       "7625                                       [New York,  NY]\n",
       "7629                  [New York,  NY 10167 (Midtown area)]\n",
       "7630                                      [Manhattan,  NY]\n",
       "7631                  [New York,  NY 10167 (Midtown area)]\n",
       "7640                                       [New York,  NY]\n",
       "7646                                       [New York,  NY]\n",
       "7647                                       [New York,  NY]\n",
       "7659                  [New York,  NY 10167 (Midtown area)]\n",
       "7676                  [New York,  NY 10018 (Clinton area)]\n",
       "7690                                       [New York,  NY]\n",
       "7693                                       [New York,  NY]\n",
       "7701                  [New York,  NY 10167 (Midtown area)]\n",
       "7708                                       [New York,  NY]\n",
       "7714                                      [Manhattan,  NY]\n",
       "7718                                       [New York,  NY]\n",
       "7719                  [New York,  NY 10167 (Midtown area)]\n",
       "7720                                       [New York,  NY]\n",
       "7734                                       [New York,  NY]\n",
       "7735                                     [Orangeburg,  NY]\n",
       "7751                                       [New York,  NY]\n",
       "7759                  [New York,  NY 10167 (Midtown area)]\n",
       "7819                                       [New York,  NY]\n",
       "7823                                       [New York,  NY]\n",
       "7824                  [New York,  NY 10167 (Midtown area)]\n",
       "7840                  [New York,  NY 10018 (Clinton area)]\n",
       "7911                                       [New York,  NY]\n",
       "7915                                      [Manhattan,  NY]\n",
       "7931                                       [New York,  NY]\n",
       "7940                                       [New York,  NY]\n",
       "7978                                       [New York,  NY]\n",
       "8020                                       [New York,  NY]\n",
       "8034                                       [New York,  NY]\n",
       "8049                                       [New York,  NY]\n",
       "8079                 [New York,  NY 10016 (Gramercy area)]\n",
       "8090                                       [New York,  NY]\n",
       "8097                                       [New York,  NY]\n",
       "8107                                       [New York,  NY]\n",
       "8110                                      [Manhattan,  NY]\n",
       "8150                  [New York,  NY 10167 (Midtown area)]\n",
       "8153                                      [Manhattan,  NY]\n",
       "8180                                       [New York,  NY]\n",
       "8185                         [Long Island City,  NY 11101]\n",
       "8194                                      [Manhattan,  NY]\n",
       "8195                                      [Manhattan,  NY]\n",
       "8208                                     [Kenilworth,  NJ]\n",
       "8224                                        [Hoboken,  NJ]\n",
       "8258                  [New York,  NY 10167 (Midtown area)]\n",
       "8273                  [New York,  NY 10167 (Midtown area)]\n",
       "8303                                       [New York,  NY]\n",
       "8306                                       [New York,  NY]\n",
       "8332                                       [New York,  NY]\n",
       "8348                                      [Manhattan,  NY]\n",
       "8351                  [New York,  NY 10167 (Midtown area)]\n",
       "8377                                       [New York,  NY]\n",
       "8390                                  [Rochelle Park,  NJ]\n",
       "8392                  [New York,  NY 10167 (Midtown area)]\n",
       "8410                                      [Manhattan,  NY]\n",
       "8452                                       [New York,  NY]\n",
       "8463                                      [Manhattan,  NY]\n",
       "8471                                       [New York,  NY]\n",
       "8496                                       [New York,  NY]\n",
       "8502                  [New York,  NY 10167 (Midtown area)]\n",
       "8557                                     [Parsippany,  NJ]\n",
       "8569          [New York,  NY 10002 (Lower East Side area)]\n",
       "8571                                       [New York,  NY]\n",
       "8576                                       [New York,  NY]\n",
       "8604                         [Long Island City,  NY 11101]\n",
       "8652                  [New York,  NY 10001 (Chelsea area)]\n",
       "8703                  [New York,  NY 10001 (Chelsea area)]\n",
       "8706                  [New York,  NY 10022 (Midtown area)]\n",
       "8707                                       [New York,  NY]\n",
       "8779                  [New York,  NY 10017 (Midtown area)]\n",
       "8782                                       [New York,  NY]\n",
       "8783                                       [New York,  NY]\n",
       "8787                                       [New York,  NY]\n",
       "8842                                      [Manhattan,  NY]\n",
       "8845                                       [New York,  NY]\n",
       "8902                                       [New York,  NY]\n",
       "8917                                       [New York,  NY]\n",
       "8966                  [New York,  NY 10167 (Midtown area)]\n",
       "9035                                     [Alpharetta,  GA]\n",
       "9728                                        [Seattle,  WA]\n",
       "10087                                       [Atlanta,  GA]\n",
       "14923                                   [Los Angeles,  CA]\n",
       "14925                         [Rowland Heights,  CA 91748]\n",
       "16525                                       [Seattle,  WA]\n",
       "16664                                  [Port Orchard,  WA]\n",
       "17670                                      [New York,  NY]\n",
       "18299                                     [Manhattan,  NY]\n",
       "18810                                      [New York,  NY]\n",
       "18850                                      [New York,  NY]\n",
       "18852                                      [New York,  NY]\n",
       "36859                                        [Dallas,  TX]\n",
       "36906                                  [Irving,  TX 75038]\n",
       "36913                                    [Richardson,  TX]\n",
       "36959                                  [Irving,  TX 75063]\n",
       "36960                                        [Dallas,  TX]\n",
       "37036                                        [Dallas,  TX]\n",
       "37055                                        [Irving,  TX]\n",
       "39828                                       [Chicago,  IL]\n",
       "39830                                       [Chicago,  IL]\n",
       "39859                                       [Chicago,  IL]\n",
       "39875                                       [Chicago,  IL]\n",
       "39906          [Chicago,  IL 60611 (Near North Side area)]\n",
       "39925                                       [Chicago,  IL]\n",
       "39932                                       [Chicago,  IL]\n",
       "39935                                       [Chicago,  IL]\n",
       "39949                                       [Chicago,  IL]\n",
       "39980                                       [Chicago,  IL]\n",
       "39984                                       [Chicago,  IL]\n",
       "40054                                       [Chicago,  IL]\n",
       "40061                                       [Chicago,  IL]\n",
       "40072                                       [Chicago,  IL]\n",
       "40098                                       [Chicago,  IL]\n",
       "40130                                       [Chicago,  IL]\n",
       "40178                                       [Chicago,  IL]\n",
       "40308                                       [Chicago,  IL]\n",
       "40323                                      [Glenview,  IL]\n",
       "40324                                       [Chicago,  IL]\n",
       "40325                                       [Chicago,  IL]\n",
       "40340                                       [Chicago,  IL]\n",
       "40346                                       [Chicago,  IL]\n",
       "40460                                       [Chicago,  IL]\n",
       "42827                                       [Waltham,  MA]\n",
       "42830                   [Boston,  MA 02110 (Central area)]\n",
       "42845                                     [Cambridge,  MA]\n",
       "42849                                       [Andover,  MA]\n",
       "42851                 [Boston,  MA 02116 (South End area)]\n",
       "42875                 [Boston,  MA 02116 (South End area)]\n",
       "42896                                        [Boston,  MA]\n",
       "42935                                        [Boston,  MA]\n",
       "42939            [Boston,  MA 02115 (Fenway-Kenmore area)]\n",
       "42941                                        [Boston,  MA]\n",
       "42948                                     [Cambridge,  MA]\n",
       "43016                                     [Cambridge,  MA]\n",
       "43226                                    [Wilmington,  MA]\n",
       "43368                                        [Boston,  MA]\n",
       "43370      [Boston,  MA 02114 (Back Bay-Beacon Hill area)]\n",
       "43427                                 [Bedford,  MA 01730]\n",
       "43460          [Boston,  MA 02122 (South Dorchester area)]\n",
       "43551                                        [Boston,  MA]\n",
       "43578                                        [Boston,  MA]\n",
       "43615                                       [Maynard,  MA]\n",
       "43623                                        [Boston,  MA]\n",
       "43653                   [Boston,  MA 02110 (Central area)]\n",
       "43669                                        [Boston,  MA]\n",
       "43744                                        [Boston,  MA]\n",
       "43758                 [Boston,  MA 02116 (South End area)]\n",
       "43775                                        [Boston,  MA]\n",
       "43834                                        [Boston,  MA]\n",
       "43955                                     [Cambridge,  MA]\n",
       "43985                                        [Boston,  MA]\n",
       "44004                                        [Boston,  MA]\n",
       "44077                                        [Boston,  MA]\n",
       "44110                                     [Cambridge,  MA]\n",
       "44221                                        [Lowell,  MA]\n",
       "44226                                        [Boston,  MA]\n",
       "44282                 [Boston,  MA 02116 (South End area)]\n",
       "44298                                     [Cambridge,  MA]\n",
       "44308                                     [Cambridge,  MA]\n",
       "48840                                       [Atlanta,  GA]\n",
       "48848                                       [Atlanta,  GA]\n",
       "48902                                       [Atlanta,  GA]\n",
       "48903                                       [Atlanta,  GA]\n",
       "52839                [San Jose,  CA 95113 (Downtown area)]\n",
       "53229                                     [Palo Alto,  CA]\n",
       "53235                                  [Redwood City,  CA]\n",
       "53263                [San Jose,  CA 95113 (Downtown area)]\n",
       "54956                                 [San Francisco,  CA]\n",
       "55512                                      [Berkeley,  CA]\n",
       "55785                                       [Oakland,  CA]\n",
       "55846                                  [Walnut Creek,  CA]\n",
       "56018                                 [San Francisco,  CA]\n",
       "56097                                    [Emeryville,  CA]\n",
       "56308                                 [San Francisco,  CA]\n",
       "56310                                 [San Francisco,  CA]\n",
       "56320                                 [San Francisco,  CA]\n",
       "63829                                      [New York,  NY]\n",
       "63888                                      [New York,  NY]\n",
       "63954                                      [New York,  NY]\n",
       "64085                                    [Parsippany,  NJ]\n",
       "64255                                      [New York,  NY]\n",
       "64470                                      [New York,  NY]\n",
       "64492                                      [New York,  NY]\n",
       "64592                 [New York,  NY 10167 (Midtown area)]\n",
       "64657                                     [Manhattan,  NY]\n",
       "65016                [New York,  NY 10016 (Gramercy area)]\n",
       "65147                                      [New York,  NY]\n",
       "65175                                      [New York,  NY]\n",
       "65209                 [New York,  NY 10167 (Midtown area)]\n",
       "65253                                      [New York,  NY]\n",
       "65255                 [New York,  NY 10167 (Midtown area)]\n",
       "69818                                       [Chicago,  IL]\n",
       "70012                                      [Evanston,  IL]\n",
       "70015                                       [Chicago,  IL]\n",
       "70058                                       [Chicago,  IL]\n",
       "70147                                       [Chicago,  IL]\n",
       "70241                                       [Chicago,  IL]\n",
       "70267                                       [Chicago,  IL]\n",
       "70357                     [Chicago,  IL 60290 (Loop area)]\n",
       "72797                                     [Cambridge,  MA]\n",
       "72799                 [Boston,  MA 02116 (South End area)]\n",
       "72850                 [Boston,  MA 02116 (South End area)]\n",
       "72982                 [Boston,  MA 02116 (South End area)]\n",
       "73425                                     [Cambridge,  MA]\n",
       "73561                                        [Boston,  MA]\n",
       "73575                                        [Boston,  MA]\n",
       "73642                                     [Cambridge,  MA]\n",
       "74001                                        [Boston,  MA]\n",
       "74123                                        [Boston,  MA]\n",
       "74281                                    [Framingham,  MA]\n",
       "76893                                     [Palo Alto,  CA]\n",
       "77025                                   [Santa Clara,  CA]\n",
       "Name: Location, dtype: object"
      ]
     },
     "execution_count": 144,
     "metadata": {},
     "output_type": "execute_result"
    }
   ],
   "source": [
    "# Now, we will split the location to city and state\n",
    "loc_vector = df[\"Location\"].str.split(\",\")\n",
    "loc_vector"
   ]
  },
  {
   "cell_type": "code",
   "execution_count": 153,
   "metadata": {
    "collapsed": false
   },
   "outputs": [],
   "source": [
    "city_vector = []\n",
    "state_vector = []\n",
    "for tup in loc_vector:\n",
    "    city_vector.append(tup[0])\n",
    "    state_vector.append(tup[1])"
   ]
  },
  {
   "cell_type": "code",
   "execution_count": 154,
   "metadata": {
    "collapsed": false
   },
   "outputs": [
    {
     "data": {
      "text/html": [
       "<div>\n",
       "<table border=\"1\" class=\"dataframe\">\n",
       "  <thead>\n",
       "    <tr style=\"text-align: right;\">\n",
       "      <th></th>\n",
       "      <th>Company</th>\n",
       "      <th>Location</th>\n",
       "      <th>Salary</th>\n",
       "      <th>Summary</th>\n",
       "      <th>Title</th>\n",
       "      <th>Salary_avg</th>\n",
       "      <th>City</th>\n",
       "      <th>State</th>\n",
       "    </tr>\n",
       "  </thead>\n",
       "  <tbody>\n",
       "    <tr>\n",
       "      <th>7</th>\n",
       "      <td>Oliver James Associates</td>\n",
       "      <td>New York, NY</td>\n",
       "      <td>$165,000 a year</td>\n",
       "      <td>3+ years of exposure working with Predictive m...</td>\n",
       "      <td>Program Manager - Data Science - New York City...</td>\n",
       "      <td>165000.0</td>\n",
       "      <td>New York</td>\n",
       "      <td>NY</td>\n",
       "    </tr>\n",
       "    <tr>\n",
       "      <th>22</th>\n",
       "      <td>Centers for Disease Control and Prevention</td>\n",
       "      <td>Atlanta, GA</td>\n",
       "      <td>$88,305 - $114,802 a year</td>\n",
       "      <td>As a Behavioral Scientist you will:. Collects,...</td>\n",
       "      <td>Behavioral Scientist</td>\n",
       "      <td>101553.5</td>\n",
       "      <td>Atlanta</td>\n",
       "      <td>GA</td>\n",
       "    </tr>\n",
       "    <tr>\n",
       "      <th>24</th>\n",
       "      <td>Centers for Disease Control and Prevention</td>\n",
       "      <td>Atlanta, GA</td>\n",
       "      <td>$88,305 - $114,802 a year</td>\n",
       "      <td>Applying principles, theories and methodology ...</td>\n",
       "      <td>Statistician (Health)</td>\n",
       "      <td>101553.5</td>\n",
       "      <td>Atlanta</td>\n",
       "      <td>GA</td>\n",
       "    </tr>\n",
       "    <tr>\n",
       "      <th>37</th>\n",
       "      <td>Emory University</td>\n",
       "      <td>Atlanta, GA</td>\n",
       "      <td>$85,500 a year</td>\n",
       "      <td>Staff Scientists will have leadership responsi...</td>\n",
       "      <td>Staff Scientist (Goldsmith Lab)</td>\n",
       "      <td>85500.0</td>\n",
       "      <td>Atlanta</td>\n",
       "      <td>GA</td>\n",
       "    </tr>\n",
       "    <tr>\n",
       "      <th>83</th>\n",
       "      <td>Stackfolio</td>\n",
       "      <td>Atlanta, GA 30308 (Old Fourth Ward area)</td>\n",
       "      <td>$80,000 a year</td>\n",
       "      <td>We are looking for a bright and experienced da...</td>\n",
       "      <td>Lead Data Scientist</td>\n",
       "      <td>80000.0</td>\n",
       "      <td>Atlanta</td>\n",
       "      <td>GA 30308 (Old Fourth Ward area)</td>\n",
       "    </tr>\n",
       "  </tbody>\n",
       "</table>\n",
       "</div>"
      ],
      "text/plain": [
       "                                       Company  \\\n",
       "7                      Oliver James Associates   \n",
       "22  Centers for Disease Control and Prevention   \n",
       "24  Centers for Disease Control and Prevention   \n",
       "37                            Emory University   \n",
       "83                                  Stackfolio   \n",
       "\n",
       "                                    Location                     Salary  \\\n",
       "7                               New York, NY            $165,000 a year   \n",
       "22                               Atlanta, GA  $88,305 - $114,802 a year   \n",
       "24                               Atlanta, GA  $88,305 - $114,802 a year   \n",
       "37                               Atlanta, GA             $85,500 a year   \n",
       "83  Atlanta, GA 30308 (Old Fourth Ward area)             $80,000 a year   \n",
       "\n",
       "                                              Summary  \\\n",
       "7   3+ years of exposure working with Predictive m...   \n",
       "22  As a Behavioral Scientist you will:. Collects,...   \n",
       "24  Applying principles, theories and methodology ...   \n",
       "37  Staff Scientists will have leadership responsi...   \n",
       "83  We are looking for a bright and experienced da...   \n",
       "\n",
       "                                                Title  Salary_avg      City  \\\n",
       "7   Program Manager - Data Science - New York City...    165000.0  New York   \n",
       "22                               Behavioral Scientist    101553.5   Atlanta   \n",
       "24                              Statistician (Health)    101553.5   Atlanta   \n",
       "37                    Staff Scientist (Goldsmith Lab)     85500.0   Atlanta   \n",
       "83                                Lead Data Scientist     80000.0   Atlanta   \n",
       "\n",
       "                               State  \n",
       "7                                 NY  \n",
       "22                                GA  \n",
       "24                                GA  \n",
       "37                                GA  \n",
       "83   GA 30308 (Old Fourth Ward area)  "
      ]
     },
     "execution_count": 154,
     "metadata": {},
     "output_type": "execute_result"
    }
   ],
   "source": [
    "df['City'] = city_vector\n",
    "df['State'] = state_vector\n",
    "\n",
    "df.head()"
   ]
  },
  {
   "cell_type": "code",
   "execution_count": 160,
   "metadata": {
    "collapsed": false
   },
   "outputs": [],
   "source": [
    "df['State'] = df['State'].str.strip()"
   ]
  },
  {
   "cell_type": "code",
   "execution_count": 161,
   "metadata": {
    "collapsed": false
   },
   "outputs": [
    {
     "data": {
      "text/plain": [
       "CA    114\n",
       "NY    105\n",
       "MA     48\n",
       "IL     32\n",
       "GA     18\n",
       "WA     16\n",
       "TX      7\n",
       "NJ      5\n",
       "Name: State, dtype: int64"
      ]
     },
     "execution_count": 161,
     "metadata": {},
     "output_type": "execute_result"
    }
   ],
   "source": [
    "df[\"State\"] = df[\"State\"].apply(lambda x: x[0:2])\n",
    "df[\"State\"].value_counts()"
   ]
  },
  {
   "cell_type": "code",
   "execution_count": 162,
   "metadata": {
    "collapsed": false
   },
   "outputs": [
    {
     "data": {
      "text/html": [
       "<div>\n",
       "<table border=\"1\" class=\"dataframe\">\n",
       "  <thead>\n",
       "    <tr style=\"text-align: right;\">\n",
       "      <th></th>\n",
       "      <th>Company</th>\n",
       "      <th>Location</th>\n",
       "      <th>Salary</th>\n",
       "      <th>Summary</th>\n",
       "      <th>Title</th>\n",
       "      <th>Salary_avg</th>\n",
       "      <th>City</th>\n",
       "      <th>State</th>\n",
       "    </tr>\n",
       "  </thead>\n",
       "  <tbody>\n",
       "    <tr>\n",
       "      <th>7</th>\n",
       "      <td>Oliver James Associates</td>\n",
       "      <td>New York, NY</td>\n",
       "      <td>$165,000 a year</td>\n",
       "      <td>3+ years of exposure working with Predictive m...</td>\n",
       "      <td>Program Manager - Data Science - New York City...</td>\n",
       "      <td>165000.0</td>\n",
       "      <td>New York</td>\n",
       "      <td>NY</td>\n",
       "    </tr>\n",
       "    <tr>\n",
       "      <th>22</th>\n",
       "      <td>Centers for Disease Control and Prevention</td>\n",
       "      <td>Atlanta, GA</td>\n",
       "      <td>$88,305 - $114,802 a year</td>\n",
       "      <td>As a Behavioral Scientist you will:. Collects,...</td>\n",
       "      <td>Behavioral Scientist</td>\n",
       "      <td>101553.5</td>\n",
       "      <td>Atlanta</td>\n",
       "      <td>GA</td>\n",
       "    </tr>\n",
       "    <tr>\n",
       "      <th>24</th>\n",
       "      <td>Centers for Disease Control and Prevention</td>\n",
       "      <td>Atlanta, GA</td>\n",
       "      <td>$88,305 - $114,802 a year</td>\n",
       "      <td>Applying principles, theories and methodology ...</td>\n",
       "      <td>Statistician (Health)</td>\n",
       "      <td>101553.5</td>\n",
       "      <td>Atlanta</td>\n",
       "      <td>GA</td>\n",
       "    </tr>\n",
       "    <tr>\n",
       "      <th>37</th>\n",
       "      <td>Emory University</td>\n",
       "      <td>Atlanta, GA</td>\n",
       "      <td>$85,500 a year</td>\n",
       "      <td>Staff Scientists will have leadership responsi...</td>\n",
       "      <td>Staff Scientist (Goldsmith Lab)</td>\n",
       "      <td>85500.0</td>\n",
       "      <td>Atlanta</td>\n",
       "      <td>GA</td>\n",
       "    </tr>\n",
       "    <tr>\n",
       "      <th>83</th>\n",
       "      <td>Stackfolio</td>\n",
       "      <td>Atlanta, GA 30308 (Old Fourth Ward area)</td>\n",
       "      <td>$80,000 a year</td>\n",
       "      <td>We are looking for a bright and experienced da...</td>\n",
       "      <td>Lead Data Scientist</td>\n",
       "      <td>80000.0</td>\n",
       "      <td>Atlanta</td>\n",
       "      <td>GA</td>\n",
       "    </tr>\n",
       "  </tbody>\n",
       "</table>\n",
       "</div>"
      ],
      "text/plain": [
       "                                       Company  \\\n",
       "7                      Oliver James Associates   \n",
       "22  Centers for Disease Control and Prevention   \n",
       "24  Centers for Disease Control and Prevention   \n",
       "37                            Emory University   \n",
       "83                                  Stackfolio   \n",
       "\n",
       "                                    Location                     Salary  \\\n",
       "7                               New York, NY            $165,000 a year   \n",
       "22                               Atlanta, GA  $88,305 - $114,802 a year   \n",
       "24                               Atlanta, GA  $88,305 - $114,802 a year   \n",
       "37                               Atlanta, GA             $85,500 a year   \n",
       "83  Atlanta, GA 30308 (Old Fourth Ward area)             $80,000 a year   \n",
       "\n",
       "                                              Summary  \\\n",
       "7   3+ years of exposure working with Predictive m...   \n",
       "22  As a Behavioral Scientist you will:. Collects,...   \n",
       "24  Applying principles, theories and methodology ...   \n",
       "37  Staff Scientists will have leadership responsi...   \n",
       "83  We are looking for a bright and experienced da...   \n",
       "\n",
       "                                                Title  Salary_avg      City  \\\n",
       "7   Program Manager - Data Science - New York City...    165000.0  New York   \n",
       "22                               Behavioral Scientist    101553.5   Atlanta   \n",
       "24                              Statistician (Health)    101553.5   Atlanta   \n",
       "37                    Staff Scientist (Goldsmith Lab)     85500.0   Atlanta   \n",
       "83                                Lead Data Scientist     80000.0   Atlanta   \n",
       "\n",
       "   State  \n",
       "7     NY  \n",
       "22    GA  \n",
       "24    GA  \n",
       "37    GA  \n",
       "83    GA  "
      ]
     },
     "execution_count": 162,
     "metadata": {},
     "output_type": "execute_result"
    }
   ],
   "source": [
    "df.head()"
   ]
  },
  {
   "cell_type": "code",
   "execution_count": 168,
   "metadata": {
    "collapsed": false,
    "focus": false,
    "id": "5d66eb8a-a032-43f7-8e87-8f37612c2ce5"
   },
   "outputs": [],
   "source": [
    "# save scraped results as a CSV for Tableau/external viz\n",
    "df.to_csv('assets/Jobs.csv', encoding= 'utf-8')"
   ]
  },
  {
   "cell_type": "markdown",
   "metadata": {
    "focus": false,
    "id": "6e8a5a1c-1580-4845-a9b6-482bc00c73cd"
   },
   "source": [
    "## Predicting salaries using Logistic Regression"
   ]
  },
  {
   "cell_type": "code",
   "execution_count": 171,
   "metadata": {
    "collapsed": false,
    "focus": false,
    "id": "634ab7c1-c76f-4b04-a36e-5ff3cb1f9eb2"
   },
   "outputs": [
    {
     "data": {
      "text/html": [
       "<div>\n",
       "<table border=\"1\" class=\"dataframe\">\n",
       "  <thead>\n",
       "    <tr style=\"text-align: right;\">\n",
       "      <th></th>\n",
       "      <th>Unnamed: 0</th>\n",
       "      <th>Company</th>\n",
       "      <th>Location</th>\n",
       "      <th>Salary</th>\n",
       "      <th>Summary</th>\n",
       "      <th>Title</th>\n",
       "      <th>Salary_avg</th>\n",
       "      <th>City</th>\n",
       "      <th>State</th>\n",
       "    </tr>\n",
       "  </thead>\n",
       "  <tbody>\n",
       "    <tr>\n",
       "      <th>0</th>\n",
       "      <td>7</td>\n",
       "      <td>Oliver James Associates</td>\n",
       "      <td>New York, NY</td>\n",
       "      <td>$165,000 a year</td>\n",
       "      <td>3+ years of exposure working with Predictive m...</td>\n",
       "      <td>Program Manager - Data Science - New York City...</td>\n",
       "      <td>165000.0</td>\n",
       "      <td>New York</td>\n",
       "      <td>NY</td>\n",
       "    </tr>\n",
       "    <tr>\n",
       "      <th>1</th>\n",
       "      <td>22</td>\n",
       "      <td>Centers for Disease Control and Prevention</td>\n",
       "      <td>Atlanta, GA</td>\n",
       "      <td>$88,305 - $114,802 a year</td>\n",
       "      <td>As a Behavioral Scientist you will:. Collects,...</td>\n",
       "      <td>Behavioral Scientist</td>\n",
       "      <td>101553.5</td>\n",
       "      <td>Atlanta</td>\n",
       "      <td>GA</td>\n",
       "    </tr>\n",
       "    <tr>\n",
       "      <th>2</th>\n",
       "      <td>24</td>\n",
       "      <td>Centers for Disease Control and Prevention</td>\n",
       "      <td>Atlanta, GA</td>\n",
       "      <td>$88,305 - $114,802 a year</td>\n",
       "      <td>Applying principles, theories and methodology ...</td>\n",
       "      <td>Statistician (Health)</td>\n",
       "      <td>101553.5</td>\n",
       "      <td>Atlanta</td>\n",
       "      <td>GA</td>\n",
       "    </tr>\n",
       "    <tr>\n",
       "      <th>3</th>\n",
       "      <td>37</td>\n",
       "      <td>Emory University</td>\n",
       "      <td>Atlanta, GA</td>\n",
       "      <td>$85,500 a year</td>\n",
       "      <td>Staff Scientists will have leadership responsi...</td>\n",
       "      <td>Staff Scientist (Goldsmith Lab)</td>\n",
       "      <td>85500.0</td>\n",
       "      <td>Atlanta</td>\n",
       "      <td>GA</td>\n",
       "    </tr>\n",
       "    <tr>\n",
       "      <th>4</th>\n",
       "      <td>83</td>\n",
       "      <td>Stackfolio</td>\n",
       "      <td>Atlanta, GA 30308 (Old Fourth Ward area)</td>\n",
       "      <td>$80,000 a year</td>\n",
       "      <td>We are looking for a bright and experienced da...</td>\n",
       "      <td>Lead Data Scientist</td>\n",
       "      <td>80000.0</td>\n",
       "      <td>Atlanta</td>\n",
       "      <td>GA</td>\n",
       "    </tr>\n",
       "  </tbody>\n",
       "</table>\n",
       "</div>"
      ],
      "text/plain": [
       "   Unnamed: 0                                     Company  \\\n",
       "0           7                     Oliver James Associates   \n",
       "1          22  Centers for Disease Control and Prevention   \n",
       "2          24  Centers for Disease Control and Prevention   \n",
       "3          37                            Emory University   \n",
       "4          83                                  Stackfolio   \n",
       "\n",
       "                                   Location                     Salary  \\\n",
       "0                              New York, NY            $165,000 a year   \n",
       "1                               Atlanta, GA  $88,305 - $114,802 a year   \n",
       "2                               Atlanta, GA  $88,305 - $114,802 a year   \n",
       "3                               Atlanta, GA             $85,500 a year   \n",
       "4  Atlanta, GA 30308 (Old Fourth Ward area)             $80,000 a year   \n",
       "\n",
       "                                             Summary  \\\n",
       "0  3+ years of exposure working with Predictive m...   \n",
       "1  As a Behavioral Scientist you will:. Collects,...   \n",
       "2  Applying principles, theories and methodology ...   \n",
       "3  Staff Scientists will have leadership responsi...   \n",
       "4  We are looking for a bright and experienced da...   \n",
       "\n",
       "                                               Title  Salary_avg      City  \\\n",
       "0  Program Manager - Data Science - New York City...    165000.0  New York   \n",
       "1                               Behavioral Scientist    101553.5   Atlanta   \n",
       "2                              Statistician (Health)    101553.5   Atlanta   \n",
       "3                    Staff Scientist (Goldsmith Lab)     85500.0   Atlanta   \n",
       "4                                Lead Data Scientist     80000.0   Atlanta   \n",
       "\n",
       "  State  \n",
       "0    NY  \n",
       "1    GA  \n",
       "2    GA  \n",
       "3    GA  \n",
       "4    GA  "
      ]
     },
     "execution_count": 171,
     "metadata": {},
     "output_type": "execute_result"
    }
   ],
   "source": [
    "# load in the the data of scraped salaries\n",
    "jobs = pd.read_csv('assets/Jobs.csv')\n",
    "jobs.head()"
   ]
  },
  {
   "cell_type": "markdown",
   "metadata": {
    "focus": false,
    "id": "c3ed6de7-8fe0-4cf4-abbd-abb2a188e05b"
   },
   "source": [
    "#### We want to predict a binary variable - whether the salary was low or high. Compute the median salary and create a new binary variable that is true when the salary is high (above the median)"
   ]
  },
  {
   "cell_type": "code",
   "execution_count": 176,
   "metadata": {
    "collapsed": false,
    "focus": false,
    "id": "073e3f3e-21bc-4ab7-ae2e-272be0a409cc"
   },
   "outputs": [
    {
     "data": {
      "text/html": [
       "<div>\n",
       "<table border=\"1\" class=\"dataframe\">\n",
       "  <thead>\n",
       "    <tr style=\"text-align: right;\">\n",
       "      <th></th>\n",
       "      <th>Unnamed: 0</th>\n",
       "      <th>Company</th>\n",
       "      <th>Location</th>\n",
       "      <th>Salary</th>\n",
       "      <th>Summary</th>\n",
       "      <th>Title</th>\n",
       "      <th>Salary_avg</th>\n",
       "      <th>City</th>\n",
       "      <th>State</th>\n",
       "      <th>Salary_bin</th>\n",
       "    </tr>\n",
       "  </thead>\n",
       "  <tbody>\n",
       "    <tr>\n",
       "      <th>0</th>\n",
       "      <td>7</td>\n",
       "      <td>Oliver James Associates</td>\n",
       "      <td>New York, NY</td>\n",
       "      <td>$165,000 a year</td>\n",
       "      <td>3+ years of exposure working with Predictive m...</td>\n",
       "      <td>Program Manager - Data Science - New York City...</td>\n",
       "      <td>165000.0</td>\n",
       "      <td>New York</td>\n",
       "      <td>NY</td>\n",
       "      <td>1</td>\n",
       "    </tr>\n",
       "    <tr>\n",
       "      <th>1</th>\n",
       "      <td>22</td>\n",
       "      <td>Centers for Disease Control and Prevention</td>\n",
       "      <td>Atlanta, GA</td>\n",
       "      <td>$88,305 - $114,802 a year</td>\n",
       "      <td>As a Behavioral Scientist you will:. Collects,...</td>\n",
       "      <td>Behavioral Scientist</td>\n",
       "      <td>101553.5</td>\n",
       "      <td>Atlanta</td>\n",
       "      <td>GA</td>\n",
       "      <td>0</td>\n",
       "    </tr>\n",
       "    <tr>\n",
       "      <th>2</th>\n",
       "      <td>24</td>\n",
       "      <td>Centers for Disease Control and Prevention</td>\n",
       "      <td>Atlanta, GA</td>\n",
       "      <td>$88,305 - $114,802 a year</td>\n",
       "      <td>Applying principles, theories and methodology ...</td>\n",
       "      <td>Statistician (Health)</td>\n",
       "      <td>101553.5</td>\n",
       "      <td>Atlanta</td>\n",
       "      <td>GA</td>\n",
       "      <td>0</td>\n",
       "    </tr>\n",
       "    <tr>\n",
       "      <th>3</th>\n",
       "      <td>37</td>\n",
       "      <td>Emory University</td>\n",
       "      <td>Atlanta, GA</td>\n",
       "      <td>$85,500 a year</td>\n",
       "      <td>Staff Scientists will have leadership responsi...</td>\n",
       "      <td>Staff Scientist (Goldsmith Lab)</td>\n",
       "      <td>85500.0</td>\n",
       "      <td>Atlanta</td>\n",
       "      <td>GA</td>\n",
       "      <td>0</td>\n",
       "    </tr>\n",
       "    <tr>\n",
       "      <th>4</th>\n",
       "      <td>83</td>\n",
       "      <td>Stackfolio</td>\n",
       "      <td>Atlanta, GA 30308 (Old Fourth Ward area)</td>\n",
       "      <td>$80,000 a year</td>\n",
       "      <td>We are looking for a bright and experienced da...</td>\n",
       "      <td>Lead Data Scientist</td>\n",
       "      <td>80000.0</td>\n",
       "      <td>Atlanta</td>\n",
       "      <td>GA</td>\n",
       "      <td>0</td>\n",
       "    </tr>\n",
       "  </tbody>\n",
       "</table>\n",
       "</div>"
      ],
      "text/plain": [
       "   Unnamed: 0                                     Company  \\\n",
       "0           7                     Oliver James Associates   \n",
       "1          22  Centers for Disease Control and Prevention   \n",
       "2          24  Centers for Disease Control and Prevention   \n",
       "3          37                            Emory University   \n",
       "4          83                                  Stackfolio   \n",
       "\n",
       "                                   Location                     Salary  \\\n",
       "0                              New York, NY            $165,000 a year   \n",
       "1                               Atlanta, GA  $88,305 - $114,802 a year   \n",
       "2                               Atlanta, GA  $88,305 - $114,802 a year   \n",
       "3                               Atlanta, GA             $85,500 a year   \n",
       "4  Atlanta, GA 30308 (Old Fourth Ward area)             $80,000 a year   \n",
       "\n",
       "                                             Summary  \\\n",
       "0  3+ years of exposure working with Predictive m...   \n",
       "1  As a Behavioral Scientist you will:. Collects,...   \n",
       "2  Applying principles, theories and methodology ...   \n",
       "3  Staff Scientists will have leadership responsi...   \n",
       "4  We are looking for a bright and experienced da...   \n",
       "\n",
       "                                               Title  Salary_avg      City  \\\n",
       "0  Program Manager - Data Science - New York City...    165000.0  New York   \n",
       "1                               Behavioral Scientist    101553.5   Atlanta   \n",
       "2                              Statistician (Health)    101553.5   Atlanta   \n",
       "3                    Staff Scientist (Goldsmith Lab)     85500.0   Atlanta   \n",
       "4                                Lead Data Scientist     80000.0   Atlanta   \n",
       "\n",
       "  State  Salary_bin  \n",
       "0    NY           1  \n",
       "1    GA           0  \n",
       "2    GA           0  \n",
       "3    GA           0  \n",
       "4    GA           0  "
      ]
     },
     "execution_count": 176,
     "metadata": {},
     "output_type": "execute_result"
    }
   ],
   "source": [
    "# calculate median and create feature with 1 as high salary\n",
    "median_salary = jobs['Salary_avg'].median()\n",
    "\n",
    "jobs['Salary_bin'] = jobs['Salary_avg'].apply(lambda x: 1 if x>=median_salary else 0)\n",
    "\n",
    "jobs.head()"
   ]
  },
  {
   "cell_type": "markdown",
   "metadata": {
    "focus": false,
    "id": "3c7ec3d2-87a0-4290-9d83-a6f4a9ae7e9c"
   },
   "source": [
    "### Q: What is the baseline accuracy for this model?"
   ]
  },
  {
   "cell_type": "markdown",
   "metadata": {
    "collapsed": true,
    "focus": false,
    "id": "987666b2-d8e6-4715-b499-c9d314fb70ce"
   },
   "source": [
    "It is 50% if we guess randomly, half the salaries will be below the median and half will be above."
   ]
  },
  {
   "cell_type": "markdown",
   "metadata": {
    "focus": false,
    "id": "ea7e00cb-9956-44ec-b585-7b95f4d6284c"
   },
   "source": [
    "#### Create a Logistic Regression model to predict High/Low salary using statsmodel. Start by ONLY using the location as a feature. Display the coefficients and write a short summary of what they mean."
   ]
  },
  {
   "cell_type": "code",
   "execution_count": 178,
   "metadata": {
    "collapsed": false,
    "focus": false,
    "id": "ce9161b3-eff3-475c-a087-a2be38d7f626"
   },
   "outputs": [],
   "source": [
    "# create statsmodel and summary\n",
    "import statsmodels.formula.api as sm"
   ]
  },
  {
   "cell_type": "code",
   "execution_count": 238,
   "metadata": {
    "collapsed": false,
    "scrolled": true
   },
   "outputs": [
    {
     "name": "stdout",
     "output_type": "stream",
     "text": [
      "Optimization terminated successfully.\n",
      "         Current function value: 0.452981\n",
      "         Iterations: 15\n",
      "         Function evaluations: 16\n",
      "         Gradient evaluations: 30\n",
      "         Hessian evaluations: 15\n"
     ]
    },
    {
     "data": {
      "text/html": [
       "<table class=\"simpletable\">\n",
       "<caption>Logit Regression Results</caption>\n",
       "<tr>\n",
       "  <th>Dep. Variable:</th>    <td>Salary_bin</td>    <th>  No. Observations:  </th>  <td>   345</td>  \n",
       "</tr>\n",
       "<tr>\n",
       "  <th>Model:</th>               <td>Logit</td>      <th>  Df Residuals:      </th>  <td>   295</td>  \n",
       "</tr>\n",
       "<tr>\n",
       "  <th>Method:</th>               <td>MLE</td>       <th>  Df Model:          </th>  <td>    49</td>  \n",
       "</tr>\n",
       "<tr>\n",
       "  <th>Date:</th>          <td>Tue, 22 Nov 2016</td> <th>  Pseudo R-squ.:     </th>  <td>0.3465</td>  \n",
       "</tr>\n",
       "<tr>\n",
       "  <th>Time:</th>              <td>08:39:31</td>     <th>  Log-Likelihood:    </th> <td> -156.28</td> \n",
       "</tr>\n",
       "<tr>\n",
       "  <th>converged:</th>           <td>True</td>       <th>  LL-Null:           </th> <td> -239.12</td> \n",
       "</tr>\n",
       "<tr>\n",
       "  <th> </th>                      <td> </td>        <th>  LLR p-value:       </th> <td>1.387e-14</td>\n",
       "</tr>\n",
       "</table>\n",
       "<table class=\"simpletable\">\n",
       "<tr>\n",
       "              <td></td>                <th>coef</th>     <th>std err</th>      <th>z</th>      <th>P>|z|</th> <th>[95.0% Conf. Int.]</th> \n",
       "</tr>\n",
       "<tr>\n",
       "  <th>Intercept</th>                <td>   -2.4775</td> <td> 6.84e+06</td> <td>-3.62e-07</td> <td> 1.000</td> <td>-1.34e+07  1.34e+07</td>\n",
       "</tr>\n",
       "<tr>\n",
       "  <th>City[T.Andover]</th>          <td>   -5.7191</td> <td>      nan</td> <td>      nan</td> <td>   nan</td> <td>      nan       nan</td>\n",
       "</tr>\n",
       "<tr>\n",
       "  <th>City[T.Atlanta]</th>          <td>    9.0335</td> <td>  250.690</td> <td>    0.036</td> <td> 0.971</td> <td> -482.310   500.377</td>\n",
       "</tr>\n",
       "<tr>\n",
       "  <th>City[T.Bedford]</th>          <td>   -5.7191</td> <td>      nan</td> <td>      nan</td> <td>   nan</td> <td>      nan       nan</td>\n",
       "</tr>\n",
       "<tr>\n",
       "  <th>City[T.Bellevue]</th>         <td>    3.5660</td> <td>      nan</td> <td>      nan</td> <td>   nan</td> <td>      nan       nan</td>\n",
       "</tr>\n",
       "<tr>\n",
       "  <th>City[T.Berkeley]</th>         <td>    2.4775</td> <td> 6.84e+06</td> <td> 3.62e-07</td> <td> 1.000</td> <td>-1.34e+07  1.34e+07</td>\n",
       "</tr>\n",
       "<tr>\n",
       "  <th>City[T.Boston]</th>           <td>    6.8077</td> <td>      nan</td> <td>      nan</td> <td>   nan</td> <td>      nan       nan</td>\n",
       "</tr>\n",
       "<tr>\n",
       "  <th>City[T.Brisbane]</th>         <td>   14.3958</td> <td> 6.84e+06</td> <td>  2.1e-06</td> <td> 1.000</td> <td>-1.34e+07  1.34e+07</td>\n",
       "</tr>\n",
       "<tr>\n",
       "  <th>City[T.Burbank]</th>          <td>   -9.4512</td> <td> 6.84e+06</td> <td>-1.38e-06</td> <td> 1.000</td> <td>-1.34e+07  1.34e+07</td>\n",
       "</tr>\n",
       "<tr>\n",
       "  <th>City[T.Cambridge]</th>        <td>    5.4860</td> <td>      nan</td> <td>      nan</td> <td>   nan</td> <td>      nan       nan</td>\n",
       "</tr>\n",
       "<tr>\n",
       "  <th>City[T.Campbell]</th>         <td>    2.4775</td> <td> 6.84e+06</td> <td> 3.62e-07</td> <td> 1.000</td> <td>-1.34e+07  1.34e+07</td>\n",
       "</tr>\n",
       "<tr>\n",
       "  <th>City[T.Chatsworth]</th>       <td>   -9.4512</td> <td> 6.84e+06</td> <td>-1.38e-06</td> <td> 1.000</td> <td>-1.34e+07  1.34e+07</td>\n",
       "</tr>\n",
       "<tr>\n",
       "  <th>City[T.Chicago]</th>          <td>    6.6355</td> <td>      nan</td> <td>      nan</td> <td>   nan</td> <td>      nan       nan</td>\n",
       "</tr>\n",
       "<tr>\n",
       "  <th>City[T.Culver City]</th>      <td>    2.4775</td> <td> 6.84e+06</td> <td> 3.62e-07</td> <td> 1.000</td> <td>-1.34e+07  1.34e+07</td>\n",
       "</tr>\n",
       "<tr>\n",
       "  <th>City[T.Cypress]</th>          <td>   -9.4512</td> <td> 6.84e+06</td> <td>-1.38e-06</td> <td> 1.000</td> <td>-1.34e+07  1.34e+07</td>\n",
       "</tr>\n",
       "<tr>\n",
       "  <th>City[T.Dallas]</th>           <td>    6.5914</td> <td> 5.82e+07</td> <td> 1.13e-07</td> <td> 1.000</td> <td>-1.14e+08  1.14e+08</td>\n",
       "</tr>\n",
       "<tr>\n",
       "  <th>City[T.Emeryville]</th>       <td>   -9.4512</td> <td> 6.84e+06</td> <td>-1.38e-06</td> <td> 1.000</td> <td>-1.34e+07  1.34e+07</td>\n",
       "</tr>\n",
       "<tr>\n",
       "  <th>City[T.Evanston]</th>         <td>   -5.5309</td> <td>      nan</td> <td>      nan</td> <td>   nan</td> <td>      nan       nan</td>\n",
       "</tr>\n",
       "<tr>\n",
       "  <th>City[T.Framingham]</th>       <td>   -5.7191</td> <td>      nan</td> <td>      nan</td> <td>   nan</td> <td>      nan       nan</td>\n",
       "</tr>\n",
       "<tr>\n",
       "  <th>City[T.Glenview]</th>         <td>   -5.5309</td> <td>      nan</td> <td>      nan</td> <td>   nan</td> <td>      nan       nan</td>\n",
       "</tr>\n",
       "<tr>\n",
       "  <th>City[T.Hoboken]</th>          <td>   -2.0920</td> <td> 4.86e+10</td> <td>-4.31e-11</td> <td> 1.000</td> <td>-9.52e+10  9.52e+10</td>\n",
       "</tr>\n",
       "<tr>\n",
       "  <th>City[T.Irving]</th>           <td>   -6.2458</td> <td> 5.82e+07</td> <td>-1.07e-07</td> <td> 1.000</td> <td>-1.14e+08  1.14e+08</td>\n",
       "</tr>\n",
       "<tr>\n",
       "  <th>City[T.Kenilworth]</th>       <td>   -2.0920</td> <td> 4.86e+10</td> <td>-4.31e-11</td> <td> 1.000</td> <td>-9.52e+10  9.52e+10</td>\n",
       "</tr>\n",
       "<tr>\n",
       "  <th>City[T.Long Island City]</th> <td>   -4.6848</td> <td> 3.21e+06</td> <td>-1.46e-06</td> <td> 1.000</td> <td>-6.29e+06  6.29e+06</td>\n",
       "</tr>\n",
       "<tr>\n",
       "  <th>City[T.Los Angeles]</th>      <td>    1.4479</td> <td> 6.84e+06</td> <td> 2.12e-07</td> <td> 1.000</td> <td>-1.34e+07  1.34e+07</td>\n",
       "</tr>\n",
       "<tr>\n",
       "  <th>City[T.Lowell]</th>           <td>   17.6261</td> <td>      nan</td> <td>      nan</td> <td>   nan</td> <td>      nan       nan</td>\n",
       "</tr>\n",
       "<tr>\n",
       "  <th>City[T.Manhattan]</th>        <td>   -6.5380</td> <td> 3.21e+06</td> <td>-2.04e-06</td> <td> 1.000</td> <td>-6.29e+06  6.29e+06</td>\n",
       "</tr>\n",
       "<tr>\n",
       "  <th>City[T.Maynard]</th>          <td>   -5.7191</td> <td>      nan</td> <td>      nan</td> <td>   nan</td> <td>      nan       nan</td>\n",
       "</tr>\n",
       "<tr>\n",
       "  <th>City[T.Menlo Park]</th>       <td>    2.4775</td> <td> 6.84e+06</td> <td> 3.62e-07</td> <td> 1.000</td> <td>-1.34e+07  1.34e+07</td>\n",
       "</tr>\n",
       "<tr>\n",
       "  <th>City[T.Milpitas]</th>         <td>   13.7027</td> <td> 6.84e+06</td> <td>    2e-06</td> <td> 1.000</td> <td>-1.34e+07  1.34e+07</td>\n",
       "</tr>\n",
       "<tr>\n",
       "  <th>City[T.Mountain View]</th>    <td>   14.3958</td> <td> 6.84e+06</td> <td>  2.1e-06</td> <td> 1.000</td> <td>-1.34e+07  1.34e+07</td>\n",
       "</tr>\n",
       "<tr>\n",
       "  <th>City[T.New York]</th>         <td>    9.0137</td> <td> 3.21e+06</td> <td> 2.81e-06</td> <td> 1.000</td> <td>-6.29e+06  6.29e+06</td>\n",
       "</tr>\n",
       "<tr>\n",
       "  <th>City[T.Oakland]</th>          <td>  -10.1444</td> <td> 6.84e+06</td> <td>-1.48e-06</td> <td> 1.000</td> <td>-1.34e+07  1.34e+07</td>\n",
       "</tr>\n",
       "<tr>\n",
       "  <th>City[T.Orangeburg]</th>       <td>   -4.0061</td> <td> 3.21e+06</td> <td>-1.25e-06</td> <td> 1.000</td> <td>-6.29e+06  6.29e+06</td>\n",
       "</tr>\n",
       "<tr>\n",
       "  <th>City[T.Palo Alto]</th>        <td>    4.5569</td> <td> 6.84e+06</td> <td> 6.66e-07</td> <td> 1.000</td> <td>-1.34e+07  1.34e+07</td>\n",
       "</tr>\n",
       "<tr>\n",
       "  <th>City[T.Parsippany]</th>       <td>   -2.7117</td> <td> 4.86e+10</td> <td>-5.58e-11</td> <td> 1.000</td> <td>-9.52e+10  9.52e+10</td>\n",
       "</tr>\n",
       "<tr>\n",
       "  <th>City[T.Pasadena]</th>         <td>   -9.4512</td> <td> 6.84e+06</td> <td>-1.38e-06</td> <td> 1.000</td> <td>-1.34e+07  1.34e+07</td>\n",
       "</tr>\n",
       "<tr>\n",
       "  <th>City[T.Port Orchard]</th>     <td>   -8.4029</td> <td>      nan</td> <td>      nan</td> <td>   nan</td> <td>      nan       nan</td>\n",
       "</tr>\n",
       "<tr>\n",
       "  <th>City[T.Redwood City]</th>     <td>   15.4944</td> <td> 6.84e+06</td> <td> 2.27e-06</td> <td> 1.000</td> <td>-1.34e+07  1.34e+07</td>\n",
       "</tr>\n",
       "<tr>\n",
       "  <th>City[T.Richardson]</th>       <td>   -5.1528</td> <td> 5.82e+07</td> <td>-8.86e-08</td> <td> 1.000</td> <td>-1.14e+08  1.14e+08</td>\n",
       "</tr>\n",
       "<tr>\n",
       "  <th>City[T.Rochelle Park]</th>    <td>   -2.0920</td> <td> 4.86e+10</td> <td>-4.31e-11</td> <td> 1.000</td> <td>-9.52e+10  9.52e+10</td>\n",
       "</tr>\n",
       "<tr>\n",
       "  <th>City[T.Rowland Heights]</th>  <td>  -10.5499</td> <td> 6.84e+06</td> <td>-1.54e-06</td> <td> 1.000</td> <td>-1.34e+07  1.34e+07</td>\n",
       "</tr>\n",
       "<tr>\n",
       "  <th>City[T.San Francisco]</th>    <td>    5.1855</td> <td> 6.84e+06</td> <td> 7.58e-07</td> <td> 1.000</td> <td>-1.34e+07  1.34e+07</td>\n",
       "</tr>\n",
       "<tr>\n",
       "  <th>City[T.San Jose]</th>         <td>    5.3107</td> <td> 6.84e+06</td> <td> 7.77e-07</td> <td> 1.000</td> <td>-1.34e+07  1.34e+07</td>\n",
       "</tr>\n",
       "<tr>\n",
       "  <th>City[T.Santa Clara]</th>      <td>   15.3121</td> <td> 6.84e+06</td> <td> 2.24e-06</td> <td> 1.000</td> <td>-1.34e+07  1.34e+07</td>\n",
       "</tr>\n",
       "<tr>\n",
       "  <th>City[T.Seattle]</th>          <td>    3.7484</td> <td>      nan</td> <td>      nan</td> <td>   nan</td> <td>      nan       nan</td>\n",
       "</tr>\n",
       "<tr>\n",
       "  <th>City[T.Sunnyvale]</th>        <td>   13.7027</td> <td> 6.84e+06</td> <td>    2e-06</td> <td> 1.000</td> <td>-1.34e+07  1.34e+07</td>\n",
       "</tr>\n",
       "<tr>\n",
       "  <th>City[T.Walnut Creek]</th>     <td>   -9.4512</td> <td> 6.84e+06</td> <td>-1.38e-06</td> <td> 1.000</td> <td>-1.34e+07  1.34e+07</td>\n",
       "</tr>\n",
       "<tr>\n",
       "  <th>City[T.Waltham]</th>          <td>   -5.7191</td> <td>      nan</td> <td>      nan</td> <td>   nan</td> <td>      nan       nan</td>\n",
       "</tr>\n",
       "<tr>\n",
       "  <th>City[T.Wilmington]</th>       <td>   -5.7191</td> <td>      nan</td> <td>      nan</td> <td>   nan</td> <td>      nan       nan</td>\n",
       "</tr>\n",
       "<tr>\n",
       "  <th>State[T.GA]</th>              <td>   -8.5709</td> <td> 6.84e+06</td> <td>-1.25e-06</td> <td> 1.000</td> <td>-1.34e+07  1.34e+07</td>\n",
       "</tr>\n",
       "<tr>\n",
       "  <th>State[T.IL]</th>              <td>   -4.4263</td> <td>      nan</td> <td>      nan</td> <td>   nan</td> <td>      nan       nan</td>\n",
       "</tr>\n",
       "<tr>\n",
       "  <th>State[T.MA]</th>              <td>   -4.3948</td> <td>      nan</td> <td>      nan</td> <td>   nan</td> <td>      nan       nan</td>\n",
       "</tr>\n",
       "<tr>\n",
       "  <th>State[T.NJ]</th>              <td>   -8.9877</td> <td> 4.86e+10</td> <td>-1.85e-10</td> <td> 1.000</td> <td>-9.52e+10  9.52e+10</td>\n",
       "</tr>\n",
       "<tr>\n",
       "  <th>State[T.NY]</th>              <td>   -6.2153</td> <td>      nan</td> <td>      nan</td> <td>   nan</td> <td>      nan       nan</td>\n",
       "</tr>\n",
       "<tr>\n",
       "  <th>State[T.TX]</th>              <td>   -4.8071</td> <td> 5.86e+07</td> <td> -8.2e-08</td> <td> 1.000</td> <td>-1.15e+08  1.15e+08</td>\n",
       "</tr>\n",
       "<tr>\n",
       "  <th>State[T.WA]</th>              <td>   -1.0885</td> <td>      nan</td> <td>      nan</td> <td>   nan</td> <td>      nan       nan</td>\n",
       "</tr>\n",
       "</table>"
      ],
      "text/plain": [
       "<class 'statsmodels.iolib.summary.Summary'>\n",
       "\"\"\"\n",
       "                           Logit Regression Results                           \n",
       "==============================================================================\n",
       "Dep. Variable:             Salary_bin   No. Observations:                  345\n",
       "Model:                          Logit   Df Residuals:                      295\n",
       "Method:                           MLE   Df Model:                           49\n",
       "Date:                Tue, 22 Nov 2016   Pseudo R-squ.:                  0.3465\n",
       "Time:                        08:39:31   Log-Likelihood:                -156.28\n",
       "converged:                       True   LL-Null:                       -239.12\n",
       "                                        LLR p-value:                 1.387e-14\n",
       "============================================================================================\n",
       "                               coef    std err          z      P>|z|      [95.0% Conf. Int.]\n",
       "--------------------------------------------------------------------------------------------\n",
       "Intercept                   -2.4775   6.84e+06  -3.62e-07      1.000     -1.34e+07  1.34e+07\n",
       "City[T.Andover]             -5.7191        nan        nan        nan           nan       nan\n",
       "City[T.Atlanta]              9.0335    250.690      0.036      0.971      -482.310   500.377\n",
       "City[T.Bedford]             -5.7191        nan        nan        nan           nan       nan\n",
       "City[T.Bellevue]             3.5660        nan        nan        nan           nan       nan\n",
       "City[T.Berkeley]             2.4775   6.84e+06   3.62e-07      1.000     -1.34e+07  1.34e+07\n",
       "City[T.Boston]               6.8077        nan        nan        nan           nan       nan\n",
       "City[T.Brisbane]            14.3958   6.84e+06    2.1e-06      1.000     -1.34e+07  1.34e+07\n",
       "City[T.Burbank]             -9.4512   6.84e+06  -1.38e-06      1.000     -1.34e+07  1.34e+07\n",
       "City[T.Cambridge]            5.4860        nan        nan        nan           nan       nan\n",
       "City[T.Campbell]             2.4775   6.84e+06   3.62e-07      1.000     -1.34e+07  1.34e+07\n",
       "City[T.Chatsworth]          -9.4512   6.84e+06  -1.38e-06      1.000     -1.34e+07  1.34e+07\n",
       "City[T.Chicago]              6.6355        nan        nan        nan           nan       nan\n",
       "City[T.Culver City]          2.4775   6.84e+06   3.62e-07      1.000     -1.34e+07  1.34e+07\n",
       "City[T.Cypress]             -9.4512   6.84e+06  -1.38e-06      1.000     -1.34e+07  1.34e+07\n",
       "City[T.Dallas]               6.5914   5.82e+07   1.13e-07      1.000     -1.14e+08  1.14e+08\n",
       "City[T.Emeryville]          -9.4512   6.84e+06  -1.38e-06      1.000     -1.34e+07  1.34e+07\n",
       "City[T.Evanston]            -5.5309        nan        nan        nan           nan       nan\n",
       "City[T.Framingham]          -5.7191        nan        nan        nan           nan       nan\n",
       "City[T.Glenview]            -5.5309        nan        nan        nan           nan       nan\n",
       "City[T.Hoboken]             -2.0920   4.86e+10  -4.31e-11      1.000     -9.52e+10  9.52e+10\n",
       "City[T.Irving]              -6.2458   5.82e+07  -1.07e-07      1.000     -1.14e+08  1.14e+08\n",
       "City[T.Kenilworth]          -2.0920   4.86e+10  -4.31e-11      1.000     -9.52e+10  9.52e+10\n",
       "City[T.Long Island City]    -4.6848   3.21e+06  -1.46e-06      1.000     -6.29e+06  6.29e+06\n",
       "City[T.Los Angeles]          1.4479   6.84e+06   2.12e-07      1.000     -1.34e+07  1.34e+07\n",
       "City[T.Lowell]              17.6261        nan        nan        nan           nan       nan\n",
       "City[T.Manhattan]           -6.5380   3.21e+06  -2.04e-06      1.000     -6.29e+06  6.29e+06\n",
       "City[T.Maynard]             -5.7191        nan        nan        nan           nan       nan\n",
       "City[T.Menlo Park]           2.4775   6.84e+06   3.62e-07      1.000     -1.34e+07  1.34e+07\n",
       "City[T.Milpitas]            13.7027   6.84e+06      2e-06      1.000     -1.34e+07  1.34e+07\n",
       "City[T.Mountain View]       14.3958   6.84e+06    2.1e-06      1.000     -1.34e+07  1.34e+07\n",
       "City[T.New York]             9.0137   3.21e+06   2.81e-06      1.000     -6.29e+06  6.29e+06\n",
       "City[T.Oakland]            -10.1444   6.84e+06  -1.48e-06      1.000     -1.34e+07  1.34e+07\n",
       "City[T.Orangeburg]          -4.0061   3.21e+06  -1.25e-06      1.000     -6.29e+06  6.29e+06\n",
       "City[T.Palo Alto]            4.5569   6.84e+06   6.66e-07      1.000     -1.34e+07  1.34e+07\n",
       "City[T.Parsippany]          -2.7117   4.86e+10  -5.58e-11      1.000     -9.52e+10  9.52e+10\n",
       "City[T.Pasadena]            -9.4512   6.84e+06  -1.38e-06      1.000     -1.34e+07  1.34e+07\n",
       "City[T.Port Orchard]        -8.4029        nan        nan        nan           nan       nan\n",
       "City[T.Redwood City]        15.4944   6.84e+06   2.27e-06      1.000     -1.34e+07  1.34e+07\n",
       "City[T.Richardson]          -5.1528   5.82e+07  -8.86e-08      1.000     -1.14e+08  1.14e+08\n",
       "City[T.Rochelle Park]       -2.0920   4.86e+10  -4.31e-11      1.000     -9.52e+10  9.52e+10\n",
       "City[T.Rowland Heights]    -10.5499   6.84e+06  -1.54e-06      1.000     -1.34e+07  1.34e+07\n",
       "City[T.San Francisco]        5.1855   6.84e+06   7.58e-07      1.000     -1.34e+07  1.34e+07\n",
       "City[T.San Jose]             5.3107   6.84e+06   7.77e-07      1.000     -1.34e+07  1.34e+07\n",
       "City[T.Santa Clara]         15.3121   6.84e+06   2.24e-06      1.000     -1.34e+07  1.34e+07\n",
       "City[T.Seattle]              3.7484        nan        nan        nan           nan       nan\n",
       "City[T.Sunnyvale]           13.7027   6.84e+06      2e-06      1.000     -1.34e+07  1.34e+07\n",
       "City[T.Walnut Creek]        -9.4512   6.84e+06  -1.38e-06      1.000     -1.34e+07  1.34e+07\n",
       "City[T.Waltham]             -5.7191        nan        nan        nan           nan       nan\n",
       "City[T.Wilmington]          -5.7191        nan        nan        nan           nan       nan\n",
       "State[T.GA]                 -8.5709   6.84e+06  -1.25e-06      1.000     -1.34e+07  1.34e+07\n",
       "State[T.IL]                 -4.4263        nan        nan        nan           nan       nan\n",
       "State[T.MA]                 -4.3948        nan        nan        nan           nan       nan\n",
       "State[T.NJ]                 -8.9877   4.86e+10  -1.85e-10      1.000     -9.52e+10  9.52e+10\n",
       "State[T.NY]                 -6.2153        nan        nan        nan           nan       nan\n",
       "State[T.TX]                 -4.8071   5.86e+07   -8.2e-08      1.000     -1.15e+08  1.15e+08\n",
       "State[T.WA]                 -1.0885        nan        nan        nan           nan       nan\n",
       "============================================================================================\n",
       "\"\"\""
      ]
     },
     "execution_count": 238,
     "metadata": {},
     "output_type": "execute_result"
    }
   ],
   "source": [
    "model = sm.logit(\"Salary_bin ~ City+State\", data=jobs).fit(method = 'ncg')\n",
    "model.summary()"
   ]
  },
  {
   "cell_type": "markdown",
   "metadata": {
    "focus": false,
    "id": "1ecd7811-d200-44bc-942f-4beb76d2689c"
   },
   "source": [
    "#### Create a few new variables in your dataframe to represent interesting features of a job title.\n",
    "- For example, create a feature that represents whether 'Senior' or 'Manager' is in the title \n",
    "- Then build a new Logistic Regression model with these features. Do they add any value? \n"
   ]
  },
  {
   "cell_type": "code",
   "execution_count": 183,
   "metadata": {
    "collapsed": false,
    "focus": false,
    "id": "b847f46e-1626-4340-86fb-08dea8c31a84"
   },
   "outputs": [],
   "source": [
    "# create senior, director, and manager dummies\n",
    "jobs['is_senior'] = jobs['Title'].str.contains('Senior').astype(int)\n",
    "jobs['is_manager'] = jobs['Title'].str.contains('Manager').astype(int)\n",
    "jobs['data'] = jobs['Title'].str.contains('Data').astype(int)\n",
    "jobs['is_analyst'] = jobs['Title'].str.contains('Analyst').astype(int)\n",
    "jobs['quantitative'] = jobs['Title'].str.contains('Quantitative').astype(int)\n",
    "jobs['machine'] = jobs['Title'].str.contains('Machine').astype(int)\n",
    "jobs['is_scientist'] = jobs['Title'].str.contains('Scientist').astype(int)\n",
    "jobs['is_lead'] = jobs['Title'].str.contains('Lead').astype(int)"
   ]
  },
  {
   "cell_type": "code",
   "execution_count": 214,
   "metadata": {
    "collapsed": false,
    "scrolled": true
   },
   "outputs": [
    {
     "name": "stdout",
     "output_type": "stream",
     "text": [
      "Optimization terminated successfully.\n",
      "         Current function value: 0.325006\n",
      "         Iterations: 15\n",
      "         Function evaluations: 16\n",
      "         Gradient evaluations: 30\n",
      "         Hessian evaluations: 15\n"
     ]
    },
    {
     "data": {
      "text/html": [
       "<table class=\"simpletable\">\n",
       "<caption>Logit Regression Results</caption>\n",
       "<tr>\n",
       "  <th>Dep. Variable:</th>    <td>Salary_bin</td>    <th>  No. Observations:  </th>  <td>   345</td>  \n",
       "</tr>\n",
       "<tr>\n",
       "  <th>Model:</th>               <td>Logit</td>      <th>  Df Residuals:      </th>  <td>   287</td>  \n",
       "</tr>\n",
       "<tr>\n",
       "  <th>Method:</th>               <td>MLE</td>       <th>  Df Model:          </th>  <td>    57</td>  \n",
       "</tr>\n",
       "<tr>\n",
       "  <th>Date:</th>          <td>Mon, 21 Nov 2016</td> <th>  Pseudo R-squ.:     </th>  <td>0.5311</td>  \n",
       "</tr>\n",
       "<tr>\n",
       "  <th>Time:</th>              <td>20:19:55</td>     <th>  Log-Likelihood:    </th> <td> -112.13</td> \n",
       "</tr>\n",
       "<tr>\n",
       "  <th>converged:</th>           <td>True</td>       <th>  LL-Null:           </th> <td> -239.12</td> \n",
       "</tr>\n",
       "<tr>\n",
       "  <th> </th>                      <td> </td>        <th>  LLR p-value:       </th> <td>1.114e-26</td>\n",
       "</tr>\n",
       "</table>\n",
       "<table class=\"simpletable\">\n",
       "<tr>\n",
       "              <td></td>                <th>coef</th>     <th>std err</th>      <th>z</th>      <th>P>|z|</th> <th>[95.0% Conf. Int.]</th> \n",
       "</tr>\n",
       "<tr>\n",
       "  <th>Intercept</th>                <td>   -2.5121</td> <td> 6.01e+06</td> <td>-4.18e-07</td> <td> 1.000</td> <td>-1.18e+07  1.18e+07</td>\n",
       "</tr>\n",
       "<tr>\n",
       "  <th>State[T.GA]</th>              <td>  -10.3552</td> <td> 6.01e+06</td> <td>-1.72e-06</td> <td> 1.000</td> <td>-1.18e+07  1.18e+07</td>\n",
       "</tr>\n",
       "<tr>\n",
       "  <th>State[T.IL]</th>              <td>   -3.9723</td> <td> 1.07e+08</td> <td>-3.71e-08</td> <td> 1.000</td> <td> -2.1e+08   2.1e+08</td>\n",
       "</tr>\n",
       "<tr>\n",
       "  <th>State[T.MA]</th>              <td>   -4.2422</td> <td>      nan</td> <td>      nan</td> <td>   nan</td> <td>      nan       nan</td>\n",
       "</tr>\n",
       "<tr>\n",
       "  <th>State[T.NJ]</th>              <td>   -9.5132</td> <td>      nan</td> <td>      nan</td> <td>   nan</td> <td>      nan       nan</td>\n",
       "</tr>\n",
       "<tr>\n",
       "  <th>State[T.NY]</th>              <td>   -6.5702</td> <td>      nan</td> <td>      nan</td> <td>   nan</td> <td>      nan       nan</td>\n",
       "</tr>\n",
       "<tr>\n",
       "  <th>State[T.TX]</th>              <td>   -6.1589</td> <td>      nan</td> <td>      nan</td> <td>   nan</td> <td>      nan       nan</td>\n",
       "</tr>\n",
       "<tr>\n",
       "  <th>State[T.WA]</th>              <td>   -1.5271</td> <td> 6.13e+07</td> <td>-2.49e-08</td> <td> 1.000</td> <td> -1.2e+08   1.2e+08</td>\n",
       "</tr>\n",
       "<tr>\n",
       "  <th>City[T.Andover]</th>          <td>   -5.5597</td> <td>      nan</td> <td>      nan</td> <td>   nan</td> <td>      nan       nan</td>\n",
       "</tr>\n",
       "<tr>\n",
       "  <th>City[T.Atlanta]</th>          <td>    9.0088</td> <td>  331.549</td> <td>    0.027</td> <td> 0.978</td> <td> -640.815   658.833</td>\n",
       "</tr>\n",
       "<tr>\n",
       "  <th>City[T.Bedford]</th>          <td>   -5.9530</td> <td>      nan</td> <td>      nan</td> <td>   nan</td> <td>      nan       nan</td>\n",
       "</tr>\n",
       "<tr>\n",
       "  <th>City[T.Bellevue]</th>         <td>    2.8676</td> <td> 6.05e+07</td> <td> 4.74e-08</td> <td> 1.000</td> <td>-1.19e+08  1.19e+08</td>\n",
       "</tr>\n",
       "<tr>\n",
       "  <th>City[T.Berkeley]</th>         <td>    3.3175</td> <td> 6.01e+06</td> <td> 5.52e-07</td> <td> 1.000</td> <td>-1.18e+07  1.18e+07</td>\n",
       "</tr>\n",
       "<tr>\n",
       "  <th>City[T.Boston]</th>           <td>    6.4491</td> <td>      nan</td> <td>      nan</td> <td>   nan</td> <td>      nan       nan</td>\n",
       "</tr>\n",
       "<tr>\n",
       "  <th>City[T.Brisbane]</th>         <td>   13.4800</td> <td> 6.01e+06</td> <td> 2.24e-06</td> <td> 1.000</td> <td>-1.18e+07  1.18e+07</td>\n",
       "</tr>\n",
       "<tr>\n",
       "  <th>City[T.Burbank]</th>          <td>  -11.8479</td> <td> 6.01e+06</td> <td>-1.97e-06</td> <td> 1.000</td> <td>-1.18e+07  1.18e+07</td>\n",
       "</tr>\n",
       "<tr>\n",
       "  <th>City[T.Cambridge]</th>        <td>    4.4741</td> <td>      nan</td> <td>      nan</td> <td>   nan</td> <td>      nan       nan</td>\n",
       "</tr>\n",
       "<tr>\n",
       "  <th>City[T.Campbell]</th>         <td>    1.5316</td> <td> 6.01e+06</td> <td> 2.55e-07</td> <td> 1.000</td> <td>-1.18e+07  1.18e+07</td>\n",
       "</tr>\n",
       "<tr>\n",
       "  <th>City[T.Chatsworth]</th>       <td>   -4.1910</td> <td> 6.01e+06</td> <td>-6.97e-07</td> <td> 1.000</td> <td>-1.18e+07  1.18e+07</td>\n",
       "</tr>\n",
       "<tr>\n",
       "  <th>City[T.Chicago]</th>          <td>    5.1446</td> <td> 1.05e+08</td> <td> 4.88e-08</td> <td> 1.000</td> <td>-2.06e+08  2.06e+08</td>\n",
       "</tr>\n",
       "<tr>\n",
       "  <th>City[T.Culver City]</th>      <td>    0.7035</td> <td> 6.01e+06</td> <td> 1.17e-07</td> <td> 1.000</td> <td>-1.18e+07  1.18e+07</td>\n",
       "</tr>\n",
       "<tr>\n",
       "  <th>City[T.Cypress]</th>          <td>   -8.6868</td> <td> 6.01e+06</td> <td>-1.44e-06</td> <td> 1.000</td> <td>-1.18e+07  1.18e+07</td>\n",
       "</tr>\n",
       "<tr>\n",
       "  <th>City[T.Dallas]</th>           <td>    5.4890</td> <td>      nan</td> <td>      nan</td> <td>   nan</td> <td>      nan       nan</td>\n",
       "</tr>\n",
       "<tr>\n",
       "  <th>City[T.Emeryville]</th>       <td>   -9.8874</td> <td> 6.01e+06</td> <td>-1.64e-06</td> <td> 1.000</td> <td>-1.18e+07  1.18e+07</td>\n",
       "</tr>\n",
       "<tr>\n",
       "  <th>City[T.Evanston]</th>         <td>   -1.0661</td> <td> 1.05e+08</td> <td>-1.01e-08</td> <td> 1.000</td> <td>-2.06e+08  2.06e+08</td>\n",
       "</tr>\n",
       "<tr>\n",
       "  <th>City[T.Framingham]</th>       <td>   -7.6003</td> <td>      nan</td> <td>      nan</td> <td>   nan</td> <td>      nan       nan</td>\n",
       "</tr>\n",
       "<tr>\n",
       "  <th>City[T.Glenview]</th>         <td>   -8.0508</td> <td> 1.05e+08</td> <td>-7.64e-08</td> <td> 1.000</td> <td>-2.06e+08  2.06e+08</td>\n",
       "</tr>\n",
       "<tr>\n",
       "  <th>City[T.Hoboken]</th>          <td>   -2.0343</td> <td>      nan</td> <td>      nan</td> <td>   nan</td> <td>      nan       nan</td>\n",
       "</tr>\n",
       "<tr>\n",
       "  <th>City[T.Irving]</th>           <td>   -7.6962</td> <td>      nan</td> <td>      nan</td> <td>   nan</td> <td>      nan       nan</td>\n",
       "</tr>\n",
       "<tr>\n",
       "  <th>City[T.Kenilworth]</th>       <td>   -1.7000</td> <td>      nan</td> <td>      nan</td> <td>   nan</td> <td>      nan       nan</td>\n",
       "</tr>\n",
       "<tr>\n",
       "  <th>City[T.Long Island City]</th> <td>   -4.1549</td> <td>      nan</td> <td>      nan</td> <td>   nan</td> <td>      nan       nan</td>\n",
       "</tr>\n",
       "<tr>\n",
       "  <th>City[T.Los Angeles]</th>      <td>    0.8962</td> <td> 6.01e+06</td> <td> 1.49e-07</td> <td> 1.000</td> <td>-1.18e+07  1.18e+07</td>\n",
       "</tr>\n",
       "<tr>\n",
       "  <th>City[T.Lowell]</th>           <td>   19.1706</td> <td>      nan</td> <td>      nan</td> <td>   nan</td> <td>      nan       nan</td>\n",
       "</tr>\n",
       "<tr>\n",
       "  <th>City[T.Manhattan]</th>        <td>   -7.0235</td> <td>      nan</td> <td>      nan</td> <td>   nan</td> <td>      nan       nan</td>\n",
       "</tr>\n",
       "<tr>\n",
       "  <th>City[T.Maynard]</th>          <td>   -5.9530</td> <td>      nan</td> <td>      nan</td> <td>   nan</td> <td>      nan       nan</td>\n",
       "</tr>\n",
       "<tr>\n",
       "  <th>City[T.Menlo Park]</th>       <td>    2.5121</td> <td> 6.01e+06</td> <td> 4.18e-07</td> <td> 1.000</td> <td>-1.18e+07  1.18e+07</td>\n",
       "</tr>\n",
       "<tr>\n",
       "  <th>City[T.Milpitas]</th>         <td>   14.1531</td> <td> 6.01e+06</td> <td> 2.35e-06</td> <td> 1.000</td> <td>-1.18e+07  1.18e+07</td>\n",
       "</tr>\n",
       "<tr>\n",
       "  <th>City[T.Mountain View]</th>    <td>   13.7512</td> <td> 6.01e+06</td> <td> 2.29e-06</td> <td> 1.000</td> <td>-1.18e+07  1.18e+07</td>\n",
       "</tr>\n",
       "<tr>\n",
       "  <th>City[T.New York]</th>         <td>    8.3725</td> <td>      nan</td> <td>      nan</td> <td>   nan</td> <td>      nan       nan</td>\n",
       "</tr>\n",
       "<tr>\n",
       "  <th>City[T.Oakland]</th>          <td>  -10.4017</td> <td> 6.01e+06</td> <td>-1.73e-06</td> <td> 1.000</td> <td>-1.18e+07  1.18e+07</td>\n",
       "</tr>\n",
       "<tr>\n",
       "  <th>City[T.Orangeburg]</th>       <td>   -3.7643</td> <td>      nan</td> <td>      nan</td> <td>   nan</td> <td>      nan       nan</td>\n",
       "</tr>\n",
       "<tr>\n",
       "  <th>City[T.Palo Alto]</th>        <td>    3.8287</td> <td> 6.01e+06</td> <td> 6.37e-07</td> <td> 1.000</td> <td>-1.18e+07  1.18e+07</td>\n",
       "</tr>\n",
       "<tr>\n",
       "  <th>City[T.Parsippany]</th>       <td>   -2.2672</td> <td>      nan</td> <td>      nan</td> <td>   nan</td> <td>      nan       nan</td>\n",
       "</tr>\n",
       "<tr>\n",
       "  <th>City[T.Pasadena]</th>         <td>   -9.4911</td> <td> 6.01e+06</td> <td>-1.58e-06</td> <td> 1.000</td> <td>-1.18e+07  1.18e+07</td>\n",
       "</tr>\n",
       "<tr>\n",
       "  <th>City[T.Port Orchard]</th>     <td>   -8.5199</td> <td> 6.05e+07</td> <td>-1.41e-07</td> <td> 1.000</td> <td>-1.19e+08  1.19e+08</td>\n",
       "</tr>\n",
       "<tr>\n",
       "  <th>City[T.Redwood City]</th>     <td>   16.4902</td> <td> 6.01e+06</td> <td> 2.74e-06</td> <td> 1.000</td> <td>-1.18e+07  1.18e+07</td>\n",
       "</tr>\n",
       "<tr>\n",
       "  <th>City[T.Richardson]</th>       <td>   -3.9517</td> <td>      nan</td> <td>      nan</td> <td>   nan</td> <td>      nan       nan</td>\n",
       "</tr>\n",
       "<tr>\n",
       "  <th>City[T.Rochelle Park]</th>    <td>   -3.5118</td> <td>      nan</td> <td>      nan</td> <td>   nan</td> <td>      nan       nan</td>\n",
       "</tr>\n",
       "<tr>\n",
       "  <th>City[T.Rowland Heights]</th>  <td>   -9.8940</td> <td> 6.01e+06</td> <td>-1.65e-06</td> <td> 1.000</td> <td>-1.18e+07  1.18e+07</td>\n",
       "</tr>\n",
       "<tr>\n",
       "  <th>City[T.San Francisco]</th>    <td>    4.4886</td> <td> 6.01e+06</td> <td> 7.46e-07</td> <td> 1.000</td> <td>-1.18e+07  1.18e+07</td>\n",
       "</tr>\n",
       "<tr>\n",
       "  <th>City[T.San Jose]</th>         <td>    4.3639</td> <td> 6.01e+06</td> <td> 7.26e-07</td> <td> 1.000</td> <td>-1.18e+07  1.18e+07</td>\n",
       "</tr>\n",
       "<tr>\n",
       "  <th>City[T.Santa Clara]</th>      <td>   15.5495</td> <td> 6.01e+06</td> <td> 2.59e-06</td> <td> 1.000</td> <td>-1.18e+07  1.18e+07</td>\n",
       "</tr>\n",
       "<tr>\n",
       "  <th>City[T.Seattle]</th>          <td>    4.1252</td> <td> 6.05e+07</td> <td> 6.82e-08</td> <td> 1.000</td> <td>-1.19e+08  1.19e+08</td>\n",
       "</tr>\n",
       "<tr>\n",
       "  <th>City[T.Sunnyvale]</th>        <td>   14.6082</td> <td> 6.01e+06</td> <td> 2.43e-06</td> <td> 1.000</td> <td>-1.18e+07  1.18e+07</td>\n",
       "</tr>\n",
       "<tr>\n",
       "  <th>City[T.Walnut Creek]</th>     <td>   -5.4473</td> <td> 6.01e+06</td> <td>-9.06e-07</td> <td> 1.000</td> <td>-1.18e+07  1.18e+07</td>\n",
       "</tr>\n",
       "<tr>\n",
       "  <th>City[T.Waltham]</th>          <td>   -7.2059</td> <td>      nan</td> <td>      nan</td> <td>   nan</td> <td>      nan       nan</td>\n",
       "</tr>\n",
       "<tr>\n",
       "  <th>City[T.Wilmington]</th>       <td>   -2.0641</td> <td>      nan</td> <td>      nan</td> <td>   nan</td> <td>      nan       nan</td>\n",
       "</tr>\n",
       "<tr>\n",
       "  <th>is_lead</th>                  <td>    1.6765</td> <td>    0.883</td> <td>    1.899</td> <td> 0.058</td> <td>   -0.054     3.407</td>\n",
       "</tr>\n",
       "<tr>\n",
       "  <th>is_scientist</th>             <td>   -0.3965</td> <td>    0.463</td> <td>   -0.856</td> <td> 0.392</td> <td>   -1.304     0.511</td>\n",
       "</tr>\n",
       "<tr>\n",
       "  <th>machine</th>                  <td>    1.9610</td> <td>    0.715</td> <td>    2.741</td> <td> 0.006</td> <td>    0.559     3.363</td>\n",
       "</tr>\n",
       "<tr>\n",
       "  <th>quantitative</th>             <td>    8.5203</td> <td>    2.029</td> <td>    4.199</td> <td> 0.000</td> <td>    4.543    12.497</td>\n",
       "</tr>\n",
       "<tr>\n",
       "  <th>is_analyst</th>               <td>   -5.7034</td> <td>    1.907</td> <td>   -2.990</td> <td> 0.003</td> <td>   -9.442    -1.965</td>\n",
       "</tr>\n",
       "<tr>\n",
       "  <th>data</th>                     <td>    1.6563</td> <td>    0.458</td> <td>    3.619</td> <td> 0.000</td> <td>    0.759     2.553</td>\n",
       "</tr>\n",
       "<tr>\n",
       "  <th>is_manager</th>               <td>   -1.2013</td> <td>    0.802</td> <td>   -1.498</td> <td> 0.134</td> <td>   -2.773     0.370</td>\n",
       "</tr>\n",
       "<tr>\n",
       "  <th>is_senior</th>                <td>    0.4095</td> <td>    0.499</td> <td>    0.821</td> <td> 0.412</td> <td>   -0.568     1.388</td>\n",
       "</tr>\n",
       "</table>"
      ],
      "text/plain": [
       "<class 'statsmodels.iolib.summary.Summary'>\n",
       "\"\"\"\n",
       "                           Logit Regression Results                           \n",
       "==============================================================================\n",
       "Dep. Variable:             Salary_bin   No. Observations:                  345\n",
       "Model:                          Logit   Df Residuals:                      287\n",
       "Method:                           MLE   Df Model:                           57\n",
       "Date:                Mon, 21 Nov 2016   Pseudo R-squ.:                  0.5311\n",
       "Time:                        20:19:55   Log-Likelihood:                -112.13\n",
       "converged:                       True   LL-Null:                       -239.12\n",
       "                                        LLR p-value:                 1.114e-26\n",
       "============================================================================================\n",
       "                               coef    std err          z      P>|z|      [95.0% Conf. Int.]\n",
       "--------------------------------------------------------------------------------------------\n",
       "Intercept                   -2.5121   6.01e+06  -4.18e-07      1.000     -1.18e+07  1.18e+07\n",
       "State[T.GA]                -10.3552   6.01e+06  -1.72e-06      1.000     -1.18e+07  1.18e+07\n",
       "State[T.IL]                 -3.9723   1.07e+08  -3.71e-08      1.000      -2.1e+08   2.1e+08\n",
       "State[T.MA]                 -4.2422        nan        nan        nan           nan       nan\n",
       "State[T.NJ]                 -9.5132        nan        nan        nan           nan       nan\n",
       "State[T.NY]                 -6.5702        nan        nan        nan           nan       nan\n",
       "State[T.TX]                 -6.1589        nan        nan        nan           nan       nan\n",
       "State[T.WA]                 -1.5271   6.13e+07  -2.49e-08      1.000      -1.2e+08   1.2e+08\n",
       "City[T.Andover]             -5.5597        nan        nan        nan           nan       nan\n",
       "City[T.Atlanta]              9.0088    331.549      0.027      0.978      -640.815   658.833\n",
       "City[T.Bedford]             -5.9530        nan        nan        nan           nan       nan\n",
       "City[T.Bellevue]             2.8676   6.05e+07   4.74e-08      1.000     -1.19e+08  1.19e+08\n",
       "City[T.Berkeley]             3.3175   6.01e+06   5.52e-07      1.000     -1.18e+07  1.18e+07\n",
       "City[T.Boston]               6.4491        nan        nan        nan           nan       nan\n",
       "City[T.Brisbane]            13.4800   6.01e+06   2.24e-06      1.000     -1.18e+07  1.18e+07\n",
       "City[T.Burbank]            -11.8479   6.01e+06  -1.97e-06      1.000     -1.18e+07  1.18e+07\n",
       "City[T.Cambridge]            4.4741        nan        nan        nan           nan       nan\n",
       "City[T.Campbell]             1.5316   6.01e+06   2.55e-07      1.000     -1.18e+07  1.18e+07\n",
       "City[T.Chatsworth]          -4.1910   6.01e+06  -6.97e-07      1.000     -1.18e+07  1.18e+07\n",
       "City[T.Chicago]              5.1446   1.05e+08   4.88e-08      1.000     -2.06e+08  2.06e+08\n",
       "City[T.Culver City]          0.7035   6.01e+06   1.17e-07      1.000     -1.18e+07  1.18e+07\n",
       "City[T.Cypress]             -8.6868   6.01e+06  -1.44e-06      1.000     -1.18e+07  1.18e+07\n",
       "City[T.Dallas]               5.4890        nan        nan        nan           nan       nan\n",
       "City[T.Emeryville]          -9.8874   6.01e+06  -1.64e-06      1.000     -1.18e+07  1.18e+07\n",
       "City[T.Evanston]            -1.0661   1.05e+08  -1.01e-08      1.000     -2.06e+08  2.06e+08\n",
       "City[T.Framingham]          -7.6003        nan        nan        nan           nan       nan\n",
       "City[T.Glenview]            -8.0508   1.05e+08  -7.64e-08      1.000     -2.06e+08  2.06e+08\n",
       "City[T.Hoboken]             -2.0343        nan        nan        nan           nan       nan\n",
       "City[T.Irving]              -7.6962        nan        nan        nan           nan       nan\n",
       "City[T.Kenilworth]          -1.7000        nan        nan        nan           nan       nan\n",
       "City[T.Long Island City]    -4.1549        nan        nan        nan           nan       nan\n",
       "City[T.Los Angeles]          0.8962   6.01e+06   1.49e-07      1.000     -1.18e+07  1.18e+07\n",
       "City[T.Lowell]              19.1706        nan        nan        nan           nan       nan\n",
       "City[T.Manhattan]           -7.0235        nan        nan        nan           nan       nan\n",
       "City[T.Maynard]             -5.9530        nan        nan        nan           nan       nan\n",
       "City[T.Menlo Park]           2.5121   6.01e+06   4.18e-07      1.000     -1.18e+07  1.18e+07\n",
       "City[T.Milpitas]            14.1531   6.01e+06   2.35e-06      1.000     -1.18e+07  1.18e+07\n",
       "City[T.Mountain View]       13.7512   6.01e+06   2.29e-06      1.000     -1.18e+07  1.18e+07\n",
       "City[T.New York]             8.3725        nan        nan        nan           nan       nan\n",
       "City[T.Oakland]            -10.4017   6.01e+06  -1.73e-06      1.000     -1.18e+07  1.18e+07\n",
       "City[T.Orangeburg]          -3.7643        nan        nan        nan           nan       nan\n",
       "City[T.Palo Alto]            3.8287   6.01e+06   6.37e-07      1.000     -1.18e+07  1.18e+07\n",
       "City[T.Parsippany]          -2.2672        nan        nan        nan           nan       nan\n",
       "City[T.Pasadena]            -9.4911   6.01e+06  -1.58e-06      1.000     -1.18e+07  1.18e+07\n",
       "City[T.Port Orchard]        -8.5199   6.05e+07  -1.41e-07      1.000     -1.19e+08  1.19e+08\n",
       "City[T.Redwood City]        16.4902   6.01e+06   2.74e-06      1.000     -1.18e+07  1.18e+07\n",
       "City[T.Richardson]          -3.9517        nan        nan        nan           nan       nan\n",
       "City[T.Rochelle Park]       -3.5118        nan        nan        nan           nan       nan\n",
       "City[T.Rowland Heights]     -9.8940   6.01e+06  -1.65e-06      1.000     -1.18e+07  1.18e+07\n",
       "City[T.San Francisco]        4.4886   6.01e+06   7.46e-07      1.000     -1.18e+07  1.18e+07\n",
       "City[T.San Jose]             4.3639   6.01e+06   7.26e-07      1.000     -1.18e+07  1.18e+07\n",
       "City[T.Santa Clara]         15.5495   6.01e+06   2.59e-06      1.000     -1.18e+07  1.18e+07\n",
       "City[T.Seattle]              4.1252   6.05e+07   6.82e-08      1.000     -1.19e+08  1.19e+08\n",
       "City[T.Sunnyvale]           14.6082   6.01e+06   2.43e-06      1.000     -1.18e+07  1.18e+07\n",
       "City[T.Walnut Creek]        -5.4473   6.01e+06  -9.06e-07      1.000     -1.18e+07  1.18e+07\n",
       "City[T.Waltham]             -7.2059        nan        nan        nan           nan       nan\n",
       "City[T.Wilmington]          -2.0641        nan        nan        nan           nan       nan\n",
       "is_lead                      1.6765      0.883      1.899      0.058        -0.054     3.407\n",
       "is_scientist                -0.3965      0.463     -0.856      0.392        -1.304     0.511\n",
       "machine                      1.9610      0.715      2.741      0.006         0.559     3.363\n",
       "quantitative                 8.5203      2.029      4.199      0.000         4.543    12.497\n",
       "is_analyst                  -5.7034      1.907     -2.990      0.003        -9.442    -1.965\n",
       "data                         1.6563      0.458      3.619      0.000         0.759     2.553\n",
       "is_manager                  -1.2013      0.802     -1.498      0.134        -2.773     0.370\n",
       "is_senior                    0.4095      0.499      0.821      0.412        -0.568     1.388\n",
       "============================================================================================\n",
       "\"\"\""
      ]
     },
     "execution_count": 214,
     "metadata": {},
     "output_type": "execute_result"
    }
   ],
   "source": [
    "model = sm.logit(\"Salary_bin ~ State+City + is_lead + is_scientist + machine + quantitative + is_analyst + data + is_manager + is_senior\", data=jobs).fit(method = 'ncg')\n",
    "model.summary()"
   ]
  },
  {
   "cell_type": "markdown",
   "metadata": {
    "focus": false,
    "id": "7ca5cfdd-958c-4199-aafa-3d3f6c5ba3c4"
   },
   "source": [
    "#### Rebuild this model with scikit-learn.\n",
    "- You can either create the dummy features manually or use the `dmatrix` function from `patsy`\n",
    "- Remember to scale the feature variables as well!\n"
   ]
  },
  {
   "cell_type": "code",
   "execution_count": 198,
   "metadata": {
    "collapsed": false,
    "focus": false,
    "id": "c75a97f1-f30c-48b3-97cb-eaf7d525c734"
   },
   "outputs": [],
   "source": [
    "# scale, (patsy optional), and fit\n",
    "from sklearn.linear_model import LogisticRegression\n",
    "from sklearn.preprocessing import StandardScaler\n",
    "from patsy import dmatrix\n",
    "from sklearn.cross_validation import train_test_split\n",
    "from sklearn.metrics import confusion_matrix\n",
    "from sklearn.metrics import roc_curve, auc\n",
    "import matplotlib.pyplot as plt\n",
    "from sklearn.metrics import classification_report\n",
    "plt.style.use('seaborn-white')\n",
    "%matplotlib inline"
   ]
  },
  {
   "cell_type": "code",
   "execution_count": 189,
   "metadata": {
    "collapsed": true
   },
   "outputs": [],
   "source": [
    "X = dmatrix('~C(City) + C(State)+is_lead + is_scientist + machine + quantitative + is_analyst + data + is_manager + is_senior', data = jobs)\n",
    "y = jobs['Salary_bin'].values\n",
    "\n",
    "X_train, X_test, Y_train, Y_test = train_test_split(X,y, test_size = 0.33, stratify = y,random_state=77)\n",
    "\n",
    "\n",
    "logreg = LogisticRegression(random_state=77)\n",
    "logreg.fit(X_train, Y_train)\n",
    "Y_pred = logreg.predict(X_test)"
   ]
  },
  {
   "cell_type": "code",
   "execution_count": 190,
   "metadata": {
    "collapsed": false
   },
   "outputs": [
    {
     "data": {
      "text/plain": [
       "array([[-0.26903244, -0.16793339, -0.84074125, -0.18586819,  0.34214172,\n",
       "         0.17416575,  0.72771773,  0.38381836,  0.        , -0.20388116,\n",
       "         0.        , -0.11907346,  0.07308802, -0.24370624, -0.19368285,\n",
       "         0.11067992,  0.        ,  0.        , -0.38199388, -0.47544213,\n",
       "        -0.17608479, -0.65829431,  0.        , -0.2636278 , -0.1309576 ,\n",
       "         0.        , -1.06179835, -0.18586819, -0.30158732,  0.40889768,\n",
       "         0.        ,  0.85661932, -0.49759894, -0.18093528,  0.89368193,\n",
       "        -0.28528155, -0.27750318, -0.28620574,  0.81144324, -0.17206925,\n",
       "        -0.36760178, -0.44871882,  1.62848502,  1.11659167,  0.89519299,\n",
       "        -0.14549989,  0.50761224, -0.25273492, -0.35534015,  0.        ,\n",
       "        -1.17987889, -0.40235411, -0.75316723, -0.82896812, -0.64974211,\n",
       "        -0.71968363, -0.08956391,  0.70388268, -0.14120263,  1.36811424,\n",
       "         2.26906779, -1.34425028,  1.19213616, -0.69453381,  0.26659173]])"
      ]
     },
     "execution_count": 190,
     "metadata": {},
     "output_type": "execute_result"
    }
   ],
   "source": [
    "logreg.coef_"
   ]
  },
  {
   "cell_type": "code",
   "execution_count": 193,
   "metadata": {
    "collapsed": false
   },
   "outputs": [
    {
     "name": "stdout",
     "output_type": "stream",
     "text": [
      "             predicted_high  predicted_low\n",
      "High Salary              45             12\n",
      "Low Salary               13             44\n"
     ]
    }
   ],
   "source": [
    "conmat = np.array(confusion_matrix(Y_test, Y_pred, labels=[1,0]))\n",
    "\n",
    "confusion = pd.DataFrame(conmat, index=['High Salary', 'Low Salary'],columns=['predicted_high','predicted_low'])\n",
    "\n",
    "print(confusion)"
   ]
  },
  {
   "cell_type": "code",
   "execution_count": 199,
   "metadata": {
    "collapsed": false
   },
   "outputs": [
    {
     "name": "stdout",
     "output_type": "stream",
     "text": [
      "             precision    recall  f1-score   support\n",
      "\n",
      "          0       0.79      0.77      0.78        57\n",
      "          1       0.78      0.79      0.78        57\n",
      "\n",
      "avg / total       0.78      0.78      0.78       114\n",
      "\n"
     ]
    }
   ],
   "source": [
    "print classification_report(Y_test, Y_pred)"
   ]
  },
  {
   "cell_type": "code",
   "execution_count": 196,
   "metadata": {
    "collapsed": false
   },
   "outputs": [
    {
     "data": {
      "image/png": "[encoded data removed]",
      "text/plain": [
       "<matplotlib.figure.Figure at 0x493534dd0>"
      ]
     },
     "metadata": {},
     "output_type": "display_data"
    }
   ],
   "source": [
    "Y_score = logreg.decision_function(X_test)\n",
    "\n",
    "FPR = dict()\n",
    "TPR = dict()\n",
    "ROC_AUC = dict()\n",
    "\n",
    "# For class 1, find the area under the curve\n",
    "FPR[1], TPR[1], _ = roc_curve(Y_test, Y_score)\n",
    "ROC_AUC[1] = auc(FPR[1], TPR[1])\n",
    "\n",
    "# Plot of a ROC curve for class 1 (\"High Salary\")\n",
    "plt.figure(figsize=[9,7])\n",
    "plt.plot(FPR[1], TPR[1], label='ROC curve (area = %0.2f)' % ROC_AUC[1], linewidth=4)\n",
    "plt.plot([0, 1], [0, 1], 'k--', linewidth=4)\n",
    "plt.xlim([0.0, 1.0])\n",
    "plt.ylim([0.0, 1.05])\n",
    "plt.xlabel('False Positive Rate', fontsize=18)\n",
    "plt.ylabel('True Positive Rate', fontsize=18)\n",
    "plt.title('Receiver operating characteristic for Salary Classification', fontsize=18)\n",
    "plt.legend(loc=\"lower right\")\n",
    "plt.show()"
   ]
  },
  {
   "cell_type": "markdown",
   "metadata": {
    "focus": false,
    "id": "1e6c6902-2b4a-49f0-b4c7-935a26577d22"
   },
   "source": [
    "#### Use cross-validation in scikit-learn to evaluate the model above. \n",
    "- Evaluate the accuracy, AUC, precision and recall of the model. \n",
    "- Discuss the differences and explain when you want a high-recall or a high-precision model in this scenario."
   ]
  },
  {
   "cell_type": "markdown",
   "metadata": {},
   "source": [
    "Accuracy is the number of correct guesses divided by all of the guesses. We have correctly predicted 45 job offers to have 'high' salaries and 44 job offers to have 'low' salaries. We have incorrectly labeled 13 'low' salaries to be 'high, and 12 'high' salaries to be 'low'. The accuracy of our model, therefore, is 89/114 or 0.78\n",
    "\n",
    "Precision is the ratio of correctly identified 'high' salary job offers to the number of total job offers labeled as 'high' in our model. For this model, precision is 0.78 or 78% of our guesses for 'high' values were True\n",
    "\n",
    "Recall is the number of correctly identified 'high' values in proportion to the the total number of 'high' values. With a value of 0.79 for our model, this means we have correctly identified 79% of all the 'high' values\n",
    "\n",
    "Whereas accuracy takes the correct guesses for both cases and evaluates how we did overall, precision looks only at one class and looks to identify how well we have performed for that specific class ('high' or 'low'). Recall aims at evaluating how likely our model is to identify the instances of one of the classes\n",
    "\n",
    "We want our model to have higher precision when it is important to avoid False Positives, or avoid labeling 'low' salaries as 'high' in our case.\n",
    "On the other hand, we would like our model to have a higher recall if it is important to identify as many 'high' salaries as possible, even if that means incorrectly identifying many more 'low' salaries as 'high'"
   ]
  },
  {
   "cell_type": "code",
   "execution_count": 200,
   "metadata": {
    "collapsed": false,
    "focus": false,
    "id": "3667427c-6534-4dcd-8770-f492b0e3a39e"
   },
   "outputs": [],
   "source": [
    "from sklearn.cross_validation import cross_val_score"
   ]
  },
  {
   "cell_type": "code",
   "execution_count": 201,
   "metadata": {
    "collapsed": false
   },
   "outputs": [
    {
     "name": "stdout",
     "output_type": "stream",
     "text": [
      "[ 0.85714286  0.63768116  0.85507246  0.62318841  0.76470588]\n"
     ]
    }
   ],
   "source": [
    "scores = cross_val_score(logreg, X, y, cv= 5)\n",
    "print scores"
   ]
  },
  {
   "cell_type": "markdown",
   "metadata": {
    "focus": false,
    "id": "4263b1c0-bfde-42bf-ab45-71c7cd798835"
   },
   "source": [
    "### Compare L1 and L2 regularization for this logistic regression model. What effect does this have on the coefficients learned?"
   ]
  },
  {
   "cell_type": "code",
   "execution_count": 220,
   "metadata": {
    "collapsed": false,
    "focus": false,
    "id": "2e7d6a29-a515-468a-9953-9d73a0f81de0"
   },
   "outputs": [
    {
     "data": {
      "text/plain": [
       "array([[-0.29232545,  0.        ,  0.        ,  0.        ,  0.        ,\n",
       "         0.        ,  0.78847963,  0.        ,  0.        ,  0.        ,\n",
       "         0.        ,  0.        ,  0.        ,  0.        ,  0.        ,\n",
       "         0.        ,  0.        ,  0.        ,  0.        ,  0.        ,\n",
       "         0.        ,  0.        ,  0.        ,  0.        ,  0.        ,\n",
       "         0.        , -1.50363789,  0.        ,  0.        ,  0.        ,\n",
       "         0.        ,  0.39628169,  0.        ,  0.        ,  1.0535205 ,\n",
       "         0.        ,  0.        ,  0.        ,  0.72765145,  0.        ,\n",
       "         0.        ,  0.        ,  2.09283889,  1.33734366,  0.86178709,\n",
       "         0.        ,  0.        ,  0.        ,  0.        ,  0.        ,\n",
       "        -1.84005798, -0.02604682, -0.61524281, -0.65969474,  0.        ,\n",
       "        -0.65666885,  0.        ,  0.48223352, -0.01488076,  1.71431601,\n",
       "         3.18781926, -1.88960471,  1.26416659, -0.51224245,  0.        ]])"
      ]
     },
     "execution_count": 220,
     "metadata": {},
     "output_type": "execute_result"
    }
   ],
   "source": [
    "model1 = LogisticRegression(penalty = 'l1', C=1.0)\n",
    "\n",
    "model1.fit(X_train, Y_train)\n",
    "Y_pred = model1.predict(X_test)\n",
    "model1.coef_"
   ]
  },
  {
   "cell_type": "code",
   "execution_count": 221,
   "metadata": {
    "collapsed": false
   },
   "outputs": [
    {
     "data": {
      "text/plain": [
       "array([[-0.26903244, -0.16793339, -0.84074125, -0.18586819,  0.34214172,\n",
       "         0.17416575,  0.72771773,  0.38381836,  0.        , -0.20388116,\n",
       "         0.        , -0.11907346,  0.07308802, -0.24370624, -0.19368285,\n",
       "         0.11067992,  0.        ,  0.        , -0.38199388, -0.47544213,\n",
       "        -0.17608479, -0.65829431,  0.        , -0.2636278 , -0.1309576 ,\n",
       "         0.        , -1.06179835, -0.18586819, -0.30158732,  0.40889768,\n",
       "         0.        ,  0.85661932, -0.49759894, -0.18093528,  0.89368193,\n",
       "        -0.28528155, -0.27750318, -0.28620574,  0.81144324, -0.17206925,\n",
       "        -0.36760178, -0.44871882,  1.62848502,  1.11659167,  0.89519299,\n",
       "        -0.14549989,  0.50761224, -0.25273492, -0.35534015,  0.        ,\n",
       "        -1.17987889, -0.40235411, -0.75316723, -0.82896812, -0.64974211,\n",
       "        -0.71968363, -0.08956391,  0.70388268, -0.14120263,  1.36811424,\n",
       "         2.26906779, -1.34425028,  1.19213616, -0.69453381,  0.26659173]])"
      ]
     },
     "execution_count": 221,
     "metadata": {},
     "output_type": "execute_result"
    }
   ],
   "source": [
    "model2 = LogisticRegression(penalty = 'l2', C=1.0)\n",
    "\n",
    "model2.fit(X_train, Y_train)\n",
    "Y_pred = model2.predict(X_test)\n",
    "model2.coef_"
   ]
  },
  {
   "cell_type": "code",
   "execution_count": 234,
   "metadata": {
    "collapsed": false,
    "focus": false,
    "id": "32d908a3-89d2-474c-a7f0-199bfae6da7e"
   },
   "outputs": [
    {
     "data": {
      "text/plain": [
       "array([[  0.74652554,   1.        ,   1.        ,   1.        ,\n",
       "          1.        ,   1.        ,   2.20004899,   1.        ,\n",
       "          1.        ,   1.        ,   1.        ,   1.        ,\n",
       "          1.        ,   1.        ,   1.        ,   1.        ,\n",
       "          1.        ,   1.        ,   1.        ,   1.        ,\n",
       "          1.        ,   1.        ,   1.        ,   1.        ,\n",
       "          1.        ,   1.        ,   0.22231991,   1.        ,\n",
       "          1.        ,   1.        ,   1.        ,   1.48628793,\n",
       "          1.        ,   1.        ,   2.86772922,   1.        ,\n",
       "          1.        ,   1.        ,   2.0702129 ,   1.        ,\n",
       "          1.        ,   1.        ,   8.10789995,   3.80891228,\n",
       "          2.36738766,   1.        ,   1.        ,   1.        ,\n",
       "          1.        ,   1.        ,   0.15880822,   0.97428947,\n",
       "          0.54050964,   0.51700913,   1.        ,   0.51857592,\n",
       "          1.        ,   1.61968798,   0.98522941,   5.55287611,\n",
       "         24.23551829,   0.15113154,   3.54014113,   0.59915051,   1.        ]])"
      ]
     },
     "execution_count": 234,
     "metadata": {},
     "output_type": "execute_result"
    }
   ],
   "source": [
    "np.exp(model1.coef_)"
   ]
  },
  {
   "cell_type": "code",
   "execution_count": 235,
   "metadata": {
    "collapsed": false
   },
   "outputs": [
    {
     "data": {
      "text/plain": [
       "array([[ 0.76411847,  0.84541014,  0.43139064,  0.83038304,  1.40795982,\n",
       "         1.19025283,  2.07035011,  1.46787879,  1.        ,  0.81555929,\n",
       "         1.        ,  0.88774259,  1.07582523,  0.78371783,  0.82391916,\n",
       "         1.11703731,  1.        ,  1.        ,  0.68249923,  0.62161016,\n",
       "         0.83854688,  0.51773368,  1.        ,  0.76825943,  0.87725497,\n",
       "         1.        ,  0.34583332,  0.83038304,  0.73964324,  1.50515771,\n",
       "         1.        ,  2.35518509,  0.60798873,  0.83448937,  2.44411216,\n",
       "         0.75180256,  0.75767316,  0.75110806,  2.25115459,  0.84192087,\n",
       "         0.69239285,  0.63844559,  5.09614831,  3.05442596,  2.44780814,\n",
       "         0.86458998,  1.66131963,  0.77667374,  0.70093498,  1.        ,\n",
       "         0.30731595,  0.6687439 ,  0.47087283,  0.43649947,  0.52218042,\n",
       "         0.48690627,  0.91432983,  2.02158667,  0.86831335,  3.92793655,\n",
       "         9.67038174,  0.26073511,  3.29411043,  0.49930716,  1.30550734]])"
      ]
     },
     "execution_count": 235,
     "metadata": {},
     "output_type": "execute_result"
    }
   ],
   "source": [
    "np.exp(model2.coef_)"
   ]
  },
  {
   "cell_type": "code",
   "execution_count": 236,
   "metadata": {
    "collapsed": false
   },
   "outputs": [
    {
     "data": {
      "text/plain": [
       "array([[ -0.01759293,   0.15458986,   0.56860936,   0.16961696,\n",
       "         -0.40795982,  -0.19025283,   0.12969888,  -0.46787879,\n",
       "          0.        ,   0.18444071,   0.        ,   0.11225741,\n",
       "         -0.07582523,   0.21628217,   0.17608084,  -0.11703731,\n",
       "          0.        ,   0.        ,   0.31750077,   0.37838984,\n",
       "          0.16145312,   0.48226632,   0.        ,   0.23174057,\n",
       "          0.12274503,   0.        ,  -0.12351341,   0.16961696,\n",
       "          0.26035676,  -0.50515771,   0.        ,  -0.86889717,\n",
       "          0.39201127,   0.16551063,   0.42361705,   0.24819744,\n",
       "          0.24232684,   0.24889194,  -0.1809417 ,   0.15807913,\n",
       "          0.30760715,   0.36155441,   3.01175164,   0.75448631,\n",
       "         -0.08042048,   0.13541002,  -0.66131963,   0.22332626,\n",
       "          0.29906502,   0.        ,  -0.14850774,   0.30554558,\n",
       "          0.06963681,   0.08050967,   0.47781958,   0.03166964,\n",
       "          0.08567017,  -0.40189869,   0.11691606,   1.62493956,\n",
       "         14.56513655,  -0.10960358,   0.2460307 ,   0.09984334,\n",
       "         -0.30550734]])"
      ]
     },
     "execution_count": 236,
     "metadata": {},
     "output_type": "execute_result"
    }
   ],
   "source": [
    "np.exp(model1.coef_)-np.exp(model2.coef_)"
   ]
  },
  {
   "cell_type": "code",
   "execution_count": 237,
   "metadata": {
    "collapsed": false
   },
   "outputs": [
    {
     "data": {
      "text/plain": [
       "23.848883987448147"
      ]
     },
     "execution_count": 237,
     "metadata": {},
     "output_type": "execute_result"
    }
   ],
   "source": [
    "(np.exp(model1.coef_)-np.exp(model2.coef_)).sum()"
   ]
  },
  {
   "cell_type": "markdown",
   "metadata": {},
   "source": [
    "Coefficients appear to have fewer but larger values when we do 'l1' regularization\n",
    "\n",
    "The values are larger for l1 in general"
   ]
  },
  {
   "cell_type": "markdown",
   "metadata": {},
   "source": [
    "# Conclusion"
   ]
  },
  {
   "cell_type": "markdown",
   "metadata": {},
   "source": [
    "Our model was built based on acquiring a dataset of jobs with certain parameters from a web resource indeed.com\n",
    "\n",
    "The employers appear to not consider salary worth publishing in the majority of job postings. This limits our dataset to just a few hundred jobs whose employer chose to quantify the 'Salary' value for one reason or another.\n",
    "\n",
    "Bar graph below shows the number of jobs with salaries we have obtained for the individual states"
   ]
  },
  {
   "cell_type": "code",
   "execution_count": 239,
   "metadata": {
    "collapsed": false
   },
   "outputs": [
    {
     "data": {
      "text/html": [
       "<div class='tableauPlaceholder' id='viz1479822171792' style='position: relative'><noscript><a href='#'><img alt='Number of Jobs by State ' src='https:&#47;&#47;public.tableau.com&#47;static&#47;images&#47;Jo&#47;JobsonIndeed&#47;NumberofjobsbyState&#47;1_rss.png' style='border: none' /></a></noscript><object class='tableauViz'  style='display:none;'><param name='host_url' value='https%3A%2F%2Fpublic.tableau.com%2F' /> <param name='site_root' value='' /><param name='name' value='JobsonIndeed&#47;NumberofjobsbyState' /><param name='tabs' value='no' /><param name='toolbar' value='yes' /><param name='static_image' value='https:&#47;&#47;public.tableau.com&#47;static&#47;images&#47;Jo&#47;JobsonIndeed&#47;NumberofjobsbyState&#47;1.png' /> <param name='animate_transition' value='yes' /><param name='display_static_image' value='yes' /><param name='display_spinner' value='yes' /><param name='display_overlay' value='yes' /><param name='display_count' value='yes' /></object></div>                <script type='text/javascript'>                    var divElement = document.getElementById('viz1479822171792');                    var vizElement = divElement.getElementsByTagName('object')[0];                    vizElement.style.width='100%';vizElement.style.height=(divElement.offsetWidth*0.75)+'px';                    var scriptElement = document.createElement('script');                    scriptElement.src = 'https://public.tableau.com/javascripts/api/viz_v1.js';                    vizElement.parentNode.insertBefore(scriptElement, vizElement);                </script>"
      ],
      "text/plain": [
       "<IPython.core.display.HTML object>"
      ]
     },
     "metadata": {},
     "output_type": "display_data"
    }
   ],
   "source": [
    "%%HTML\n",
    "<div class='tableauPlaceholder' id='viz1479822171792' style='position: relative'><noscript><a href='#'><img alt='Number of Jobs by State ' src='https:&#47;&#47;public.tableau.com&#47;static&#47;images&#47;Jo&#47;JobsonIndeed&#47;NumberofjobsbyState&#47;1_rss.png' style='border: none' /></a></noscript><object class='tableauViz'  style='display:none;'><param name='host_url' value='https%3A%2F%2Fpublic.tableau.com%2F' /> <param name='site_root' value='' /><param name='name' value='JobsonIndeed&#47;NumberofjobsbyState' /><param name='tabs' value='no' /><param name='toolbar' value='yes' /><param name='static_image' value='https:&#47;&#47;public.tableau.com&#47;static&#47;images&#47;Jo&#47;JobsonIndeed&#47;NumberofjobsbyState&#47;1.png' /> <param name='animate_transition' value='yes' /><param name='display_static_image' value='yes' /><param name='display_spinner' value='yes' /><param name='display_overlay' value='yes' /><param name='display_count' value='yes' /></object></div>                <script type='text/javascript'>                    var divElement = document.getElementById('viz1479822171792');                    var vizElement = divElement.getElementsByTagName('object')[0];                    vizElement.style.width='100%';vizElement.style.height=(divElement.offsetWidth*0.75)+'px';                    var scriptElement = document.createElement('script');                    scriptElement.src = 'https://public.tableau.com/javascripts/api/viz_v1.js';                    vizElement.parentNode.insertBefore(scriptElement, vizElement);                </script>"
   ]
  },
  {
   "cell_type": "markdown",
   "metadata": {},
   "source": [
    "Being one of the obvious parameters, we have used 'State' as one of the predictors for our model, but it has to be carefully weighted against the fact that our dataset has very small samples for states such as New Jersey or Texas, and thus the model may not generalize well to those markets"
   ]
  },
  {
   "cell_type": "markdown",
   "metadata": {},
   "source": [
    "If we observe the average salary values for each state, we may find that salaries are pretty large in general for our dataset, probably because this is the only time the Employer feels comfortable revealing the Salary for a job posting. This assumption stems in part from the fact that the states with only a few job postings still average to a pretty high value."
   ]
  },
  {
   "cell_type": "code",
   "execution_count": 240,
   "metadata": {
    "collapsed": false
   },
   "outputs": [
    {
     "data": {
      "text/html": [
       "<div class='tableauPlaceholder' id='viz1479822601480' style='position: relative'><noscript><a href='#'><img alt='Average Salary by State ' src='https:&#47;&#47;public.tableau.com&#47;static&#47;images&#47;Av&#47;AverageSalarybyState&#47;AverageSalarybyState&#47;1_rss.png' style='border: none' /></a></noscript><object class='tableauViz'  style='display:none;'><param name='host_url' value='https%3A%2F%2Fpublic.tableau.com%2F' /> <param name='site_root' value='' /><param name='name' value='AverageSalarybyState&#47;AverageSalarybyState' /><param name='tabs' value='no' /><param name='toolbar' value='yes' /><param name='static_image' value='https:&#47;&#47;public.tableau.com&#47;static&#47;images&#47;Av&#47;AverageSalarybyState&#47;AverageSalarybyState&#47;1.png' /> <param name='animate_transition' value='yes' /><param name='display_static_image' value='yes' /><param name='display_spinner' value='yes' /><param name='display_overlay' value='yes' /><param name='display_count' value='yes' /></object></div>                <script type='text/javascript'>                    var divElement = document.getElementById('viz1479822601480');                    var vizElement = divElement.getElementsByTagName('object')[0];                    vizElement.style.width='100%';vizElement.style.height=(divElement.offsetWidth*0.75)+'px';                    var scriptElement = document.createElement('script');                    scriptElement.src = 'https://public.tableau.com/javascripts/api/viz_v1.js';                    vizElement.parentNode.insertBefore(scriptElement, vizElement);                </script>"
      ],
      "text/plain": [
       "<IPython.core.display.HTML object>"
      ]
     },
     "metadata": {},
     "output_type": "display_data"
    }
   ],
   "source": [
    "%%HTML\n",
    "<div class='tableauPlaceholder' id='viz1479822601480' style='position: relative'><noscript><a href='#'><img alt='Average Salary by State ' src='https:&#47;&#47;public.tableau.com&#47;static&#47;images&#47;Av&#47;AverageSalarybyState&#47;AverageSalarybyState&#47;1_rss.png' style='border: none' /></a></noscript><object class='tableauViz'  style='display:none;'><param name='host_url' value='https%3A%2F%2Fpublic.tableau.com%2F' /> <param name='site_root' value='' /><param name='name' value='AverageSalarybyState&#47;AverageSalarybyState' /><param name='tabs' value='no' /><param name='toolbar' value='yes' /><param name='static_image' value='https:&#47;&#47;public.tableau.com&#47;static&#47;images&#47;Av&#47;AverageSalarybyState&#47;AverageSalarybyState&#47;1.png' /> <param name='animate_transition' value='yes' /><param name='display_static_image' value='yes' /><param name='display_spinner' value='yes' /><param name='display_overlay' value='yes' /><param name='display_count' value='yes' /></object></div>                <script type='text/javascript'>                    var divElement = document.getElementById('viz1479822601480');                    var vizElement = divElement.getElementsByTagName('object')[0];                    vizElement.style.width='100%';vizElement.style.height=(divElement.offsetWidth*0.75)+'px';                    var scriptElement = document.createElement('script');                    scriptElement.src = 'https://public.tableau.com/javascripts/api/viz_v1.js';                    vizElement.parentNode.insertBefore(scriptElement, vizElement);                </script>"
   ]
  },
  {
   "cell_type": "markdown",
   "metadata": {},
   "source": [
    "We have also used 'City' parameter to help us identify the job postings with 'high' salaries\n",
    "Citites appear to vary quite a bit, however, it is also important to count the number of data entires for each city. The more data we have accumulated for one city or another, the more 'robust' of a predictor we will obtain"
   ]
  },
  {
   "cell_type": "code",
   "execution_count": 241,
   "metadata": {
    "collapsed": false
   },
   "outputs": [
    {
     "data": {
      "text/html": [
       "<div class='tableauPlaceholder' id='viz1479822970411' style='position: relative'><noscript><a href='#'><img alt='Average Salary by City ' src='https:&#47;&#47;public.tableau.com&#47;static&#47;images&#47;Av&#47;AverageSalarybyCity&#47;Sheet3&#47;1_rss.png' style='border: none' /></a></noscript><object class='tableauViz'  style='display:none;'><param name='host_url' value='https%3A%2F%2Fpublic.tableau.com%2F' /> <param name='site_root' value='' /><param name='name' value='AverageSalarybyCity&#47;Sheet3' /><param name='tabs' value='no' /><param name='toolbar' value='yes' /><param name='static_image' value='https:&#47;&#47;public.tableau.com&#47;static&#47;images&#47;Av&#47;AverageSalarybyCity&#47;Sheet3&#47;1.png' /> <param name='animate_transition' value='yes' /><param name='display_static_image' value='yes' /><param name='display_spinner' value='yes' /><param name='display_overlay' value='yes' /><param name='display_count' value='yes' /></object></div>                <script type='text/javascript'>                    var divElement = document.getElementById('viz1479822970411');                    var vizElement = divElement.getElementsByTagName('object')[0];                    vizElement.style.width='100%';vizElement.style.height=(divElement.offsetWidth*0.75)+'px';                    var scriptElement = document.createElement('script');                    scriptElement.src = 'https://public.tableau.com/javascripts/api/viz_v1.js';                    vizElement.parentNode.insertBefore(scriptElement, vizElement);                </script>"
      ],
      "text/plain": [
       "<IPython.core.display.HTML object>"
      ]
     },
     "metadata": {},
     "output_type": "display_data"
    }
   ],
   "source": [
    "%%HTML\n",
    "<div class='tableauPlaceholder' id='viz1479822970411' style='position: relative'><noscript><a href='#'><img alt='Average Salary by City ' src='https:&#47;&#47;public.tableau.com&#47;static&#47;images&#47;Av&#47;AverageSalarybyCity&#47;Sheet3&#47;1_rss.png' style='border: none' /></a></noscript><object class='tableauViz'  style='display:none;'><param name='host_url' value='https%3A%2F%2Fpublic.tableau.com%2F' /> <param name='site_root' value='' /><param name='name' value='AverageSalarybyCity&#47;Sheet3' /><param name='tabs' value='no' /><param name='toolbar' value='yes' /><param name='static_image' value='https:&#47;&#47;public.tableau.com&#47;static&#47;images&#47;Av&#47;AverageSalarybyCity&#47;Sheet3&#47;1.png' /> <param name='animate_transition' value='yes' /><param name='display_static_image' value='yes' /><param name='display_spinner' value='yes' /><param name='display_overlay' value='yes' /><param name='display_count' value='yes' /></object></div>                <script type='text/javascript'>                    var divElement = document.getElementById('viz1479822970411');                    var vizElement = divElement.getElementsByTagName('object')[0];                    vizElement.style.width='100%';vizElement.style.height=(divElement.offsetWidth*0.75)+'px';                    var scriptElement = document.createElement('script');                    scriptElement.src = 'https://public.tableau.com/javascripts/api/viz_v1.js';                    vizElement.parentNode.insertBefore(scriptElement, vizElement);                </script>"
   ]
  },
  {
   "cell_type": "markdown",
   "metadata": {},
   "source": [
    "After building a Logistic Regression model of that data with just the 'City' and 'State' as our predictors, we analyze the coefficients for our model. The coefficients are indicative of how good of a predictor that category is.\n",
    "\n",
    "The coefficients are taken as a power of e (mathematical constant), so the more powerful categories have either large positive or large negative values. Values around '0' show little statistical relation to predicting the values in our model"
   ]
  },
  {
   "cell_type": "markdown",
   "metadata": {},
   "source": [
    "For the next step, we have decided to incorporate some key terms in the 'Title' of jobs collected in our set. We looked for the following words in the title: 'lead', 'scientist', 'machine', 'quantitative', 'analyst', 'data', 'manager', 'senior'.\n",
    "\n",
    "Then we have reconstructed a Logistic Regression model using City, State, and our keyword parameters as predictors of high/low salary for our job list\n",
    "\n",
    "After examining the coefficients it appears that the values that we had previously for the Cities and States have shifted to account for new variables.\n",
    "\n",
    "Of the key words we used, 'quantitative' appears to be the most significant in predicting a 'high' salary, while the term 'analyst' was the most significant in predicting the job to have a 'low' value"
   ]
  },
  {
   "cell_type": "markdown",
   "metadata": {},
   "source": [
    "However, it is worth noting that after taking cross-validated scores of our model, it appears that some elements in our dataset are very useful to predict only some elements in our set. This is evident in how the cross validation scores differ for our model when we do 5 fold analysis."
   ]
  },
  {
   "cell_type": "markdown",
   "metadata": {
    "focus": true,
    "id": "82f16f60-6c8b-4376-b3ec-b8ec61a0cde7"
   },
   "source": [
    "#### Optional: Continue to incorporate other text features from the title or summary that you believe will predict the salary and examine their coefficients. Take ~100 scraped entries with salaries. Convert them to use with your model and predict the salary. Which entries have the highest predicted salaries?"
   ]
  },
  {
   "cell_type": "markdown",
   "metadata": {
    "focus": false,
    "id": "3f242a55-4518-4c95-ae90-6888c68077d3"
   },
   "source": [
    "# Bonus Section: Use Count Vectorizer from scikit-learn to create features from the text summaries. \n",
    "- Examine using count or binary features in the model\n",
    "- Re-evaluate the logistic regression model using these. Does this improve the model performance? \n",
    "- What text features are most valuable? "
   ]
  },
  {
   "cell_type": "code",
   "execution_count": null,
   "metadata": {
    "collapsed": false,
    "focus": false,
    "id": "757205dc-443d-4754-9d23-e591e0921c02"
   },
   "outputs": [],
   "source": [
    "from sklearn.feature_extraction.text import CountVectorizer\n",
    "\n",
    "vectorizer = CountVectorizer()\n",
    "X = vectorizer.fit_transform()\n",
    "\n",
    "for metric in ['accuracy', 'precision', 'recall', 'roc_auc']:\n",
    "    scores = cross_val_score(model, X_scaled, y, cv=3, scoring=metric)\n",
    "    print(metric, scores.mean(), scores.std())"
   ]
  },
  {
   "cell_type": "code",
   "execution_count": null,
   "metadata": {
    "collapsed": false,
    "focus": false,
    "id": "f44df3c1-cf82-4271-8660-fdd0052097b6"
   },
   "outputs": [],
   "source": [
    "model.fit(X_scaled, y)\n",
    "\n",
    "df = pd.DataFrame({'features' : vectorizer.get_feature_names(), 'coef': model.coef_[0,:]})\n",
    "df.sort_values('coef', ascending=False, inplace=True)"
   ]
  },
  {
   "cell_type": "code",
   "execution_count": null,
   "metadata": {
    "collapsed": false,
    "focus": false,
    "id": "e182bbe4-2a72-4e75-a3e8-c117688cb8a6"
   },
   "outputs": [],
   "source": [
    "df.head()"
   ]
  },
  {
   "cell_type": "code",
   "execution_count": null,
   "metadata": {
    "collapsed": false,
    "focus": false,
    "id": "a15ef8ea-3130-4c08-a165-ac34d2a8d829"
   },
   "outputs": [],
   "source": [
    "df.tail()"
   ]
  },
  {
   "cell_type": "code",
   "execution_count": null,
   "metadata": {
    "collapsed": false,
    "focus": false,
    "id": "b8a13337-0cde-4117-a928-ffae14661453"
   },
   "outputs": [],
   "source": [
    "# retest L1 and L2 regularization\n",
    "from sklearn.linear_model import LogisticRegressionCV\n",
    "\n",
    "model = LogisticRegressionCV()\n"
   ]
  },
  {
   "cell_type": "markdown",
   "metadata": {
    "collapsed": true,
    "focus": false,
    "id": "936cd752-6b3f-450f-bfb6-1659c6e71539"
   },
   "source": [
    "Score: | /24\n",
    "------|-------\n",
    "Identify: Problem Statement and Hypothesis | \n",
    "Acquire: Import Data using BeautifulSoup| \n",
    "Parse: Clean and Organize Data| \n",
    "Model: Perform Logistic Regression| \n",
    "Evaluate: Logistic Regression Results\t|\n",
    "Present: Blog Report with Findings and Recommendations\t\t| \n",
    "Interactive Tableau visualizations | \n",
    "Regularization |\n",
    "Bonus: Countvectorizer  | "
   ]
  }
 ],
 "metadata": {
  "anaconda-cloud": {},
  "kernelspec": {
   "display_name": "Python [default]",
   "language": "python",
   "name": "python2"
  },
  "language_info": {
   "codemirror_mode": {
    "name": "ipython",
    "version": 2
   },
   "file_extension": ".py",
   "mimetype": "text/x-python",
   "name": "python",
   "nbconvert_exporter": "python",
   "pygments_lexer": "ipython2",
   "version": "2.7.12"
  }
 },
 "nbformat": 4,
 "nbformat_minor": 0
}
