{
 "cells": [
  {
   "cell_type": "markdown",
   "metadata": {
    "focus": false,
    "id": "cc166dbc-d723-4076-8dd8-a290d911dc9b"
   },
   "source": [
    "# Project 4: Web Scraping Indeed.com & Predicting Salaries"
   ]
  },
  {
   "cell_type": "markdown",
   "metadata": {
    "focus": false,
    "id": "59b0deac-55d6-4908-8dee-ce68611486f0"
   },
   "source": [
    "In Project 4, we practice two major skills: collecting data via  web scraping and building a binary predictor with Logistic Regression.\n",
    "\n",
    "We will collect salary information on data science jobs in a variety of markets. Using location, title, and job summary, we'll predict the salary of the job. For job posting sites, this is extraordinarily useful. While most listings DO NOT come with salary information (as you will see in this exercise), extrapolating expected salary can help guide negotiations.\n",
    "\n",
    "Normally, we can use regression for this task; however, we will convert this problem into classification and use Logistic Regression.\n",
    "\n",
    "- Q: Why would we want this to be a classification problem?\n",
    "- A: While more precision may be better, there is a fair amount of natural variance in job salaries - predicting a range be may be useful.\n",
    "\n",
    "Section one focuses on scraping Indeed.com; then we use listings with salary information to build a model and predict additional salaries."
   ]
  },
  {
   "cell_type": "markdown",
   "metadata": {
    "focus": false,
    "id": "1321e3c4-2105-428e-9b1b-6d958453ef1d"
   },
   "source": [
    "### Scraping job listings from Indeed.com"
   ]
  },
  {
   "cell_type": "markdown",
   "metadata": {
    "focus": false,
    "id": "9d959074-bf26-4000-b0da-11273e253776"
   },
   "source": [
    "Scrape job listings from Indeed.com using BeautifulSoup. Luckily, Indeed.com is a simple text page where we can easily find relevant entries. First, look at the source of an Indeed.com page: (http://www.indeed.com/jobs?q=data+scientist+%2420%2C000&l=New+York&start=10\")\n",
    "\n",
    "Notice, each job listing is underneath a `div` tag with a class name of `result`. We can use BeautifulSoup to extract."
   ]
  },
  {
   "cell_type": "markdown",
   "metadata": {
    "focus": false,
    "id": "d9f7b5d1-b227-4bda-a87b-1606b62fb60b"
   },
   "source": [
    "#### Setup a request (using `requests`) to the URL below. Use BeautifulSoup to parse the page and extract all results (HINT: Look for div tags with class name result)\n",
    "\n",
    "The URL here has many query parameters\n",
    "\n",
    "- `q` for the job search\n",
    "- This is followed by \"+20,000\" to return results with salaries (or expected salaries >$20,000)\n",
    "- `l` for a location \n",
    "- `start` for what result number to start on"
   ]
  },
  {
   "cell_type": "code",
   "execution_count": 1,
   "metadata": {
    "collapsed": false,
    "focus": false,
    "id": "911505d6-159f-4146-967d-a8482fe27e3d"
   },
   "outputs": [],
   "source": [
    "URL = 'http://www.indeed.com/jobs?q=data+scientist+$20,000&l=New+York&start=10'"
   ]
  },
  {
   "cell_type": "code",
   "execution_count": 2,
   "metadata": {
    "collapsed": true
   },
   "outputs": [],
   "source": [
    "import numpy as np\n",
    "import pandas as pd\n",
    "import math"
   ]
  },
  {
   "cell_type": "code",
   "execution_count": 3,
   "metadata": {
    "collapsed": true,
    "focus": false,
    "id": "78446809-fa02-48df-b60f-cbeda175a498"
   },
   "outputs": [],
   "source": [
    "import requests\n",
    "import bs4\n",
    "from bs4 import BeautifulSoup"
   ]
  },
  {
   "cell_type": "code",
   "execution_count": 4,
   "metadata": {
    "collapsed": true
   },
   "outputs": [],
   "source": [
    "# Extend the visibility in Jupyter notebook\n",
    "pd.set_option('display.max_rows', 500)\n",
    "pd.set_option('display.max_columns', 500)"
   ]
  },
  {
   "cell_type": "code",
   "execution_count": 5,
   "metadata": {
    "collapsed": false,
    "focus": false,
    "id": "c8846f3e-42a5-4714-9784-fb5d6a28524b"
   },
   "outputs": [],
   "source": [
    "# read site in soup\n",
    "r = requests.get(URL)\n",
    "soup = BeautifulSoup(r.content, \"lxml\")\n",
    "\n",
    "# Append to the full set of results\n",
    "results = soup.findAll('div', { \"class\" : \"result\" })\n"
   ]
  },
  {
   "cell_type": "code",
   "execution_count": null,
   "metadata": {
    "collapsed": false
   },
   "outputs": [],
   "source": []
  },
  {
   "cell_type": "markdown",
   "metadata": {
    "focus": false,
    "id": "963bb376-7746-43ce-98ec-ea4162f7ead6"
   },
   "source": [
    "Let's look at one result more closely. A single `result` looks like\n",
    "\n",
    "```\n",
    "<div class=\" row result\" data-jk=\"2480d203f7e97210\" data-tn-component=\"organicJob\" id=\"p_2480d203f7e97210\" itemscope=\"\" itemtype=\"http://schema.org/JobPosting\">\n",
    "<h2 class=\"jobtitle\" id=\"jl_2480d203f7e97210\">\n",
    "<a class=\"turnstileLink\" data-tn-element=\"jobTitle\" onmousedown=\"return rclk(this,jobmap[0],1);\" rel=\"nofollow\" target=\"_blank\" title=\"AVP/Quantitative Analyst\">AVP/Quantitative Analyst</a>\n",
    "</h2>\n",
    "<span class=\"company\" itemprop=\"hiringOrganization\" itemtype=\"http://schema.org/Organization\">\n",
    "<span itemprop=\"name\">\n",
    "<a href=\"/cmp/Alliancebernstein?from=SERP&amp;campaignid=serp-linkcompanyname&amp;fromjk=2480d203f7e97210&amp;jcid=b374f2a780e04789\" target=\"_blank\">\n",
    "    AllianceBernstein</a></span>\n",
    "</span>\n",
    "<tr>\n",
    "<td class=\"snip\">\n",
    "<nobr>$117,500 - $127,500 a year</nobr>\n",
    "<div>\n",
    "<span class=\"summary\" itemprop=\"description\">\n",
    "C onduct quantitative and statistical research as well as portfolio management for various investment portfolios. Collaborate with Quantitative Analysts and</span>\n",
    "</div>\n",
    "</div>\n",
    "</td>\n",
    "</tr>\n",
    "</table>\n",
    "</div>\n",
    "```\n",
    "\n",
    "While this has some of the more verbose elements removed, we can see that there is some structure to the above:\n",
    "- The salary is available in a `nobr` element inside of a `td` element with `class='snip`.\n",
    "- The title of a job is in a link with class set to `jobtitle` and a `data-tn-element=\"jobTitle`.  \n",
    "- The location is set in a `span` with `class='location'`. \n",
    "- The company is set in a `span` with `class='company'`. "
   ]
  },
  {
   "cell_type": "markdown",
   "metadata": {
    "focus": false,
    "id": "27b6ffb9-b42f-4298-b07a-10e3bab030cd"
   },
   "source": [
    "### Write 4 functions to extract each item: location, company, job, and salary.\n",
    "\n",
    "example: \n",
    "```python\n",
    "def extract_location_from_result(result):\n",
    "    return result.find ...\n",
    "```\n",
    "\n",
    "- Make sure these functions are robust and can handle cases where the data/field may not be available\n",
    "- Test the functions on the results above"
   ]
  },
  {
   "cell_type": "code",
   "execution_count": 6,
   "metadata": {
    "collapsed": true,
    "focus": false,
    "id": "f4b0755f-42e1-438f-89fc-131a60b781cd"
   },
   "outputs": [],
   "source": [
    "# get text\n",
    "def extract_text(el):\n",
    "    if el:\n",
    "        return el.text.strip()\n",
    "    else:\n",
    "        return ''\n",
    "        \n",
    "# company\n",
    "def get_company_from_result(result):\n",
    "    return extract_text(result.find('span', {'class' : 'company'}))\n",
    "\n",
    "# location\n",
    "def get_location_from_result(result):\n",
    "    return extract_text(result.find('span', {'class' : 'location'}))\n",
    "\n",
    "# summary\n",
    "def get_summary_from_result(result):\n",
    "    return extract_text(result.find('span', {'class' : 'summary'}))\n",
    "\n",
    "# title\n",
    "def get_title_from_result(result):\n",
    "    return extract_text(result.find('a', {'data-tn-element' : 'jobTitle'}))\n",
    "\n",
    "# get salary if exists\n",
    "def get_salary_from_result(result):\n",
    "    salary_table = result.find('td', {'class' : 'snip'})\n",
    "    if salary_table:\n",
    "        snip = salary_table.find('nobr')\n",
    "        if snip:\n",
    "            return snip.text.strip()   \n",
    "    return None"
   ]
  },
  {
   "cell_type": "code",
   "execution_count": null,
   "metadata": {
    "collapsed": false
   },
   "outputs": [],
   "source": []
  },
  {
   "cell_type": "markdown",
   "metadata": {
    "focus": false,
    "id": "dc1d32a3-b13c-4919-8723-ce50dbc7660f"
   },
   "source": [
    "Now, to scale up our scraping, we need to accumulate more results. We can do this by examining the URL above.\n",
    "\n",
    "- \"http://www.indeed.com/jobs?q=data+scientist+%2420%2C000&l=New+York&start=10\"\n",
    "\n",
    "There are two query parameters here we can alter to collect more results: the `l=New+York` and the `start=10`. The first controls the location of the results (so we can try different city). The second controls where in the results to start and gives 10 results (so we can keep incrementing this by 10 to move further within the list)."
   ]
  },
  {
   "cell_type": "markdown",
   "metadata": {
    "focus": false,
    "id": "27584c3f-f552-40a2-842a-0681b1fd6265"
   },
   "source": [
    "#### Complete the following code to collect results from multiple cities and start points. \n",
    "- Enter your city below to add it to the search\n",
    "- Remember to convert your salary to U.S. Dollars to match the other cities if the currency is different"
   ]
  },
  {
   "cell_type": "code",
   "execution_count": 7,
   "metadata": {
    "collapsed": true,
    "focus": false,
    "id": "b02e2931-4d5a-4e1e-9504-c6ccaaf84bed"
   },
   "outputs": [
    {
     "ename": "KeyboardInterrupt",
     "evalue": "",
     "output_type": "error",
     "traceback": [
      "\u001b[0;31m---------------------------------------------------------------------------\u001b[0m",
      "\u001b[0;31mKeyboardInterrupt\u001b[0m                         Traceback (most recent call last)",
      "\u001b[0;32m<ipython-input-7-c3c736f61f2d>\u001b[0m in \u001b[0;36m<module>\u001b[0;34m()\u001b[0m\n\u001b[1;32m      8\u001b[0m \u001b[0;32mfor\u001b[0m \u001b[0mcity\u001b[0m \u001b[0;32min\u001b[0m \u001b[0mcities\u001b[0m\u001b[0;34m:\u001b[0m\u001b[0;34m\u001b[0m\u001b[0m\n\u001b[1;32m      9\u001b[0m     \u001b[0;32mfor\u001b[0m \u001b[0mstart\u001b[0m \u001b[0;32min\u001b[0m \u001b[0mrange\u001b[0m\u001b[0;34m(\u001b[0m\u001b[0;36m0\u001b[0m\u001b[0;34m,\u001b[0m\u001b[0;36m2000\u001b[0m\u001b[0;34m,\u001b[0m\u001b[0;36m10\u001b[0m\u001b[0;34m)\u001b[0m\u001b[0;34m:\u001b[0m\u001b[0;34m\u001b[0m\u001b[0m\n\u001b[0;32m---> 10\u001b[0;31m         \u001b[0mr\u001b[0m \u001b[0;34m=\u001b[0m \u001b[0mrequests\u001b[0m\u001b[0;34m.\u001b[0m\u001b[0mget\u001b[0m\u001b[0;34m(\u001b[0m\u001b[0murl_template\u001b[0m\u001b[0;34m.\u001b[0m\u001b[0mformat\u001b[0m\u001b[0;34m(\u001b[0m\u001b[0mcity\u001b[0m\u001b[0;34m,\u001b[0m \u001b[0mstart\u001b[0m\u001b[0;34m)\u001b[0m\u001b[0;34m)\u001b[0m\u001b[0;34m\u001b[0m\u001b[0m\n\u001b[0m\u001b[1;32m     11\u001b[0m         \u001b[0;31m# Grab the results from the request (as above)\u001b[0m\u001b[0;34m\u001b[0m\u001b[0;34m\u001b[0m\u001b[0m\n\u001b[1;32m     12\u001b[0m         \u001b[0msoup\u001b[0m \u001b[0;34m=\u001b[0m \u001b[0mBeautifulSoup\u001b[0m\u001b[0;34m(\u001b[0m\u001b[0mr\u001b[0m\u001b[0;34m.\u001b[0m\u001b[0mcontent\u001b[0m\u001b[0;34m,\u001b[0m \u001b[0;34m\"lxml\"\u001b[0m\u001b[0;34m)\u001b[0m\u001b[0;34m\u001b[0m\u001b[0m\n",
      "\u001b[0;32m//anaconda/lib/python2.7/site-packages/requests/api.pyc\u001b[0m in \u001b[0;36mget\u001b[0;34m(url, params, **kwargs)\u001b[0m\n\u001b[1;32m     68\u001b[0m \u001b[0;34m\u001b[0m\u001b[0m\n\u001b[1;32m     69\u001b[0m     \u001b[0mkwargs\u001b[0m\u001b[0;34m.\u001b[0m\u001b[0msetdefault\u001b[0m\u001b[0;34m(\u001b[0m\u001b[0;34m'allow_redirects'\u001b[0m\u001b[0;34m,\u001b[0m \u001b[0mTrue\u001b[0m\u001b[0;34m)\u001b[0m\u001b[0;34m\u001b[0m\u001b[0m\n\u001b[0;32m---> 70\u001b[0;31m     \u001b[0;32mreturn\u001b[0m \u001b[0mrequest\u001b[0m\u001b[0;34m(\u001b[0m\u001b[0;34m'get'\u001b[0m\u001b[0;34m,\u001b[0m \u001b[0murl\u001b[0m\u001b[0;34m,\u001b[0m \u001b[0mparams\u001b[0m\u001b[0;34m=\u001b[0m\u001b[0mparams\u001b[0m\u001b[0;34m,\u001b[0m \u001b[0;34m**\u001b[0m\u001b[0mkwargs\u001b[0m\u001b[0;34m)\u001b[0m\u001b[0;34m\u001b[0m\u001b[0m\n\u001b[0m\u001b[1;32m     71\u001b[0m \u001b[0;34m\u001b[0m\u001b[0m\n\u001b[1;32m     72\u001b[0m \u001b[0;34m\u001b[0m\u001b[0m\n",
      "\u001b[0;32m//anaconda/lib/python2.7/site-packages/requests/api.pyc\u001b[0m in \u001b[0;36mrequest\u001b[0;34m(method, url, **kwargs)\u001b[0m\n\u001b[1;32m     54\u001b[0m     \u001b[0;31m# cases, and look like a memory leak in others.\u001b[0m\u001b[0;34m\u001b[0m\u001b[0;34m\u001b[0m\u001b[0m\n\u001b[1;32m     55\u001b[0m     \u001b[0;32mwith\u001b[0m \u001b[0msessions\u001b[0m\u001b[0;34m.\u001b[0m\u001b[0mSession\u001b[0m\u001b[0;34m(\u001b[0m\u001b[0;34m)\u001b[0m \u001b[0;32mas\u001b[0m \u001b[0msession\u001b[0m\u001b[0;34m:\u001b[0m\u001b[0;34m\u001b[0m\u001b[0m\n\u001b[0;32m---> 56\u001b[0;31m         \u001b[0;32mreturn\u001b[0m \u001b[0msession\u001b[0m\u001b[0;34m.\u001b[0m\u001b[0mrequest\u001b[0m\u001b[0;34m(\u001b[0m\u001b[0mmethod\u001b[0m\u001b[0;34m=\u001b[0m\u001b[0mmethod\u001b[0m\u001b[0;34m,\u001b[0m \u001b[0murl\u001b[0m\u001b[0;34m=\u001b[0m\u001b[0murl\u001b[0m\u001b[0;34m,\u001b[0m \u001b[0;34m**\u001b[0m\u001b[0mkwargs\u001b[0m\u001b[0;34m)\u001b[0m\u001b[0;34m\u001b[0m\u001b[0m\n\u001b[0m\u001b[1;32m     57\u001b[0m \u001b[0;34m\u001b[0m\u001b[0m\n\u001b[1;32m     58\u001b[0m \u001b[0;34m\u001b[0m\u001b[0m\n",
      "\u001b[0;32m//anaconda/lib/python2.7/site-packages/requests/sessions.pyc\u001b[0m in \u001b[0;36mrequest\u001b[0;34m(self, method, url, params, data, headers, cookies, files, auth, timeout, allow_redirects, proxies, hooks, stream, verify, cert, json)\u001b[0m\n\u001b[1;32m    473\u001b[0m         }\n\u001b[1;32m    474\u001b[0m         \u001b[0msend_kwargs\u001b[0m\u001b[0;34m.\u001b[0m\u001b[0mupdate\u001b[0m\u001b[0;34m(\u001b[0m\u001b[0msettings\u001b[0m\u001b[0;34m)\u001b[0m\u001b[0;34m\u001b[0m\u001b[0m\n\u001b[0;32m--> 475\u001b[0;31m         \u001b[0mresp\u001b[0m \u001b[0;34m=\u001b[0m \u001b[0mself\u001b[0m\u001b[0;34m.\u001b[0m\u001b[0msend\u001b[0m\u001b[0;34m(\u001b[0m\u001b[0mprep\u001b[0m\u001b[0;34m,\u001b[0m \u001b[0;34m**\u001b[0m\u001b[0msend_kwargs\u001b[0m\u001b[0;34m)\u001b[0m\u001b[0;34m\u001b[0m\u001b[0m\n\u001b[0m\u001b[1;32m    476\u001b[0m \u001b[0;34m\u001b[0m\u001b[0m\n\u001b[1;32m    477\u001b[0m         \u001b[0;32mreturn\u001b[0m \u001b[0mresp\u001b[0m\u001b[0;34m\u001b[0m\u001b[0m\n",
      "\u001b[0;32m//anaconda/lib/python2.7/site-packages/requests/sessions.pyc\u001b[0m in \u001b[0;36msend\u001b[0;34m(self, request, **kwargs)\u001b[0m\n\u001b[1;32m    615\u001b[0m \u001b[0;34m\u001b[0m\u001b[0m\n\u001b[1;32m    616\u001b[0m         \u001b[0;31m# Resolve redirects if allowed.\u001b[0m\u001b[0;34m\u001b[0m\u001b[0;34m\u001b[0m\u001b[0m\n\u001b[0;32m--> 617\u001b[0;31m         \u001b[0mhistory\u001b[0m \u001b[0;34m=\u001b[0m \u001b[0;34m[\u001b[0m\u001b[0mresp\u001b[0m \u001b[0;32mfor\u001b[0m \u001b[0mresp\u001b[0m \u001b[0;32min\u001b[0m \u001b[0mgen\u001b[0m\u001b[0;34m]\u001b[0m \u001b[0;32mif\u001b[0m \u001b[0mallow_redirects\u001b[0m \u001b[0;32melse\u001b[0m \u001b[0;34m[\u001b[0m\u001b[0;34m]\u001b[0m\u001b[0;34m\u001b[0m\u001b[0m\n\u001b[0m\u001b[1;32m    618\u001b[0m \u001b[0;34m\u001b[0m\u001b[0m\n\u001b[1;32m    619\u001b[0m         \u001b[0;31m# Shuffle things around if there's history.\u001b[0m\u001b[0;34m\u001b[0m\u001b[0;34m\u001b[0m\u001b[0m\n",
      "\u001b[0;32m//anaconda/lib/python2.7/site-packages/requests/sessions.pyc\u001b[0m in \u001b[0;36mresolve_redirects\u001b[0;34m(self, resp, req, stream, timeout, verify, cert, proxies, **adapter_kwargs)\u001b[0m\n\u001b[1;32m    175\u001b[0m                 \u001b[0mproxies\u001b[0m\u001b[0;34m=\u001b[0m\u001b[0mproxies\u001b[0m\u001b[0;34m,\u001b[0m\u001b[0;34m\u001b[0m\u001b[0m\n\u001b[1;32m    176\u001b[0m                 \u001b[0mallow_redirects\u001b[0m\u001b[0;34m=\u001b[0m\u001b[0mFalse\u001b[0m\u001b[0;34m,\u001b[0m\u001b[0;34m\u001b[0m\u001b[0m\n\u001b[0;32m--> 177\u001b[0;31m                 \u001b[0;34m**\u001b[0m\u001b[0madapter_kwargs\u001b[0m\u001b[0;34m\u001b[0m\u001b[0m\n\u001b[0m\u001b[1;32m    178\u001b[0m             )\n\u001b[1;32m    179\u001b[0m \u001b[0;34m\u001b[0m\u001b[0m\n",
      "\u001b[0;32m//anaconda/lib/python2.7/site-packages/requests/sessions.pyc\u001b[0m in \u001b[0;36msend\u001b[0;34m(self, request, **kwargs)\u001b[0m\n\u001b[1;32m    626\u001b[0m \u001b[0;34m\u001b[0m\u001b[0m\n\u001b[1;32m    627\u001b[0m         \u001b[0;32mif\u001b[0m \u001b[0;32mnot\u001b[0m \u001b[0mstream\u001b[0m\u001b[0;34m:\u001b[0m\u001b[0;34m\u001b[0m\u001b[0m\n\u001b[0;32m--> 628\u001b[0;31m             \u001b[0mr\u001b[0m\u001b[0;34m.\u001b[0m\u001b[0mcontent\u001b[0m\u001b[0;34m\u001b[0m\u001b[0m\n\u001b[0m\u001b[1;32m    629\u001b[0m \u001b[0;34m\u001b[0m\u001b[0m\n\u001b[1;32m    630\u001b[0m         \u001b[0;32mreturn\u001b[0m \u001b[0mr\u001b[0m\u001b[0;34m\u001b[0m\u001b[0m\n",
      "\u001b[0;32m//anaconda/lib/python2.7/site-packages/requests/models.pyc\u001b[0m in \u001b[0;36mcontent\u001b[0;34m(self)\u001b[0m\n\u001b[1;32m    753\u001b[0m                     \u001b[0mself\u001b[0m\u001b[0;34m.\u001b[0m\u001b[0m_content\u001b[0m \u001b[0;34m=\u001b[0m \u001b[0mNone\u001b[0m\u001b[0;34m\u001b[0m\u001b[0m\n\u001b[1;32m    754\u001b[0m                 \u001b[0;32melse\u001b[0m\u001b[0;34m:\u001b[0m\u001b[0;34m\u001b[0m\u001b[0m\n\u001b[0;32m--> 755\u001b[0;31m                     \u001b[0mself\u001b[0m\u001b[0;34m.\u001b[0m\u001b[0m_content\u001b[0m \u001b[0;34m=\u001b[0m \u001b[0mbytes\u001b[0m\u001b[0;34m(\u001b[0m\u001b[0;34m)\u001b[0m\u001b[0;34m.\u001b[0m\u001b[0mjoin\u001b[0m\u001b[0;34m(\u001b[0m\u001b[0mself\u001b[0m\u001b[0;34m.\u001b[0m\u001b[0miter_content\u001b[0m\u001b[0;34m(\u001b[0m\u001b[0mCONTENT_CHUNK_SIZE\u001b[0m\u001b[0;34m)\u001b[0m\u001b[0;34m)\u001b[0m \u001b[0;32mor\u001b[0m \u001b[0mbytes\u001b[0m\u001b[0;34m(\u001b[0m\u001b[0;34m)\u001b[0m\u001b[0;34m\u001b[0m\u001b[0m\n\u001b[0m\u001b[1;32m    756\u001b[0m \u001b[0;34m\u001b[0m\u001b[0m\n\u001b[1;32m    757\u001b[0m             \u001b[0;32mexcept\u001b[0m \u001b[0mAttributeError\u001b[0m\u001b[0;34m:\u001b[0m\u001b[0;34m\u001b[0m\u001b[0m\n",
      "\u001b[0;32m//anaconda/lib/python2.7/site-packages/requests/models.pyc\u001b[0m in \u001b[0;36mgenerate\u001b[0;34m()\u001b[0m\n\u001b[1;32m    674\u001b[0m             \u001b[0;32mif\u001b[0m \u001b[0mhasattr\u001b[0m\u001b[0;34m(\u001b[0m\u001b[0mself\u001b[0m\u001b[0;34m.\u001b[0m\u001b[0mraw\u001b[0m\u001b[0;34m,\u001b[0m \u001b[0;34m'stream'\u001b[0m\u001b[0;34m)\u001b[0m\u001b[0;34m:\u001b[0m\u001b[0;34m\u001b[0m\u001b[0m\n\u001b[1;32m    675\u001b[0m                 \u001b[0;32mtry\u001b[0m\u001b[0;34m:\u001b[0m\u001b[0;34m\u001b[0m\u001b[0m\n\u001b[0;32m--> 676\u001b[0;31m                     \u001b[0;32mfor\u001b[0m \u001b[0mchunk\u001b[0m \u001b[0;32min\u001b[0m \u001b[0mself\u001b[0m\u001b[0;34m.\u001b[0m\u001b[0mraw\u001b[0m\u001b[0;34m.\u001b[0m\u001b[0mstream\u001b[0m\u001b[0;34m(\u001b[0m\u001b[0mchunk_size\u001b[0m\u001b[0;34m,\u001b[0m \u001b[0mdecode_content\u001b[0m\u001b[0;34m=\u001b[0m\u001b[0mTrue\u001b[0m\u001b[0;34m)\u001b[0m\u001b[0;34m:\u001b[0m\u001b[0;34m\u001b[0m\u001b[0m\n\u001b[0m\u001b[1;32m    677\u001b[0m                         \u001b[0;32myield\u001b[0m \u001b[0mchunk\u001b[0m\u001b[0;34m\u001b[0m\u001b[0m\n\u001b[1;32m    678\u001b[0m                 \u001b[0;32mexcept\u001b[0m \u001b[0mProtocolError\u001b[0m \u001b[0;32mas\u001b[0m \u001b[0me\u001b[0m\u001b[0;34m:\u001b[0m\u001b[0;34m\u001b[0m\u001b[0m\n",
      "\u001b[0;32m//anaconda/lib/python2.7/site-packages/requests/packages/urllib3/response.pyc\u001b[0m in \u001b[0;36mstream\u001b[0;34m(self, amt, decode_content)\u001b[0m\n\u001b[1;32m    351\u001b[0m         \"\"\"\n\u001b[1;32m    352\u001b[0m         \u001b[0;32mif\u001b[0m \u001b[0mself\u001b[0m\u001b[0;34m.\u001b[0m\u001b[0mchunked\u001b[0m\u001b[0;34m:\u001b[0m\u001b[0;34m\u001b[0m\u001b[0m\n\u001b[0;32m--> 353\u001b[0;31m             \u001b[0;32mfor\u001b[0m \u001b[0mline\u001b[0m \u001b[0;32min\u001b[0m \u001b[0mself\u001b[0m\u001b[0;34m.\u001b[0m\u001b[0mread_chunked\u001b[0m\u001b[0;34m(\u001b[0m\u001b[0mamt\u001b[0m\u001b[0;34m,\u001b[0m \u001b[0mdecode_content\u001b[0m\u001b[0;34m=\u001b[0m\u001b[0mdecode_content\u001b[0m\u001b[0;34m)\u001b[0m\u001b[0;34m:\u001b[0m\u001b[0;34m\u001b[0m\u001b[0m\n\u001b[0m\u001b[1;32m    354\u001b[0m                 \u001b[0;32myield\u001b[0m \u001b[0mline\u001b[0m\u001b[0;34m\u001b[0m\u001b[0m\n\u001b[1;32m    355\u001b[0m         \u001b[0;32melse\u001b[0m\u001b[0;34m:\u001b[0m\u001b[0;34m\u001b[0m\u001b[0m\n",
      "\u001b[0;32m//anaconda/lib/python2.7/site-packages/requests/packages/urllib3/response.pyc\u001b[0m in \u001b[0;36mread_chunked\u001b[0;34m(self, amt, decode_content)\u001b[0m\n\u001b[1;32m    503\u001b[0m                 \u001b[0;32mif\u001b[0m \u001b[0mself\u001b[0m\u001b[0;34m.\u001b[0m\u001b[0mchunk_left\u001b[0m \u001b[0;34m==\u001b[0m \u001b[0;36m0\u001b[0m\u001b[0;34m:\u001b[0m\u001b[0;34m\u001b[0m\u001b[0m\n\u001b[1;32m    504\u001b[0m                     \u001b[0;32mbreak\u001b[0m\u001b[0;34m\u001b[0m\u001b[0m\n\u001b[0;32m--> 505\u001b[0;31m                 \u001b[0mchunk\u001b[0m \u001b[0;34m=\u001b[0m \u001b[0mself\u001b[0m\u001b[0;34m.\u001b[0m\u001b[0m_handle_chunk\u001b[0m\u001b[0;34m(\u001b[0m\u001b[0mamt\u001b[0m\u001b[0;34m)\u001b[0m\u001b[0;34m\u001b[0m\u001b[0m\n\u001b[0m\u001b[1;32m    506\u001b[0m                 decoded = self._decode(chunk, decode_content=decode_content,\n\u001b[1;32m    507\u001b[0m                                        flush_decoder=False)\n",
      "\u001b[0;32m//anaconda/lib/python2.7/site-packages/requests/packages/urllib3/response.pyc\u001b[0m in \u001b[0;36m_handle_chunk\u001b[0;34m(self, amt)\u001b[0m\n\u001b[1;32m    472\u001b[0m             \u001b[0mreturned_chunk\u001b[0m \u001b[0;34m=\u001b[0m \u001b[0mvalue\u001b[0m\u001b[0;34m\u001b[0m\u001b[0m\n\u001b[1;32m    473\u001b[0m         \u001b[0;32melse\u001b[0m\u001b[0;34m:\u001b[0m  \u001b[0;31m# amt > self.chunk_left\u001b[0m\u001b[0;34m\u001b[0m\u001b[0m\n\u001b[0;32m--> 474\u001b[0;31m             \u001b[0mreturned_chunk\u001b[0m \u001b[0;34m=\u001b[0m \u001b[0mself\u001b[0m\u001b[0;34m.\u001b[0m\u001b[0m_fp\u001b[0m\u001b[0;34m.\u001b[0m\u001b[0m_safe_read\u001b[0m\u001b[0;34m(\u001b[0m\u001b[0mself\u001b[0m\u001b[0;34m.\u001b[0m\u001b[0mchunk_left\u001b[0m\u001b[0;34m)\u001b[0m\u001b[0;34m\u001b[0m\u001b[0m\n\u001b[0m\u001b[1;32m    475\u001b[0m             \u001b[0mself\u001b[0m\u001b[0;34m.\u001b[0m\u001b[0m_fp\u001b[0m\u001b[0;34m.\u001b[0m\u001b[0m_safe_read\u001b[0m\u001b[0;34m(\u001b[0m\u001b[0;36m2\u001b[0m\u001b[0;34m)\u001b[0m  \u001b[0;31m# Toss the CRLF at the end of the chunk.\u001b[0m\u001b[0;34m\u001b[0m\u001b[0m\n\u001b[1;32m    476\u001b[0m             \u001b[0mself\u001b[0m\u001b[0;34m.\u001b[0m\u001b[0mchunk_left\u001b[0m \u001b[0;34m=\u001b[0m \u001b[0mNone\u001b[0m\u001b[0;34m\u001b[0m\u001b[0m\n",
      "\u001b[0;32m//anaconda/lib/python2.7/httplib.pyc\u001b[0m in \u001b[0;36m_safe_read\u001b[0;34m(self, amt)\u001b[0m\n\u001b[1;32m    701\u001b[0m         \u001b[0ms\u001b[0m \u001b[0;34m=\u001b[0m \u001b[0;34m[\u001b[0m\u001b[0;34m]\u001b[0m\u001b[0;34m\u001b[0m\u001b[0m\n\u001b[1;32m    702\u001b[0m         \u001b[0;32mwhile\u001b[0m \u001b[0mamt\u001b[0m \u001b[0;34m>\u001b[0m \u001b[0;36m0\u001b[0m\u001b[0;34m:\u001b[0m\u001b[0;34m\u001b[0m\u001b[0m\n\u001b[0;32m--> 703\u001b[0;31m             \u001b[0mchunk\u001b[0m \u001b[0;34m=\u001b[0m \u001b[0mself\u001b[0m\u001b[0;34m.\u001b[0m\u001b[0mfp\u001b[0m\u001b[0;34m.\u001b[0m\u001b[0mread\u001b[0m\u001b[0;34m(\u001b[0m\u001b[0mmin\u001b[0m\u001b[0;34m(\u001b[0m\u001b[0mamt\u001b[0m\u001b[0;34m,\u001b[0m \u001b[0mMAXAMOUNT\u001b[0m\u001b[0;34m)\u001b[0m\u001b[0;34m)\u001b[0m\u001b[0;34m\u001b[0m\u001b[0m\n\u001b[0m\u001b[1;32m    704\u001b[0m             \u001b[0;32mif\u001b[0m \u001b[0;32mnot\u001b[0m \u001b[0mchunk\u001b[0m\u001b[0;34m:\u001b[0m\u001b[0;34m\u001b[0m\u001b[0m\n\u001b[1;32m    705\u001b[0m                 \u001b[0;32mraise\u001b[0m \u001b[0mIncompleteRead\u001b[0m\u001b[0;34m(\u001b[0m\u001b[0;34m''\u001b[0m\u001b[0;34m.\u001b[0m\u001b[0mjoin\u001b[0m\u001b[0;34m(\u001b[0m\u001b[0ms\u001b[0m\u001b[0;34m)\u001b[0m\u001b[0;34m,\u001b[0m \u001b[0mamt\u001b[0m\u001b[0;34m)\u001b[0m\u001b[0;34m\u001b[0m\u001b[0m\n",
      "\u001b[0;32m//anaconda/lib/python2.7/socket.pyc\u001b[0m in \u001b[0;36mread\u001b[0;34m(self, size)\u001b[0m\n\u001b[1;32m    382\u001b[0m                 \u001b[0;31m# fragmentation issues on many platforms.\u001b[0m\u001b[0;34m\u001b[0m\u001b[0;34m\u001b[0m\u001b[0m\n\u001b[1;32m    383\u001b[0m                 \u001b[0;32mtry\u001b[0m\u001b[0;34m:\u001b[0m\u001b[0;34m\u001b[0m\u001b[0m\n\u001b[0;32m--> 384\u001b[0;31m                     \u001b[0mdata\u001b[0m \u001b[0;34m=\u001b[0m \u001b[0mself\u001b[0m\u001b[0;34m.\u001b[0m\u001b[0m_sock\u001b[0m\u001b[0;34m.\u001b[0m\u001b[0mrecv\u001b[0m\u001b[0;34m(\u001b[0m\u001b[0mleft\u001b[0m\u001b[0;34m)\u001b[0m\u001b[0;34m\u001b[0m\u001b[0m\n\u001b[0m\u001b[1;32m    385\u001b[0m                 \u001b[0;32mexcept\u001b[0m \u001b[0merror\u001b[0m\u001b[0;34m,\u001b[0m \u001b[0me\u001b[0m\u001b[0;34m:\u001b[0m\u001b[0;34m\u001b[0m\u001b[0m\n\u001b[1;32m    386\u001b[0m                     \u001b[0;32mif\u001b[0m \u001b[0me\u001b[0m\u001b[0;34m.\u001b[0m\u001b[0margs\u001b[0m\u001b[0;34m[\u001b[0m\u001b[0;36m0\u001b[0m\u001b[0;34m]\u001b[0m \u001b[0;34m==\u001b[0m \u001b[0mEINTR\u001b[0m\u001b[0;34m:\u001b[0m\u001b[0;34m\u001b[0m\u001b[0m\n",
      "\u001b[0;31mKeyboardInterrupt\u001b[0m: "
     ]
    }
   ],
   "source": [
    "# create template URL and max number of results (pages) to pull\n",
    "url_template = \"http://www.indeed.com/jobs?q=data+scientist+%2420%2C000&l={}&start={}\"\n",
    "\n",
    "cities = ['Atlanta','San+Jose','San+Francisco','Los+Angeles','Seattle','New+York','Dallas','Chicago','Boston','silicon+valley']\n",
    "\n",
    "\n",
    "# for loop to pull data with bs4\n",
    "for city in cities:\n",
    "    for start in range(0,2000,10):\n",
    "        r = requests.get(url_template.format(city, start))\n",
    "        # Grab the results from the request (as above)\n",
    "        soup = BeautifulSoup(r.content, \"lxml\")\n",
    "        # Append to the full set of results\n",
    "        results += soup.findAll('div', { \"class\" : \"result\" })"
   ]
  },
  {
   "cell_type": "markdown",
   "metadata": {
    "focus": false,
    "id": "10eb5902-4727-4947-a167-2531aa12a427"
   },
   "source": [
    "#### Use the functions you wrote above to parse out the 4 fields - location, title, company and salary. Create a dataframe from the results with those 4 columns."
   ]
  },
  {
   "cell_type": "code",
   "execution_count": 8,
   "metadata": {
    "collapsed": true
   },
   "outputs": [
    {
     "ename": "KeyboardInterrupt",
     "evalue": "",
     "output_type": "error",
     "traceback": [
      "\u001b[0;31m---------------------------------------------------------------------------\u001b[0m",
      "\u001b[0;31mKeyboardInterrupt\u001b[0m                         Traceback (most recent call last)",
      "\u001b[0;32m<ipython-input-8-6fd8fb2b470d>\u001b[0m in \u001b[0;36m<module>\u001b[0;34m()\u001b[0m\n\u001b[1;32m      8\u001b[0m     \u001b[0msalary_\u001b[0m \u001b[0;34m=\u001b[0m \u001b[0mget_salary_from_result\u001b[0m\u001b[0;34m(\u001b[0m\u001b[0mresult\u001b[0m\u001b[0;34m)\u001b[0m\u001b[0;34m\u001b[0m\u001b[0m\n\u001b[1;32m      9\u001b[0m \u001b[0;34m\u001b[0m\u001b[0m\n\u001b[0;32m---> 10\u001b[0;31m     \u001b[0mdf\u001b[0m\u001b[0;34m=\u001b[0m \u001b[0mdf\u001b[0m\u001b[0;34m.\u001b[0m\u001b[0mappend\u001b[0m\u001b[0;34m(\u001b[0m\u001b[0;34m{\u001b[0m\u001b[0;34m\"Company\"\u001b[0m\u001b[0;34m:\u001b[0m\u001b[0mcompany_\u001b[0m\u001b[0;34m,\u001b[0m\u001b[0;34m\"Location\"\u001b[0m\u001b[0;34m:\u001b[0m\u001b[0mlocation_\u001b[0m\u001b[0;34m,\u001b[0m\u001b[0;34m\"Summary\"\u001b[0m\u001b[0;34m:\u001b[0m\u001b[0msummary_\u001b[0m\u001b[0;34m,\u001b[0m\u001b[0;34m\"Title\"\u001b[0m\u001b[0;34m:\u001b[0m\u001b[0mtitle_\u001b[0m\u001b[0;34m,\u001b[0m\u001b[0;34m\"Salary\"\u001b[0m\u001b[0;34m:\u001b[0m\u001b[0msalary_\u001b[0m\u001b[0;34m}\u001b[0m\u001b[0;34m,\u001b[0m\u001b[0mignore_index\u001b[0m\u001b[0;34m=\u001b[0m\u001b[0mTrue\u001b[0m\u001b[0;34m)\u001b[0m\u001b[0;34m\u001b[0m\u001b[0m\n\u001b[0m\u001b[1;32m     11\u001b[0m \u001b[0;34m\u001b[0m\u001b[0m\n\u001b[1;32m     12\u001b[0m \u001b[0mdf\u001b[0m\u001b[0;34m.\u001b[0m\u001b[0mhead\u001b[0m\u001b[0;34m(\u001b[0m\u001b[0;34m)\u001b[0m\u001b[0;34m\u001b[0m\u001b[0m\n",
      "\u001b[0;32m//anaconda/lib/python2.7/site-packages/pandas/core/frame.pyc\u001b[0m in \u001b[0;36mappend\u001b[0;34m(self, other, ignore_index, verify_integrity)\u001b[0m\n\u001b[1;32m   4320\u001b[0m             \u001b[0mother\u001b[0m \u001b[0;34m=\u001b[0m \u001b[0mother\u001b[0m\u001b[0;34m.\u001b[0m\u001b[0mreindex\u001b[0m\u001b[0;34m(\u001b[0m\u001b[0mcombined_columns\u001b[0m\u001b[0;34m,\u001b[0m \u001b[0mcopy\u001b[0m\u001b[0;34m=\u001b[0m\u001b[0mFalse\u001b[0m\u001b[0;34m)\u001b[0m\u001b[0;34m\u001b[0m\u001b[0m\n\u001b[1;32m   4321\u001b[0m             other = DataFrame(other.values.reshape((1, len(other))),\n\u001b[0;32m-> 4322\u001b[0;31m                               index=index, columns=combined_columns)\n\u001b[0m\u001b[1;32m   4323\u001b[0m             \u001b[0mother\u001b[0m \u001b[0;34m=\u001b[0m \u001b[0mother\u001b[0m\u001b[0;34m.\u001b[0m\u001b[0m_convert\u001b[0m\u001b[0;34m(\u001b[0m\u001b[0mdatetime\u001b[0m\u001b[0;34m=\u001b[0m\u001b[0mTrue\u001b[0m\u001b[0;34m,\u001b[0m \u001b[0mtimedelta\u001b[0m\u001b[0;34m=\u001b[0m\u001b[0mTrue\u001b[0m\u001b[0;34m)\u001b[0m\u001b[0;34m\u001b[0m\u001b[0m\n\u001b[1;32m   4324\u001b[0m \u001b[0;34m\u001b[0m\u001b[0m\n",
      "\u001b[0;31mKeyboardInterrupt\u001b[0m: "
     ]
    }
   ],
   "source": [
    "df = pd.DataFrame()\n",
    "\n",
    "for result in results:\n",
    "    company_ = get_company_from_result(result)\n",
    "    location_ = get_location_from_result(result)\n",
    "    summary_ = get_summary_from_result(result)\n",
    "    title_ = get_title_from_result(result)\n",
    "    salary_ = get_salary_from_result(result)\n",
    "    \n",
    "    df= df.append({\"Company\":company_,\"Location\":location_,\"Summary\":summary_,\"Title\":title_,\"Salary\":salary_},ignore_index=True)\n",
    "    \n",
    "df.head()"
   ]
  },
  {
   "cell_type": "markdown",
   "metadata": {
    "focus": false,
    "id": "faac26dc-392a-4f90-a397-144a070702cb"
   },
   "source": [
    "Lastly, we need to clean up salary data. \n",
    "\n",
    "1. Only a small number of the scraped results have salary information - only these will be used for modeling.\n",
    "1. Some of the salaries are not yearly but hourly or weekly, these will not be useful to us for now\n",
    "1. Some of the entries may be duplicated\n",
    "1. The salaries are given as text and usually with ranges.\n",
    "\n",
    "#### Find the entries with annual salary entries, by filtering the entries without salaries or salaries that are not yearly (filter those that refer to hour or week). Also, remove duplicate entries"
   ]
  },
  {
   "cell_type": "code",
   "execution_count": 9,
   "metadata": {
    "collapsed": false
   },
   "outputs": [
    {
     "name": "stdout",
     "output_type": "stream",
     "text": [
      "(5083, 5)\n"
     ]
    }
   ],
   "source": [
    "print df.shape"
   ]
  },
  {
   "cell_type": "code",
   "execution_count": 56,
   "metadata": {
    "collapsed": false
   },
   "outputs": [
    {
     "data": {
      "text/plain": [
       "(51, 8)"
      ]
     },
     "execution_count": 56,
     "metadata": {},
     "output_type": "execute_result"
    }
   ],
   "source": [
    "df.drop_duplicates(inplace=True)\n",
    "df.shape"
   ]
  },
  {
   "cell_type": "code",
   "execution_count": 11,
   "metadata": {
    "collapsed": false
   },
   "outputs": [
    {
     "name": "stdout",
     "output_type": "stream",
     "text": [
      "The number of null values in the Salary column is:  1212  out of  1278\n"
     ]
    }
   ],
   "source": [
    "DL. Nice!\n",
    "print \"The number of null values in the Salary column is: \",df[\"Salary\"].isnull().sum(),\" out of \",df.shape[0]"
   ]
  },
  {
   "cell_type": "code",
   "execution_count": 12,
   "metadata": {
    "collapsed": false
   },
   "outputs": [
    {
     "data": {
      "text/html": [
       "<div>\n",
       "<table border=\"1\" class=\"dataframe\">\n",
       "  <thead>\n",
       "    <tr style=\"text-align: right;\">\n",
       "      <th></th>\n",
       "      <th>Company</th>\n",
       "      <th>Location</th>\n",
       "      <th>Salary</th>\n",
       "      <th>Summary</th>\n",
       "      <th>Title</th>\n",
       "    </tr>\n",
       "  </thead>\n",
       "  <tbody>\n",
       "    <tr>\n",
       "      <th>0</th>\n",
       "      <td>Consulting.com</td>\n",
       "      <td>New York, NY</td>\n",
       "      <td>None</td>\n",
       "      <td>We are looking for an experienced data scienti...</td>\n",
       "      <td>Top 1% Business Intelligence Analyst</td>\n",
       "    </tr>\n",
       "    <tr>\n",
       "      <th>1</th>\n",
       "      <td>iCIMS</td>\n",
       "      <td>Matawan, NJ</td>\n",
       "      <td>None</td>\n",
       "      <td>Working closely with the data engineers and sc...</td>\n",
       "      <td>Manager, Products (Insights/Big Data)</td>\n",
       "    </tr>\n",
       "    <tr>\n",
       "      <th>2</th>\n",
       "      <td>Consulting.com</td>\n",
       "      <td>New York, NY</td>\n",
       "      <td>None</td>\n",
       "      <td>Working with our data scientists, business int...</td>\n",
       "      <td>Full Stack Developer</td>\n",
       "    </tr>\n",
       "    <tr>\n",
       "      <th>3</th>\n",
       "      <td>Pronoun</td>\n",
       "      <td>New York, NY</td>\n",
       "      <td>None</td>\n",
       "      <td>You are a seasoned data scientist with product...</td>\n",
       "      <td>Senior Data Scientist</td>\n",
       "    </tr>\n",
       "    <tr>\n",
       "      <th>4</th>\n",
       "      <td>EY</td>\n",
       "      <td>New York, NY</td>\n",
       "      <td>None</td>\n",
       "      <td>Forensic Technology &amp; Discovery Services Manag...</td>\n",
       "      <td>Forensic Technology &amp; Discovery Services Manag...</td>\n",
       "    </tr>\n",
       "  </tbody>\n",
       "</table>\n",
       "</div>"
      ],
      "text/plain": [
       "          Company      Location Salary  \\\n",
       "0  Consulting.com  New York, NY   None   \n",
       "1           iCIMS   Matawan, NJ   None   \n",
       "2  Consulting.com  New York, NY   None   \n",
       "3         Pronoun  New York, NY   None   \n",
       "4              EY  New York, NY   None   \n",
       "\n",
       "                                             Summary  \\\n",
       "0  We are looking for an experienced data scienti...   \n",
       "1  Working closely with the data engineers and sc...   \n",
       "2  Working with our data scientists, business int...   \n",
       "3  You are a seasoned data scientist with product...   \n",
       "4  Forensic Technology & Discovery Services Manag...   \n",
       "\n",
       "                                               Title  \n",
       "0               Top 1% Business Intelligence Analyst  \n",
       "1              Manager, Products (Insights/Big Data)  \n",
       "2                               Full Stack Developer  \n",
       "3                              Senior Data Scientist  \n",
       "4  Forensic Technology & Discovery Services Manag...  "
      ]
     },
     "execution_count": 12,
     "metadata": {},
     "output_type": "execute_result"
    }
   ],
   "source": [
    "df_no_salary = df[df[\"Salary\"].isnull()].copy()\n",
    "df_no_salary.head()"
   ]
  },
  {
   "cell_type": "code",
   "execution_count": 13,
   "metadata": {
    "collapsed": true
   },
   "outputs": [],
   "source": [
    "df.dropna(inplace=True)"
   ]
  },
  {
   "cell_type": "code",
   "execution_count": 14,
   "metadata": {
    "collapsed": false
   },
   "outputs": [
    {
     "data": {
      "text/plain": [
       "(66, 5)"
      ]
     },
     "execution_count": 14,
     "metadata": {},
     "output_type": "execute_result"
    }
   ],
   "source": [
    "df.shape"
   ]
  },
  {
   "cell_type": "code",
   "execution_count": 15,
   "metadata": {
    "collapsed": false,
    "scrolled": true
   },
   "outputs": [
    {
     "data": {
      "text/plain": [
       "$150,000 - $180,000 a year    5\n",
       "$160,000 a year               2\n",
       "$140,000 a year               2\n",
       "$80,000 a year                2\n",
       "$30 an hour                   2\n",
       "$170,000 a year               1\n",
       "$52.48 an hour                1\n",
       "$85,500 a year                1\n",
       "$150,000 - $205,000 a year    1\n",
       "$105,300 a year               1\n",
       "$180,000 a year               1\n",
       "$185,000 a year               1\n",
       "$69,900 a year                1\n",
       "$180,000 - $230,000 a year    1\n",
       "$88,305 - $114,802 a year     1\n",
       "$175,000 a year               1\n",
       "$13 - $18 an hour             1\n",
       "$150,000 - $170,000 a year    1\n",
       "$120,000 - $150,000 a year    1\n",
       "$140,000 - $165,000 a year    1\n",
       "$100,000 - $160,000 a year    1\n",
       "$60,000 - $65,000 a year      1\n",
       "$75,000 - $100,000 a year     1\n",
       "$180,000 - $200,000 a year    1\n",
       "$80,000 - $250,000 a year     1\n",
       "$55,000 - $70,000 a year      1\n",
       "$66,700 a year                1\n",
       "$90,000 - $110,000 a year     1\n",
       "$57 an hour                   1\n",
       "$15 - $20 an hour             1\n",
       "$104,349 - $135,656 a year    1\n",
       "$100,000 - $200,000 a year    1\n",
       "$51,706 a year                1\n",
       "$40,000 - $80,000 a year      1\n",
       "$70,000 - $145,000 a year     1\n",
       "$100,000 - $125,000 a year    1\n",
       "$50 - $65 an hour             1\n",
       "$60 - $70 an hour             1\n",
       "$62 - $93 an hour             1\n",
       "$67 an hour                   1\n",
       "$65 - $80 an hour             1\n",
       "$140,000 - $170,000 a year    1\n",
       "$120,000 - $180,000 a year    1\n",
       "$60 - $75 an hour             1\n",
       "$890 a day                    1\n",
       "$150,000 - $200,000 a year    1\n",
       "$130,000 - $160,000 a year    1\n",
       "$90 an hour                   1\n",
       "$132,000 - $150,000 a year    1\n",
       "$60,000 - $70,000 a year      1\n",
       "$74,260 - $96,538 a year      1\n",
       "$80,000 - $120,000 a year     1\n",
       "$48.39 an hour                1\n",
       "$75,000 - $90,000 a year      1\n",
       "$110,000 - $140,000 a year    1\n",
       "$120,000 - $160,000 a year    1\n",
       "$24,000 a year                1\n",
       "$170,000 - $200,000 a year    1\n",
       "Name: Salary, dtype: int64"
      ]
     },
     "execution_count": 15,
     "metadata": {},
     "output_type": "execute_result"
    }
   ],
   "source": [
    "df[\"Salary\"].value_counts()"
   ]
  },
  {
   "cell_type": "code",
   "execution_count": 16,
   "metadata": {
    "collapsed": true
   },
   "outputs": [],
   "source": [
    "df2 = df.copy()"
   ]
  },
  {
   "cell_type": "code",
   "execution_count": 17,
   "metadata": {
    "collapsed": false,
    "focus": false,
    "id": "58ff72c5-eef2-4a86-93ac-22f84ed9b752"
   },
   "outputs": [
    {
     "name": "stdout",
     "output_type": "stream",
     "text": [
      "0\n"
     ]
    }
   ],
   "source": [
    "# Filter out salary entries referring to week, hour or month\n",
    "df = df[~(df.Salary.astype('str').str.contains('hour'))]\n",
    "df = df[~(df.Salary.astype('str').str.contains('day'))]\n",
    "df = df[~(df.Salary.astype('str').str.contains('month'))]\n",
    "df = df[~(df.Salary.astype('str').str.contains('week'))]\n",
    "print df[\"Salary\"].isnull().sum()"
   ]
  },
  {
   "cell_type": "code",
   "execution_count": 18,
   "metadata": {
    "collapsed": false,
    "scrolled": true
   },
   "outputs": [
    {
     "data": {
      "text/plain": [
       "$150,000 - $180,000 a year    5\n",
       "$160,000 a year               2\n",
       "$80,000 a year                2\n",
       "$140,000 a year               2\n",
       "$85,500 a year                1\n",
       "$60,000 - $65,000 a year      1\n",
       "$180,000 - $200,000 a year    1\n",
       "$80,000 - $120,000 a year     1\n",
       "$60,000 - $70,000 a year      1\n",
       "$180,000 - $230,000 a year    1\n",
       "$66,700 a year                1\n",
       "$80,000 - $250,000 a year     1\n",
       "$140,000 - $165,000 a year    1\n",
       "$90,000 - $110,000 a year     1\n",
       "$55,000 - $70,000 a year      1\n",
       "$74,260 - $96,538 a year      1\n",
       "$120,000 - $160,000 a year    1\n",
       "$24,000 a year                1\n",
       "$150,000 - $200,000 a year    1\n",
       "$104,349 - $135,656 a year    1\n",
       "$150,000 - $170,000 a year    1\n",
       "$75,000 - $100,000 a year     1\n",
       "$120,000 - $150,000 a year    1\n",
       "$132,000 - $150,000 a year    1\n",
       "$150,000 - $205,000 a year    1\n",
       "$100,000 - $200,000 a year    1\n",
       "$40,000 - $80,000 a year      1\n",
       "$100,000 - $160,000 a year    1\n",
       "$70,000 - $145,000 a year     1\n",
       "$100,000 - $125,000 a year    1\n",
       "$105,300 a year               1\n",
       "$130,000 - $160,000 a year    1\n",
       "$140,000 - $170,000 a year    1\n",
       "$120,000 - $180,000 a year    1\n",
       "$75,000 - $90,000 a year      1\n",
       "$180,000 a year               1\n",
       "$185,000 a year               1\n",
       "$110,000 - $140,000 a year    1\n",
       "$69,900 a year                1\n",
       "$51,706 a year                1\n",
       "$88,305 - $114,802 a year     1\n",
       "$175,000 a year               1\n",
       "$170,000 a year               1\n",
       "$170,000 - $200,000 a year    1\n",
       "Name: Salary, dtype: int64"
      ]
     },
     "execution_count": 18,
     "metadata": {},
     "output_type": "execute_result"
    }
   ],
   "source": [
    "df[\"Salary\"].value_counts()"
   ]
  },
  {
   "cell_type": "code",
   "execution_count": 19,
   "metadata": {
    "collapsed": false
   },
   "outputs": [
    {
     "data": {
      "text/plain": [
       "(51, 5)"
      ]
     },
     "execution_count": 19,
     "metadata": {},
     "output_type": "execute_result"
    }
   ],
   "source": [
    "df.shape"
   ]
  },
  {
   "cell_type": "markdown",
   "metadata": {
    "focus": false,
    "id": "e1f58de9-78a7-49c1-b1ff-145a8f983790"
   },
   "source": [
    "#### Write a function that takes a salary string and converts it to a number, averaging a salary range if necessary"
   ]
  },
  {
   "cell_type": "code",
   "execution_count": null,
   "metadata": {
    "collapsed": true
   },
   "outputs": [],
   "source": []
  },
  {
   "cell_type": "code",
   "execution_count": 20,
   "metadata": {
    "collapsed": true,
    "focus": false,
    "id": "f2eaea83-8f84-48d3-af17-037538d06601"
   },
   "outputs": [],
   "source": [
    "# DL. This is good practice!\n",
    "import re\n",
    "import numpy as np\n",
    "def extract_salary_average(salary_string):\n",
    "    regex = r'\\$([0-9]+,[0-9]+)'\n",
    "    matches = re.findall(regex, salary_string)\n",
    "    return np.mean([float(salary.replace(',', '')) for salary in matches ])"
   ]
  },
  {
   "cell_type": "code",
   "execution_count": 21,
   "metadata": {
    "collapsed": false,
    "focus": false,
    "id": "2d46d846-8aeb-49c3-86ac-768c4fc81552"
   },
   "outputs": [
    {
     "data": {
      "text/html": [
       "<div>\n",
       "<table border=\"1\" class=\"dataframe\">\n",
       "  <thead>\n",
       "    <tr style=\"text-align: right;\">\n",
       "      <th></th>\n",
       "      <th>Company</th>\n",
       "      <th>Location</th>\n",
       "      <th>Salary</th>\n",
       "      <th>Summary</th>\n",
       "      <th>Title</th>\n",
       "      <th>Salary_avg</th>\n",
       "    </tr>\n",
       "  </thead>\n",
       "  <tbody>\n",
       "    <tr>\n",
       "      <th>19</th>\n",
       "      <td>Centers for Disease Control and Prevention</td>\n",
       "      <td>Atlanta, GA</td>\n",
       "      <td>$88,305 - $114,802 a year</td>\n",
       "      <td>Applying principles, theories and methodology ...</td>\n",
       "      <td>Statistician (Health)</td>\n",
       "      <td>101553.5</td>\n",
       "    </tr>\n",
       "    <tr>\n",
       "      <th>40</th>\n",
       "      <td>Emory University</td>\n",
       "      <td>Atlanta, GA</td>\n",
       "      <td>$105,300 a year</td>\n",
       "      <td>Will support multiple studies, including studi...</td>\n",
       "      <td>Epidemiologist</td>\n",
       "      <td>105300.0</td>\n",
       "    </tr>\n",
       "    <tr>\n",
       "      <th>51</th>\n",
       "      <td>Centers for Disease Control and Prevention</td>\n",
       "      <td>Atlanta, GA</td>\n",
       "      <td>$104,349 - $135,656 a year</td>\n",
       "      <td>Lead scientists and program consultants in var...</td>\n",
       "      <td>Health Scientist</td>\n",
       "      <td>120002.5</td>\n",
       "    </tr>\n",
       "    <tr>\n",
       "      <th>56</th>\n",
       "      <td>Analytic Recruiting</td>\n",
       "      <td>Alpharetta, GA</td>\n",
       "      <td>$75,000 - $90,000 a year</td>\n",
       "      <td>Junior Data Scientist sought by Fortune 500 co...</td>\n",
       "      <td>Junior Data Scientist</td>\n",
       "      <td>82500.0</td>\n",
       "    </tr>\n",
       "    <tr>\n",
       "      <th>63</th>\n",
       "      <td>Centers for Disease Control and Prevention</td>\n",
       "      <td>Atlanta, GA</td>\n",
       "      <td>$74,260 - $96,538 a year</td>\n",
       "      <td>As Behavioral Scientist you will:. Identify an...</td>\n",
       "      <td>Behavioral Scientist</td>\n",
       "      <td>85399.0</td>\n",
       "    </tr>\n",
       "  </tbody>\n",
       "</table>\n",
       "</div>"
      ],
      "text/plain": [
       "                                       Company        Location  \\\n",
       "19  Centers for Disease Control and Prevention     Atlanta, GA   \n",
       "40                            Emory University     Atlanta, GA   \n",
       "51  Centers for Disease Control and Prevention     Atlanta, GA   \n",
       "56                         Analytic Recruiting  Alpharetta, GA   \n",
       "63  Centers for Disease Control and Prevention     Atlanta, GA   \n",
       "\n",
       "                        Salary  \\\n",
       "19   $88,305 - $114,802 a year   \n",
       "40             $105,300 a year   \n",
       "51  $104,349 - $135,656 a year   \n",
       "56    $75,000 - $90,000 a year   \n",
       "63    $74,260 - $96,538 a year   \n",
       "\n",
       "                                              Summary                  Title  \\\n",
       "19  Applying principles, theories and methodology ...  Statistician (Health)   \n",
       "40  Will support multiple studies, including studi...         Epidemiologist   \n",
       "51  Lead scientists and program consultants in var...       Health Scientist   \n",
       "56  Junior Data Scientist sought by Fortune 500 co...  Junior Data Scientist   \n",
       "63  As Behavioral Scientist you will:. Identify an...   Behavioral Scientist   \n",
       "\n",
       "    Salary_avg  \n",
       "19    101553.5  \n",
       "40    105300.0  \n",
       "51    120002.5  \n",
       "56     82500.0  \n",
       "63     85399.0  "
      ]
     },
     "execution_count": 21,
     "metadata": {},
     "output_type": "execute_result"
    }
   ],
   "source": [
    "# use '.map' to transform salary to new feature\n",
    "df['Salary_avg'] = map(extract_salary_average,df[\"Salary\"])\n",
    "df.head()"
   ]
  },
  {
   "cell_type": "code",
   "execution_count": 22,
   "metadata": {
    "collapsed": false,
    "scrolled": false
   },
   "outputs": [
    {
     "data": {
      "text/plain": [
       "19                                   [Atlanta,  GA]\n",
       "40                                   [Atlanta,  GA]\n",
       "51                                   [Atlanta,  GA]\n",
       "56                                [Alpharetta,  GA]\n",
       "63                                   [Atlanta,  GA]\n",
       "70                                   [Atlanta,  GA]\n",
       "101                                  [Atlanta,  GA]\n",
       "102                                  [Atlanta,  GA]\n",
       "109     [Atlanta,  GA 30308 (Old Fourth Ward area)]\n",
       "111                                  [Atlanta,  GA]\n",
       "132                                  [Atlanta,  GA]\n",
       "158                                  [Atlanta,  GA]\n",
       "173                                  [Atlanta,  GA]\n",
       "204                            [Atlanta,  GA 30341]\n",
       "262                                  [Atlanta,  GA]\n",
       "309                                  [Atlanta,  GA]\n",
       "354                                  [Atlanta,  GA]\n",
       "364                                  [Atlanta,  GA]\n",
       "3008                                [San Jose,  CA]\n",
       "3025                                [Campbell,  CA]\n",
       "3083          [San Jose,  CA 95113 (Downtown area)]\n",
       "3190                            [Redwood City,  CA]\n",
       "3205                               [Palo Alto,  CA]\n",
       "3235          [San Jose,  CA 95113 (Downtown area)]\n",
       "3259                                [San Jose,  CA]\n",
       "3324                           [Mountain View,  CA]\n",
       "3340                               [Palo Alto,  CA]\n",
       "3400                              [Menlo Park,  CA]\n",
       "3417          [San Jose,  CA 95113 (Downtown area)]\n",
       "3444                              [Menlo Park,  CA]\n",
       "3447          [San Jose,  CA 95113 (Downtown area)]\n",
       "3463          [San Jose,  CA 95113 (Downtown area)]\n",
       "3636                               [Palo Alto,  CA]\n",
       "3758                               [Palo Alto,  CA]\n",
       "3772          [San Jose,  CA 95113 (Downtown area)]\n",
       "3892                           [Mountain View,  CA]\n",
       "3906                               [Palo Alto,  CA]\n",
       "3937                                [Campbell,  CA]\n",
       "4027                               [Palo Alto,  CA]\n",
       "4054          [San Jose,  CA 95113 (Downtown area)]\n",
       "4103          [San Jose,  CA 95113 (Downtown area)]\n",
       "4147                             [Santa Clara,  CA]\n",
       "4268          [San Jose,  CA 95113 (Downtown area)]\n",
       "4302                                [Milpitas,  CA]\n",
       "4310          [San Jose,  CA 95113 (Downtown area)]\n",
       "4314          [San Jose,  CA 95113 (Downtown area)]\n",
       "4345                            [Redwood City,  CA]\n",
       "4390                            [Redwood City,  CA]\n",
       "4399                               [Sunnyvale,  CA]\n",
       "4488                            [Redwood City,  CA]\n",
       "4489                            [Redwood City,  CA]\n",
       "Name: Location, dtype: object"
      ]
     },
     "execution_count": 22,
     "metadata": {},
     "output_type": "execute_result"
    }
   ],
   "source": [
    "# Now, we will split the location to city and state\n",
    "loc_vector = df[\"Location\"].str.split(\",\")\n",
    "loc_vector"
   ]
  },
  {
   "cell_type": "code",
   "execution_count": 23,
   "metadata": {
    "collapsed": false
   },
   "outputs": [],
   "source": [
    "city_vector = []\n",
    "state_vector = []\n",
    "for tup in loc_vector:\n",
    "    city_vector.append(tup[0])\n",
    "    state_vector.append(tup[1])"
   ]
  },
  {
   "cell_type": "code",
   "execution_count": 24,
   "metadata": {
    "collapsed": false
   },
   "outputs": [
    {
     "data": {
      "text/html": [
       "<div>\n",
       "<table border=\"1\" class=\"dataframe\">\n",
       "  <thead>\n",
       "    <tr style=\"text-align: right;\">\n",
       "      <th></th>\n",
       "      <th>Company</th>\n",
       "      <th>Location</th>\n",
       "      <th>Salary</th>\n",
       "      <th>Summary</th>\n",
       "      <th>Title</th>\n",
       "      <th>Salary_avg</th>\n",
       "      <th>City</th>\n",
       "      <th>State</th>\n",
       "    </tr>\n",
       "  </thead>\n",
       "  <tbody>\n",
       "    <tr>\n",
       "      <th>19</th>\n",
       "      <td>Centers for Disease Control and Prevention</td>\n",
       "      <td>Atlanta, GA</td>\n",
       "      <td>$88,305 - $114,802 a year</td>\n",
       "      <td>Applying principles, theories and methodology ...</td>\n",
       "      <td>Statistician (Health)</td>\n",
       "      <td>101553.5</td>\n",
       "      <td>Atlanta</td>\n",
       "      <td>GA</td>\n",
       "    </tr>\n",
       "    <tr>\n",
       "      <th>40</th>\n",
       "      <td>Emory University</td>\n",
       "      <td>Atlanta, GA</td>\n",
       "      <td>$105,300 a year</td>\n",
       "      <td>Will support multiple studies, including studi...</td>\n",
       "      <td>Epidemiologist</td>\n",
       "      <td>105300.0</td>\n",
       "      <td>Atlanta</td>\n",
       "      <td>GA</td>\n",
       "    </tr>\n",
       "    <tr>\n",
       "      <th>51</th>\n",
       "      <td>Centers for Disease Control and Prevention</td>\n",
       "      <td>Atlanta, GA</td>\n",
       "      <td>$104,349 - $135,656 a year</td>\n",
       "      <td>Lead scientists and program consultants in var...</td>\n",
       "      <td>Health Scientist</td>\n",
       "      <td>120002.5</td>\n",
       "      <td>Atlanta</td>\n",
       "      <td>GA</td>\n",
       "    </tr>\n",
       "    <tr>\n",
       "      <th>56</th>\n",
       "      <td>Analytic Recruiting</td>\n",
       "      <td>Alpharetta, GA</td>\n",
       "      <td>$75,000 - $90,000 a year</td>\n",
       "      <td>Junior Data Scientist sought by Fortune 500 co...</td>\n",
       "      <td>Junior Data Scientist</td>\n",
       "      <td>82500.0</td>\n",
       "      <td>Alpharetta</td>\n",
       "      <td>GA</td>\n",
       "    </tr>\n",
       "    <tr>\n",
       "      <th>63</th>\n",
       "      <td>Centers for Disease Control and Prevention</td>\n",
       "      <td>Atlanta, GA</td>\n",
       "      <td>$74,260 - $96,538 a year</td>\n",
       "      <td>As Behavioral Scientist you will:. Identify an...</td>\n",
       "      <td>Behavioral Scientist</td>\n",
       "      <td>85399.0</td>\n",
       "      <td>Atlanta</td>\n",
       "      <td>GA</td>\n",
       "    </tr>\n",
       "  </tbody>\n",
       "</table>\n",
       "</div>"
      ],
      "text/plain": [
       "                                       Company        Location  \\\n",
       "19  Centers for Disease Control and Prevention     Atlanta, GA   \n",
       "40                            Emory University     Atlanta, GA   \n",
       "51  Centers for Disease Control and Prevention     Atlanta, GA   \n",
       "56                         Analytic Recruiting  Alpharetta, GA   \n",
       "63  Centers for Disease Control and Prevention     Atlanta, GA   \n",
       "\n",
       "                        Salary  \\\n",
       "19   $88,305 - $114,802 a year   \n",
       "40             $105,300 a year   \n",
       "51  $104,349 - $135,656 a year   \n",
       "56    $75,000 - $90,000 a year   \n",
       "63    $74,260 - $96,538 a year   \n",
       "\n",
       "                                              Summary                  Title  \\\n",
       "19  Applying principles, theories and methodology ...  Statistician (Health)   \n",
       "40  Will support multiple studies, including studi...         Epidemiologist   \n",
       "51  Lead scientists and program consultants in var...       Health Scientist   \n",
       "56  Junior Data Scientist sought by Fortune 500 co...  Junior Data Scientist   \n",
       "63  As Behavioral Scientist you will:. Identify an...   Behavioral Scientist   \n",
       "\n",
       "    Salary_avg        City State  \n",
       "19    101553.5     Atlanta    GA  \n",
       "40    105300.0     Atlanta    GA  \n",
       "51    120002.5     Atlanta    GA  \n",
       "56     82500.0  Alpharetta    GA  \n",
       "63     85399.0     Atlanta    GA  "
      ]
     },
     "execution_count": 24,
     "metadata": {},
     "output_type": "execute_result"
    }
   ],
   "source": [
    "df['City'] = city_vector\n",
    "df['State'] = state_vector\n",
    "\n",
    "df.head()"
   ]
  },
  {
   "cell_type": "code",
   "execution_count": 25,
   "metadata": {
    "collapsed": false
   },
   "outputs": [],
   "source": [
    "df['State'] = df['State'].str.strip()"
   ]
  },
  {
   "cell_type": "code",
   "execution_count": 26,
   "metadata": {
    "collapsed": false
   },
   "outputs": [
    {
     "data": {
      "text/plain": [
       "CA    33\n",
       "GA    18\n",
       "Name: State, dtype: int64"
      ]
     },
     "execution_count": 26,
     "metadata": {},
     "output_type": "execute_result"
    }
   ],
   "source": [
    "df[\"State\"] = df[\"State\"].apply(lambda x: x[0:2])\n",
    "df[\"State\"].value_counts()"
   ]
  },
  {
   "cell_type": "code",
   "execution_count": 27,
   "metadata": {
    "collapsed": false
   },
   "outputs": [
    {
     "data": {
      "text/html": [
       "<div>\n",
       "<table border=\"1\" class=\"dataframe\">\n",
       "  <thead>\n",
       "    <tr style=\"text-align: right;\">\n",
       "      <th></th>\n",
       "      <th>Company</th>\n",
       "      <th>Location</th>\n",
       "      <th>Salary</th>\n",
       "      <th>Summary</th>\n",
       "      <th>Title</th>\n",
       "      <th>Salary_avg</th>\n",
       "      <th>City</th>\n",
       "      <th>State</th>\n",
       "    </tr>\n",
       "  </thead>\n",
       "  <tbody>\n",
       "    <tr>\n",
       "      <th>19</th>\n",
       "      <td>Centers for Disease Control and Prevention</td>\n",
       "      <td>Atlanta, GA</td>\n",
       "      <td>$88,305 - $114,802 a year</td>\n",
       "      <td>Applying principles, theories and methodology ...</td>\n",
       "      <td>Statistician (Health)</td>\n",
       "      <td>101553.5</td>\n",
       "      <td>Atlanta</td>\n",
       "      <td>GA</td>\n",
       "    </tr>\n",
       "    <tr>\n",
       "      <th>40</th>\n",
       "      <td>Emory University</td>\n",
       "      <td>Atlanta, GA</td>\n",
       "      <td>$105,300 a year</td>\n",
       "      <td>Will support multiple studies, including studi...</td>\n",
       "      <td>Epidemiologist</td>\n",
       "      <td>105300.0</td>\n",
       "      <td>Atlanta</td>\n",
       "      <td>GA</td>\n",
       "    </tr>\n",
       "    <tr>\n",
       "      <th>51</th>\n",
       "      <td>Centers for Disease Control and Prevention</td>\n",
       "      <td>Atlanta, GA</td>\n",
       "      <td>$104,349 - $135,656 a year</td>\n",
       "      <td>Lead scientists and program consultants in var...</td>\n",
       "      <td>Health Scientist</td>\n",
       "      <td>120002.5</td>\n",
       "      <td>Atlanta</td>\n",
       "      <td>GA</td>\n",
       "    </tr>\n",
       "    <tr>\n",
       "      <th>56</th>\n",
       "      <td>Analytic Recruiting</td>\n",
       "      <td>Alpharetta, GA</td>\n",
       "      <td>$75,000 - $90,000 a year</td>\n",
       "      <td>Junior Data Scientist sought by Fortune 500 co...</td>\n",
       "      <td>Junior Data Scientist</td>\n",
       "      <td>82500.0</td>\n",
       "      <td>Alpharetta</td>\n",
       "      <td>GA</td>\n",
       "    </tr>\n",
       "    <tr>\n",
       "      <th>63</th>\n",
       "      <td>Centers for Disease Control and Prevention</td>\n",
       "      <td>Atlanta, GA</td>\n",
       "      <td>$74,260 - $96,538 a year</td>\n",
       "      <td>As Behavioral Scientist you will:. Identify an...</td>\n",
       "      <td>Behavioral Scientist</td>\n",
       "      <td>85399.0</td>\n",
       "      <td>Atlanta</td>\n",
       "      <td>GA</td>\n",
       "    </tr>\n",
       "  </tbody>\n",
       "</table>\n",
       "</div>"
      ],
      "text/plain": [
       "                                       Company        Location  \\\n",
       "19  Centers for Disease Control and Prevention     Atlanta, GA   \n",
       "40                            Emory University     Atlanta, GA   \n",
       "51  Centers for Disease Control and Prevention     Atlanta, GA   \n",
       "56                         Analytic Recruiting  Alpharetta, GA   \n",
       "63  Centers for Disease Control and Prevention     Atlanta, GA   \n",
       "\n",
       "                        Salary  \\\n",
       "19   $88,305 - $114,802 a year   \n",
       "40             $105,300 a year   \n",
       "51  $104,349 - $135,656 a year   \n",
       "56    $75,000 - $90,000 a year   \n",
       "63    $74,260 - $96,538 a year   \n",
       "\n",
       "                                              Summary                  Title  \\\n",
       "19  Applying principles, theories and methodology ...  Statistician (Health)   \n",
       "40  Will support multiple studies, including studi...         Epidemiologist   \n",
       "51  Lead scientists and program consultants in var...       Health Scientist   \n",
       "56  Junior Data Scientist sought by Fortune 500 co...  Junior Data Scientist   \n",
       "63  As Behavioral Scientist you will:. Identify an...   Behavioral Scientist   \n",
       "\n",
       "    Salary_avg        City State  \n",
       "19    101553.5     Atlanta    GA  \n",
       "40    105300.0     Atlanta    GA  \n",
       "51    120002.5     Atlanta    GA  \n",
       "56     82500.0  Alpharetta    GA  \n",
       "63     85399.0     Atlanta    GA  "
      ]
     },
     "execution_count": 27,
     "metadata": {},
     "output_type": "execute_result"
    }
   ],
   "source": [
    "df.head()"
   ]
  },
  {
   "cell_type": "code",
   "execution_count": 28,
   "metadata": {
    "collapsed": false,
    "focus": false,
    "id": "5d66eb8a-a032-43f7-8e87-8f37612c2ce5"
   },
   "outputs": [],
   "source": [
    "# save scraped results as a CSV for Tableau/external viz\n",
    "# df.to_csv('assets/Jobs.csv', encoding= 'utf-8')"
   ]
  },
  {
   "cell_type": "markdown",
   "metadata": {
    "focus": false,
    "id": "6e8a5a1c-1580-4845-a9b6-482bc00c73cd"
   },
   "source": [
    "## Predicting salaries using Logistic Regression"
   ]
  },
  {
   "cell_type": "code",
   "execution_count": 60,
   "metadata": {
    "collapsed": false,
    "focus": false,
    "id": "634ab7c1-c76f-4b04-a36e-5ff3cb1f9eb2"
   },
   "outputs": [
    {
     "data": {
      "text/html": [
       "<div>\n",
       "<table border=\"1\" class=\"dataframe\">\n",
       "  <thead>\n",
       "    <tr style=\"text-align: right;\">\n",
       "      <th></th>\n",
       "      <th>Unnamed: 0</th>\n",
       "      <th>Company</th>\n",
       "      <th>Location</th>\n",
       "      <th>Salary</th>\n",
       "      <th>Summary</th>\n",
       "      <th>Title</th>\n",
       "      <th>Salary_avg</th>\n",
       "      <th>City</th>\n",
       "      <th>State</th>\n",
       "    </tr>\n",
       "  </thead>\n",
       "  <tbody>\n",
       "    <tr>\n",
       "      <th>0</th>\n",
       "      <td>19</td>\n",
       "      <td>Centers for Disease Control and Prevention</td>\n",
       "      <td>Atlanta, GA</td>\n",
       "      <td>$88,305 - $114,802 a year</td>\n",
       "      <td>Applying principles, theories and methodology ...</td>\n",
       "      <td>Statistician (Health)</td>\n",
       "      <td>101553.5</td>\n",
       "      <td>Atlanta</td>\n",
       "      <td>GA</td>\n",
       "    </tr>\n",
       "    <tr>\n",
       "      <th>1</th>\n",
       "      <td>40</td>\n",
       "      <td>Emory University</td>\n",
       "      <td>Atlanta, GA</td>\n",
       "      <td>$105,300 a year</td>\n",
       "      <td>Will support multiple studies, including studi...</td>\n",
       "      <td>Epidemiologist</td>\n",
       "      <td>105300.0</td>\n",
       "      <td>Atlanta</td>\n",
       "      <td>GA</td>\n",
       "    </tr>\n",
       "    <tr>\n",
       "      <th>2</th>\n",
       "      <td>51</td>\n",
       "      <td>Centers for Disease Control and Prevention</td>\n",
       "      <td>Atlanta, GA</td>\n",
       "      <td>$104,349 - $135,656 a year</td>\n",
       "      <td>Lead scientists and program consultants in var...</td>\n",
       "      <td>Health Scientist</td>\n",
       "      <td>120002.5</td>\n",
       "      <td>Atlanta</td>\n",
       "      <td>GA</td>\n",
       "    </tr>\n",
       "    <tr>\n",
       "      <th>3</th>\n",
       "      <td>56</td>\n",
       "      <td>Analytic Recruiting</td>\n",
       "      <td>Alpharetta, GA</td>\n",
       "      <td>$75,000 - $90,000 a year</td>\n",
       "      <td>Junior Data Scientist sought by Fortune 500 co...</td>\n",
       "      <td>Junior Data Scientist</td>\n",
       "      <td>82500.0</td>\n",
       "      <td>Alpharetta</td>\n",
       "      <td>GA</td>\n",
       "    </tr>\n",
       "    <tr>\n",
       "      <th>4</th>\n",
       "      <td>63</td>\n",
       "      <td>Centers for Disease Control and Prevention</td>\n",
       "      <td>Atlanta, GA</td>\n",
       "      <td>$74,260 - $96,538 a year</td>\n",
       "      <td>As Behavioral Scientist you will:. Identify an...</td>\n",
       "      <td>Behavioral Scientist</td>\n",
       "      <td>85399.0</td>\n",
       "      <td>Atlanta</td>\n",
       "      <td>GA</td>\n",
       "    </tr>\n",
       "  </tbody>\n",
       "</table>\n",
       "</div>"
      ],
      "text/plain": [
       "   Unnamed: 0                                     Company        Location  \\\n",
       "0          19  Centers for Disease Control and Prevention     Atlanta, GA   \n",
       "1          40                            Emory University     Atlanta, GA   \n",
       "2          51  Centers for Disease Control and Prevention     Atlanta, GA   \n",
       "3          56                         Analytic Recruiting  Alpharetta, GA   \n",
       "4          63  Centers for Disease Control and Prevention     Atlanta, GA   \n",
       "\n",
       "                       Salary  \\\n",
       "0   $88,305 - $114,802 a year   \n",
       "1             $105,300 a year   \n",
       "2  $104,349 - $135,656 a year   \n",
       "3    $75,000 - $90,000 a year   \n",
       "4    $74,260 - $96,538 a year   \n",
       "\n",
       "                                             Summary                  Title  \\\n",
       "0  Applying principles, theories and methodology ...  Statistician (Health)   \n",
       "1  Will support multiple studies, including studi...         Epidemiologist   \n",
       "2  Lead scientists and program consultants in var...       Health Scientist   \n",
       "3  Junior Data Scientist sought by Fortune 500 co...  Junior Data Scientist   \n",
       "4  As Behavioral Scientist you will:. Identify an...   Behavioral Scientist   \n",
       "\n",
       "   Salary_avg        City State  \n",
       "0    101553.5     Atlanta    GA  \n",
       "1    105300.0     Atlanta    GA  \n",
       "2    120002.5     Atlanta    GA  \n",
       "3     82500.0  Alpharetta    GA  \n",
       "4     85399.0     Atlanta    GA  "
      ]
     },
     "execution_count": 60,
     "metadata": {},
     "output_type": "execute_result"
    }
   ],
   "source": [
    "# load in the the data of scraped salaries\n",
    "jobs = pd.read_csv('assets/Jobs.csv')\n",
    "jobs.head()"
   ]
  },
  {
   "cell_type": "code",
   "execution_count": 61,
   "metadata": {
    "collapsed": false
   },
   "outputs": [
    {
     "data": {
      "text/plain": [
       "(51, 9)"
      ]
     },
     "execution_count": 61,
     "metadata": {},
     "output_type": "execute_result"
    }
   ],
   "source": [
    "jobs.shape"
   ]
  },
  {
   "cell_type": "markdown",
   "metadata": {
    "focus": false,
    "id": "c3ed6de7-8fe0-4cf4-abbd-abb2a188e05b"
   },
   "source": [
    "#### We want to predict a binary variable - whether the salary was low or high. Compute the median salary and create a new binary variable that is true when the salary is high (above the median)"
   ]
  },
  {
   "cell_type": "code",
   "execution_count": 62,
   "metadata": {
    "collapsed": false,
    "focus": false,
    "id": "073e3f3e-21bc-4ab7-ae2e-272be0a409cc"
   },
   "outputs": [
    {
     "data": {
      "text/html": [
       "<div>\n",
       "<table border=\"1\" class=\"dataframe\">\n",
       "  <thead>\n",
       "    <tr style=\"text-align: right;\">\n",
       "      <th></th>\n",
       "      <th>Unnamed: 0</th>\n",
       "      <th>Company</th>\n",
       "      <th>Location</th>\n",
       "      <th>Salary</th>\n",
       "      <th>Summary</th>\n",
       "      <th>Title</th>\n",
       "      <th>Salary_avg</th>\n",
       "      <th>City</th>\n",
       "      <th>State</th>\n",
       "      <th>Salary_bin</th>\n",
       "    </tr>\n",
       "  </thead>\n",
       "  <tbody>\n",
       "    <tr>\n",
       "      <th>0</th>\n",
       "      <td>19</td>\n",
       "      <td>Centers for Disease Control and Prevention</td>\n",
       "      <td>Atlanta, GA</td>\n",
       "      <td>$88,305 - $114,802 a year</td>\n",
       "      <td>Applying principles, theories and methodology ...</td>\n",
       "      <td>Statistician (Health)</td>\n",
       "      <td>101553.5</td>\n",
       "      <td>Atlanta</td>\n",
       "      <td>GA</td>\n",
       "      <td>0</td>\n",
       "    </tr>\n",
       "    <tr>\n",
       "      <th>1</th>\n",
       "      <td>40</td>\n",
       "      <td>Emory University</td>\n",
       "      <td>Atlanta, GA</td>\n",
       "      <td>$105,300 a year</td>\n",
       "      <td>Will support multiple studies, including studi...</td>\n",
       "      <td>Epidemiologist</td>\n",
       "      <td>105300.0</td>\n",
       "      <td>Atlanta</td>\n",
       "      <td>GA</td>\n",
       "      <td>0</td>\n",
       "    </tr>\n",
       "    <tr>\n",
       "      <th>2</th>\n",
       "      <td>51</td>\n",
       "      <td>Centers for Disease Control and Prevention</td>\n",
       "      <td>Atlanta, GA</td>\n",
       "      <td>$104,349 - $135,656 a year</td>\n",
       "      <td>Lead scientists and program consultants in var...</td>\n",
       "      <td>Health Scientist</td>\n",
       "      <td>120002.5</td>\n",
       "      <td>Atlanta</td>\n",
       "      <td>GA</td>\n",
       "      <td>0</td>\n",
       "    </tr>\n",
       "    <tr>\n",
       "      <th>3</th>\n",
       "      <td>56</td>\n",
       "      <td>Analytic Recruiting</td>\n",
       "      <td>Alpharetta, GA</td>\n",
       "      <td>$75,000 - $90,000 a year</td>\n",
       "      <td>Junior Data Scientist sought by Fortune 500 co...</td>\n",
       "      <td>Junior Data Scientist</td>\n",
       "      <td>82500.0</td>\n",
       "      <td>Alpharetta</td>\n",
       "      <td>GA</td>\n",
       "      <td>0</td>\n",
       "    </tr>\n",
       "    <tr>\n",
       "      <th>4</th>\n",
       "      <td>63</td>\n",
       "      <td>Centers for Disease Control and Prevention</td>\n",
       "      <td>Atlanta, GA</td>\n",
       "      <td>$74,260 - $96,538 a year</td>\n",
       "      <td>As Behavioral Scientist you will:. Identify an...</td>\n",
       "      <td>Behavioral Scientist</td>\n",
       "      <td>85399.0</td>\n",
       "      <td>Atlanta</td>\n",
       "      <td>GA</td>\n",
       "      <td>0</td>\n",
       "    </tr>\n",
       "  </tbody>\n",
       "</table>\n",
       "</div>"
      ],
      "text/plain": [
       "   Unnamed: 0                                     Company        Location  \\\n",
       "0          19  Centers for Disease Control and Prevention     Atlanta, GA   \n",
       "1          40                            Emory University     Atlanta, GA   \n",
       "2          51  Centers for Disease Control and Prevention     Atlanta, GA   \n",
       "3          56                         Analytic Recruiting  Alpharetta, GA   \n",
       "4          63  Centers for Disease Control and Prevention     Atlanta, GA   \n",
       "\n",
       "                       Salary  \\\n",
       "0   $88,305 - $114,802 a year   \n",
       "1             $105,300 a year   \n",
       "2  $104,349 - $135,656 a year   \n",
       "3    $75,000 - $90,000 a year   \n",
       "4    $74,260 - $96,538 a year   \n",
       "\n",
       "                                             Summary                  Title  \\\n",
       "0  Applying principles, theories and methodology ...  Statistician (Health)   \n",
       "1  Will support multiple studies, including studi...         Epidemiologist   \n",
       "2  Lead scientists and program consultants in var...       Health Scientist   \n",
       "3  Junior Data Scientist sought by Fortune 500 co...  Junior Data Scientist   \n",
       "4  As Behavioral Scientist you will:. Identify an...   Behavioral Scientist   \n",
       "\n",
       "   Salary_avg        City State  Salary_bin  \n",
       "0    101553.5     Atlanta    GA           0  \n",
       "1    105300.0     Atlanta    GA           0  \n",
       "2    120002.5     Atlanta    GA           0  \n",
       "3     82500.0  Alpharetta    GA           0  \n",
       "4     85399.0     Atlanta    GA           0  "
      ]
     },
     "execution_count": 62,
     "metadata": {},
     "output_type": "execute_result"
    }
   ],
   "source": [
    "# calculate median and create feature with 1 as high salary\n",
    "median_salary = jobs['Salary_avg'].median()\n",
    "\n",
    "jobs['Salary_bin'] = jobs['Salary_avg'].apply(lambda x: 1 if x>=median_salary else 0)\n",
    "\n",
    "jobs.head()"
   ]
  },
  {
   "cell_type": "markdown",
   "metadata": {
    "focus": false,
    "id": "3c7ec3d2-87a0-4290-9d83-a6f4a9ae7e9c"
   },
   "source": [
    "### Q: What is the baseline accuracy for this model?"
   ]
  },
  {
   "cell_type": "markdown",
   "metadata": {
    "collapsed": true,
    "focus": false,
    "id": "987666b2-d8e6-4715-b499-c9d314fb70ce"
   },
   "source": [
    "It is 50% if we guess randomly, half the salaries will be below the median and half will be above."
   ]
  },
  {
   "cell_type": "markdown",
   "metadata": {
    "focus": false,
    "id": "ea7e00cb-9956-44ec-b585-7b95f4d6284c"
   },
   "source": [
    "#### Create a Logistic Regression model to predict High/Low salary using statsmodel. Start by ONLY using the location as a feature. Display the coefficients and write a short summary of what they mean."
   ]
  },
  {
   "cell_type": "code",
   "execution_count": 63,
   "metadata": {
    "collapsed": false,
    "focus": false,
    "id": "ce9161b3-eff3-475c-a087-a2be38d7f626"
   },
   "outputs": [],
   "source": [
    "# create statsmodel and summary\n",
    "import statsmodels.formula.api as sm"
   ]
  },
  {
   "cell_type": "code",
   "execution_count": 64,
   "metadata": {
    "collapsed": false,
    "scrolled": true
   },
   "outputs": [
    {
     "name": "stdout",
     "output_type": "stream",
     "text": [
      "Warning: Maximum number of iterations has been exceeded.\n",
      "         Current function value: 0.341521\n",
      "         Iterations: 35\n",
      "         Function evaluations: 36\n",
      "         Gradient evaluations: 70\n",
      "         Hessian evaluations: 35\n"
     ]
    },
    {
     "name": "stderr",
     "output_type": "stream",
     "text": [
      "//anaconda/lib/python2.7/site-packages/statsmodels/base/model.py:466: ConvergenceWarning: Maximum Likelihood optimization failed to converge. Check mle_retvals\n",
      "  \"Check mle_retvals\", ConvergenceWarning)\n"
     ]
    },
    {
     "data": {
      "text/html": [
       "<table class=\"simpletable\">\n",
       "<caption>Logit Regression Results</caption>\n",
       "<tr>\n",
       "  <th>Dep. Variable:</th>    <td>Salary_bin</td>    <th>  No. Observations:  </th>  <td>    51</td>  \n",
       "</tr>\n",
       "<tr>\n",
       "  <th>Model:</th>               <td>Logit</td>      <th>  Df Residuals:      </th>  <td>    40</td>  \n",
       "</tr>\n",
       "<tr>\n",
       "  <th>Method:</th>               <td>MLE</td>       <th>  Df Model:          </th>  <td>    10</td>  \n",
       "</tr>\n",
       "<tr>\n",
       "  <th>Date:</th>          <td>Tue, 22 Nov 2016</td> <th>  Pseudo R-squ.:     </th>  <td>0.5061</td>  \n",
       "</tr>\n",
       "<tr>\n",
       "  <th>Time:</th>              <td>15:43:23</td>     <th>  Log-Likelihood:    </th> <td> -17.418</td> \n",
       "</tr>\n",
       "<tr>\n",
       "  <th>converged:</th>           <td>False</td>      <th>  LL-Null:           </th> <td> -35.262</td> \n",
       "</tr>\n",
       "<tr>\n",
       "  <th> </th>                      <td> </td>        <th>  LLR p-value:       </th> <td>9.517e-05</td>\n",
       "</tr>\n",
       "</table>\n",
       "<table class=\"simpletable\">\n",
       "<tr>\n",
       "            <td></td>               <th>coef</th>     <th>std err</th>      <th>z</th>      <th>P>|z|</th> <th>[95.0% Conf. Int.]</th> \n",
       "</tr>\n",
       "<tr>\n",
       "  <th>Intercept</th>             <td>    5.1390</td> <td> 2.55e+07</td> <td> 2.02e-07</td> <td> 1.000</td> <td>-4.99e+07  4.99e+07</td>\n",
       "</tr>\n",
       "<tr>\n",
       "  <th>City[T.Atlanta]</th>       <td>    8.6859</td> <td>  307.749</td> <td>    0.028</td> <td> 0.977</td> <td> -594.491   611.863</td>\n",
       "</tr>\n",
       "<tr>\n",
       "  <th>City[T.Campbell]</th>      <td>   -5.1390</td> <td> 2.55e+07</td> <td>-2.02e-07</td> <td> 1.000</td> <td>-4.99e+07  4.99e+07</td>\n",
       "</tr>\n",
       "<tr>\n",
       "  <th>City[T.Menlo Park]</th>    <td>   -5.1390</td> <td> 2.55e+07</td> <td>-2.02e-07</td> <td> 1.000</td> <td>-4.99e+07  4.99e+07</td>\n",
       "</tr>\n",
       "<tr>\n",
       "  <th>City[T.Milpitas]</th>      <td>    7.6188</td> <td> 2.55e+07</td> <td> 2.99e-07</td> <td> 1.000</td> <td>-4.99e+07  4.99e+07</td>\n",
       "</tr>\n",
       "<tr>\n",
       "  <th>City[T.Mountain View]</th> <td>    8.3115</td> <td> 2.55e+07</td> <td> 3.26e-07</td> <td> 1.000</td> <td>-4.99e+07  4.99e+07</td>\n",
       "</tr>\n",
       "<tr>\n",
       "  <th>City[T.Palo Alto]</th>     <td>   -4.4459</td> <td> 2.55e+07</td> <td>-1.74e-07</td> <td> 1.000</td> <td>-4.99e+07  4.99e+07</td>\n",
       "</tr>\n",
       "<tr>\n",
       "  <th>City[T.Redwood City]</th>  <td>    9.2277</td> <td> 2.55e+07</td> <td> 3.62e-07</td> <td> 1.000</td> <td>-4.99e+07  4.99e+07</td>\n",
       "</tr>\n",
       "<tr>\n",
       "  <th>City[T.San Jose]</th>      <td>   -3.9350</td> <td> 2.55e+07</td> <td>-1.54e-07</td> <td> 1.000</td> <td>-4.99e+07  4.99e+07</td>\n",
       "</tr>\n",
       "<tr>\n",
       "  <th>City[T.Santa Clara]</th>   <td>    7.6188</td> <td> 2.55e+07</td> <td> 2.99e-07</td> <td> 1.000</td> <td>-4.99e+07  4.99e+07</td>\n",
       "</tr>\n",
       "<tr>\n",
       "  <th>City[T.Sunnyvale]</th>     <td>    7.6188</td> <td> 2.55e+07</td> <td> 2.99e-07</td> <td> 1.000</td> <td>-4.99e+07  4.99e+07</td>\n",
       "</tr>\n",
       "<tr>\n",
       "  <th>State[T.GA]</th>           <td>  -16.5975</td> <td> 2.55e+07</td> <td>-6.51e-07</td> <td> 1.000</td> <td>-4.99e+07  4.99e+07</td>\n",
       "</tr>\n",
       "</table>"
      ],
      "text/plain": [
       "<class 'statsmodels.iolib.summary.Summary'>\n",
       "\"\"\"\n",
       "                           Logit Regression Results                           \n",
       "==============================================================================\n",
       "Dep. Variable:             Salary_bin   No. Observations:                   51\n",
       "Model:                          Logit   Df Residuals:                       40\n",
       "Method:                           MLE   Df Model:                           10\n",
       "Date:                Tue, 22 Nov 2016   Pseudo R-squ.:                  0.5061\n",
       "Time:                        15:43:23   Log-Likelihood:                -17.418\n",
       "converged:                      False   LL-Null:                       -35.262\n",
       "                                        LLR p-value:                 9.517e-05\n",
       "=========================================================================================\n",
       "                            coef    std err          z      P>|z|      [95.0% Conf. Int.]\n",
       "-----------------------------------------------------------------------------------------\n",
       "Intercept                 5.1390   2.55e+07   2.02e-07      1.000     -4.99e+07  4.99e+07\n",
       "City[T.Atlanta]           8.6859    307.749      0.028      0.977      -594.491   611.863\n",
       "City[T.Campbell]         -5.1390   2.55e+07  -2.02e-07      1.000     -4.99e+07  4.99e+07\n",
       "City[T.Menlo Park]       -5.1390   2.55e+07  -2.02e-07      1.000     -4.99e+07  4.99e+07\n",
       "City[T.Milpitas]          7.6188   2.55e+07   2.99e-07      1.000     -4.99e+07  4.99e+07\n",
       "City[T.Mountain View]     8.3115   2.55e+07   3.26e-07      1.000     -4.99e+07  4.99e+07\n",
       "City[T.Palo Alto]        -4.4459   2.55e+07  -1.74e-07      1.000     -4.99e+07  4.99e+07\n",
       "City[T.Redwood City]      9.2277   2.55e+07   3.62e-07      1.000     -4.99e+07  4.99e+07\n",
       "City[T.San Jose]         -3.9350   2.55e+07  -1.54e-07      1.000     -4.99e+07  4.99e+07\n",
       "City[T.Santa Clara]       7.6188   2.55e+07   2.99e-07      1.000     -4.99e+07  4.99e+07\n",
       "City[T.Sunnyvale]         7.6188   2.55e+07   2.99e-07      1.000     -4.99e+07  4.99e+07\n",
       "State[T.GA]             -16.5975   2.55e+07  -6.51e-07      1.000     -4.99e+07  4.99e+07\n",
       "=========================================================================================\n",
       "\"\"\""
      ]
     },
     "execution_count": 64,
     "metadata": {},
     "output_type": "execute_result"
    }
   ],
   "source": [
    "# DL. It might be more helpful if you make the city dummy variables.\n",
    "# Your P-values are really large.\n",
    "model = sm.logit(\"Salary_bin ~ City+State\", data=jobs).fit(method = 'ncg')\n",
    "model.summary()"
   ]
  },
  {
   "cell_type": "markdown",
   "metadata": {
    "focus": false,
    "id": "1ecd7811-d200-44bc-942f-4beb76d2689c"
   },
   "source": [
    "#### Create a few new variables in your dataframe to represent interesting features of a job title.\n",
    "- For example, create a feature that represents whether 'Senior' or 'Manager' is in the title \n",
    "- Then build a new Logistic Regression model with these features. Do they add any value? \n"
   ]
  },
  {
   "cell_type": "code",
   "execution_count": 66,
   "metadata": {
    "collapsed": false,
    "focus": false,
    "id": "b847f46e-1626-4340-86fb-08dea8c31a84"
   },
   "outputs": [],
   "source": [
    "# DL. This is really good!\n",
    "# create senior, director, and manager dummies\n",
    "jobs['is_senior'] = jobs['Title'].str.contains('Senior').astype(int)\n",
    "jobs['is_manager'] = jobs['Title'].str.contains('Manager').astype(int)\n",
    "jobs['data'] = jobs['Title'].str.contains('Data').astype(int)\n",
    "jobs['is_analyst'] = jobs['Title'].str.contains('Analyst').astype(int)\n",
    "jobs['quantitative'] = jobs['Title'].str.contains('Quantitative').astype(int)\n",
    "jobs['machine'] = jobs['Title'].str.contains('Machine').astype(int)\n",
    "jobs['is_scientist'] = jobs['Title'].str.contains('Scientist').astype(int)\n",
    "jobs['is_lead'] = jobs['Title'].str.contains('Lead').astype(int)"
   ]
  },
  {
   "cell_type": "code",
   "execution_count": 74,
   "metadata": {
    "collapsed": false
   },
   "outputs": [
    {
     "data": {
      "text/html": [
       "<div>\n",
       "<table border=\"1\" class=\"dataframe\">\n",
       "  <thead>\n",
       "    <tr style=\"text-align: right;\">\n",
       "      <th></th>\n",
       "      <th>Unnamed: 0</th>\n",
       "      <th>Company</th>\n",
       "      <th>Location</th>\n",
       "      <th>Salary</th>\n",
       "      <th>Summary</th>\n",
       "      <th>Title</th>\n",
       "      <th>Salary_avg</th>\n",
       "      <th>City</th>\n",
       "      <th>State</th>\n",
       "      <th>Salary_bin</th>\n",
       "      <th>is_senior</th>\n",
       "      <th>is_manager</th>\n",
       "      <th>data</th>\n",
       "      <th>is_analyst</th>\n",
       "      <th>quantitative</th>\n",
       "      <th>machine</th>\n",
       "      <th>is_scientist</th>\n",
       "      <th>is_lead</th>\n",
       "    </tr>\n",
       "  </thead>\n",
       "  <tbody>\n",
       "    <tr>\n",
       "      <th>0</th>\n",
       "      <td>19</td>\n",
       "      <td>Centers for Disease Control and Prevention</td>\n",
       "      <td>Atlanta, GA</td>\n",
       "      <td>$88,305 - $114,802 a year</td>\n",
       "      <td>Applying principles, theories and methodology ...</td>\n",
       "      <td>Statistician (Health)</td>\n",
       "      <td>101553.5</td>\n",
       "      <td>Atlanta</td>\n",
       "      <td>GA</td>\n",
       "      <td>0</td>\n",
       "      <td>0</td>\n",
       "      <td>0</td>\n",
       "      <td>0</td>\n",
       "      <td>0</td>\n",
       "      <td>0</td>\n",
       "      <td>0</td>\n",
       "      <td>0</td>\n",
       "      <td>0</td>\n",
       "    </tr>\n",
       "    <tr>\n",
       "      <th>1</th>\n",
       "      <td>40</td>\n",
       "      <td>Emory University</td>\n",
       "      <td>Atlanta, GA</td>\n",
       "      <td>$105,300 a year</td>\n",
       "      <td>Will support multiple studies, including studi...</td>\n",
       "      <td>Epidemiologist</td>\n",
       "      <td>105300.0</td>\n",
       "      <td>Atlanta</td>\n",
       "      <td>GA</td>\n",
       "      <td>0</td>\n",
       "      <td>0</td>\n",
       "      <td>0</td>\n",
       "      <td>0</td>\n",
       "      <td>0</td>\n",
       "      <td>0</td>\n",
       "      <td>0</td>\n",
       "      <td>0</td>\n",
       "      <td>0</td>\n",
       "    </tr>\n",
       "  </tbody>\n",
       "</table>\n",
       "</div>"
      ],
      "text/plain": [
       "   Unnamed: 0                                     Company     Location  \\\n",
       "0          19  Centers for Disease Control and Prevention  Atlanta, GA   \n",
       "1          40                            Emory University  Atlanta, GA   \n",
       "\n",
       "                      Salary  \\\n",
       "0  $88,305 - $114,802 a year   \n",
       "1            $105,300 a year   \n",
       "\n",
       "                                             Summary                  Title  \\\n",
       "0  Applying principles, theories and methodology ...  Statistician (Health)   \n",
       "1  Will support multiple studies, including studi...         Epidemiologist   \n",
       "\n",
       "   Salary_avg     City State  Salary_bin  is_senior  is_manager  data  \\\n",
       "0    101553.5  Atlanta    GA           0          0           0     0   \n",
       "1    105300.0  Atlanta    GA           0          0           0     0   \n",
       "\n",
       "   is_analyst  quantitative  machine  is_scientist  is_lead  \n",
       "0           0             0        0             0        0  \n",
       "1           0             0        0             0        0  "
      ]
     },
     "execution_count": 74,
     "metadata": {},
     "output_type": "execute_result"
    }
   ],
   "source": [
    "jobs.head(2)"
   ]
  },
  {
   "cell_type": "code",
   "execution_count": 67,
   "metadata": {
    "collapsed": false,
    "scrolled": true
   },
   "outputs": [
    {
     "name": "stdout",
     "output_type": "stream",
     "text": [
      "Optimization terminated successfully.\n",
      "         Current function value: 0.237443\n",
      "         Iterations: 21\n",
      "         Function evaluations: 22\n",
      "         Gradient evaluations: 42\n",
      "         Hessian evaluations: 21\n"
     ]
    },
    {
     "data": {
      "text/html": [
       "<table class=\"simpletable\">\n",
       "<caption>Logit Regression Results</caption>\n",
       "<tr>\n",
       "  <th>Dep. Variable:</th>    <td>Salary_bin</td>    <th>  No. Observations:  </th>  <td>    51</td>  \n",
       "</tr>\n",
       "<tr>\n",
       "  <th>Model:</th>               <td>Logit</td>      <th>  Df Residuals:      </th>  <td>    32</td>  \n",
       "</tr>\n",
       "<tr>\n",
       "  <th>Method:</th>               <td>MLE</td>       <th>  Df Model:          </th>  <td>    18</td>  \n",
       "</tr>\n",
       "<tr>\n",
       "  <th>Date:</th>          <td>Tue, 22 Nov 2016</td> <th>  Pseudo R-squ.:     </th>  <td>0.6566</td>  \n",
       "</tr>\n",
       "<tr>\n",
       "  <th>Time:</th>              <td>15:45:21</td>     <th>  Log-Likelihood:    </th> <td> -12.110</td> \n",
       "</tr>\n",
       "<tr>\n",
       "  <th>converged:</th>           <td>True</td>       <th>  LL-Null:           </th> <td> -35.262</td> \n",
       "</tr>\n",
       "<tr>\n",
       "  <th> </th>                      <td> </td>        <th>  LLR p-value:       </th> <td>0.0002677</td>\n",
       "</tr>\n",
       "</table>\n",
       "<table class=\"simpletable\">\n",
       "<tr>\n",
       "            <td></td>               <th>coef</th>     <th>std err</th>      <th>z</th>      <th>P>|z|</th> <th>[95.0% Conf. Int.]</th> \n",
       "</tr>\n",
       "<tr>\n",
       "  <th>Intercept</th>             <td>    5.2027</td> <td>      nan</td> <td>      nan</td> <td>   nan</td> <td>      nan       nan</td>\n",
       "</tr>\n",
       "<tr>\n",
       "  <th>State[T.GA]</th>           <td>  -17.3379</td> <td>      nan</td> <td>      nan</td> <td>   nan</td> <td>      nan       nan</td>\n",
       "</tr>\n",
       "<tr>\n",
       "  <th>City[T.Atlanta]</th>       <td>  -10.8941</td> <td> 1055.559</td> <td>   -0.010</td> <td> 0.992</td> <td>-2079.751  2057.963</td>\n",
       "</tr>\n",
       "<tr>\n",
       "  <th>City[T.Campbell]</th>      <td>   -5.3154</td> <td>      nan</td> <td>      nan</td> <td>   nan</td> <td>      nan       nan</td>\n",
       "</tr>\n",
       "<tr>\n",
       "  <th>City[T.Menlo Park]</th>    <td>   -5.2027</td> <td>      nan</td> <td>      nan</td> <td>   nan</td> <td>      nan       nan</td>\n",
       "</tr>\n",
       "<tr>\n",
       "  <th>City[T.Milpitas]</th>      <td>    4.7577</td> <td>      nan</td> <td>      nan</td> <td>   nan</td> <td>      nan       nan</td>\n",
       "</tr>\n",
       "<tr>\n",
       "  <th>City[T.Mountain View]</th> <td>    9.5733</td> <td>      nan</td> <td>      nan</td> <td>   nan</td> <td>      nan       nan</td>\n",
       "</tr>\n",
       "<tr>\n",
       "  <th>City[T.Palo Alto]</th>     <td>   -3.9182</td> <td>      nan</td> <td>      nan</td> <td>   nan</td> <td>      nan       nan</td>\n",
       "</tr>\n",
       "<tr>\n",
       "  <th>City[T.Redwood City]</th>  <td>   10.2263</td> <td>      nan</td> <td>      nan</td> <td>   nan</td> <td>      nan       nan</td>\n",
       "</tr>\n",
       "<tr>\n",
       "  <th>City[T.San Jose]</th>      <td>   -3.4790</td> <td>      nan</td> <td>      nan</td> <td>   nan</td> <td>      nan       nan</td>\n",
       "</tr>\n",
       "<tr>\n",
       "  <th>City[T.Santa Clara]</th>   <td>    7.8365</td> <td>      nan</td> <td>      nan</td> <td>   nan</td> <td>      nan       nan</td>\n",
       "</tr>\n",
       "<tr>\n",
       "  <th>City[T.Sunnyvale]</th>     <td>    8.0620</td> <td>      nan</td> <td>      nan</td> <td>   nan</td> <td>      nan       nan</td>\n",
       "</tr>\n",
       "<tr>\n",
       "  <th>is_lead</th>               <td>   12.4761</td> <td>  524.808</td> <td>    0.024</td> <td> 0.981</td> <td>-1016.129  1041.081</td>\n",
       "</tr>\n",
       "<tr>\n",
       "  <th>is_scientist</th>          <td>   -0.1828</td> <td>    1.311</td> <td>   -0.139</td> <td> 0.889</td> <td>   -2.753     2.387</td>\n",
       "</tr>\n",
       "<tr>\n",
       "  <th>machine</th>               <td>    0.2254</td> <td>    1.525</td> <td>    0.148</td> <td> 0.882</td> <td>   -2.763     3.214</td>\n",
       "</tr>\n",
       "<tr>\n",
       "  <th>quantitative</th>          <td>   15.5752</td> <td> 1313.566</td> <td>    0.012</td> <td> 0.991</td> <td>-2558.966  2590.117</td>\n",
       "</tr>\n",
       "<tr>\n",
       "  <th>is_analyst</th>            <td>    8.2663</td> <td> 1130.572</td> <td>    0.007</td> <td> 0.994</td> <td>-2207.615  2224.147</td>\n",
       "</tr>\n",
       "<tr>\n",
       "  <th>data</th>                  <td>   -1.1348</td> <td>    1.497</td> <td>   -0.758</td> <td> 0.449</td> <td>   -4.069     1.800</td>\n",
       "</tr>\n",
       "<tr>\n",
       "  <th>is_manager</th>            <td>    5.1335</td> <td> 2.92e+04</td> <td>    0.000</td> <td> 1.000</td> <td>-5.72e+04  5.72e+04</td>\n",
       "</tr>\n",
       "<tr>\n",
       "  <th>is_senior</th>             <td>    0.3017</td> <td>    1.397</td> <td>    0.216</td> <td> 0.829</td> <td>   -2.436     3.039</td>\n",
       "</tr>\n",
       "</table>"
      ],
      "text/plain": [
       "<class 'statsmodels.iolib.summary.Summary'>\n",
       "\"\"\"\n",
       "                           Logit Regression Results                           \n",
       "==============================================================================\n",
       "Dep. Variable:             Salary_bin   No. Observations:                   51\n",
       "Model:                          Logit   Df Residuals:                       32\n",
       "Method:                           MLE   Df Model:                           18\n",
       "Date:                Tue, 22 Nov 2016   Pseudo R-squ.:                  0.6566\n",
       "Time:                        15:45:21   Log-Likelihood:                -12.110\n",
       "converged:                       True   LL-Null:                       -35.262\n",
       "                                        LLR p-value:                 0.0002677\n",
       "=========================================================================================\n",
       "                            coef    std err          z      P>|z|      [95.0% Conf. Int.]\n",
       "-----------------------------------------------------------------------------------------\n",
       "Intercept                 5.2027        nan        nan        nan           nan       nan\n",
       "State[T.GA]             -17.3379        nan        nan        nan           nan       nan\n",
       "City[T.Atlanta]         -10.8941   1055.559     -0.010      0.992     -2079.751  2057.963\n",
       "City[T.Campbell]         -5.3154        nan        nan        nan           nan       nan\n",
       "City[T.Menlo Park]       -5.2027        nan        nan        nan           nan       nan\n",
       "City[T.Milpitas]          4.7577        nan        nan        nan           nan       nan\n",
       "City[T.Mountain View]     9.5733        nan        nan        nan           nan       nan\n",
       "City[T.Palo Alto]        -3.9182        nan        nan        nan           nan       nan\n",
       "City[T.Redwood City]     10.2263        nan        nan        nan           nan       nan\n",
       "City[T.San Jose]         -3.4790        nan        nan        nan           nan       nan\n",
       "City[T.Santa Clara]       7.8365        nan        nan        nan           nan       nan\n",
       "City[T.Sunnyvale]         8.0620        nan        nan        nan           nan       nan\n",
       "is_lead                  12.4761    524.808      0.024      0.981     -1016.129  1041.081\n",
       "is_scientist             -0.1828      1.311     -0.139      0.889        -2.753     2.387\n",
       "machine                   0.2254      1.525      0.148      0.882        -2.763     3.214\n",
       "quantitative             15.5752   1313.566      0.012      0.991     -2558.966  2590.117\n",
       "is_analyst                8.2663   1130.572      0.007      0.994     -2207.615  2224.147\n",
       "data                     -1.1348      1.497     -0.758      0.449        -4.069     1.800\n",
       "is_manager                5.1335   2.92e+04      0.000      1.000     -5.72e+04  5.72e+04\n",
       "is_senior                 0.3017      1.397      0.216      0.829        -2.436     3.039\n",
       "=========================================================================================\n",
       "\"\"\""
      ]
     },
     "execution_count": 67,
     "metadata": {},
     "output_type": "execute_result"
    }
   ],
   "source": [
    "model = sm.logit(\"Salary_bin ~ State+City + is_lead + is_scientist + machine + quantitative + is_analyst + data + is_manager + is_senior\", data=jobs).fit(method = 'ncg')\n",
    "model.summary()"
   ]
  },
  {
   "cell_type": "markdown",
   "metadata": {
    "focus": false,
    "id": "7ca5cfdd-958c-4199-aafa-3d3f6c5ba3c4"
   },
   "source": [
    "#### Rebuild this model with scikit-learn.\n",
    "- You can either create the dummy features manually or use the `dmatrix` function from `patsy`\n",
    "- Remember to scale the feature variables as well!\n"
   ]
  },
  {
   "cell_type": "code",
   "execution_count": 68,
   "metadata": {
    "collapsed": false,
    "focus": false,
    "id": "c75a97f1-f30c-48b3-97cb-eaf7d525c734"
   },
   "outputs": [],
   "source": [
    "# scale, (patsy optional), and fit\n",
    "from sklearn.linear_model import LogisticRegression\n",
    "from sklearn.preprocessing import StandardScaler\n",
    "from patsy import dmatrix\n",
    "from sklearn.cross_validation import train_test_split\n",
    "from sklearn.metrics import confusion_matrix\n",
    "from sklearn.metrics import roc_curve, auc\n",
    "import matplotlib.pyplot as plt\n",
    "from sklearn.metrics import classification_report\n",
    "plt.style.use('seaborn-white')\n",
    "%matplotlib inline"
   ]
  },
  {
   "cell_type": "code",
   "execution_count": 69,
   "metadata": {
    "collapsed": true
   },
   "outputs": [],
   "source": [
    "X = dmatrix('~C(City) + C(State)+is_lead + is_scientist + machine + quantitative + is_analyst + data + is_manager + is_senior', data = jobs)\n",
    "y = jobs['Salary_bin'].values\n",
    "\n",
    "X_train, X_test, Y_train, Y_test = train_test_split(X,y, test_size = 0.33, stratify = y,random_state=77)\n",
    "\n",
    "\n",
    "logreg = LogisticRegression(random_state=77)\n",
    "logreg.fit(X_train, Y_train)\n",
    "Y_pred = logreg.predict(X_test)"
   ]
  },
  {
   "cell_type": "code",
   "execution_count": 70,
   "metadata": {
    "collapsed": false
   },
   "outputs": [
    {
     "data": {
      "text/plain": [
       "array([[ 0.47219747, -1.12010537, -0.30151969,  0.        ,  0.25430244,\n",
       "         0.33678888,  0.31485526,  0.81112377,  0.20269687,  0.        ,\n",
       "         0.23515699, -1.38120706,  0.59870717, -0.2266153 , -0.04096809,\n",
       "         0.53010571,  0.30744232, -0.37697347,  0.25430244, -0.0288612 ]])"
      ]
     },
     "execution_count": 70,
     "metadata": {},
     "output_type": "execute_result"
    }
   ],
   "source": [
    "logreg.coef_"
   ]
  },
  {
   "cell_type": "code",
   "execution_count": 71,
   "metadata": {
    "collapsed": false
   },
   "outputs": [
    {
     "name": "stdout",
     "output_type": "stream",
     "text": [
      "             predicted_high  predicted_low\n",
      "High Salary               9              0\n",
      "Low Salary                3              5\n"
     ]
    }
   ],
   "source": [
    "conmat = np.array(confusion_matrix(Y_test, Y_pred, labels=[1,0]))\n",
    "\n",
    "confusion = pd.DataFrame(conmat, index=['High Salary', 'Low Salary'],columns=['predicted_high','predicted_low'])\n",
    "\n",
    "print(confusion)"
   ]
  },
  {
   "cell_type": "code",
   "execution_count": 72,
   "metadata": {
    "collapsed": false
   },
   "outputs": [
    {
     "name": "stdout",
     "output_type": "stream",
     "text": [
      "             precision    recall  f1-score   support\n",
      "\n",
      "          0       1.00      0.62      0.77         8\n",
      "          1       0.75      1.00      0.86         9\n",
      "\n",
      "avg / total       0.87      0.82      0.82        17\n",
      "\n"
     ]
    }
   ],
   "source": [
    "# DL. Nice!\n",
    "print classification_report(Y_test, Y_pred)"
   ]
  },
  {
   "cell_type": "code",
   "execution_count": 40,
   "metadata": {
    "collapsed": false
   },
   "outputs": [
    {
     "data": {
      "image/png": "[encoded data removed]",
      "text/plain": [
       "<matplotlib.figure.Figure at 0x1a8813a10>"
      ]
     },
     "metadata": {},
     "output_type": "display_data"
    }
   ],
   "source": [
    "Y_score = logreg.decision_function(X_test)\n",
    "\n",
    "FPR = dict()\n",
    "TPR = dict()\n",
    "ROC_AUC = dict()\n",
    "\n",
    "# For class 1, find the area under the curve\n",
    "FPR[1], TPR[1], _ = roc_curve(Y_test, Y_score)\n",
    "ROC_AUC[1] = auc(FPR[1], TPR[1])\n",
    "\n",
    "# Plot of a ROC curve for class 1 (\"High Salary\")\n",
    "plt.figure(figsize=[9,7])\n",
    "plt.plot(FPR[1], TPR[1], label='ROC curve (area = %0.2f)' % ROC_AUC[1], linewidth=4)\n",
    "plt.plot([0, 1], [0, 1], 'k--', linewidth=4)\n",
    "plt.xlim([0.0, 1.0])\n",
    "plt.ylim([0.0, 1.05])\n",
    "plt.xlabel('False Positive Rate', fontsize=18)\n",
    "plt.ylabel('True Positive Rate', fontsize=18)\n",
    "plt.title('Receiver operating characteristic for Salary Classification', fontsize=18)\n",
    "plt.legend(loc=\"lower right\")\n",
    "plt.show()"
   ]
  },
  {
   "cell_type": "markdown",
   "metadata": {
    "focus": false,
    "id": "1e6c6902-2b4a-49f0-b4c7-935a26577d22"
   },
   "source": [
    "#### Use cross-validation in scikit-learn to evaluate the model above. \n",
    "- Evaluate the accuracy, AUC, precision and recall of the model. \n",
    "- Discuss the differences and explain when you want a high-recall or a high-precision model in this scenario."
   ]
  },
  {
   "cell_type": "markdown",
   "metadata": {},
   "source": [
    "Accuracy is the number of correct guesses divided by all of the guesses. We have correctly predicted 45 job offers to have 'high' salaries and 44 job offers to have 'low' salaries. We have incorrectly labeled 13 'low' salaries to be 'high, and 12 'high' salaries to be 'low'. The accuracy of our model, therefore, is 89/114 or 0.78\n",
    "\n",
    "Precision is the ratio of correctly identified 'high' salary job offers to the number of total job offers labeled as 'high' in our model. For this model, precision is 0.78 or 78% of our guesses for 'high' values were True\n",
    "\n",
    "Recall is the number of correctly identified 'high' values in proportion to the the total number of 'high' values. With a value of 0.79 for our model, this means we have correctly identified 79% of all the 'high' values\n",
    "\n",
    "Whereas accuracy takes the correct guesses for both cases and evaluates how we did overall, precision looks only at one class and looks to identify how well we have performed for that specific class ('high' or 'low'). Recall aims at evaluating how likely our model is to identify the instances of one of the classes\n",
    "\n",
    "We want our model to have higher precision when it is important to avoid False Positives, or avoid labeling 'low' salaries as 'high' in our case.\n",
    "On the other hand, we would like our model to have a higher recall if it is important to identify as many 'high' salaries as possible, even if that means incorrectly identifying many more 'low' salaries as 'high'"
   ]
  },
  {
   "cell_type": "code",
   "execution_count": 41,
   "metadata": {
    "collapsed": false,
    "focus": false,
    "id": "3667427c-6534-4dcd-8770-f492b0e3a39e"
   },
   "outputs": [],
   "source": [
    "from sklearn.cross_validation import cross_val_score"
   ]
  },
  {
   "cell_type": "code",
   "execution_count": 42,
   "metadata": {
    "collapsed": false
   },
   "outputs": [
    {
     "name": "stdout",
     "output_type": "stream",
     "text": [
      "[ 0.90909091  0.90909091  0.9         0.7         0.55555556]\n"
     ]
    }
   ],
   "source": [
    "scores = cross_val_score(logreg, X, y, cv= 5)\n",
    "print scores"
   ]
  },
  {
   "cell_type": "markdown",
   "metadata": {
    "focus": false,
    "id": "4263b1c0-bfde-42bf-ab45-71c7cd798835"
   },
   "source": [
    "### Compare L1 and L2 regularization for this logistic regression model. What effect does this have on the coefficients learned?"
   ]
  },
  {
   "cell_type": "code",
   "execution_count": 75,
   "metadata": {
    "collapsed": false,
    "focus": false,
    "id": "2e7d6a29-a515-468a-9953-9d73a0f81de0"
   },
   "outputs": [
    {
     "data": {
      "text/plain": [
       "array([[ 0.23769122,  0.        ,  0.        ,  0.        ,  0.        ,\n",
       "         0.        ,  0.        ,  0.22329586,  0.        ,  0.        ,\n",
       "         0.        , -2.5800645 ,  0.        ,  0.        ,  0.        ,\n",
       "         0.        ,  0.        ,  0.        ,  0.        ,  0.        ]])"
      ]
     },
     "execution_count": 75,
     "metadata": {},
     "output_type": "execute_result"
    }
   ],
   "source": [
    "model1 = LogisticRegression(penalty = 'l1', C=1.0)\n",
    "\n",
    "model1.fit(X_train, Y_train)\n",
    "Y_pred = model1.predict(X_test)\n",
    "model1.coef_"
   ]
  },
  {
   "cell_type": "code",
   "execution_count": 76,
   "metadata": {
    "collapsed": false
   },
   "outputs": [
    {
     "data": {
      "text/plain": [
       "array([[ 0.47219747, -1.12010537, -0.30151969,  0.        ,  0.25430244,\n",
       "         0.33678888,  0.31485526,  0.81112377,  0.20269687,  0.        ,\n",
       "         0.23515699, -1.38120706,  0.59870717, -0.2266153 , -0.04096809,\n",
       "         0.53010571,  0.30744232, -0.37697347,  0.25430244, -0.0288612 ]])"
      ]
     },
     "execution_count": 76,
     "metadata": {},
     "output_type": "execute_result"
    }
   ],
   "source": [
    "model2 = LogisticRegression(penalty = 'l2', C=1.0)\n",
    "\n",
    "model2.fit(X_train, Y_train)\n",
    "Y_pred = model2.predict(X_test)\n",
    "model2.coef_"
   ]
  },
  {
   "cell_type": "code",
   "execution_count": 77,
   "metadata": {
    "collapsed": false,
    "focus": false,
    "id": "32d908a3-89d2-474c-a7f0-199bfae6da7e"
   },
   "outputs": [
    {
     "data": {
      "text/plain": [
       "array([[ 1.26831749,  1.        ,  1.        ,  1.        ,  1.        ,\n",
       "         1.        ,  1.        ,  1.2501904 ,  1.        ,  1.        ,\n",
       "         1.        ,  0.07576912,  1.        ,  1.        ,  1.        ,\n",
       "         1.        ,  1.        ,  1.        ,  1.        ,  1.        ]])"
      ]
     },
     "execution_count": 77,
     "metadata": {},
     "output_type": "execute_result"
    }
   ],
   "source": [
    "np.exp(model1.coef_)"
   ]
  },
  {
   "cell_type": "code",
   "execution_count": 78,
   "metadata": {
    "collapsed": false
   },
   "outputs": [
    {
     "data": {
      "text/plain": [
       "array([[ 1.60351399,  0.32624542,  0.73969326,  1.        ,  1.28956175,\n",
       "         1.40044337,  1.370061  ,  2.25043555,  1.22470117,  1.        ,\n",
       "         1.26510736,  0.25127507,  1.81976464,  0.79722741,  0.95985975,\n",
       "         1.69911191,  1.35994236,  0.68593427,  1.28956175,  0.97155131]])"
      ]
     },
     "execution_count": 78,
     "metadata": {},
     "output_type": "execute_result"
    }
   ],
   "source": [
    "np.exp(model2.coef_)"
   ]
  },
  {
   "cell_type": "code",
   "execution_count": 79,
   "metadata": {
    "collapsed": false
   },
   "outputs": [
    {
     "data": {
      "text/plain": [
       "array([[-0.3351965 ,  0.67375458,  0.26030674,  0.        , -0.28956175,\n",
       "        -0.40044337, -0.370061  , -1.00024515, -0.22470117,  0.        ,\n",
       "        -0.26510736, -0.17550595, -0.81976464,  0.20277259,  0.04014025,\n",
       "        -0.69911191, -0.35994236,  0.31406573, -0.28956175,  0.02844869]])"
      ]
     },
     "execution_count": 79,
     "metadata": {},
     "output_type": "execute_result"
    }
   ],
   "source": [
    "np.exp(model1.coef_)-np.exp(model2.coef_)"
   ]
  },
  {
   "cell_type": "code",
   "execution_count": 80,
   "metadata": {
    "collapsed": false
   },
   "outputs": [
    {
     "data": {
      "text/plain": [
       "-3.7097143425335837"
      ]
     },
     "execution_count": 80,
     "metadata": {},
     "output_type": "execute_result"
    }
   ],
   "source": [
    "(np.exp(model1.coef_)-np.exp(model2.coef_)).sum()"
   ]
  },
  {
   "cell_type": "markdown",
   "metadata": {},
   "source": [
    "Coefficients appear to have fewer but larger values when we do 'l1' regularization\n",
    "\n",
    "The values are larger for l1 in general"
   ]
  },
  {
   "cell_type": "markdown",
   "metadata": {},
   "source": [
    "# Conclusion"
   ]
  },
  {
   "cell_type": "markdown",
   "metadata": {},
   "source": [
    "Our model was built based on acquiring a dataset of jobs with certain parameters from a web resource indeed.com\n",
    "\n",
    "The employers appear to not consider salary worth publishing in the majority of job postings. This limits our dataset to just a few hundred jobs whose employer chose to quantify the 'Salary' value for one reason or another.\n",
    "\n",
    "Bar graph below shows the number of jobs with salaries we have obtained for the individual states"
   ]
  },
  {
   "cell_type": "code",
   "execution_count": 81,
   "metadata": {
    "collapsed": false
   },
   "outputs": [
    {
     "data": {
      "text/html": [
       "<div class='tableauPlaceholder' id='viz1479822171792' style='position: relative'><noscript><a href='#'><img alt='Number of Jobs by State ' src='https:&#47;&#47;public.tableau.com&#47;static&#47;images&#47;Jo&#47;JobsonIndeed&#47;NumberofjobsbyState&#47;1_rss.png' style='border: none' /></a></noscript><object class='tableauViz'  style='display:none;'><param name='host_url' value='https%3A%2F%2Fpublic.tableau.com%2F' /> <param name='site_root' value='' /><param name='name' value='JobsonIndeed&#47;NumberofjobsbyState' /><param name='tabs' value='no' /><param name='toolbar' value='yes' /><param name='static_image' value='https:&#47;&#47;public.tableau.com&#47;static&#47;images&#47;Jo&#47;JobsonIndeed&#47;NumberofjobsbyState&#47;1.png' /> <param name='animate_transition' value='yes' /><param name='display_static_image' value='yes' /><param name='display_spinner' value='yes' /><param name='display_overlay' value='yes' /><param name='display_count' value='yes' /></object></div>                <script type='text/javascript'>                    var divElement = document.getElementById('viz1479822171792');                    var vizElement = divElement.getElementsByTagName('object')[0];                    vizElement.style.width='100%';vizElement.style.height=(divElement.offsetWidth*0.75)+'px';                    var scriptElement = document.createElement('script');                    scriptElement.src = 'https://public.tableau.com/javascripts/api/viz_v1.js';                    vizElement.parentNode.insertBefore(scriptElement, vizElement);                </script>"
      ],
      "text/plain": [
       "<IPython.core.display.HTML object>"
      ]
     },
     "metadata": {},
     "output_type": "display_data"
    }
   ],
   "source": [
    "# Great visuals!\n",
    "%%HTML\n",
    "<div class='tableauPlaceholder' id='viz1479822171792' style='position: relative'><noscript><a href='#'><img alt='Number of Jobs by State ' src='https:&#47;&#47;public.tableau.com&#47;static&#47;images&#47;Jo&#47;JobsonIndeed&#47;NumberofjobsbyState&#47;1_rss.png' style='border: none' /></a></noscript><object class='tableauViz'  style='display:none;'><param name='host_url' value='https%3A%2F%2Fpublic.tableau.com%2F' /> <param name='site_root' value='' /><param name='name' value='JobsonIndeed&#47;NumberofjobsbyState' /><param name='tabs' value='no' /><param name='toolbar' value='yes' /><param name='static_image' value='https:&#47;&#47;public.tableau.com&#47;static&#47;images&#47;Jo&#47;JobsonIndeed&#47;NumberofjobsbyState&#47;1.png' /> <param name='animate_transition' value='yes' /><param name='display_static_image' value='yes' /><param name='display_spinner' value='yes' /><param name='display_overlay' value='yes' /><param name='display_count' value='yes' /></object></div>                <script type='text/javascript'>                    var divElement = document.getElementById('viz1479822171792');                    var vizElement = divElement.getElementsByTagName('object')[0];                    vizElement.style.width='100%';vizElement.style.height=(divElement.offsetWidth*0.75)+'px';                    var scriptElement = document.createElement('script');                    scriptElement.src = 'https://public.tableau.com/javascripts/api/viz_v1.js';                    vizElement.parentNode.insertBefore(scriptElement, vizElement);                </script>"
   ]
  },
  {
   "cell_type": "markdown",
   "metadata": {},
   "source": [
    "Being one of the obvious parameters, we have used 'State' as one of the predictors for our model, but it has to be carefully weighted against the fact that our dataset has very small samples for states such as New Jersey or Texas, and thus the model may not generalize well to those markets"
   ]
  },
  {
   "cell_type": "markdown",
   "metadata": {},
   "source": [
    "If we observe the average salary values for each state, we may find that salaries are pretty large in general for our dataset, probably because this is the only time the Employer feels comfortable revealing the Salary for a job posting. This assumption stems in part from the fact that the states with only a few job postings still average to a pretty high value."
   ]
  },
  {
   "cell_type": "code",
   "execution_count": 82,
   "metadata": {
    "collapsed": false
   },
   "outputs": [
    {
     "data": {
      "text/html": [
       "<div class='tableauPlaceholder' id='viz1479822601480' style='position: relative'><noscript><a href='#'><img alt='Average Salary by State ' src='https:&#47;&#47;public.tableau.com&#47;static&#47;images&#47;Av&#47;AverageSalarybyState&#47;AverageSalarybyState&#47;1_rss.png' style='border: none' /></a></noscript><object class='tableauViz'  style='display:none;'><param name='host_url' value='https%3A%2F%2Fpublic.tableau.com%2F' /> <param name='site_root' value='' /><param name='name' value='AverageSalarybyState&#47;AverageSalarybyState' /><param name='tabs' value='no' /><param name='toolbar' value='yes' /><param name='static_image' value='https:&#47;&#47;public.tableau.com&#47;static&#47;images&#47;Av&#47;AverageSalarybyState&#47;AverageSalarybyState&#47;1.png' /> <param name='animate_transition' value='yes' /><param name='display_static_image' value='yes' /><param name='display_spinner' value='yes' /><param name='display_overlay' value='yes' /><param name='display_count' value='yes' /></object></div>                <script type='text/javascript'>                    var divElement = document.getElementById('viz1479822601480');                    var vizElement = divElement.getElementsByTagName('object')[0];                    vizElement.style.width='100%';vizElement.style.height=(divElement.offsetWidth*0.75)+'px';                    var scriptElement = document.createElement('script');                    scriptElement.src = 'https://public.tableau.com/javascripts/api/viz_v1.js';                    vizElement.parentNode.insertBefore(scriptElement, vizElement);                </script>"
      ],
      "text/plain": [
       "<IPython.core.display.HTML object>"
      ]
     },
     "metadata": {},
     "output_type": "display_data"
    }
   ],
   "source": [
    "%%HTML\n",
    "<div class='tableauPlaceholder' id='viz1479822601480' style='position: relative'><noscript><a href='#'><img alt='Average Salary by State ' src='https:&#47;&#47;public.tableau.com&#47;static&#47;images&#47;Av&#47;AverageSalarybyState&#47;AverageSalarybyState&#47;1_rss.png' style='border: none' /></a></noscript><object class='tableauViz'  style='display:none;'><param name='host_url' value='https%3A%2F%2Fpublic.tableau.com%2F' /> <param name='site_root' value='' /><param name='name' value='AverageSalarybyState&#47;AverageSalarybyState' /><param name='tabs' value='no' /><param name='toolbar' value='yes' /><param name='static_image' value='https:&#47;&#47;public.tableau.com&#47;static&#47;images&#47;Av&#47;AverageSalarybyState&#47;AverageSalarybyState&#47;1.png' /> <param name='animate_transition' value='yes' /><param name='display_static_image' value='yes' /><param name='display_spinner' value='yes' /><param name='display_overlay' value='yes' /><param name='display_count' value='yes' /></object></div>                <script type='text/javascript'>                    var divElement = document.getElementById('viz1479822601480');                    var vizElement = divElement.getElementsByTagName('object')[0];                    vizElement.style.width='100%';vizElement.style.height=(divElement.offsetWidth*0.75)+'px';                    var scriptElement = document.createElement('script');                    scriptElement.src = 'https://public.tableau.com/javascripts/api/viz_v1.js';                    vizElement.parentNode.insertBefore(scriptElement, vizElement);                </script>"
   ]
  },
  {
   "cell_type": "markdown",
   "metadata": {},
   "source": [
    "We have also used 'City' parameter to help us identify the job postings with 'high' salaries\n",
    "Citites appear to vary quite a bit, however, it is also important to count the number of data entires for each city. The more data we have accumulated for one city or another, the more 'robust' of a predictor we will obtain"
   ]
  },
  {
   "cell_type": "code",
   "execution_count": 51,
   "metadata": {
    "collapsed": false
   },
   "outputs": [
    {
     "data": {
      "text/html": [
       "<div class='tableauPlaceholder' id='viz1479822970411' style='position: relative'><noscript><a href='#'><img alt='Average Salary by City ' src='https:&#47;&#47;public.tableau.com&#47;static&#47;images&#47;Av&#47;AverageSalarybyCity&#47;Sheet3&#47;1_rss.png' style='border: none' /></a></noscript><object class='tableauViz'  style='display:none;'><param name='host_url' value='https%3A%2F%2Fpublic.tableau.com%2F' /> <param name='site_root' value='' /><param name='name' value='AverageSalarybyCity&#47;Sheet3' /><param name='tabs' value='no' /><param name='toolbar' value='yes' /><param name='static_image' value='https:&#47;&#47;public.tableau.com&#47;static&#47;images&#47;Av&#47;AverageSalarybyCity&#47;Sheet3&#47;1.png' /> <param name='animate_transition' value='yes' /><param name='display_static_image' value='yes' /><param name='display_spinner' value='yes' /><param name='display_overlay' value='yes' /><param name='display_count' value='yes' /></object></div>                <script type='text/javascript'>                    var divElement = document.getElementById('viz1479822970411');                    var vizElement = divElement.getElementsByTagName('object')[0];                    vizElement.style.width='100%';vizElement.style.height=(divElement.offsetWidth*0.75)+'px';                    var scriptElement = document.createElement('script');                    scriptElement.src = 'https://public.tableau.com/javascripts/api/viz_v1.js';                    vizElement.parentNode.insertBefore(scriptElement, vizElement);                </script>"
      ],
      "text/plain": [
       "<IPython.core.display.HTML object>"
      ]
     },
     "metadata": {},
     "output_type": "display_data"
    }
   ],
   "source": [
    "%%HTML\n",
    "<div class='tableauPlaceholder' id='viz1479822970411' style='position: relative'><noscript><a href='#'><img alt='Average Salary by City ' src='https:&#47;&#47;public.tableau.com&#47;static&#47;images&#47;Av&#47;AverageSalarybyCity&#47;Sheet3&#47;1_rss.png' style='border: none' /></a></noscript><object class='tableauViz'  style='display:none;'><param name='host_url' value='https%3A%2F%2Fpublic.tableau.com%2F' /> <param name='site_root' value='' /><param name='name' value='AverageSalarybyCity&#47;Sheet3' /><param name='tabs' value='no' /><param name='toolbar' value='yes' /><param name='static_image' value='https:&#47;&#47;public.tableau.com&#47;static&#47;images&#47;Av&#47;AverageSalarybyCity&#47;Sheet3&#47;1.png' /> <param name='animate_transition' value='yes' /><param name='display_static_image' value='yes' /><param name='display_spinner' value='yes' /><param name='display_overlay' value='yes' /><param name='display_count' value='yes' /></object></div>                <script type='text/javascript'>                    var divElement = document.getElementById('viz1479822970411');                    var vizElement = divElement.getElementsByTagName('object')[0];                    vizElement.style.width='100%';vizElement.style.height=(divElement.offsetWidth*0.75)+'px';                    var scriptElement = document.createElement('script');                    scriptElement.src = 'https://public.tableau.com/javascripts/api/viz_v1.js';                    vizElement.parentNode.insertBefore(scriptElement, vizElement);                </script>"
   ]
  },
  {
   "cell_type": "markdown",
   "metadata": {},
   "source": [
    "After building a Logistic Regression model of that data with just the 'City' and 'State' as our predictors, we analyze the coefficients for our model. The coefficients are indicative of how good of a predictor that category is.\n",
    "\n",
    "The coefficients are taken as a power of e (mathematical constant), so the more powerful categories have either large positive or large negative values. Values around '0' show little statistical relation to predicting the values in our model"
   ]
  },
  {
   "cell_type": "markdown",
   "metadata": {},
   "source": [
    "For the next step, we have decided to incorporate some key terms in the 'Title' of jobs collected in our set. We looked for the following words in the title: 'lead', 'scientist', 'machine', 'quantitative', 'analyst', 'data', 'manager', 'senior'.\n",
    "\n",
    "Then we have reconstructed a Logistic Regression model using City, State, and our keyword parameters as predictors of high/low salary for our job list\n",
    "\n",
    "After examining the coefficients it appears that the values that we had previously for the Cities and States have shifted to account for new variables.\n",
    "\n",
    "Of the key words we used, 'quantitative' appears to be the most significant in predicting a 'high' salary, while the term 'analyst' was the most significant in predicting the job to have a 'low' value"
   ]
  },
  {
   "cell_type": "markdown",
   "metadata": {},
   "source": [
    "However, it is worth noting that after taking cross-validated scores of our model, it appears that some elements in our dataset are very useful to predict only some elements in our set. This is evident in how the cross validation scores differ for our model when we do 5 fold analysis."
   ]
  },
  {
   "cell_type": "markdown",
   "metadata": {
    "focus": true,
    "id": "82f16f60-6c8b-4376-b3ec-b8ec61a0cde7"
   },
   "source": [
    "#### Optional: Continue to incorporate other text features from the title or summary that you believe will predict the salary and examine their coefficients. Take ~100 scraped entries with salaries. Convert them to use with your model and predict the salary. Which entries have the highest predicted salaries?"
   ]
  },
  {
   "cell_type": "markdown",
   "metadata": {
    "focus": false,
    "id": "3f242a55-4518-4c95-ae90-6888c68077d3"
   },
   "source": [
    "# Bonus Section: Use Count Vectorizer from scikit-learn to create features from the text summaries. \n",
    "- Examine using count or binary features in the model\n",
    "- Re-evaluate the logistic regression model using these. Does this improve the model performance? \n",
    "- What text features are most valuable? "
   ]
  },
  {
   "cell_type": "code",
   "execution_count": 83,
   "metadata": {
    "collapsed": false,
    "focus": false,
    "id": "757205dc-443d-4754-9d23-e591e0921c02"
   },
   "outputs": [
    {
     "ename": "TypeError",
     "evalue": "fit_transform() takes at least 2 arguments (1 given)",
     "output_type": "error",
     "traceback": [
      "\u001b[0;31m---------------------------------------------------------------------------\u001b[0m",
      "\u001b[0;31mTypeError\u001b[0m                                 Traceback (most recent call last)",
      "\u001b[0;32m<ipython-input-83-a73a09d0c824>\u001b[0m in \u001b[0;36m<module>\u001b[0;34m()\u001b[0m\n\u001b[1;32m      2\u001b[0m \u001b[0;34m\u001b[0m\u001b[0m\n\u001b[1;32m      3\u001b[0m \u001b[0mvectorizer\u001b[0m \u001b[0;34m=\u001b[0m \u001b[0mCountVectorizer\u001b[0m\u001b[0;34m(\u001b[0m\u001b[0;34m)\u001b[0m\u001b[0;34m\u001b[0m\u001b[0m\n\u001b[0;32m----> 4\u001b[0;31m \u001b[0mX\u001b[0m \u001b[0;34m=\u001b[0m \u001b[0mvectorizer\u001b[0m\u001b[0;34m.\u001b[0m\u001b[0mfit_transform\u001b[0m\u001b[0;34m(\u001b[0m\u001b[0;34m)\u001b[0m\u001b[0;34m\u001b[0m\u001b[0m\n\u001b[0m\u001b[1;32m      5\u001b[0m \u001b[0;34m\u001b[0m\u001b[0m\n\u001b[1;32m      6\u001b[0m \u001b[0;32mfor\u001b[0m \u001b[0mmetric\u001b[0m \u001b[0;32min\u001b[0m \u001b[0;34m[\u001b[0m\u001b[0;34m'accuracy'\u001b[0m\u001b[0;34m,\u001b[0m \u001b[0;34m'precision'\u001b[0m\u001b[0;34m,\u001b[0m \u001b[0;34m'recall'\u001b[0m\u001b[0;34m,\u001b[0m \u001b[0;34m'roc_auc'\u001b[0m\u001b[0;34m]\u001b[0m\u001b[0;34m:\u001b[0m\u001b[0;34m\u001b[0m\u001b[0m\n",
      "\u001b[0;31mTypeError\u001b[0m: fit_transform() takes at least 2 arguments (1 given)"
     ]
    }
   ],
   "source": [
    "# DL. Error\n",
    "from sklearn.feature_extraction.text import CountVectorizer\n",
    "\n",
    "vectorizer = CountVectorizer()\n",
    "X = vectorizer.fit_transform()\n",
    "\n",
    "for metric in ['accuracy', 'precision', 'recall', 'roc_auc']:\n",
    "    scores = cross_val_score(model, X_scaled, y, cv=3, scoring=metric)\n",
    "    print(metric, scores.mean(), scores.std())"
   ]
  },
  {
   "cell_type": "code",
   "execution_count": 84,
   "metadata": {
    "collapsed": false,
    "focus": false,
    "id": "f44df3c1-cf82-4271-8660-fdd0052097b6"
   },
   "outputs": [
    {
     "ename": "AttributeError",
     "evalue": "'LogitResults' object has no attribute 'fit'",
     "output_type": "error",
     "traceback": [
      "\u001b[0;31m---------------------------------------------------------------------------\u001b[0m",
      "\u001b[0;31mAttributeError\u001b[0m                            Traceback (most recent call last)",
      "\u001b[0;32m<ipython-input-84-7194bec9bfb6>\u001b[0m in \u001b[0;36m<module>\u001b[0;34m()\u001b[0m\n\u001b[0;32m----> 1\u001b[0;31m \u001b[0mmodel\u001b[0m\u001b[0;34m.\u001b[0m\u001b[0mfit\u001b[0m\u001b[0;34m(\u001b[0m\u001b[0mX_scaled\u001b[0m\u001b[0;34m,\u001b[0m \u001b[0my\u001b[0m\u001b[0;34m)\u001b[0m\u001b[0;34m\u001b[0m\u001b[0m\n\u001b[0m\u001b[1;32m      2\u001b[0m \u001b[0;34m\u001b[0m\u001b[0m\n\u001b[1;32m      3\u001b[0m \u001b[0mdf\u001b[0m \u001b[0;34m=\u001b[0m \u001b[0mpd\u001b[0m\u001b[0;34m.\u001b[0m\u001b[0mDataFrame\u001b[0m\u001b[0;34m(\u001b[0m\u001b[0;34m{\u001b[0m\u001b[0;34m'features'\u001b[0m \u001b[0;34m:\u001b[0m \u001b[0mvectorizer\u001b[0m\u001b[0;34m.\u001b[0m\u001b[0mget_feature_names\u001b[0m\u001b[0;34m(\u001b[0m\u001b[0;34m)\u001b[0m\u001b[0;34m,\u001b[0m \u001b[0;34m'coef'\u001b[0m\u001b[0;34m:\u001b[0m \u001b[0mmodel\u001b[0m\u001b[0;34m.\u001b[0m\u001b[0mcoef_\u001b[0m\u001b[0;34m[\u001b[0m\u001b[0;36m0\u001b[0m\u001b[0;34m,\u001b[0m\u001b[0;34m:\u001b[0m\u001b[0;34m]\u001b[0m\u001b[0;34m}\u001b[0m\u001b[0;34m)\u001b[0m\u001b[0;34m\u001b[0m\u001b[0m\n\u001b[1;32m      4\u001b[0m \u001b[0mdf\u001b[0m\u001b[0;34m.\u001b[0m\u001b[0msort_values\u001b[0m\u001b[0;34m(\u001b[0m\u001b[0;34m'coef'\u001b[0m\u001b[0;34m,\u001b[0m \u001b[0mascending\u001b[0m\u001b[0;34m=\u001b[0m\u001b[0mFalse\u001b[0m\u001b[0;34m,\u001b[0m \u001b[0minplace\u001b[0m\u001b[0;34m=\u001b[0m\u001b[0mTrue\u001b[0m\u001b[0;34m)\u001b[0m\u001b[0;34m\u001b[0m\u001b[0m\n",
      "\u001b[0;32m//anaconda/lib/python2.7/site-packages/statsmodels/base/wrapper.pyc\u001b[0m in \u001b[0;36m__getattribute__\u001b[0;34m(self, attr)\u001b[0m\n\u001b[1;32m     33\u001b[0m             \u001b[0;32mpass\u001b[0m\u001b[0;34m\u001b[0m\u001b[0m\n\u001b[1;32m     34\u001b[0m \u001b[0;34m\u001b[0m\u001b[0m\n\u001b[0;32m---> 35\u001b[0;31m         \u001b[0mobj\u001b[0m \u001b[0;34m=\u001b[0m \u001b[0mgetattr\u001b[0m\u001b[0;34m(\u001b[0m\u001b[0mresults\u001b[0m\u001b[0;34m,\u001b[0m \u001b[0mattr\u001b[0m\u001b[0;34m)\u001b[0m\u001b[0;34m\u001b[0m\u001b[0m\n\u001b[0m\u001b[1;32m     36\u001b[0m         \u001b[0mdata\u001b[0m \u001b[0;34m=\u001b[0m \u001b[0mresults\u001b[0m\u001b[0;34m.\u001b[0m\u001b[0mmodel\u001b[0m\u001b[0;34m.\u001b[0m\u001b[0mdata\u001b[0m\u001b[0;34m\u001b[0m\u001b[0m\n\u001b[1;32m     37\u001b[0m         \u001b[0mhow\u001b[0m \u001b[0;34m=\u001b[0m \u001b[0mself\u001b[0m\u001b[0;34m.\u001b[0m\u001b[0m_wrap_attrs\u001b[0m\u001b[0;34m.\u001b[0m\u001b[0mget\u001b[0m\u001b[0;34m(\u001b[0m\u001b[0mattr\u001b[0m\u001b[0;34m)\u001b[0m\u001b[0;34m\u001b[0m\u001b[0m\n",
      "\u001b[0;31mAttributeError\u001b[0m: 'LogitResults' object has no attribute 'fit'"
     ]
    }
   ],
   "source": [
    "model.fit(X_scaled, y)\n",
    "\n",
    "df = pd.DataFrame({'features' : vectorizer.get_feature_names(), 'coef': model.coef_[0,:]})\n",
    "df.sort_values('coef', ascending=False, inplace=True)"
   ]
  },
  {
   "cell_type": "code",
   "execution_count": 85,
   "metadata": {
    "collapsed": false,
    "focus": false,
    "id": "e182bbe4-2a72-4e75-a3e8-c117688cb8a6"
   },
   "outputs": [
    {
     "data": {
      "text/html": [
       "<div>\n",
       "<table border=\"1\" class=\"dataframe\">\n",
       "  <thead>\n",
       "    <tr style=\"text-align: right;\">\n",
       "      <th></th>\n",
       "      <th>Company</th>\n",
       "      <th>Location</th>\n",
       "      <th>Salary</th>\n",
       "      <th>Summary</th>\n",
       "      <th>Title</th>\n",
       "      <th>Salary_avg</th>\n",
       "      <th>City</th>\n",
       "      <th>State</th>\n",
       "    </tr>\n",
       "  </thead>\n",
       "  <tbody>\n",
       "    <tr>\n",
       "      <th>19</th>\n",
       "      <td>Centers for Disease Control and Prevention</td>\n",
       "      <td>Atlanta, GA</td>\n",
       "      <td>$88,305 - $114,802 a year</td>\n",
       "      <td>Applying principles, theories and methodology ...</td>\n",
       "      <td>Statistician (Health)</td>\n",
       "      <td>101553.5</td>\n",
       "      <td>Atlanta</td>\n",
       "      <td>GA</td>\n",
       "    </tr>\n",
       "    <tr>\n",
       "      <th>40</th>\n",
       "      <td>Emory University</td>\n",
       "      <td>Atlanta, GA</td>\n",
       "      <td>$105,300 a year</td>\n",
       "      <td>Will support multiple studies, including studi...</td>\n",
       "      <td>Epidemiologist</td>\n",
       "      <td>105300.0</td>\n",
       "      <td>Atlanta</td>\n",
       "      <td>GA</td>\n",
       "    </tr>\n",
       "    <tr>\n",
       "      <th>51</th>\n",
       "      <td>Centers for Disease Control and Prevention</td>\n",
       "      <td>Atlanta, GA</td>\n",
       "      <td>$104,349 - $135,656 a year</td>\n",
       "      <td>Lead scientists and program consultants in var...</td>\n",
       "      <td>Health Scientist</td>\n",
       "      <td>120002.5</td>\n",
       "      <td>Atlanta</td>\n",
       "      <td>GA</td>\n",
       "    </tr>\n",
       "    <tr>\n",
       "      <th>56</th>\n",
       "      <td>Analytic Recruiting</td>\n",
       "      <td>Alpharetta, GA</td>\n",
       "      <td>$75,000 - $90,000 a year</td>\n",
       "      <td>Junior Data Scientist sought by Fortune 500 co...</td>\n",
       "      <td>Junior Data Scientist</td>\n",
       "      <td>82500.0</td>\n",
       "      <td>Alpharetta</td>\n",
       "      <td>GA</td>\n",
       "    </tr>\n",
       "    <tr>\n",
       "      <th>63</th>\n",
       "      <td>Centers for Disease Control and Prevention</td>\n",
       "      <td>Atlanta, GA</td>\n",
       "      <td>$74,260 - $96,538 a year</td>\n",
       "      <td>As Behavioral Scientist you will:. Identify an...</td>\n",
       "      <td>Behavioral Scientist</td>\n",
       "      <td>85399.0</td>\n",
       "      <td>Atlanta</td>\n",
       "      <td>GA</td>\n",
       "    </tr>\n",
       "  </tbody>\n",
       "</table>\n",
       "</div>"
      ],
      "text/plain": [
       "                                       Company        Location  \\\n",
       "19  Centers for Disease Control and Prevention     Atlanta, GA   \n",
       "40                            Emory University     Atlanta, GA   \n",
       "51  Centers for Disease Control and Prevention     Atlanta, GA   \n",
       "56                         Analytic Recruiting  Alpharetta, GA   \n",
       "63  Centers for Disease Control and Prevention     Atlanta, GA   \n",
       "\n",
       "                        Salary  \\\n",
       "19   $88,305 - $114,802 a year   \n",
       "40             $105,300 a year   \n",
       "51  $104,349 - $135,656 a year   \n",
       "56    $75,000 - $90,000 a year   \n",
       "63    $74,260 - $96,538 a year   \n",
       "\n",
       "                                              Summary                  Title  \\\n",
       "19  Applying principles, theories and methodology ...  Statistician (Health)   \n",
       "40  Will support multiple studies, including studi...         Epidemiologist   \n",
       "51  Lead scientists and program consultants in var...       Health Scientist   \n",
       "56  Junior Data Scientist sought by Fortune 500 co...  Junior Data Scientist   \n",
       "63  As Behavioral Scientist you will:. Identify an...   Behavioral Scientist   \n",
       "\n",
       "    Salary_avg        City State  \n",
       "19    101553.5     Atlanta    GA  \n",
       "40    105300.0     Atlanta    GA  \n",
       "51    120002.5     Atlanta    GA  \n",
       "56     82500.0  Alpharetta    GA  \n",
       "63     85399.0     Atlanta    GA  "
      ]
     },
     "execution_count": 85,
     "metadata": {},
     "output_type": "execute_result"
    }
   ],
   "source": [
    "df.head()"
   ]
  },
  {
   "cell_type": "code",
   "execution_count": null,
   "metadata": {
    "collapsed": false,
    "focus": false,
    "id": "a15ef8ea-3130-4c08-a165-ac34d2a8d829"
   },
   "outputs": [],
   "source": [
    "df.tail()"
   ]
  },
  {
   "cell_type": "code",
   "execution_count": null,
   "metadata": {
    "collapsed": false,
    "focus": false,
    "id": "b8a13337-0cde-4117-a928-ffae14661453"
   },
   "outputs": [],
   "source": [
    "# retest L1 and L2 regularization\n",
    "from sklearn.linear_model import LogisticRegressionCV\n",
    "\n",
    "model = LogisticRegressionCV()\n"
   ]
  },
  {
   "cell_type": "markdown",
   "metadata": {
    "collapsed": true,
    "focus": false,
    "id": "936cd752-6b3f-450f-bfb6-1659c6e71539"
   },
   "source": [
    "Score: | 20/24\n",
    "------|-------\n",
    "Identify: Problem Statement and Hypothesis | 1\n",
    "Acquire: Import Data using BeautifulSoup| 3\n",
    "Parse: Clean and Organize Data| 3\n",
    "Model: Perform Logistic Regression| 3\n",
    "Evaluate: Logistic Regression Results\t| 3\n",
    "Present: Blog Report with Findings and Recommendations\t\t| 0\n",
    "Interactive Tableau visualizations | 3\n",
    "Regularization |3\n",
    "Bonus: Countvectorizer  | 1"
   ]
  },
  {
   "cell_type": "code",
   "execution_count": 86,
   "metadata": {
    "collapsed": true
   },
   "outputs": [],
   "source": [
    "# DL. You do really great job at amking what you're doing clear as you work,.\n",
    "# Next time, include a problem statement to make it more clear to your audience what you're working towards.\n",
    "# Great visualization! For the upcoming projects, try experimenting with other kinds of plots.\n",
    "# Your ROC curve is looking good!\n",
    "# For your model, try making the cities dummy variabless and comparing your results with what you already have.\n",
    "# Overall, Great job!"
   ]
  }
 ],
 "metadata": {
  "anaconda-cloud": {},
  "kernelspec": {
   "display_name": "Python [default]",
   "language": "python",
   "name": "python2"
  },
  "language_info": {
   "codemirror_mode": {
    "name": "ipython",
    "version": 2
   },
   "file_extension": ".py",
   "mimetype": "text/x-python",
   "name": "python",
   "nbconvert_exporter": "python",
   "pygments_lexer": "ipython2",
   "version": "2.7.12"
  }
 },
 "nbformat": 4,
 "nbformat_minor": 0
}
